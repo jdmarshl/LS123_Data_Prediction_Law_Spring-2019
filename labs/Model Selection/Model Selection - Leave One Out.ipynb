{
 "cells": [
  {
   "cell_type": "markdown",
   "metadata": {},
   "source": [
    "# Model Selection: Leave-One-Out\n",
    "\n",
    "#### Jessica Ji"
   ]
  },
  {
   "cell_type": "code",
   "execution_count": 3,
   "metadata": {},
   "outputs": [],
   "source": [
    "import numpy as np\n",
    "import scipy\n",
    "import datetime as dt\n",
    "import pandas as pd\n",
    "import matplotlib.pyplot as plt\n",
    "%matplotlib inline\n",
    "from sklearn.model_selection import train_test_split\n",
    "from sklearn.linear_model import Ridge, Lasso, LinearRegression\n",
    "from sklearn.model_selection import KFold\n",
    "from sklearn.model_selection import cross_val_score\n",
    "from sklearn.model_selection import cross_val_predict, LeaveOneOut\n",
    "from sklearn.metrics import r2_score"
   ]
  },
  {
   "cell_type": "markdown",
   "metadata": {},
   "source": [
    "## The Data: Bike Sharing"
   ]
  },
  {
   "cell_type": "code",
   "execution_count": 10,
   "metadata": {},
   "outputs": [],
   "source": [
    "bike = pd.read_csv(('data/Bike-Sharing-Dataset/day.csv'))\n",
    "\n",
    "# reformat the date column to integers representing the day of the year, 001-366\n",
    "bike['dteday'] = pd.to_datetime(bike['dteday']).dt.strftime('%j')\n",
    "\n",
    "# # get rid of the index column\n",
    "bike = bike.drop(\"instant\", axis=1)\n",
    "\n",
    "# the features used to predict riders\n",
    "X = bike.drop(columns=['casual', 'registered', 'cnt'])\n",
    "\n",
    "# the number of riders\n",
    "y = bike['cnt']\n",
    "\n",
    "# number of rows\n",
    "n = len(X)"
   ]
  },
  {
   "cell_type": "markdown",
   "metadata": {},
   "source": [
    "## 1. Leave-One-Out (LOO)"
   ]
  },
  {
   "cell_type": "code",
   "execution_count": 5,
   "metadata": {},
   "outputs": [],
   "source": [
    "loo = LeaveOneOut()"
   ]
  },
  {
   "cell_type": "markdown",
   "metadata": {},
   "source": [
    "### LOO: Linear"
   ]
  },
  {
   "cell_type": "code",
   "execution_count": 15,
   "metadata": {
    "scrolled": true
   },
   "outputs": [
    {
     "name": "stdout",
     "output_type": "stream",
     "text": [
      "Linear LOO r-squared: 0.7895324245718587\n"
     ]
    }
   ],
   "source": [
    "# Store the y-test and y-predicted datasets for each split\n",
    "y_test_sets = []\n",
    "y_pred_sets = []\n",
    "\n",
    "# each iteration will have one test index and n-1 train indices\n",
    "for train_index, test_index in loo.split(X):\n",
    "    X_train, X_test = X.iloc[train_index], X.iloc[test_index]\n",
    "    y_train, y_test = y[train_index], y[test_index]\n",
    "    \n",
    "    # construct and fit model for each training set\n",
    "    model = LinearRegression()\n",
    "    model.fit(X_train, y_train) \n",
    "    \n",
    "    # make prediction\n",
    "    y_pred = model.predict(X_test)\n",
    "        \n",
    "    # add to lists of test y and predicted y    \n",
    "    y_test_sets += list(y_test)\n",
    "    y_pred_sets += list(y_pred)\n",
    "        \n",
    "# calculate r-squared error metric\n",
    "r2 = r2_score(y_test_sets, y_pred_sets)\n",
    "print(\"Linear LOO r-squared: \" + str(r2))"
   ]
  },
  {
   "cell_type": "markdown",
   "metadata": {},
   "source": [
    "### LOO: Ridge"
   ]
  },
  {
   "cell_type": "code",
   "execution_count": 16,
   "metadata": {},
   "outputs": [
    {
     "name": "stdout",
     "output_type": "stream",
     "text": [
      "Ridge LOO r-squared: 0.7932464176720754\n"
     ]
    }
   ],
   "source": [
    "# Store the y-test and y-predicted datasets for each split\n",
    "y_test_sets = []\n",
    "y_pred_sets = []\n",
    "\n",
    "# each iteration will have one test index and n-1 train indices\n",
    "for train_index, test_index in loo.split(X):\n",
    "    X_train, X_test = X.iloc[train_index], X.iloc[test_index]\n",
    "    y_train, y_test = y[train_index], y[test_index]\n",
    "    \n",
    "    # construct and fit model for each training set\n",
    "    model = Ridge()\n",
    "    model.fit(X_train, y_train) \n",
    "    \n",
    "    # make prediction\n",
    "    y_pred = model.predict(X_test)\n",
    "        \n",
    "    # add to lists of test y and predicted y    \n",
    "    y_test_sets += list(y_test)\n",
    "    y_pred_sets += list(y_pred)\n",
    "        \n",
    "# calculate r-squared error metric\n",
    "r2 = r2_score(y_test_sets, y_pred_sets)\n",
    "print(\"Ridge LOO r-squared: \" + str(r2))"
   ]
  },
  {
   "cell_type": "markdown",
   "metadata": {},
   "source": [
    "### LOO: LASSO"
   ]
  },
  {
   "cell_type": "code",
   "execution_count": 17,
   "metadata": {},
   "outputs": [
    {
     "name": "stdout",
     "output_type": "stream",
     "text": [
      "Lasso LOO r-squared: 0.7917513496227154\n"
     ]
    }
   ],
   "source": [
    "# Store the y-test and y-predicted datasets for each split\n",
    "y_test_sets = []\n",
    "y_pred_sets = []\n",
    "\n",
    "# each iteration will have one test index and n-1 train indices\n",
    "for train_index, test_index in loo.split(X):\n",
    "    X_train, X_test = X.iloc[train_index], X.iloc[test_index]\n",
    "    y_train, y_test = y[train_index], y[test_index]\n",
    "    \n",
    "    # construct and fit model for each training set\n",
    "    model = Lasso()\n",
    "    model.fit(X_train, y_train) \n",
    "    \n",
    "    # make prediction\n",
    "    y_pred = model.predict(X_test)\n",
    "        \n",
    "    # add to lists of test y and predicted y    \n",
    "    y_test_sets += list(y_test)\n",
    "    y_pred_sets += list(y_pred)\n",
    "        \n",
    "# calculate r-squared error metric\n",
    "r2 = r2_score(y_test_sets, y_pred_sets)\n",
    "print(\"Lasso LOO r-squared: \" + str(r2))"
   ]
  },
  {
   "cell_type": "markdown",
   "metadata": {},
   "source": [
    "## 2. Cross-Validation"
   ]
  },
  {
   "cell_type": "code",
   "execution_count": 19,
   "metadata": {},
   "outputs": [],
   "source": [
    "# set the random seed\n",
    "\n",
    "np.random.seed(10)\n",
    "\n",
    "# split the data\n",
    "# train_test_split returns 4 values: X_train, X_test, y_train, y_test\n",
    "\n",
    "X_train, X_test, y_train, y_test = train_test_split(X, y,\n",
    "                                                    train_size=0.80, test_size=0.20)\n",
    "\n",
    "# split the data\n",
    "# Returns 4 values: X_train, X_validate, y_train, y_validate\n",
    "\n",
    "X_train, X_validate, y_train, y_validate = train_test_split(X_train, y_train,\n",
    "                                                    train_size=0.75, test_size=0.25)"
   ]
  },
  {
   "cell_type": "code",
   "execution_count": 20,
   "metadata": {},
   "outputs": [],
   "source": [
    "# Linear Regression\n",
    "\n",
    "## Create lin_reg method and fit model\n",
    "lin_reg = LinearRegression()\n",
    "lin_reg.fit(X_train, y_train)\n",
    "\n",
    "# Ridge\n",
    "\n",
    "## Create ridge_reg method and fit model\n",
    "ridge_reg = Ridge()\n",
    "ridge_reg.fit(X_train, y_train)\n",
    "\n",
    "# LASSO\n",
    "\n",
    "## Create lasso_reg and fit\n",
    "lasso_reg = Lasso(max_iter=10000)  \n",
    "lasso_model = lasso_reg.fit(X_train, y_train)"
   ]
  },
  {
   "cell_type": "code",
   "execution_count": 21,
   "metadata": {},
   "outputs": [
    {
     "name": "stdout",
     "output_type": "stream",
     "text": [
      "Linear CV r-squared: 0.7414435356524711\n"
     ]
    }
   ],
   "source": [
    "lin_predicted = cross_val_predict(lin_reg, X_train, y_train, cv=3)\n",
    "lin_r2 = r2_score(lin_predicted, y_train)\n",
    "print(\"Linear CV r-squared: \" + str(lin_r2))"
   ]
  },
  {
   "cell_type": "code",
   "execution_count": 22,
   "metadata": {},
   "outputs": [
    {
     "name": "stdout",
     "output_type": "stream",
     "text": [
      "Ridge CV r-squared: 0.7206179781527943\n"
     ]
    }
   ],
   "source": [
    "ridge_predicted = cross_val_predict(ridge_reg, X_train, y_train, cv=3)\n",
    "ridge_r2 = r2_score(ridge_predicted, y_train)\n",
    "print(\"Ridge CV r-squared: \" + str(ridge_r2))"
   ]
  },
  {
   "cell_type": "code",
   "execution_count": 23,
   "metadata": {},
   "outputs": [
    {
     "name": "stdout",
     "output_type": "stream",
     "text": [
      "LASSO CV r-squared: 0.7376698155672519\n"
     ]
    }
   ],
   "source": [
    "lasso_predicted = cross_val_predict(lasso_reg, X_train, y_train, cv=3)\n",
    "lasso_r2 = r2_score(lasso_predicted, y_train)\n",
    "print(\"LASSO CV r-squared: \" + str(lasso_r2))"
   ]
  }
 ],
 "metadata": {
  "kernelspec": {
   "display_name": "Python 3",
   "language": "python",
   "name": "python3"
  },
  "language_info": {
   "codemirror_mode": {
    "name": "ipython",
    "version": 2
   },
   "file_extension": ".py",
   "mimetype": "text/x-python",
   "name": "python",
   "nbconvert_exporter": "python",
   "pygments_lexer": "ipython2",
   "version": "2.7.15"
  }
 },
 "nbformat": 4,
 "nbformat_minor": 2
}
