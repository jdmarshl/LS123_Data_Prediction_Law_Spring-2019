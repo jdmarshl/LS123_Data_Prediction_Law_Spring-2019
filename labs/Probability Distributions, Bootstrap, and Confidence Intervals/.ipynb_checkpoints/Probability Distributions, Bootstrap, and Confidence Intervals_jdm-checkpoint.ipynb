{
 "cells": [
  {
   "cell_type": "code",
   "execution_count": 11,
   "metadata": {},
   "outputs": [],
   "source": [
    "# from datascience import * \n",
    "\n",
    "# we don't need the datascience module, do we? if so we have to import it into every student's\n",
    "# Anaconda install\n",
    "\n",
    "from collections import Counter\n",
    "import numpy as np\n",
    "import pandas as pd\n",
    "from scipy import stats\n",
    "%matplotlib inline\n",
    "import matplotlib.pyplot as plots\n",
    "plots.style.use('fivethirtyeight')\n",
    "\n",
    "## SET a random number seed"
   ]
  },
  {
   "cell_type": "markdown",
   "metadata": {},
   "source": [
    "## Data"
   ]
  },
  {
   "cell_type": "markdown",
   "metadata": {},
   "source": [
    "For this lab, we'll be using the American National Election Studies (ANES) data from the 2016 election. The codebook is available here: http://www.electionstudies.org/studypages/anes_pilot_2016/anes_pilot_2016_CodebookUserGuide.pdf\n",
    "\n",
    "****name everything after the lab meeting number, and**** \n",
    "### we don't want to use the Pilot Study \n",
    "****we want to use the regular dataset, although pedagogicially not key****"
   ]
  },
  {
   "cell_type": "code",
   "execution_count": 12,
   "metadata": {},
   "outputs": [
    {
     "data": {
      "text/html": [
       "<div>\n",
       "<style scoped>\n",
       "    .dataframe tbody tr th:only-of-type {\n",
       "        vertical-align: middle;\n",
       "    }\n",
       "\n",
       "    .dataframe tbody tr th {\n",
       "        vertical-align: top;\n",
       "    }\n",
       "\n",
       "    .dataframe thead th {\n",
       "        text-align: right;\n",
       "    }\n",
       "</style>\n",
       "<table border=\"1\" class=\"dataframe\">\n",
       "  <thead>\n",
       "    <tr style=\"text-align: right;\">\n",
       "      <th></th>\n",
       "      <th>version</th>\n",
       "      <th>caseid</th>\n",
       "      <th>weight</th>\n",
       "      <th>weight_spss</th>\n",
       "      <th>follow</th>\n",
       "      <th>turnout12</th>\n",
       "      <th>turnout12b</th>\n",
       "      <th>vote12</th>\n",
       "      <th>percent16</th>\n",
       "      <th>meet</th>\n",
       "      <th>...</th>\n",
       "      <th>flag_asianam10</th>\n",
       "      <th>flag_nativeam10</th>\n",
       "      <th>flag_other10</th>\n",
       "      <th>starttime</th>\n",
       "      <th>endtime</th>\n",
       "      <th>optintimestamp</th>\n",
       "      <th>count</th>\n",
       "      <th>ua</th>\n",
       "      <th>browser</th>\n",
       "      <th>os</th>\n",
       "    </tr>\n",
       "  </thead>\n",
       "  <tbody>\n",
       "    <tr>\n",
       "      <th>0</th>\n",
       "      <td>ANES 2016 Pilot Study version 20160223</td>\n",
       "      <td>1</td>\n",
       "      <td>0.951160</td>\n",
       "      <td>0.542161</td>\n",
       "      <td>1</td>\n",
       "      <td>1</td>\n",
       "      <td>9</td>\n",
       "      <td>2</td>\n",
       "      <td>100</td>\n",
       "      <td>1</td>\n",
       "      <td>...</td>\n",
       "      <td>0</td>\n",
       "      <td>0</td>\n",
       "      <td>0</td>\n",
       "      <td>1/22/2016</td>\n",
       "      <td>1/22/2016</td>\n",
       "      <td></td>\n",
       "      <td>173</td>\n",
       "      <td>Mozilla/5.0 (Windows NT 6.1; WOW64; rv:43.0) G...</td>\n",
       "      <td>Firefox 43</td>\n",
       "      <td>Windows 7</td>\n",
       "    </tr>\n",
       "    <tr>\n",
       "      <th>1</th>\n",
       "      <td>ANES 2016 Pilot Study version 20160223</td>\n",
       "      <td>2</td>\n",
       "      <td>2.670196</td>\n",
       "      <td>1.522012</td>\n",
       "      <td>2</td>\n",
       "      <td>2</td>\n",
       "      <td>9</td>\n",
       "      <td>9</td>\n",
       "      <td>50</td>\n",
       "      <td>4</td>\n",
       "      <td>...</td>\n",
       "      <td>0</td>\n",
       "      <td>0</td>\n",
       "      <td>0</td>\n",
       "      <td>1/22/2016</td>\n",
       "      <td>1/22/2016</td>\n",
       "      <td></td>\n",
       "      <td>87</td>\n",
       "      <td>Mozilla/5.0 (Linux; Android 6.0; LGLS991 Build...</td>\n",
       "      <td>Chrome 47</td>\n",
       "      <td>Android Linux 6.0</td>\n",
       "    </tr>\n",
       "    <tr>\n",
       "      <th>2</th>\n",
       "      <td>ANES 2016 Pilot Study version 20160223</td>\n",
       "      <td>3</td>\n",
       "      <td>1.430390</td>\n",
       "      <td>0.815322</td>\n",
       "      <td>1</td>\n",
       "      <td>1</td>\n",
       "      <td>9</td>\n",
       "      <td>1</td>\n",
       "      <td>100</td>\n",
       "      <td>1</td>\n",
       "      <td>...</td>\n",
       "      <td>0</td>\n",
       "      <td>0</td>\n",
       "      <td>0</td>\n",
       "      <td>1/22/2016</td>\n",
       "      <td>1/22/2016</td>\n",
       "      <td></td>\n",
       "      <td>86</td>\n",
       "      <td>Mozilla/5.0 (Macintosh; Intel Mac OS X 10_9_5)...</td>\n",
       "      <td>Safari 9</td>\n",
       "      <td>Mac OS X 10.9</td>\n",
       "    </tr>\n",
       "    <tr>\n",
       "      <th>3</th>\n",
       "      <td>ANES 2016 Pilot Study version 20160223</td>\n",
       "      <td>4</td>\n",
       "      <td>0.913966</td>\n",
       "      <td>0.520961</td>\n",
       "      <td>1</td>\n",
       "      <td>1</td>\n",
       "      <td>9</td>\n",
       "      <td>2</td>\n",
       "      <td>100</td>\n",
       "      <td>5</td>\n",
       "      <td>...</td>\n",
       "      <td>0</td>\n",
       "      <td>0</td>\n",
       "      <td>0</td>\n",
       "      <td>1/22/2016</td>\n",
       "      <td>1/22/2016</td>\n",
       "      <td></td>\n",
       "      <td>211</td>\n",
       "      <td>Mozilla/5.0 (Android 5.1.1; Mobile; rv:43.0) G...</td>\n",
       "      <td>Firefox 43</td>\n",
       "      <td>Android 5.1</td>\n",
       "    </tr>\n",
       "    <tr>\n",
       "      <th>4</th>\n",
       "      <td>ANES 2016 Pilot Study version 20160223</td>\n",
       "      <td>5</td>\n",
       "      <td>0.263935</td>\n",
       "      <td>0.150443</td>\n",
       "      <td>1</td>\n",
       "      <td>1</td>\n",
       "      <td>9</td>\n",
       "      <td>1</td>\n",
       "      <td>100</td>\n",
       "      <td>2</td>\n",
       "      <td>...</td>\n",
       "      <td>0</td>\n",
       "      <td>0</td>\n",
       "      <td>0</td>\n",
       "      <td>1/23/2016</td>\n",
       "      <td>1/23/2016</td>\n",
       "      <td></td>\n",
       "      <td>342</td>\n",
       "      <td>Mozilla/5.0 (iPhone; CPU iPhone OS 9_2_1 like ...</td>\n",
       "      <td>Safari 9</td>\n",
       "      <td>iPhone iOS 9.2</td>\n",
       "    </tr>\n",
       "  </tbody>\n",
       "</table>\n",
       "<p>5 rows × 594 columns</p>\n",
       "</div>"
      ],
      "text/plain": [
       "                                  version  caseid    weight  weight_spss  \\\n",
       "0  ANES 2016 Pilot Study version 20160223       1  0.951160     0.542161   \n",
       "1  ANES 2016 Pilot Study version 20160223       2  2.670196     1.522012   \n",
       "2  ANES 2016 Pilot Study version 20160223       3  1.430390     0.815322   \n",
       "3  ANES 2016 Pilot Study version 20160223       4  0.913966     0.520961   \n",
       "4  ANES 2016 Pilot Study version 20160223       5  0.263935     0.150443   \n",
       "\n",
       "   follow  turnout12  turnout12b  vote12  percent16  meet        ...          \\\n",
       "0       1          1           9       2        100     1        ...           \n",
       "1       2          2           9       9         50     4        ...           \n",
       "2       1          1           9       1        100     1        ...           \n",
       "3       1          1           9       2        100     5        ...           \n",
       "4       1          1           9       1        100     2        ...           \n",
       "\n",
       "   flag_asianam10  flag_nativeam10  flag_other10  starttime    endtime  \\\n",
       "0               0                0             0  1/22/2016  1/22/2016   \n",
       "1               0                0             0  1/22/2016  1/22/2016   \n",
       "2               0                0             0  1/22/2016  1/22/2016   \n",
       "3               0                0             0  1/22/2016  1/22/2016   \n",
       "4               0                0             0  1/23/2016  1/23/2016   \n",
       "\n",
       "   optintimestamp  count                                                 ua  \\\n",
       "0                    173  Mozilla/5.0 (Windows NT 6.1; WOW64; rv:43.0) G...   \n",
       "1                     87  Mozilla/5.0 (Linux; Android 6.0; LGLS991 Build...   \n",
       "2                     86  Mozilla/5.0 (Macintosh; Intel Mac OS X 10_9_5)...   \n",
       "3                    211  Mozilla/5.0 (Android 5.1.1; Mobile; rv:43.0) G...   \n",
       "4                    342  Mozilla/5.0 (iPhone; CPU iPhone OS 9_2_1 like ...   \n",
       "\n",
       "      browser                 os  \n",
       "0  Firefox 43          Windows 7  \n",
       "1   Chrome 47  Android Linux 6.0  \n",
       "2    Safari 9      Mac OS X 10.9  \n",
       "3  Firefox 43        Android 5.1  \n",
       "4    Safari 9     iPhone iOS 9.2  \n",
       "\n",
       "[5 rows x 594 columns]"
      ]
     },
     "execution_count": 12,
     "metadata": {},
     "output_type": "execute_result"
    }
   ],
   "source": [
    "anes = pd.read_csv('../data/anes/anes_pilot_2016.csv')\n",
    "anes.head()"
   ]
  },
  {
   "cell_type": "markdown",
   "metadata": {},
   "source": [
    "## Exploratory Data Analysis"
   ]
  },
  {
   "cell_type": "markdown",
   "metadata": {},
   "source": [
    "Refer back to lab 1 for help plotting histograms. **Error: Lab 2 since they are keyed to class meetings**\n",
    "\n",
    "**Also, the variables here are different, since this is the csv file made from the ANES Pilot Study. Does not matter for the Python or Pandas tasks at hand, but bear in mind it is different data here!**"
   ]
  },
  {
   "cell_type": "code",
   "execution_count": 13,
   "metadata": {},
   "outputs": [
    {
     "name": "stdout",
     "output_type": "stream",
     "text": [
      "['version' 'caseid' 'weight' 'weight_spss' 'follow' 'turnout12'\n",
      " 'turnout12b' 'vote12' 'percent16' 'meet' 'givefut' 'info' 'march' 'sign'\n",
      " 'give12mo' 'compromise' 'ftobama' 'ftblack' 'ftwhite' 'fthisp' 'ftgay'\n",
      " 'ftjeb' 'fttrump' 'ftcarson' 'fthrc' 'ftrubio' 'ftcruz' 'ftsanders'\n",
      " 'ftfiorina' 'ftpolice' 'ftfem' 'fttrans' 'ftmuslim' 'ftsci' 'reg'\n",
      " 'demcand' 'repcand' 'vote16jb' 'vote16bc' 'vote16tc' 'vote16mr'\n",
      " 'vote16dt' 'presjob' 'lazyb' 'lazyw' 'lazyh' 'lazym' 'violentb'\n",
      " 'violentw' 'violenth' 'violentm' 'econnow' 'econ12mo' 'pid1d' 'pid2d'\n",
      " 'pid1r' 'pid2r' 'pidstr' 'pidlean' 'lcself' 'lcd' 'lcr' 'lchc' 'lcbo'\n",
      " 'lcdt' 'lcmr' 'lctc' 'ISSUES_OC14_1' 'ISSUES_OC14_2' 'ISSUES_OC14_3'\n",
      " 'ISSUES_OC14_4' 'ISSUES_OC14_5' 'ISSUES_OC14_6' 'ISSUES_OC14_7'\n",
      " 'ISSUES_OC14_8' 'ISSUES_OC14_9' 'ISSUES_OC14_10' 'ISSUES_OC14_11'\n",
      " 'ISSUES_OC14_12' 'ISSUES_OC14_13' 'ISSUES_OC14_14' 'ISSUES_OC14_15'\n",
      " 'ISSUES_OC14_16' 'ISSUES_OC14_17' 'ISSUES_OC14_18' 'ISSUES_OC14_19'\n",
      " 'ISSUES_OC14_20' 'ISSUES_OC14_21' 'best1' 'best2' 'best3' 'best4'\n",
      " 'disc_b' 'disc_h' 'disc_w' 'disc_g' 'disc_wo' 'disc_m' 'disc_t' 'disc_mu'\n",
      " 'disc_c' 'disc_selfsex' 'disc_fed' 'disc_police' 'srv_spend' 'campfin'\n",
      " 'immig_legal' 'immig_numb' 'equalpay' 'parleave' 'crimespend' 'death'\n",
      " 'terror_worry' 'terror_12mo' 'terror_local' 'relig_bc' 'relig_bcstr'\n",
      " 'relig_srv' 'relig_srvstr' 'incgap20' 'isis_troops' 'syrians_a'\n",
      " 'syrians_b' 'pc_a' 'pc_b' 'minwage' 'healthspend' 'childcare' 'getahead'\n",
      " 'ladder' 'finwell' 'rr1' 'rr2' 'rr3' 'rr4' 'warm' 'warmbad' 'warmcause'\n",
      " 'warmdo' 'aa1' 'aa2' 'aa3' 'freetrade' 'stopwhite' 'stopblack'\n",
      " 'forcewhite' 'forceblack' 'stop_12mo' 'arrested_12mo' 'charged_12mo'\n",
      " 'jailed_12mo' 'convict_12mo' 'famstop_12mo' 'stop_ever' 'arrested_ever'\n",
      " 'charged_ever' 'jailed_ever' 'convict_ever' 'famstop_ever' 'pk_deficit'\n",
      " 'pk_sen' 'pk_spend' 'birthright_a' 'birthright_b' 'femoff_jobs'\n",
      " 'femoff_ed' 'femoff_spend' 'femoff_issues' 'lpres_pleased' 'lpres_immig'\n",
      " 'lpres_la' 'vaccine' 'autism' 'bo_muslim' 'bo_confid' 'NFC1' 'NFC10'\n",
      " 'NFC15' 'NFC21' 'NFC23' 'NFC24' 'NFC29' 'NFC32' 'NFC40' 'NTE1' 'NTE3'\n",
      " 'NTE9' 'NTE10' 'NTE11' 'NTE12' 'amer_ident' 'race_ident' 'wad1a' 'wad2a'\n",
      " 'wad3a' 'wad4a' 'wad1b' 'wad2b' 'wad3b' 'wad4b' 'whitework' 'whitejob'\n",
      " 'wguilt1' 'wguilt2' 'wguilt3' 'buycott' 'boycott' 'skintone_mob'\n",
      " 'skintone' 'skin_discrim' 'africanam10_1' 'white10_1' 'hispanic10_1'\n",
      " 'asianam10_1' 'nativeam10_1' 'other10_1' 'other10_open' 'birthyr'\n",
      " 'gender' 'race' 'race_other' 'educ' 'marstat' 'speakspanish' 'employ'\n",
      " 'employ_t' 'faminc' 'faminc2' 'state' 'votereg' 'pid3' 'pid7' 'ideo5'\n",
      " 'newsint' 'pew_bornagain' 'pew_churatd' 'religpew' 'religpew_t'\n",
      " 'page_page_follow_timing' 'page_page_turnout12_timing'\n",
      " 'page_page_vote12_timing' 'page_page_percent16_timing'\n",
      " 'page_page_meet_timing' 'page_page_givefut_timing'\n",
      " 'page_page_info_timing' 'page_page_march_timing' 'page_page_sign_timing'\n",
      " 'page_page_give12mo_timing' 'page_page_compromise_timing'\n",
      " 'page_page_ftobama_timing' 'page_page_ftblack_timing'\n",
      " 'page_page_ftwhite_timing' 'page_page_fthisp_timing'\n",
      " 'page_page_ftgay_timing' 'page_page_ftjeb_timing'\n",
      " 'page_page_fttrump_timing' 'page_page_ftcarson_timing'\n",
      " 'page_page_fthrc_timing' 'page_page_ftrubio_timing'\n",
      " 'page_page_ftcruz_timing' 'page_page_ftsanders_timing'\n",
      " 'page_page_ftfiorina_timing' 'page_page_ftpolice_timing'\n",
      " 'page_page_ftfem_timing' 'page_page_fttrans_timing'\n",
      " 'page_page_ftmuslim_timing' 'page_page_ftsci_timing'\n",
      " 'page_page_reg_timing' 'page_page_demcand_timing'\n",
      " 'page_page_repcand_timing' 'page_page_vote16jb_timing'\n",
      " 'page_page_vote16bc_timing' 'page_page_vote16tc_timing'\n",
      " 'page_page_vote16mr_timing' 'page_page_vote16dt_timing'\n",
      " 'page_page_presjob_timing' 'page_page_lazy_timing'\n",
      " 'page_page_violent_timing' 'page_page_econ_grid_timing'\n",
      " 'page_page_pid1d_timing' 'page_page_pid1r_timing'\n",
      " 'page_page_pidstr_timing' 'page_page_pidlean_timing'\n",
      " 'page_page_lc_grid_timing' 'page_page_ISSUES_OC14_timing'\n",
      " 'page_page_GRID_best4_timing' 'page_page_disc_timing'\n",
      " 'page_page_disc_selfsex_timing' 'page_page_disc_fed_timing'\n",
      " 'page_page_disc_police_timing' 'page_page_srv_spend_timing'\n",
      " 'page_page_campfin_timing' 'page_page_immig_legal_timing'\n",
      " 'page_page_immig_numb_timing' 'page_page_equalpay_timing'\n",
      " 'page_page_parleave_timing' 'page_page_crimespend_timing'\n",
      " 'page_page_death_timing' 'page_page_terror_worry_timing'\n",
      " 'page_page_terror_12mo_timing' 'page_page_terror_local_timing'\n",
      " 'page_page_relig_bc_timing' 'page_page_relig_srv_timing'\n",
      " 'page_page_incgap20_timing' 'page_page_isis_troops_timing'\n",
      " 'page_page_syrians_a_timing' 'page_page_syrians_b_timing'\n",
      " 'page_page_pc_a_timing' 'page_page_pc_b_timing'\n",
      " 'page_page_minwage_timing' 'page_page_healthspend_timing'\n",
      " 'page_page_childcare_timing' 'page_page_getahead_timing'\n",
      " 'page_page_ladder_timing' 'page_page_finwell_timing'\n",
      " 'page_page_rr_grid_timing' 'page_page_warm_timing'\n",
      " 'page_page_warmbad_timing' 'page_page_warmcause_timing'\n",
      " 'page_page_warmdo_timing' 'page_page_aa1_timing' 'page_page_aa2_timing'\n",
      " 'page_page_aa3_timing' 'page_page_freetrade_timing'\n",
      " 'page_page_stopwhite_timing' 'page_page_stopblack_timing'\n",
      " 'page_page_forcewhite_timing' 'page_page_forceblack_timing'\n",
      " 'page_page_12mo_grid_timing' 'page_page_ever_grid_timing'\n",
      " 'page_page_pk_deficit_timing' 'page_page_pk_sen_timing'\n",
      " 'page_page_pk_spend_timing' 'page_page_birthright_a_timing'\n",
      " 'page_page_birthright_b_timing' 'page_page_femoff_jobs_timing'\n",
      " 'page_page_femoff_ed_timing' 'page_page_femoff_spend_timing'\n",
      " 'page_page_femoff_issues_timing' 'page_page_lpres_pleased_timing'\n",
      " 'page_page_lpres_immig_timing' 'page_page_lpres_la_timing'\n",
      " 'page_page_vaccine_timing' 'page_page_autism_timing'\n",
      " 'page_page_bo_muslim_timing' 'page_NFC_page1_timing'\n",
      " 'page_NFC_page2_timing' 'page_NFC_page3_timing' 'page_NFC_page4_timing'\n",
      " 'page_NTE_page1_timing' 'page_NTE_page2_timing' 'page_NTE_page3_timing'\n",
      " 'page_NTE_page4_timing' 'page_page_amer_ident_timing'\n",
      " 'page_page_race_ident_timing' 'page_page_wad1a_timing'\n",
      " 'page_page_wad2a_timing' 'page_page_wad3a_timing'\n",
      " 'page_page_wad4a_timing' 'page_page_wad1b_timing'\n",
      " 'page_page_wad2b_timing' 'page_page_wad3b_timing'\n",
      " 'page_page_wad4b_timing' 'page_page_whitework_timing'\n",
      " 'page_page_whitejob_timing' 'page_page_wguilt1_timing'\n",
      " 'page_page_wguilt2_timing' 'page_page_wguilt3_timing'\n",
      " 'page_page_buycott_timing' 'page_page_boycott_timing'\n",
      " 'page_page_skintone_mob_timing' 'page_page_skintone_grid_timing'\n",
      " 'page_page_skin_discrim_timing' 'page_pagerace10_timing'\n",
      " 'disc_fed_disc_police_rnd' 'white_sections_rnd' 'lazy_violent_rnd'\n",
      " 'FEELING_THERMOMETER_rnd' 'meet_rnd' 'givefut_rnd' 'info_rnd'\n",
      " 'ISSUES_OC14_rnd' 'disc_selfsex_rnd' 'lazy_col_rnd' 'lazy_row_rnd'\n",
      " 'violent_col_rnd' 'violent_row_rnd' 'LCORDER' 'discrand' 'XORDER1'\n",
      " 'RAND_VOTE' 'pidrand' 'RAND_TERROR' 'RAND_ISIS' 'RAND_PC' 'aa_split'\n",
      " 'ever_vs_12mo_rand' 'RAND_BIRTH' 'RAND_FEMOFF' 'RAND_LPRES' 'RAND_WAD'\n",
      " 'RAND_OC4' 'flag_follow' 'flag_turnout12' 'flag_turnout12b' 'flag_vote12'\n",
      " 'flag_percent16' 'flag_meet' 'flag_givefut' 'flag_info' 'flag_march'\n",
      " 'flag_sign' 'flag_give12mo' 'flag_compromise' 'flag_ftobama'\n",
      " 'flag_ftblack' 'flag_ftwhite' 'flag_fthisp' 'flag_ftgay' 'flag_ftjeb'\n",
      " 'flag_fttrump' 'flag_ftcarson' 'flag_fthrc' 'flag_ftrubio' 'flag_ftcruz'\n",
      " 'flag_ftsanders' 'flag_ftfiorina' 'flag_ftpolice' 'flag_ftfem'\n",
      " 'flag_fttrans' 'flag_ftmuslim' 'flag_ftsci' 'flag_reg' 'flag_demcand'\n",
      " 'flag_repcand' 'flag_vote16jb' 'flag_vote16bc' 'flag_vote16tc'\n",
      " 'flag_vote16mr' 'flag_vote16dt' 'flag_presjob' 'flag_lazyb' 'flag_lazyw'\n",
      " 'flag_lazyh' 'flag_lazym' 'flag_violentb' 'flag_violentw' 'flag_violenth'\n",
      " 'flag_violentm' 'flag_econnow' 'flag_econ12mo' 'flag_pid1d' 'flag_pid2d'\n",
      " 'flag_pid1r' 'flag_pid2r' 'flag_pidstr' 'flag_pidlean' 'flag_lcself'\n",
      " 'flag_lcd' 'flag_lcr' 'flag_lchc' 'flag_lcbo' 'flag_lcdt' 'flag_lcmr'\n",
      " 'flag_lctc' 'flag_ISSUES_OC14' 'flag_best1' 'flag_best2' 'flag_best3'\n",
      " 'flag_best4' 'flag_disc_b' 'flag_disc_h' 'flag_disc_w' 'flag_disc_g'\n",
      " 'flag_disc_wo' 'flag_disc_m' 'flag_disc_t' 'flag_disc_mu' 'flag_disc_c'\n",
      " 'flag_disc_selfsex' 'flag_disc_fed' 'flag_disc_police' 'flag_srv_spend'\n",
      " 'flag_campfin' 'flag_immig_legal' 'flag_immig_numb' 'flag_equalpay'\n",
      " 'flag_parleave' 'flag_crimespend' 'flag_death' 'flag_terror_worry'\n",
      " 'flag_terror_12mo' 'flag_terror_local' 'flag_relig_bc' 'flag_relig_bcstr'\n",
      " 'flag_relig_srv' 'flag_relig_srvstr' 'flag_incgap20' 'flag_isis_troops'\n",
      " 'flag_syrians_a' 'flag_syrians_b' 'flag_pc_a' 'flag_pc_b' 'flag_minwage'\n",
      " 'flag_healthspend' 'flag_childcare' 'flag_getahead' 'flag_ladder'\n",
      " 'flag_finwell' 'flag_rr1' 'flag_rr2' 'flag_rr3' 'flag_rr4' 'flag_warm'\n",
      " 'flag_warmbad' 'flag_warmcause' 'flag_warmdo' 'flag_aa1' 'flag_aa2'\n",
      " 'flag_aa3' 'flag_freetrade' 'flag_stopwhite' 'flag_stopblack'\n",
      " 'flag_forcewhite' 'flag_forceblack' 'flag_stop_12mo' 'flag_arrested_12mo'\n",
      " 'flag_charged_12mo' 'flag_jailed_12mo' 'flag_convict_12mo'\n",
      " 'flag_famstop_12mo' 'flag_stop_ever' 'flag_arrested_ever'\n",
      " 'flag_charged_ever' 'flag_jailed_ever' 'flag_convict_ever'\n",
      " 'flag_famstop_ever' 'flag_pk_deficit' 'flag_pk_sen' 'flag_pk_spend'\n",
      " 'flag_birthright_a' 'flag_birthright_b' 'flag_femoff_jobs'\n",
      " 'flag_femoff_ed' 'flag_femoff_spend' 'flag_femoff_issues'\n",
      " 'flag_lpres_pleased' 'flag_lpres_immig' 'flag_lpres_la' 'flag_vaccine'\n",
      " 'flag_autism' 'flag_bo_muslim' 'flag_bo_confid' 'flag_NFC_q1'\n",
      " 'flag_NFC_q2' 'flag_NFC_q3' 'flag_NFC_q4' 'flag_NTE_q1' 'flag_NTE_q2'\n",
      " 'flag_NTE_q3' 'flag_NTE_q4' 'flag_amer_ident' 'flag_race_ident'\n",
      " 'flag_wad1a' 'flag_wad2a' 'flag_wad3a' 'flag_wad4a' 'flag_wad1b'\n",
      " 'flag_wad2b' 'flag_wad3b' 'flag_wad4b' 'flag_whitework' 'flag_whitejob'\n",
      " 'flag_wguilt1' 'flag_wguilt2' 'flag_wguilt3' 'flag_buycott'\n",
      " 'flag_boycott' 'flag_skintone_mob' 'flag_skintone_grid'\n",
      " 'flag_skin_discrim' 'flag_africanam10' 'flag_white10' 'flag_hispanic10'\n",
      " 'flag_asianam10' 'flag_nativeam10' 'flag_other10' 'starttime' 'endtime'\n",
      " 'optintimestamp' 'count' 'ua' 'browser' 'os']\n"
     ]
    }
   ],
   "source": [
    "# we need to find out what variables are in the .csv file that has been \n",
    "#    read into the dataframe anes\n",
    "# there is probably a way to select the columns that just have 'obama' in them\n",
    "\n",
    "print(anes.columns.values)"
   ]
  },
  {
   "cell_type": "markdown",
   "metadata": {},
   "source": [
    "Write code that plots a histogram of the \"Feeling Thermometer - Barack Obama\" variable."
   ]
  },
  {
   "cell_type": "code",
   "execution_count": 14,
   "metadata": {},
   "outputs": [
    {
     "data": {
      "text/plain": [
       "<matplotlib.axes._subplots.AxesSubplot at 0x10ab40668>"
      ]
     },
     "execution_count": 14,
     "metadata": {},
     "output_type": "execute_result"
    },
    {
     "data": {
      "image/png": "[encoded data removed]",
      "text/plain": [
       "<Figure size 432x288 with 1 Axes>"
      ]
     },
     "metadata": {},
     "output_type": "display_data"
    }
   ],
   "source": [
    "# Barack Obama FT\n",
    "anes.loc[:,'ftobama'].hist(bins=range(0,100,10))"
   ]
  },
  {
   "cell_type": "markdown",
   "metadata": {},
   "source": [
    "What is the shape of the plot?"
   ]
  },
  {
   "cell_type": "markdown",
   "metadata": {},
   "source": [
    "**The plot is clearly bimodal, which makes sense, since backlash to Obama was a key part of the Republican\n",
    "strategy in 2016; you can guess that Republican identifiers are on the left hand side and Democratic identifiers are on the right**"
   ]
  },
  {
   "cell_type": "markdown",
   "metadata": {},
   "source": [
    "Report the 25th, 50th, and 75th percentiles. Keep in mind that valid answers have domain [0,100]."
   ]
  },
  {
   "cell_type": "code",
   "execution_count": 15,
   "metadata": {},
   "outputs": [
    {
     "name": "stdout",
     "output_type": "stream",
     "text": [
      "obama 25th percentile:  5.0\n",
      "obama2 25th percentile:  5.0\n"
     ]
    }
   ],
   "source": [
    "# Save column into an object called 'obama'\n",
    "obama = anes[anes['ftobama'] < 101].loc[:,'ftobama'] # this was sort of tricky; \n",
    "                                                     # what if we want to specify range (0,100)?\n",
    "\n",
    "# here is one way of making sure that all the values are in range\n",
    "obama2 = np.clip(anes.loc[:,'ftobama'], 0, 100)\n",
    "# Find 25th percentile\n",
    "print('obama 25th percentile: ', np.percentile(obama, 25))\n",
    "print('obama2 25th percentile: ', np.percentile(obama2, 25))"
   ]
  },
  {
   "cell_type": "code",
   "execution_count": 16,
   "metadata": {},
   "outputs": [
    {
     "data": {
      "text/plain": [
       "52.5"
      ]
     },
     "execution_count": 16,
     "metadata": {},
     "output_type": "execute_result"
    }
   ],
   "source": [
    "# Find 50th percentile\n",
    "np.percentile(obama, 50)"
   ]
  },
  {
   "cell_type": "code",
   "execution_count": 17,
   "metadata": {},
   "outputs": [
    {
     "data": {
      "text/plain": [
       "87.0"
      ]
     },
     "execution_count": 17,
     "metadata": {},
     "output_type": "execute_result"
    }
   ],
   "source": [
    "# Find 75th percentile\n",
    "np.percentile(obama, 75)"
   ]
  },
  {
   "cell_type": "markdown",
   "metadata": {},
   "source": [
    "What does this distrubtion tell you about the American peoples' thoughts on Obama?"
   ]
  },
  {
   "cell_type": "markdown",
   "metadata": {},
   "source": [
    "**The distribution tells you that just taking a median would be deceiving, since the Obama feeling thermometer\n",
    "responses are clustered at each end of the scale, which you can see by looking at the break points for the bottem quartile and top quartile, although the histogram is better still***"
   ]
  },
  {
   "cell_type": "markdown",
   "metadata": {},
   "source": [
    "### Question 1"
   ]
  },
  {
   "cell_type": "markdown",
   "metadata": {},
   "source": [
    "Now do the same for \"Feeling Thermometer - Donald Trump.\""
   ]
  },
  {
   "cell_type": "code",
   "execution_count": 18,
   "metadata": {},
   "outputs": [
    {
     "data": {
      "text/plain": [
       "<matplotlib.axes._subplots.AxesSubplot at 0x1a1bb74518>"
      ]
     },
     "execution_count": 18,
     "metadata": {},
     "output_type": "execute_result"
    },
    {
     "data": {
      "image/png": "[encoded data removed]",
      "text/plain": [
       "<Figure size 432x288 with 1 Axes>"
      ]
     },
     "metadata": {},
     "output_type": "display_data"
    }
   ],
   "source": [
    "# Histogram\n",
    "anes.loc[:,'fttrump'].hist(bins=range(0,100,10))"
   ]
  },
  {
   "cell_type": "code",
   "execution_count": 19,
   "metadata": {},
   "outputs": [
    {
     "data": {
      "text/plain": [
       "<matplotlib.axes._subplots.AxesSubplot at 0x108ef0ba8>"
      ]
     },
     "execution_count": 19,
     "metadata": {},
     "output_type": "execute_result"
    },
    {
     "data": {
      "image/png": "[encoded data removed]",
      "text/plain": [
       "<Figure size 432x288 with 1 Axes>"
      ]
     },
     "metadata": {},
     "output_type": "display_data"
    }
   ],
   "source": [
    "# Histogram\n",
    "anes.loc[:,'fthrc'].hist(bins=range(0,100,10))"
   ]
  },
  {
   "cell_type": "code",
   "execution_count": 20,
   "metadata": {},
   "outputs": [
    {
     "data": {
      "text/plain": [
       "2.0"
      ]
     },
     "execution_count": 20,
     "metadata": {},
     "output_type": "execute_result"
    }
   ],
   "source": [
    "# Save an object called 'trump'\n",
    "trump = np.clip(anes.loc[:,'fttrump'], 0, 100)\n",
    "\n",
    "# Find 25th percentile\n",
    "np.percentile(trump, 25)"
   ]
  },
  {
   "cell_type": "code",
   "execution_count": 21,
   "metadata": {},
   "outputs": [
    {
     "data": {
      "text/plain": [
       "30.0"
      ]
     },
     "execution_count": 21,
     "metadata": {},
     "output_type": "execute_result"
    }
   ],
   "source": [
    "# Find 50th percentile\n",
    "np.percentile(trump, 50)"
   ]
  },
  {
   "cell_type": "code",
   "execution_count": 22,
   "metadata": {},
   "outputs": [
    {
     "data": {
      "text/plain": [
       "72.0"
      ]
     },
     "execution_count": 22,
     "metadata": {},
     "output_type": "execute_result"
    }
   ],
   "source": [
    "# Find 75th percentile\n",
    "np.percentile(trump, 75)"
   ]
  },
  {
   "cell_type": "markdown",
   "metadata": {},
   "source": [
    "How do the two distributions compare?"
   ]
  },
  {
   "cell_type": "markdown",
   "metadata": {},
   "source": [
    "**Again the distribution is not the typical sort of Normal about a mean but is instead skewed; Trump's feeling thermometer rating is really almost unimodal at the bottom end.**"
   ]
  },
  {
   "cell_type": "markdown",
   "metadata": {},
   "source": [
    "Both distributions have a significant amount of their points at the two extremes (0 or 100). What does this tell you about the standard deviation of the data? Do the American people have strong opinions regarding these two candidates?"
   ]
  },
  {
   "cell_type": "markdown",
   "metadata": {},
   "source": [
    "**The variance is going to be quite large if you treat these as continuous measures. This is good evidence for polarization, which you could follow up on by looking at the different distributions for Dems & Reeps.**"
   ]
  },
  {
   "cell_type": "markdown",
   "metadata": {},
   "source": [
    "## Bootstrap"
   ]
  },
  {
   "cell_type": "markdown",
   "metadata": {},
   "source": [
    "Write code that resamples the \"ftobama\" distribution, then plot a histogram. Be sure to resample the number of rows that exist in the dataset, with replacement."
   ]
  },
  {
   "cell_type": "code",
   "execution_count": 23,
   "metadata": {},
   "outputs": [
    {
     "name": "stdout",
     "output_type": "stream",
     "text": [
      "dataframe shape (rows,cols):  (1200, 594)\n",
      "length of list variable obama:  1198\n"
     ]
    }
   ],
   "source": [
    "# Find number of rows\n",
    "print('dataframe shape (rows,cols): ', anes.shape)\n",
    "print('length of list variable obama: ', len(obama))"
   ]
  },
  {
   "cell_type": "code",
   "execution_count": 24,
   "metadata": {},
   "outputs": [],
   "source": [
    "# Resample the data\n",
    "pilot_resample = anes.sample(n=1198, replace=True)"
   ]
  },
  {
   "cell_type": "code",
   "execution_count": 25,
   "metadata": {},
   "outputs": [
    {
     "data": {
      "text/plain": [
       "<matplotlib.axes._subplots.AxesSubplot at 0x1a1bb61e48>"
      ]
     },
     "execution_count": 25,
     "metadata": {},
     "output_type": "execute_result"
    },
    {
     "data": {
      "image/png": "[encoded data removed]",
      "text/plain": [
       "<Figure size 432x288 with 1 Axes>"
      ]
     },
     "metadata": {},
     "output_type": "display_data"
    }
   ],
   "source": [
    "# Histogram\n",
    "pilot_resample.loc[:,'fttrump'].hist(bins=range(0,100,10))"
   ]
  },
  {
   "cell_type": "code",
   "execution_count": 26,
   "metadata": {},
   "outputs": [
    {
     "data": {
      "text/plain": [
       "32.0"
      ]
     },
     "execution_count": 26,
     "metadata": {},
     "output_type": "execute_result"
    }
   ],
   "source": [
    "# 50th percentile/median\n",
    "np.percentile(pilot_resample.loc[:,'fttrump'], 50)"
   ]
  },
  {
   "cell_type": "markdown",
   "metadata": {},
   "source": [
    "### Question 2"
   ]
  },
  {
   "cell_type": "markdown",
   "metadata": {},
   "source": [
    "How does the resampled median compare to the original median? Does this result make sense?"
   ]
  },
  {
   "cell_type": "markdown",
   "metadata": {},
   "source": [
    "**The resampled median is pretty close to the original median, and since we drew with replacement we just drew a few more low values this time around.**"
   ]
  },
  {
   "cell_type": "markdown",
   "metadata": {},
   "source": [
    "Now, define a function titled \"bootstrap_median\" that takes the original sample, the column name we're concerned with, and the number of resamples as arguments. The function should calculate simulated medians and return them in an array."
   ]
  },
  {
   "cell_type": "code",
   "execution_count": 27,
   "metadata": {},
   "outputs": [],
   "source": [
    "# Define a function \"bootstrap_median\" with arguments \"original_sample\", \"label\", and \"replications\" \n",
    "# that returns an array with the medians found in replications\n",
    "\n",
    "def bootstrap_median(original_sample, label, replications):\n",
    "    \"\"\"Returns an array of bootstrapped sample medians:\n",
    "    original_sample: table containing the original sample\n",
    "    label: label of column containing the variable\n",
    "    replications: number of bootstrap samples\n",
    "    \"\"\"\n",
    "    just_one_column = original_sample.loc[:, label] # so this takes the df and label and selects the column\n",
    "    medians = []\n",
    "    for i in np.arange(replications):\n",
    "        bootstrap_sample = just_one_column.sample(n=just_one_column.size, replace=True)\n",
    "        resampled_median = bootstrap_sample.quantile(.5)\n",
    "        medians.append(resampled_median)\n",
    "\n",
    "    return medians\n"
   ]
  },
  {
   "cell_type": "markdown",
   "metadata": {},
   "source": [
    "Replicate the bootstrap 10,000 times, then save the results."
   ]
  },
  {
   "cell_type": "code",
   "execution_count": 28,
   "metadata": {},
   "outputs": [],
   "source": [
    "# Resample 10,000 times\n",
    "medians = bootstrap_median(anes, 'fttrump', 10000)"
   ]
  },
  {
   "cell_type": "markdown",
   "metadata": {},
   "source": [
    "Plot a histogram of the resampled medians, and plot the 95% confidence interval. (hint: to plot the confidence interval, try using the 2.5 percentile and 97.5 percentile values in a numpy array)"
   ]
  },
  {
   "cell_type": "code",
   "execution_count": 29,
   "metadata": {},
   "outputs": [
    {
     "data": {
      "text/plain": [
       "[<matplotlib.lines.Line2D at 0x1a1c944358>]"
      ]
     },
     "execution_count": 29,
     "metadata": {},
     "output_type": "execute_result"
    },
    {
     "data": {
      "image/png": "[encoded data removed]",
      "text/plain": [
       "<Figure size 432x288 with 1 Axes>"
      ]
     },
     "metadata": {},
     "output_type": "display_data"
    }
   ],
   "source": [
    "# Plot medians\n",
    "# to do that, you have to convert the list of medians into a dataframe in line below\n",
    "resampled_medians = pd.DataFrame(data={'Bootstrap Sample Median': medians})\n",
    "resampled_medians.hist()\n",
    "plots.plot(np.array([pd.Series(medians).quantile(q=.025), pd.Series(medians).quantile(q=.975)]), np.array([0, 0]), color='yellow', lw=10, zorder=1)"
   ]
  },
  {
   "cell_type": "markdown",
   "metadata": {},
   "source": [
    "### Question 3"
   ]
  },
  {
   "cell_type": "markdown",
   "metadata": {},
   "source": [
    "What can you infer about the likely population median given the above distribution?"
   ]
  },
  {
   "cell_type": "markdown",
   "metadata": {},
   "source": [
    "**The likely population median is going to be between 21 and 36, since that is where 95 out of 100 draws yield in resampling of the data.**"
   ]
  },
  {
   "cell_type": "code",
   "execution_count": 30,
   "metadata": {},
   "outputs": [
    {
     "data": {
      "text/plain": [
       "[<matplotlib.lines.Line2D at 0x1a1c9a8e10>]"
      ]
     },
     "execution_count": 30,
     "metadata": {},
     "output_type": "execute_result"
    },
    {
     "data": {
      "image/png": "[encoded data removed]",
      "text/plain": [
       "<Figure size 432x288 with 1 Axes>"
      ]
     },
     "metadata": {},
     "output_type": "display_data"
    }
   ],
   "source": [
    "# Resample 10,000 times but this time for Hillary\n",
    "hillary_medians = bootstrap_median(anes, 'fthrc', 10000)\n",
    "hillary_resampled_medians = pd.DataFrame(data={'Bootstrap Sample Median': hillary_medians})\n",
    "hillary_resampled_medians.hist()\n",
    "plots.plot(np.array([pd.Series(hillary_medians).quantile(q=.025), pd.Series(hillary_medians).quantile(q=.975)]), np.array([0, 0]), color='yellow', lw=10, zorder=1)"
   ]
  },
  {
   "cell_type": "markdown",
   "metadata": {},
   "source": [
    "**We can say that the underlying median is definitely higher for Hillary.**"
   ]
  },
  {
   "cell_type": "markdown",
   "metadata": {},
   "source": [
    "Finally, write a simulation that constructs 100 confidence intervals. (Remember to use the 2.5 and 97.5 percentiles!)"
   ]
  },
  {
   "cell_type": "code",
   "execution_count": 31,
   "metadata": {},
   "outputs": [
    {
     "data": {
      "text/html": [
       "<div>\n",
       "<style scoped>\n",
       "    .dataframe tbody tr th:only-of-type {\n",
       "        vertical-align: middle;\n",
       "    }\n",
       "\n",
       "    .dataframe tbody tr th {\n",
       "        vertical-align: top;\n",
       "    }\n",
       "\n",
       "    .dataframe thead th {\n",
       "        text-align: right;\n",
       "    }\n",
       "</style>\n",
       "<table border=\"1\" class=\"dataframe\">\n",
       "  <thead>\n",
       "    <tr style=\"text-align: right;\">\n",
       "      <th></th>\n",
       "      <th>Left</th>\n",
       "      <th>Right</th>\n",
       "    </tr>\n",
       "  </thead>\n",
       "  <tbody>\n",
       "    <tr>\n",
       "      <th>0</th>\n",
       "      <td>39.0</td>\n",
       "      <td>53.0</td>\n",
       "    </tr>\n",
       "    <tr>\n",
       "      <th>1</th>\n",
       "      <td>52.0</td>\n",
       "      <td>68.0</td>\n",
       "    </tr>\n",
       "    <tr>\n",
       "      <th>2</th>\n",
       "      <td>46.0</td>\n",
       "      <td>62.0</td>\n",
       "    </tr>\n",
       "    <tr>\n",
       "      <th>3</th>\n",
       "      <td>45.5</td>\n",
       "      <td>60.0</td>\n",
       "    </tr>\n",
       "    <tr>\n",
       "      <th>4</th>\n",
       "      <td>49.0</td>\n",
       "      <td>62.0</td>\n",
       "    </tr>\n",
       "  </tbody>\n",
       "</table>\n",
       "</div>"
      ],
      "text/plain": [
       "   Left  Right\n",
       "0  39.0   53.0\n",
       "1  52.0   68.0\n",
       "2  46.0   62.0\n",
       "3  45.5   60.0\n",
       "4  49.0   62.0"
      ]
     },
     "execution_count": 31,
     "metadata": {},
     "output_type": "execute_result"
    }
   ],
   "source": [
    "# Construct 100 confidence intervals\n",
    "\n",
    "# this is actually pretty hard and we should lay out the steps\n",
    "# first you sample 500 rows of the obama scores with replacement, and store that in a df\n",
    "# then you find the median in 5000 draws from the sample\n",
    "# then you find the lower .025 and .975 bounds of that distribution of medians and store those in list\n",
    "# repeat 100 times\n",
    "\n",
    "left_ends = []\n",
    "right_ends = []\n",
    "\n",
    "for i in np.arange(100):\n",
    "    first_sample = obama.sample(n=500, replace=True).to_frame() # first sample Obama FT scores and store in a df\n",
    "    medians = bootstrap_median(first_sample, 'ftobama', 5000)\n",
    "    left_ends.append(pd.Series(medians).quantile(q=.025))\n",
    "    right_ends.append(pd.Series(medians).quantile(q=.975))\n",
    "\n",
    "intervals = pd.DataFrame(data={\"Left\": left_ends, \"Right\": right_ends})\n",
    "intervals.head()    "
   ]
  },
  {
   "cell_type": "markdown",
   "metadata": {},
   "source": [
    "#### Question 4"
   ]
  },
  {
   "cell_type": "markdown",
   "metadata": {},
   "source": [
    "Finally, plot 100 confidence intervals (stacked on top of each other). What can you conclude about the median?"
   ]
  },
  {
   "cell_type": "code",
   "execution_count": 40,
   "metadata": {},
   "outputs": [
    {
     "data": {
      "image/png": "[encoded data removed]",
      "text/plain": [
       "<matplotlib.figure.Figure at 0x1a218370f0>"
      ]
     },
     "metadata": {},
     "output_type": "display_data"
    }
   ],
   "source": [
    "# Plot the confidence intervals\n",
    "# again it is hard to figure out what plots.plot is doing; you are stepping thru rows of \n",
    "# the df you made above that has the left and right alpha values\n",
    "plots.figure(figsize=(8,8))\n",
    "for i in np.arange(100):\n",
    "    ends = intervals.iloc[i,:]\n",
    "    plots.plot(ends, np.array([i + 1, i + 1]), color='gold')\n",
    "# plots.line(x=52.5) it would be nice to draw index line at Obama median but don't know how\n",
    "plots.xlabel('Median')\n",
    "plots.ylabel('Replication')\n",
    "plots.title('Population Median and Intervals of Estimates');"
   ]
  },
  {
   "cell_type": "markdown",
   "metadata": {
    "collapsed": true
   },
   "source": [
    "**You can conclude that most of the time (something like 95 times out of 100 times) that we take a sample of 500 Obama FT scores, the estimated range of the median will contain the Obama feeling thermometer we measured in the population, 52.5**"
   ]
  },
  {
   "cell_type": "code",
   "execution_count": null,
   "metadata": {
    "collapsed": true
   },
   "outputs": [],
   "source": []
  }
 ],
 "metadata": {
  "kernelspec": {
   "display_name": "Python 3",
   "language": "python",
   "name": "python3"
  },
  "language_info": {
   "codemirror_mode": {
    "name": "ipython",
    "version": 3
   },
   "file_extension": ".py",
   "mimetype": "text/x-python",
   "name": "python",
   "nbconvert_exporter": "python",
   "pygments_lexer": "ipython3",
   "version": "3.6.5"
  }
 },
 "nbformat": 4,
 "nbformat_minor": 2
}
