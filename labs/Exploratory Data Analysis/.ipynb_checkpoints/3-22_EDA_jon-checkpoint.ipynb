{
 "cells": [
  {
   "cell_type": "markdown",
   "metadata": {},
   "source": [
    "# [3-22] Exploratory Data Analysis\n",
    "---\n",
    "<img src=\"https://upload.wikimedia.org/wikipedia/commons/b/ba/Data_visualization_process_v1.png\" style=\"width: 500px; height: 400px;\" />\n",
    "\n",
    "\n",
    "This lab covers the Tukey approach to exploratory data analysis, bringing together key concepts and skills from earlier in the course like data visualization and the train-test-validate split. We will also introduce dimensionality reduction in the form of Principal Components Analysis.\n",
    "\n",
    "*Estimated Time: 45 minutes*\n",
    "\n",
    "---\n",
    "\n",
    "### Table of Contents\n",
    "\n",
    "\n",
    "1 - [Intro to Exploratory Data Analysis](#section 1)<br>\n",
    "\n",
    "2 - [EDA and Visualization](#section 2)<br>\n",
    "\n",
    "3 - [Dimensionality Reduction](#section 3)<br>\n",
    "\n",
    "\n",
    "\n",
    "\n",
    "**Dependencies:**"
   ]
  },
  {
   "cell_type": "code",
   "execution_count": 1,
   "metadata": {},
   "outputs": [
    {
     "name": "stdout",
     "output_type": "stream",
     "text": [
      "Requirement already satisfied: nltk in /Users/jmarshall/anaconda3/lib/python3.6/site-packages (3.3)\n",
      "Requirement already satisfied: six in /Users/jmarshall/anaconda3/lib/python3.6/site-packages (from nltk) (1.11.0)\n",
      "Collecting plotly\n",
      "\u001b[?25l  Downloading https://files.pythonhosted.org/packages/d7/cd/e757543aae97cd3016877b6db02d3f5477c858af7f6e98a9951e861fff54/plotly-3.8.0-py2.py3-none-any.whl (41.2MB)\n",
      "\u001b[K    100% |████████████████████████████████| 41.2MB 559kB/s eta 0:00:01    63% |████████████████████▏           | 25.9MB 25.9MB/s eta 0:00:01\n",
      "\u001b[?25hRequirement already satisfied: nbformat>=4.2 in /Users/jmarshall/anaconda3/lib/python3.6/site-packages (from plotly) (4.4.0)\n",
      "Requirement already satisfied: requests in /Users/jmarshall/anaconda3/lib/python3.6/site-packages (from plotly) (2.18.4)\n",
      "Collecting retrying>=1.3.3 (from plotly)\n",
      "  Downloading https://files.pythonhosted.org/packages/44/ef/beae4b4ef80902f22e3af073397f079c96969c69b2c7d52a57ea9ae61c9d/retrying-1.3.3.tar.gz\n",
      "Requirement already satisfied: six in /Users/jmarshall/anaconda3/lib/python3.6/site-packages (from plotly) (1.11.0)\n",
      "Requirement already satisfied: decorator>=4.0.6 in /Users/jmarshall/anaconda3/lib/python3.6/site-packages (from plotly) (4.3.0)\n",
      "Requirement already satisfied: pytz in /Users/jmarshall/anaconda3/lib/python3.6/site-packages (from plotly) (2018.4)\n",
      "Requirement already satisfied: ipython_genutils in /Users/jmarshall/anaconda3/lib/python3.6/site-packages (from nbformat>=4.2->plotly) (0.2.0)\n",
      "Requirement already satisfied: traitlets>=4.1 in /Users/jmarshall/anaconda3/lib/python3.6/site-packages (from nbformat>=4.2->plotly) (4.3.2)\n",
      "Requirement already satisfied: jsonschema!=2.5.0,>=2.4 in /Users/jmarshall/anaconda3/lib/python3.6/site-packages (from nbformat>=4.2->plotly) (2.6.0)\n",
      "Requirement already satisfied: jupyter_core in /Users/jmarshall/anaconda3/lib/python3.6/site-packages (from nbformat>=4.2->plotly) (4.4.0)\n",
      "Requirement already satisfied: chardet<3.1.0,>=3.0.2 in /Users/jmarshall/anaconda3/lib/python3.6/site-packages (from requests->plotly) (3.0.4)\n",
      "Requirement already satisfied: idna<2.7,>=2.5 in /Users/jmarshall/anaconda3/lib/python3.6/site-packages (from requests->plotly) (2.6)\n",
      "Requirement already satisfied: urllib3<1.23,>=1.21.1 in /Users/jmarshall/anaconda3/lib/python3.6/site-packages (from requests->plotly) (1.22)\n",
      "Requirement already satisfied: certifi>=2017.4.17 in /Users/jmarshall/anaconda3/lib/python3.6/site-packages (from requests->plotly) (2019.3.9)\n",
      "Building wheels for collected packages: retrying\n",
      "  Building wheel for retrying (setup.py) ... \u001b[?25ldone\n",
      "\u001b[?25h  Stored in directory: /Users/jmarshall/Library/Caches/pip/wheels/d7/a9/33/acc7b709e2a35caa7d4cae442f6fe6fbf2c43f80823d46460c\n",
      "Successfully built retrying\n",
      "Installing collected packages: retrying, plotly\n",
      "Successfully installed plotly-3.8.0 retrying-1.3.3\n"
     ]
    },
    {
     "data": {
      "text/html": [
       "        <script type=\"text/javascript\">\n",
       "        window.PlotlyConfig = {MathJaxConfig: 'local'};\n",
       "        if (window.MathJax) {MathJax.Hub.Config({SVG: {font: \"STIX-Web\"}});}\n",
       "        if (typeof require !== 'undefined') {\n",
       "        require.undef(\"plotly\");\n",
       "        requirejs.config({\n",
       "            paths: {\n",
       "                'plotly': ['https://cdn.plot.ly/plotly-latest.min']\n",
       "            }\n",
       "        });\n",
       "        require(['plotly'], function(Plotly) {\n",
       "            window._Plotly = Plotly;\n",
       "        });\n",
       "        }\n",
       "        </script>\n",
       "        "
      ]
     },
     "metadata": {},
     "output_type": "display_data"
    }
   ],
   "source": [
    "import pandas as pd\n",
    "import numpy as np\n",
    "import matplotlib.pyplot as plt\n",
    "%matplotlib inline\n",
    "\n",
    "!pip install nltk\n",
    "import nltk\n",
    "from sklearn.preprocessing import StandardScaler\n",
    "from sklearn.decomposition import PCA\n",
    "import seaborn as sns\n",
    "from sklearn.feature_extraction.text import TfidfVectorizer\n",
    "from sklearn.decomposition import TruncatedSVD\n",
    "\n",
    "!pip install plotly\n",
    "import plotly.offline as py\n",
    "py.init_notebook_mode(connected=True)\n",
    "import plotly.graph_objs as go\n",
    "import plotly.figure_factory as ff"
   ]
  },
  {
   "cell_type": "markdown",
   "metadata": {},
   "source": [
    "---\n",
    "## 1. Introduction to Exploratory Data Analysis <a id='section 1'></a>"
   ]
  },
  {
   "cell_type": "markdown",
   "metadata": {},
   "source": [
    "> \"It is important to understand what you CAN DO before you learn to measure how WELL you seem to have done it.\" -John W. Tukey, *Exploratory Data Analysis*\n",
    "\n",
    "Previous labs and many introductory data analysis classes like Data-8 focus on **Confirmatory Data Analysis (CDA)**: the use of statistical methods to see whether the data supports a given hypothesis or model. But, where does the hypothesis come from in the first place?\n",
    "\n",
    "**Exploratory Data Analysis (EDA)** is the process of 'looking at data to see what it seems to say'. Through this process, we hope to accomplish several things:\n",
    "- learn about the overall 'shape' of the data: structure, organization, ranges of values\n",
    "- assess what assumptions we can make about the data as a basis for later statistical inference\n",
    "- figure out the appropriate tools and techniques for analysis \n",
    "- tentatively create testable, appropriate hypotheses or models\n",
    "\n",
    "EDA is complementary to CDA- in fact, CDA is often only possible after having done EDA. This is clear when compared to the methods of natural sciences: a scientist's research starts with making observations about the world, which leads to questions about what they see. Only after observing and wondering can we begin to systematically test our hypotheses. Similarly, every data analysis project you do should begin with EDA.\n",
    "\n",
    "Today, we'll go through the EDA process for speech transcripts from [2016 US Presidential campaigns](http://www.presidency.ucsb.edu/2016_election.php). You'll use many coding skills from previous labs. And because EDA is an exploratory process, there are many ways to approach the code (we'll give some tips and guidance). "
   ]
  },
  {
   "cell_type": "code",
   "execution_count": 2,
   "metadata": {},
   "outputs": [
    {
     "data": {
      "text/html": [
       "<div>\n",
       "<style scoped>\n",
       "    .dataframe tbody tr th:only-of-type {\n",
       "        vertical-align: middle;\n",
       "    }\n",
       "\n",
       "    .dataframe tbody tr th {\n",
       "        vertical-align: top;\n",
       "    }\n",
       "\n",
       "    .dataframe thead th {\n",
       "        text-align: right;\n",
       "    }\n",
       "</style>\n",
       "<table border=\"1\" class=\"dataframe\">\n",
       "  <thead>\n",
       "    <tr style=\"text-align: right;\">\n",
       "      <th></th>\n",
       "      <th>Candidate</th>\n",
       "      <th>Party</th>\n",
       "      <th>Type</th>\n",
       "      <th>Date</th>\n",
       "      <th>Title</th>\n",
       "      <th>Text</th>\n",
       "    </tr>\n",
       "  </thead>\n",
       "  <tbody>\n",
       "    <tr>\n",
       "      <th>0</th>\n",
       "      <td>Jeb Bush</td>\n",
       "      <td>R</td>\n",
       "      <td>speech</td>\n",
       "      <td>June 15, 2015</td>\n",
       "      <td>Remarks Announcing Candidacy for President at ...</td>\n",
       "      <td>Thank you all very much. I always feel welcome...</td>\n",
       "    </tr>\n",
       "    <tr>\n",
       "      <th>1</th>\n",
       "      <td>Jeb Bush</td>\n",
       "      <td>R</td>\n",
       "      <td>speech</td>\n",
       "      <td>July 30, 2015</td>\n",
       "      <td>Remarks to the National Urban League Conferenc...</td>\n",
       "      <td>Thank you all very much. I appreciate your hos...</td>\n",
       "    </tr>\n",
       "    <tr>\n",
       "      <th>2</th>\n",
       "      <td>Jeb Bush</td>\n",
       "      <td>R</td>\n",
       "      <td>speech</td>\n",
       "      <td>August 11, 2015</td>\n",
       "      <td>Remarks at the Ronald Reagan Presidential Libr...</td>\n",
       "      <td>Thank you very much. It's good to be with all ...</td>\n",
       "    </tr>\n",
       "    <tr>\n",
       "      <th>3</th>\n",
       "      <td>Jeb Bush</td>\n",
       "      <td>R</td>\n",
       "      <td>speech</td>\n",
       "      <td>September 9, 2015</td>\n",
       "      <td>Remarks in Garner, North Carolina</td>\n",
       "      <td>Thank you very much. I appreciate your hospita...</td>\n",
       "    </tr>\n",
       "    <tr>\n",
       "      <th>4</th>\n",
       "      <td>Jeb Bush</td>\n",
       "      <td>R</td>\n",
       "      <td>speech</td>\n",
       "      <td>November 2, 2015</td>\n",
       "      <td>Remarks in Tampa, Florida</td>\n",
       "      <td>Thank you. It's great to be in Tampa with so m...</td>\n",
       "    </tr>\n",
       "  </tbody>\n",
       "</table>\n",
       "</div>"
      ],
      "text/plain": [
       "  Candidate Party    Type               Date  \\\n",
       "0  Jeb Bush     R  speech      June 15, 2015   \n",
       "1  Jeb Bush     R  speech      July 30, 2015   \n",
       "2  Jeb Bush     R  speech    August 11, 2015   \n",
       "3  Jeb Bush     R  speech  September 9, 2015   \n",
       "4  Jeb Bush     R  speech   November 2, 2015   \n",
       "\n",
       "                                               Title  \\\n",
       "0  Remarks Announcing Candidacy for President at ...   \n",
       "1  Remarks to the National Urban League Conferenc...   \n",
       "2  Remarks at the Ronald Reagan Presidential Libr...   \n",
       "3                  Remarks in Garner, North Carolina   \n",
       "4                          Remarks in Tampa, Florida   \n",
       "\n",
       "                                                Text  \n",
       "0  Thank you all very much. I always feel welcome...  \n",
       "1  Thank you all very much. I appreciate your hos...  \n",
       "2  Thank you very much. It's good to be with all ...  \n",
       "3  Thank you very much. I appreciate your hospita...  \n",
       "4  Thank you. It's great to be in Tampa with so m...  "
      ]
     },
     "execution_count": 2,
     "metadata": {},
     "output_type": "execute_result"
    }
   ],
   "source": [
    "# load the data\n",
    "campaign = pd.read_csv(\"data/campaign_2016.csv\", index_col=0)\n",
    "campaign.head()"
   ]
  },
  {
   "cell_type": "markdown",
   "metadata": {},
   "source": [
    "A handy way to get basic summary statistics about your data is using the `.describe()` method on your table. Other useful methods are:\n",
    "- `.unique()` to look at a column's unique values\n",
    "- `.value_counts()` to see how often a column's values occur.\n",
    "- `.isnull()` to screen for null values\n",
    "\n",
    "From these few methods, we can immediately see things that will affect future analysis options.\n"
   ]
  },
  {
   "cell_type": "code",
   "execution_count": 3,
   "metadata": {},
   "outputs": [
    {
     "name": "stdout",
     "output_type": "stream",
     "text": [
      "data frame summary stats\n",
      "                Candidate Party           Type               Date  \\\n",
      "count               7485  7485           7485               7485   \n",
      "unique                21     2              3               1198   \n",
      "top     Hillary Clinton      R  press release  February 29, 2016   \n",
      "freq                2504  4205           6214                 34   \n",
      "\n",
      "                                          Title  \\\n",
      "count                                      7485   \n",
      "unique                                     7320   \n",
      "top     Press Release - Yesterday in the States   \n",
      "freq                                         18   \n",
      "\n",
      "                                                     Text  \n",
      "count                                                7361  \n",
      "unique                                               7328  \n",
      "top     To view this video please enable JavaScript, a...  \n",
      "freq                                                   10   \n",
      "\n",
      "\n",
      "unique values for candidates\n",
      " ['Jeb Bush' 'Ben Carson' 'Lincoln Chafee' 'Chris Christie'\n",
      " 'Hillary Clinton ' 'Ted Cruz' 'Carly Fiorina' 'Lindsey Graham'\n",
      " 'Mike Huckabee' 'Bobby Jindal' 'John Kasich' \"Martin O'Malley\"\n",
      " 'George Pataki' 'Rand Paul' 'Rick Perry' 'Marco Rubio' 'Bernie Sanders'\n",
      " 'Rick Santorum' 'Donald Trump' 'Scott Walker' 'Jim Webb'] \n",
      "\n",
      "\n",
      "number of times a candidates name appears\n",
      " Hillary Clinton     2504\n",
      "Marco Rubio          738\n",
      "Bernie Sanders       727\n",
      "Ted Cruz             602\n",
      "John Kasich          498\n",
      "Rick Santorum        427\n",
      "Donald Trump         358\n",
      "Jeb Bush             314\n",
      "Rick Perry           311\n",
      "Mike Huckabee        214\n",
      "Lindsey Graham       171\n",
      "Chris Christie       124\n",
      "Ben Carson           122\n",
      "Bobby Jindal         116\n",
      "Scott Walker          93\n",
      "Rand Paul             65\n",
      "George Pataki         51\n",
      "Martin O'Malley       36\n",
      "Lincoln Chafee        10\n",
      "Jim Webb               3\n",
      "Carly Fiorina          1\n",
      "Name: Candidate, dtype: int64 \n",
      "\n",
      "\n",
      "and number of null values\n",
      "       Candidate  Party   Type   Date  Title   Text\n",
      "0         False  False  False  False  False  False\n",
      "1         False  False  False  False  False  False\n",
      "2         False  False  False  False  False  False\n",
      "3         False  False  False  False  False  False\n",
      "4         False  False  False  False  False  False\n",
      "5         False  False  False  False  False  False\n",
      "6         False  False  False  False  False  False\n",
      "7         False  False  False  False  False  False\n",
      "8         False  False  False  False  False  False\n",
      "9         False  False  False  False  False  False\n",
      "10        False  False  False  False  False   True\n",
      "11        False  False  False  False  False   True\n",
      "12        False  False  False  False  False   True\n",
      "13        False  False  False  False  False   True\n",
      "14        False  False  False  False  False   True\n",
      "15        False  False  False  False  False  False\n",
      "16        False  False  False  False  False  False\n",
      "17        False  False  False  False  False   True\n",
      "18        False  False  False  False  False  False\n",
      "19        False  False  False  False  False   True\n",
      "20        False  False  False  False  False  False\n",
      "21        False  False  False  False  False  False\n",
      "22        False  False  False  False  False  False\n",
      "23        False  False  False  False  False  False\n",
      "24        False  False  False  False  False   True\n",
      "25        False  False  False  False  False  False\n",
      "26        False  False  False  False  False  False\n",
      "27        False  False  False  False  False   True\n",
      "28        False  False  False  False  False  False\n",
      "29        False  False  False  False  False  False\n",
      "...         ...    ...    ...    ...    ...    ...\n",
      "7455      False  False  False  False  False  False\n",
      "7456      False  False  False  False  False  False\n",
      "7457      False  False  False  False  False  False\n",
      "7458      False  False  False  False  False  False\n",
      "7459      False  False  False  False  False  False\n",
      "7460      False  False  False  False  False  False\n",
      "7461      False  False  False  False  False  False\n",
      "7462      False  False  False  False  False  False\n",
      "7463      False  False  False  False  False  False\n",
      "7464      False  False  False  False  False  False\n",
      "7465      False  False  False  False  False  False\n",
      "7466      False  False  False  False  False  False\n",
      "7467      False  False  False  False  False  False\n",
      "7468      False  False  False  False  False  False\n",
      "7469      False  False  False  False  False  False\n",
      "7470      False  False  False  False  False  False\n",
      "7471      False  False  False  False  False  False\n",
      "7472      False  False  False  False  False  False\n",
      "7473      False  False  False  False  False  False\n",
      "7474      False  False  False  False  False  False\n",
      "7475      False  False  False  False  False  False\n",
      "7476      False  False  False  False  False  False\n",
      "7477      False  False  False  False  False  False\n",
      "7478      False  False  False  False  False  False\n",
      "7479      False  False  False  False  False  False\n",
      "7480      False  False  False  False  False  False\n",
      "7481      False  False  False  False  False  False\n",
      "7482      False  False  False  False  False  False\n",
      "7483      False  False  False  False  False  False\n",
      "7484      False  False  False  False  False  False\n",
      "\n",
      "[7485 rows x 6 columns]\n"
     ]
    }
   ],
   "source": [
    "# use pandas methods to broadly examine the scope and values of the data\n",
    "print('data frame summary stats\\n', campaign.describe(),'\\n\\n')\n",
    "print('unique values for candidates\\n', campaign['Candidate'].unique(),'\\n\\n')\n",
    "print('number of times a candidate''s name appears\\n', campaign['Candidate'].value_counts(),'\\n\\n')\n",
    "print('and number of null values\\n', campaign.isnull())"
   ]
  },
  {
   "cell_type": "markdown",
   "metadata": {},
   "source": [
    "**QUESTION**:\n",
    "Name at least two issues seen using `describe`, `unique`, `value_counts`, and `isnull`. Why would each issue affect future analysis?\n",
    "Hint for analyzing `describe`: Which statistics would we expect to be the same for all columns, and are they actually the same? Which column would we expect 'count' to be different from 'unique', and are they?"
   ]
  },
  {
   "cell_type": "markdown",
   "metadata": {},
   "source": [
    "**ANSWER:**\n",
    "Count would only be different from unique for the candidate column, since the strings in the 'Text' column will presumably always be different. That's why I only did value counts for that one column. isnull returns a matrix so it is a bit hard to follow but I suppose I could have counted them instead of just getting the boolean values."
   ]
  },
  {
   "cell_type": "markdown",
   "metadata": {},
   "source": [
    "As you can see, there are a handful of null values in the 'Text' column. Null values can mess up calculations and need to be dealt with by filling them with a dummy value or deleting the row. Because the null values are for text, and because we're most interested in the text content, we'll drop the offending rows. How you deal with null values will vary on a project-by-project basis.\n"
   ]
  },
  {
   "cell_type": "code",
   "execution_count": 4,
   "metadata": {},
   "outputs": [
    {
     "data": {
      "text/plain": [
       "7361"
      ]
     },
     "execution_count": 4,
     "metadata": {},
     "output_type": "execute_result"
    }
   ],
   "source": [
    "# drop the null-valued rows with dropna\n",
    "campaign.dropna(axis=0, how='any', inplace=True)\n",
    "campaign['Text'].count()"
   ]
  },
  {
   "cell_type": "markdown",
   "metadata": {},
   "source": [
    "### Feature extraction\n",
    "Many of numpy and pandas' summary and aggregation methods are built for numerical data, not text. To better understand our data, we use **feature extraction** to create features from transformations of the input features. Some useful features for text would be:\n",
    "- the number of characters per text\n",
    "- the number of words per text\n",
    "- the number of sentences per text\n",
    "- the average length of words per text\n",
    "- the average length of sentences per text\n",
    "\n",
    "Since we're not focusing on data cleaning today (remember the 3/1 lab?), we've provided the code to add columns with lowercase text, word tokens, and sentence tokens that you might find useful. You may also want to revisit the pandas [str methods](https://pandas.pydata.org/pandas-docs/stable/text.html#method-summary).\n",
    "\n",
    "Note: During EDA, it is always best practice to clearly document what transformations you did, and to add transformed data in new columns rather than transforming the data in place. This will save you a lot of trouble if you need to refer to the original data in the future!"
   ]
  },
  {
   "cell_type": "code",
   "execution_count": 5,
   "metadata": {},
   "outputs": [
    {
     "data": {
      "text/html": [
       "<div>\n",
       "<style scoped>\n",
       "    .dataframe tbody tr th:only-of-type {\n",
       "        vertical-align: middle;\n",
       "    }\n",
       "\n",
       "    .dataframe tbody tr th {\n",
       "        vertical-align: top;\n",
       "    }\n",
       "\n",
       "    .dataframe thead th {\n",
       "        text-align: right;\n",
       "    }\n",
       "</style>\n",
       "<table border=\"1\" class=\"dataframe\">\n",
       "  <thead>\n",
       "    <tr style=\"text-align: right;\">\n",
       "      <th></th>\n",
       "      <th>Candidate</th>\n",
       "      <th>Party</th>\n",
       "      <th>Type</th>\n",
       "      <th>Date</th>\n",
       "      <th>Title</th>\n",
       "      <th>Text</th>\n",
       "      <th>lower_text</th>\n",
       "      <th>words</th>\n",
       "      <th>sentences</th>\n",
       "    </tr>\n",
       "  </thead>\n",
       "  <tbody>\n",
       "    <tr>\n",
       "      <th>0</th>\n",
       "      <td>Jeb Bush</td>\n",
       "      <td>R</td>\n",
       "      <td>speech</td>\n",
       "      <td>June 15, 2015</td>\n",
       "      <td>Remarks Announcing Candidacy for President at ...</td>\n",
       "      <td>Thank you all very much. I always feel welcome...</td>\n",
       "      <td>thank you all very much. i always feel welcome...</td>\n",
       "      <td>[thank, you, all, very, much, ., i, always, fe...</td>\n",
       "      <td>[thank you all very much., i always feel welco...</td>\n",
       "    </tr>\n",
       "    <tr>\n",
       "      <th>1</th>\n",
       "      <td>Jeb Bush</td>\n",
       "      <td>R</td>\n",
       "      <td>speech</td>\n",
       "      <td>July 30, 2015</td>\n",
       "      <td>Remarks to the National Urban League Conferenc...</td>\n",
       "      <td>Thank you all very much. I appreciate your hos...</td>\n",
       "      <td>thank you all very much. i appreciate your hos...</td>\n",
       "      <td>[thank, you, all, very, much, ., i, appreciate...</td>\n",
       "      <td>[thank you all very much., i appreciate your h...</td>\n",
       "    </tr>\n",
       "    <tr>\n",
       "      <th>2</th>\n",
       "      <td>Jeb Bush</td>\n",
       "      <td>R</td>\n",
       "      <td>speech</td>\n",
       "      <td>August 11, 2015</td>\n",
       "      <td>Remarks at the Ronald Reagan Presidential Libr...</td>\n",
       "      <td>Thank you very much. It's good to be with all ...</td>\n",
       "      <td>thank you very much. it's good to be with all ...</td>\n",
       "      <td>[thank, you, very, much, ., it, 's, good, to, ...</td>\n",
       "      <td>[thank you very much., it's good to be with al...</td>\n",
       "    </tr>\n",
       "    <tr>\n",
       "      <th>3</th>\n",
       "      <td>Jeb Bush</td>\n",
       "      <td>R</td>\n",
       "      <td>speech</td>\n",
       "      <td>September 9, 2015</td>\n",
       "      <td>Remarks in Garner, North Carolina</td>\n",
       "      <td>Thank you very much. I appreciate your hospita...</td>\n",
       "      <td>thank you very much. i appreciate your hospita...</td>\n",
       "      <td>[thank, you, very, much, ., i, appreciate, you...</td>\n",
       "      <td>[thank you very much., i appreciate your hospi...</td>\n",
       "    </tr>\n",
       "    <tr>\n",
       "      <th>4</th>\n",
       "      <td>Jeb Bush</td>\n",
       "      <td>R</td>\n",
       "      <td>speech</td>\n",
       "      <td>November 2, 2015</td>\n",
       "      <td>Remarks in Tampa, Florida</td>\n",
       "      <td>Thank you. It's great to be in Tampa with so m...</td>\n",
       "      <td>thank you. it's great to be in tampa with so m...</td>\n",
       "      <td>[thank, you, ., it, 's, great, to, be, in, tam...</td>\n",
       "      <td>[thank you., it's great to be in tampa with so...</td>\n",
       "    </tr>\n",
       "  </tbody>\n",
       "</table>\n",
       "</div>"
      ],
      "text/plain": [
       "  Candidate Party    Type               Date  \\\n",
       "0  Jeb Bush     R  speech      June 15, 2015   \n",
       "1  Jeb Bush     R  speech      July 30, 2015   \n",
       "2  Jeb Bush     R  speech    August 11, 2015   \n",
       "3  Jeb Bush     R  speech  September 9, 2015   \n",
       "4  Jeb Bush     R  speech   November 2, 2015   \n",
       "\n",
       "                                               Title  \\\n",
       "0  Remarks Announcing Candidacy for President at ...   \n",
       "1  Remarks to the National Urban League Conferenc...   \n",
       "2  Remarks at the Ronald Reagan Presidential Libr...   \n",
       "3                  Remarks in Garner, North Carolina   \n",
       "4                          Remarks in Tampa, Florida   \n",
       "\n",
       "                                                Text  \\\n",
       "0  Thank you all very much. I always feel welcome...   \n",
       "1  Thank you all very much. I appreciate your hos...   \n",
       "2  Thank you very much. It's good to be with all ...   \n",
       "3  Thank you very much. I appreciate your hospita...   \n",
       "4  Thank you. It's great to be in Tampa with so m...   \n",
       "\n",
       "                                          lower_text  \\\n",
       "0  thank you all very much. i always feel welcome...   \n",
       "1  thank you all very much. i appreciate your hos...   \n",
       "2  thank you very much. it's good to be with all ...   \n",
       "3  thank you very much. i appreciate your hospita...   \n",
       "4  thank you. it's great to be in tampa with so m...   \n",
       "\n",
       "                                               words  \\\n",
       "0  [thank, you, all, very, much, ., i, always, fe...   \n",
       "1  [thank, you, all, very, much, ., i, appreciate...   \n",
       "2  [thank, you, very, much, ., it, 's, good, to, ...   \n",
       "3  [thank, you, very, much, ., i, appreciate, you...   \n",
       "4  [thank, you, ., it, 's, great, to, be, in, tam...   \n",
       "\n",
       "                                           sentences  \n",
       "0  [thank you all very much., i always feel welco...  \n",
       "1  [thank you all very much., i appreciate your h...  \n",
       "2  [thank you very much., it's good to be with al...  \n",
       "3  [thank you very much., i appreciate your hospi...  \n",
       "4  [thank you., it's great to be in tampa with so...  "
      ]
     },
     "execution_count": 5,
     "metadata": {},
     "output_type": "execute_result"
    }
   ],
   "source": [
    "# columns with lowercase, word tokens, sentence tokens\n",
    "campaign['lower_text'] = campaign['Text'].str.lower()\n",
    "campaign['words'] = campaign['lower_text'].apply(nltk.word_tokenize)\n",
    "campaign['sentences'] = campaign['lower_text'].apply(nltk.sent_tokenize)\n",
    "\n",
    "campaign.head()"
   ]
  },
  {
   "cell_type": "code",
   "execution_count": 6,
   "metadata": {},
   "outputs": [
    {
     "data": {
      "text/plain": [
       "pandas.core.series.Series"
      ]
     },
     "execution_count": 6,
     "metadata": {},
     "output_type": "execute_result"
    }
   ],
   "source": [
    "type(campaign['words'])"
   ]
  },
  {
   "cell_type": "code",
   "execution_count": 7,
   "metadata": {},
   "outputs": [],
   "source": [
    "# extract features from the text data\n",
    "campaign['char_count'] = campaign['lower_text'].str.len()\n",
    "campaign['word_count'] = campaign['words'].str.len()\n",
    "campaign['sentence_count'] = campaign['sentences'].str.len()\n",
    "campaign['avg_word_length'] = campaign['char_count']/campaign['word_count']\n",
    "campaign['avg_sentence_length'] = campaign['char_count']/campaign['sentence_count']"
   ]
  },
  {
   "cell_type": "markdown",
   "metadata": {},
   "source": [
    "The 'Date' column currently stores dates as strings, which we can't easily compare on a graph. Fortunately, pandas has a **datetime** object that can be easily ordered. Add a column containing string dates that have been transformed into datetime objects. [There's a function](https://pandas.pydata.org/pandas-docs/stable/generated/pandas.to_datetime.html) that might be helpful here..."
   ]
  },
  {
   "cell_type": "code",
   "execution_count": 8,
   "metadata": {
    "scrolled": true
   },
   "outputs": [
    {
     "data": {
      "text/html": [
       "<div>\n",
       "<style scoped>\n",
       "    .dataframe tbody tr th:only-of-type {\n",
       "        vertical-align: middle;\n",
       "    }\n",
       "\n",
       "    .dataframe tbody tr th {\n",
       "        vertical-align: top;\n",
       "    }\n",
       "\n",
       "    .dataframe thead th {\n",
       "        text-align: right;\n",
       "    }\n",
       "</style>\n",
       "<table border=\"1\" class=\"dataframe\">\n",
       "  <thead>\n",
       "    <tr style=\"text-align: right;\">\n",
       "      <th></th>\n",
       "      <th>Candidate</th>\n",
       "      <th>Party</th>\n",
       "      <th>Type</th>\n",
       "      <th>Date</th>\n",
       "      <th>Title</th>\n",
       "      <th>Text</th>\n",
       "      <th>lower_text</th>\n",
       "      <th>words</th>\n",
       "      <th>sentences</th>\n",
       "      <th>char_count</th>\n",
       "      <th>word_count</th>\n",
       "      <th>sentence_count</th>\n",
       "      <th>avg_word_length</th>\n",
       "      <th>avg_sentence_length</th>\n",
       "      <th>datetime</th>\n",
       "    </tr>\n",
       "  </thead>\n",
       "  <tbody>\n",
       "    <tr>\n",
       "      <th>0</th>\n",
       "      <td>Jeb Bush</td>\n",
       "      <td>R</td>\n",
       "      <td>speech</td>\n",
       "      <td>June 15, 2015</td>\n",
       "      <td>Remarks Announcing Candidacy for President at ...</td>\n",
       "      <td>Thank you all very much. I always feel welcome...</td>\n",
       "      <td>thank you all very much. i always feel welcome...</td>\n",
       "      <td>[thank, you, all, very, much, ., i, always, fe...</td>\n",
       "      <td>[thank you all very much., i always feel welco...</td>\n",
       "      <td>12383</td>\n",
       "      <td>2338</td>\n",
       "      <td>47</td>\n",
       "      <td>5.296407</td>\n",
       "      <td>263.468085</td>\n",
       "      <td>2015-06-15</td>\n",
       "    </tr>\n",
       "    <tr>\n",
       "      <th>1</th>\n",
       "      <td>Jeb Bush</td>\n",
       "      <td>R</td>\n",
       "      <td>speech</td>\n",
       "      <td>July 30, 2015</td>\n",
       "      <td>Remarks to the National Urban League Conferenc...</td>\n",
       "      <td>Thank you all very much. I appreciate your hos...</td>\n",
       "      <td>thank you all very much. i appreciate your hos...</td>\n",
       "      <td>[thank, you, all, very, much, ., i, appreciate...</td>\n",
       "      <td>[thank you all very much., i appreciate your h...</td>\n",
       "      <td>14457</td>\n",
       "      <td>2867</td>\n",
       "      <td>126</td>\n",
       "      <td>5.042553</td>\n",
       "      <td>114.738095</td>\n",
       "      <td>2015-07-30</td>\n",
       "    </tr>\n",
       "    <tr>\n",
       "      <th>2</th>\n",
       "      <td>Jeb Bush</td>\n",
       "      <td>R</td>\n",
       "      <td>speech</td>\n",
       "      <td>August 11, 2015</td>\n",
       "      <td>Remarks at the Ronald Reagan Presidential Libr...</td>\n",
       "      <td>Thank you very much. It's good to be with all ...</td>\n",
       "      <td>thank you very much. it's good to be with all ...</td>\n",
       "      <td>[thank, you, very, much, ., it, 's, good, to, ...</td>\n",
       "      <td>[thank you very much., it's good to be with al...</td>\n",
       "      <td>21283</td>\n",
       "      <td>4061</td>\n",
       "      <td>132</td>\n",
       "      <td>5.240827</td>\n",
       "      <td>161.234848</td>\n",
       "      <td>2015-08-11</td>\n",
       "    </tr>\n",
       "    <tr>\n",
       "      <th>3</th>\n",
       "      <td>Jeb Bush</td>\n",
       "      <td>R</td>\n",
       "      <td>speech</td>\n",
       "      <td>September 9, 2015</td>\n",
       "      <td>Remarks in Garner, North Carolina</td>\n",
       "      <td>Thank you very much. I appreciate your hospita...</td>\n",
       "      <td>thank you very much. i appreciate your hospita...</td>\n",
       "      <td>[thank, you, very, much, ., i, appreciate, you...</td>\n",
       "      <td>[thank you very much., i appreciate your hospi...</td>\n",
       "      <td>10049</td>\n",
       "      <td>2030</td>\n",
       "      <td>92</td>\n",
       "      <td>4.950246</td>\n",
       "      <td>109.228261</td>\n",
       "      <td>2015-09-09</td>\n",
       "    </tr>\n",
       "    <tr>\n",
       "      <th>4</th>\n",
       "      <td>Jeb Bush</td>\n",
       "      <td>R</td>\n",
       "      <td>speech</td>\n",
       "      <td>November 2, 2015</td>\n",
       "      <td>Remarks in Tampa, Florida</td>\n",
       "      <td>Thank you. It's great to be in Tampa with so m...</td>\n",
       "      <td>thank you. it's great to be in tampa with so m...</td>\n",
       "      <td>[thank, you, ., it, 's, great, to, be, in, tam...</td>\n",
       "      <td>[thank you., it's great to be in tampa with so...</td>\n",
       "      <td>14189</td>\n",
       "      <td>2564</td>\n",
       "      <td>37</td>\n",
       "      <td>5.533931</td>\n",
       "      <td>383.486486</td>\n",
       "      <td>2015-11-02</td>\n",
       "    </tr>\n",
       "  </tbody>\n",
       "</table>\n",
       "</div>"
      ],
      "text/plain": [
       "  Candidate Party    Type               Date  \\\n",
       "0  Jeb Bush     R  speech      June 15, 2015   \n",
       "1  Jeb Bush     R  speech      July 30, 2015   \n",
       "2  Jeb Bush     R  speech    August 11, 2015   \n",
       "3  Jeb Bush     R  speech  September 9, 2015   \n",
       "4  Jeb Bush     R  speech   November 2, 2015   \n",
       "\n",
       "                                               Title  \\\n",
       "0  Remarks Announcing Candidacy for President at ...   \n",
       "1  Remarks to the National Urban League Conferenc...   \n",
       "2  Remarks at the Ronald Reagan Presidential Libr...   \n",
       "3                  Remarks in Garner, North Carolina   \n",
       "4                          Remarks in Tampa, Florida   \n",
       "\n",
       "                                                Text  \\\n",
       "0  Thank you all very much. I always feel welcome...   \n",
       "1  Thank you all very much. I appreciate your hos...   \n",
       "2  Thank you very much. It's good to be with all ...   \n",
       "3  Thank you very much. I appreciate your hospita...   \n",
       "4  Thank you. It's great to be in Tampa with so m...   \n",
       "\n",
       "                                          lower_text  \\\n",
       "0  thank you all very much. i always feel welcome...   \n",
       "1  thank you all very much. i appreciate your hos...   \n",
       "2  thank you very much. it's good to be with all ...   \n",
       "3  thank you very much. i appreciate your hospita...   \n",
       "4  thank you. it's great to be in tampa with so m...   \n",
       "\n",
       "                                               words  \\\n",
       "0  [thank, you, all, very, much, ., i, always, fe...   \n",
       "1  [thank, you, all, very, much, ., i, appreciate...   \n",
       "2  [thank, you, very, much, ., it, 's, good, to, ...   \n",
       "3  [thank, you, very, much, ., i, appreciate, you...   \n",
       "4  [thank, you, ., it, 's, great, to, be, in, tam...   \n",
       "\n",
       "                                           sentences  char_count  word_count  \\\n",
       "0  [thank you all very much., i always feel welco...       12383        2338   \n",
       "1  [thank you all very much., i appreciate your h...       14457        2867   \n",
       "2  [thank you very much., it's good to be with al...       21283        4061   \n",
       "3  [thank you very much., i appreciate your hospi...       10049        2030   \n",
       "4  [thank you., it's great to be in tampa with so...       14189        2564   \n",
       "\n",
       "   sentence_count  avg_word_length  avg_sentence_length   datetime  \n",
       "0              47         5.296407           263.468085 2015-06-15  \n",
       "1             126         5.042553           114.738095 2015-07-30  \n",
       "2             132         5.240827           161.234848 2015-08-11  \n",
       "3              92         4.950246           109.228261 2015-09-09  \n",
       "4              37         5.533931           383.486486 2015-11-02  "
      ]
     },
     "execution_count": 8,
     "metadata": {},
     "output_type": "execute_result"
    }
   ],
   "source": [
    "# convert the 'Date' column to type datetime\n",
    "campaign['datetime'] = pd.to_datetime(campaign['Date'])\n",
    "campaign.head()"
   ]
  },
  {
   "cell_type": "markdown",
   "metadata": {},
   "source": [
    "We also might be interested in seeing how candidates use particular words. Using a for loop, create a new column for each topic word containing the number of times the word is used in each text.\n",
    "\n",
    "Hint: take a look at pandas str methods"
   ]
  },
  {
   "cell_type": "code",
   "execution_count": 9,
   "metadata": {},
   "outputs": [],
   "source": [
    "# create list of possible topics\n",
    "topics = ['nuclear', 'peace', ' war',\n",
    "          'north korea', 'russia', 'terror', 'fake news', 'email',\n",
    "          ' poverty', ' human rights', ' abortion', ' refugee', ' immigration',\n",
    "          'equality', ' democracy', ' freedom', 'vote', 'energy', 'oil',  'coal',  ' income',\n",
    "          'economy', 'growth', 'inflation', 'climate change', 'security',\n",
    "          'cyber', 'trade', 'inequality', 'pollution', 'global warming',\n",
    "          'education', 'health', 'infrastructure', 'regulation', 'nutrition', 'transportation',\n",
    "          'violence', 'agriculture', 'crime', 'drugs', 'obesity',\n",
    "          'islam', 'housing', 'sustainable']\n",
    "\n",
    "\n",
    "for i in topics:    \n",
    "    campaign[i] = campaign['lower_text'].str.count(i)\n",
    "\n"
   ]
  },
  {
   "cell_type": "markdown",
   "metadata": {},
   "source": [
    "Now that we have numerical data, try using `describe()` again. What's changed now that there's numerical data? What else can you say about this data set?"
   ]
  },
  {
   "cell_type": "code",
   "execution_count": 10,
   "metadata": {},
   "outputs": [
    {
     "data": {
      "text/html": [
       "<div>\n",
       "<style scoped>\n",
       "    .dataframe tbody tr th:only-of-type {\n",
       "        vertical-align: middle;\n",
       "    }\n",
       "\n",
       "    .dataframe tbody tr th {\n",
       "        vertical-align: top;\n",
       "    }\n",
       "\n",
       "    .dataframe thead th {\n",
       "        text-align: right;\n",
       "    }\n",
       "</style>\n",
       "<table border=\"1\" class=\"dataframe\">\n",
       "  <thead>\n",
       "    <tr style=\"text-align: right;\">\n",
       "      <th></th>\n",
       "      <th>char_count</th>\n",
       "      <th>word_count</th>\n",
       "      <th>sentence_count</th>\n",
       "      <th>avg_word_length</th>\n",
       "      <th>avg_sentence_length</th>\n",
       "      <th>nuclear</th>\n",
       "      <th>peace</th>\n",
       "      <th>war</th>\n",
       "      <th>north korea</th>\n",
       "      <th>russia</th>\n",
       "      <th>...</th>\n",
       "      <th>nutrition</th>\n",
       "      <th>transportation</th>\n",
       "      <th>violence</th>\n",
       "      <th>agriculture</th>\n",
       "      <th>crime</th>\n",
       "      <th>drugs</th>\n",
       "      <th>obesity</th>\n",
       "      <th>islam</th>\n",
       "      <th>housing</th>\n",
       "      <th>sustainable</th>\n",
       "    </tr>\n",
       "  </thead>\n",
       "  <tbody>\n",
       "    <tr>\n",
       "      <th>count</th>\n",
       "      <td>7361.000000</td>\n",
       "      <td>7361.000000</td>\n",
       "      <td>7361.000000</td>\n",
       "      <td>7361.000000</td>\n",
       "      <td>7361.000000</td>\n",
       "      <td>7361.000000</td>\n",
       "      <td>7361.000000</td>\n",
       "      <td>7361.000000</td>\n",
       "      <td>7361.000000</td>\n",
       "      <td>7361.000000</td>\n",
       "      <td>...</td>\n",
       "      <td>7361.000000</td>\n",
       "      <td>7361.000000</td>\n",
       "      <td>7361.000000</td>\n",
       "      <td>7361.000000</td>\n",
       "      <td>7361.000000</td>\n",
       "      <td>7361.000000</td>\n",
       "      <td>7361.000000</td>\n",
       "      <td>7361.000000</td>\n",
       "      <td>7361.000000</td>\n",
       "      <td>7361.000000</td>\n",
       "    </tr>\n",
       "    <tr>\n",
       "      <th>mean</th>\n",
       "      <td>3142.044559</td>\n",
       "      <td>595.763755</td>\n",
       "      <td>21.988453</td>\n",
       "      <td>5.409715</td>\n",
       "      <td>183.356484</td>\n",
       "      <td>0.144274</td>\n",
       "      <td>0.088439</td>\n",
       "      <td>0.474528</td>\n",
       "      <td>0.019698</td>\n",
       "      <td>0.116017</td>\n",
       "      <td>...</td>\n",
       "      <td>0.005298</td>\n",
       "      <td>0.033284</td>\n",
       "      <td>0.088439</td>\n",
       "      <td>0.023366</td>\n",
       "      <td>0.083684</td>\n",
       "      <td>0.047140</td>\n",
       "      <td>0.002038</td>\n",
       "      <td>0.115338</td>\n",
       "      <td>0.101481</td>\n",
       "      <td>0.017117</td>\n",
       "    </tr>\n",
       "    <tr>\n",
       "      <th>std</th>\n",
       "      <td>5218.204517</td>\n",
       "      <td>1047.591396</td>\n",
       "      <td>48.881131</td>\n",
       "      <td>0.523390</td>\n",
       "      <td>200.463907</td>\n",
       "      <td>1.062502</td>\n",
       "      <td>0.728629</td>\n",
       "      <td>2.087992</td>\n",
       "      <td>0.368263</td>\n",
       "      <td>1.537614</td>\n",
       "      <td>...</td>\n",
       "      <td>0.092367</td>\n",
       "      <td>0.285721</td>\n",
       "      <td>0.566912</td>\n",
       "      <td>0.296717</td>\n",
       "      <td>0.823108</td>\n",
       "      <td>0.420378</td>\n",
       "      <td>0.050768</td>\n",
       "      <td>0.778366</td>\n",
       "      <td>0.743924</td>\n",
       "      <td>0.162288</td>\n",
       "    </tr>\n",
       "    <tr>\n",
       "      <th>min</th>\n",
       "      <td>3.000000</td>\n",
       "      <td>1.000000</td>\n",
       "      <td>1.000000</td>\n",
       "      <td>3.000000</td>\n",
       "      <td>3.000000</td>\n",
       "      <td>0.000000</td>\n",
       "      <td>0.000000</td>\n",
       "      <td>0.000000</td>\n",
       "      <td>0.000000</td>\n",
       "      <td>0.000000</td>\n",
       "      <td>...</td>\n",
       "      <td>0.000000</td>\n",
       "      <td>0.000000</td>\n",
       "      <td>0.000000</td>\n",
       "      <td>0.000000</td>\n",
       "      <td>0.000000</td>\n",
       "      <td>0.000000</td>\n",
       "      <td>0.000000</td>\n",
       "      <td>0.000000</td>\n",
       "      <td>0.000000</td>\n",
       "      <td>0.000000</td>\n",
       "    </tr>\n",
       "    <tr>\n",
       "      <th>25%</th>\n",
       "      <td>967.000000</td>\n",
       "      <td>180.000000</td>\n",
       "      <td>6.000000</td>\n",
       "      <td>5.134228</td>\n",
       "      <td>119.909091</td>\n",
       "      <td>0.000000</td>\n",
       "      <td>0.000000</td>\n",
       "      <td>0.000000</td>\n",
       "      <td>0.000000</td>\n",
       "      <td>0.000000</td>\n",
       "      <td>...</td>\n",
       "      <td>0.000000</td>\n",
       "      <td>0.000000</td>\n",
       "      <td>0.000000</td>\n",
       "      <td>0.000000</td>\n",
       "      <td>0.000000</td>\n",
       "      <td>0.000000</td>\n",
       "      <td>0.000000</td>\n",
       "      <td>0.000000</td>\n",
       "      <td>0.000000</td>\n",
       "      <td>0.000000</td>\n",
       "    </tr>\n",
       "    <tr>\n",
       "      <th>50%</th>\n",
       "      <td>1698.000000</td>\n",
       "      <td>313.000000</td>\n",
       "      <td>11.000000</td>\n",
       "      <td>5.407273</td>\n",
       "      <td>152.500000</td>\n",
       "      <td>0.000000</td>\n",
       "      <td>0.000000</td>\n",
       "      <td>0.000000</td>\n",
       "      <td>0.000000</td>\n",
       "      <td>0.000000</td>\n",
       "      <td>...</td>\n",
       "      <td>0.000000</td>\n",
       "      <td>0.000000</td>\n",
       "      <td>0.000000</td>\n",
       "      <td>0.000000</td>\n",
       "      <td>0.000000</td>\n",
       "      <td>0.000000</td>\n",
       "      <td>0.000000</td>\n",
       "      <td>0.000000</td>\n",
       "      <td>0.000000</td>\n",
       "      <td>0.000000</td>\n",
       "    </tr>\n",
       "    <tr>\n",
       "      <th>75%</th>\n",
       "      <td>2898.000000</td>\n",
       "      <td>533.000000</td>\n",
       "      <td>18.000000</td>\n",
       "      <td>5.651852</td>\n",
       "      <td>196.096774</td>\n",
       "      <td>0.000000</td>\n",
       "      <td>0.000000</td>\n",
       "      <td>0.000000</td>\n",
       "      <td>0.000000</td>\n",
       "      <td>0.000000</td>\n",
       "      <td>...</td>\n",
       "      <td>0.000000</td>\n",
       "      <td>0.000000</td>\n",
       "      <td>0.000000</td>\n",
       "      <td>0.000000</td>\n",
       "      <td>0.000000</td>\n",
       "      <td>0.000000</td>\n",
       "      <td>0.000000</td>\n",
       "      <td>0.000000</td>\n",
       "      <td>0.000000</td>\n",
       "      <td>0.000000</td>\n",
       "    </tr>\n",
       "    <tr>\n",
       "      <th>max</th>\n",
       "      <td>81556.000000</td>\n",
       "      <td>15966.000000</td>\n",
       "      <td>877.000000</td>\n",
       "      <td>23.000000</td>\n",
       "      <td>10880.000000</td>\n",
       "      <td>31.000000</td>\n",
       "      <td>29.000000</td>\n",
       "      <td>88.000000</td>\n",
       "      <td>22.000000</td>\n",
       "      <td>79.000000</td>\n",
       "      <td>...</td>\n",
       "      <td>4.000000</td>\n",
       "      <td>10.000000</td>\n",
       "      <td>16.000000</td>\n",
       "      <td>15.000000</td>\n",
       "      <td>54.000000</td>\n",
       "      <td>13.000000</td>\n",
       "      <td>2.000000</td>\n",
       "      <td>21.000000</td>\n",
       "      <td>22.000000</td>\n",
       "      <td>5.000000</td>\n",
       "    </tr>\n",
       "  </tbody>\n",
       "</table>\n",
       "<p>8 rows × 50 columns</p>\n",
       "</div>"
      ],
      "text/plain": [
       "         char_count    word_count  sentence_count  avg_word_length  \\\n",
       "count   7361.000000   7361.000000     7361.000000      7361.000000   \n",
       "mean    3142.044559    595.763755       21.988453         5.409715   \n",
       "std     5218.204517   1047.591396       48.881131         0.523390   \n",
       "min        3.000000      1.000000        1.000000         3.000000   \n",
       "25%      967.000000    180.000000        6.000000         5.134228   \n",
       "50%     1698.000000    313.000000       11.000000         5.407273   \n",
       "75%     2898.000000    533.000000       18.000000         5.651852   \n",
       "max    81556.000000  15966.000000      877.000000        23.000000   \n",
       "\n",
       "       avg_sentence_length      nuclear        peace          war  \\\n",
       "count          7361.000000  7361.000000  7361.000000  7361.000000   \n",
       "mean            183.356484     0.144274     0.088439     0.474528   \n",
       "std             200.463907     1.062502     0.728629     2.087992   \n",
       "min               3.000000     0.000000     0.000000     0.000000   \n",
       "25%             119.909091     0.000000     0.000000     0.000000   \n",
       "50%             152.500000     0.000000     0.000000     0.000000   \n",
       "75%             196.096774     0.000000     0.000000     0.000000   \n",
       "max           10880.000000    31.000000    29.000000    88.000000   \n",
       "\n",
       "       north korea       russia     ...         nutrition  transportation  \\\n",
       "count  7361.000000  7361.000000     ...       7361.000000     7361.000000   \n",
       "mean      0.019698     0.116017     ...          0.005298        0.033284   \n",
       "std       0.368263     1.537614     ...          0.092367        0.285721   \n",
       "min       0.000000     0.000000     ...          0.000000        0.000000   \n",
       "25%       0.000000     0.000000     ...          0.000000        0.000000   \n",
       "50%       0.000000     0.000000     ...          0.000000        0.000000   \n",
       "75%       0.000000     0.000000     ...          0.000000        0.000000   \n",
       "max      22.000000    79.000000     ...          4.000000       10.000000   \n",
       "\n",
       "          violence  agriculture        crime        drugs      obesity  \\\n",
       "count  7361.000000  7361.000000  7361.000000  7361.000000  7361.000000   \n",
       "mean      0.088439     0.023366     0.083684     0.047140     0.002038   \n",
       "std       0.566912     0.296717     0.823108     0.420378     0.050768   \n",
       "min       0.000000     0.000000     0.000000     0.000000     0.000000   \n",
       "25%       0.000000     0.000000     0.000000     0.000000     0.000000   \n",
       "50%       0.000000     0.000000     0.000000     0.000000     0.000000   \n",
       "75%       0.000000     0.000000     0.000000     0.000000     0.000000   \n",
       "max      16.000000    15.000000    54.000000    13.000000     2.000000   \n",
       "\n",
       "             islam      housing  sustainable  \n",
       "count  7361.000000  7361.000000  7361.000000  \n",
       "mean      0.115338     0.101481     0.017117  \n",
       "std       0.778366     0.743924     0.162288  \n",
       "min       0.000000     0.000000     0.000000  \n",
       "25%       0.000000     0.000000     0.000000  \n",
       "50%       0.000000     0.000000     0.000000  \n",
       "75%       0.000000     0.000000     0.000000  \n",
       "max      21.000000    22.000000     5.000000  \n",
       "\n",
       "[8 rows x 50 columns]"
      ]
     },
     "execution_count": 10,
     "metadata": {},
     "output_type": "execute_result"
    }
   ],
   "source": [
    "campaign.describe()"
   ]
  },
  {
   "cell_type": "markdown",
   "metadata": {},
   "source": [
    "### Now that there are numerical data we can tell something about the words that are used in campaign speeches (e.g., Russia seems to come up in the 2016 campaign speeches a lot more than North Korea), although I am not sure why the count summary is always the same as the number of documents in the corpus."
   ]
  },
  {
   "cell_type": "markdown",
   "metadata": {},
   "source": [
    "## 2. EDA and Visualization <a id='section 2'></a>"
   ]
  },
  {
   "cell_type": "markdown",
   "metadata": {},
   "source": [
    "> \"The greatest value of a picture is when it *forces* us to notice what we never expected to see.\" - John W. Tukey, *Exploratory Data Analysis*\n",
    "\n",
    "Our data set contains almost 7500 records, which is difficult for our brains to parse as a whole. And, this would be considered a fairly small data set by most data science standards. Visualizations are an important tool for summarizing and understanding a data set.\n",
    "\n",
    "In EDA, we're often interested in a few characteristics:\n",
    "- where the data is centered (the mean or median)\n",
    "- how much the data varies from the mean (the spread/variance/standard deviation)\n",
    "- outliers (the min and max)\n",
    "\n",
    "The **box plot** is a useful way to visualize all of these things.\n",
    "<img src=\"https://upload.wikimedia.org/wikipedia/commons/thumb/d/d1/Elements_of_a_boxplot_en.svg/640px-Elements_of_a_boxplot_en.svg.png\" />\n",
    "The rectangular box of the plot holds 50% of the data points. The bottom of the box represents the point that is higher in value than 25% of the data (the lower quartile), and the top of the box represents the point that is higher than 75% of the data (the upper quartile). The whiskers extend on each side to the lowest data point that is within 1.5 times the length of the box (the inter-quartile range, or IQR). All points farther out are graphed as circles (the outliers).\n",
    "\n",
    "We can make box plots with `plt.boxplot`:"
   ]
  },
  {
   "cell_type": "code",
   "execution_count": 11,
   "metadata": {},
   "outputs": [
    {
     "data": {
      "image/png": "[encoded data removed]",
      "text/plain": [
       "<Figure size 432x288 with 1 Axes>"
      ]
     },
     "metadata": {},
     "output_type": "display_data"
    }
   ],
   "source": [
    "# make a box plot of the word counts\n",
    "plt.boxplot(campaign['word_count'])\n",
    "plt.ylabel('number words')\n",
    "plt.title('Word Counts');"
   ]
  },
  {
   "cell_type": "markdown",
   "metadata": {},
   "source": [
    "That's an awfully scrunched-up box plot! We can see that over half of our texts contain less than a thousand words, but many texts contain several times that. \n",
    "\n",
    "It may be helpful to sort out the different types of texts. Create a dataframe that only has type 'speech', and another dataframe that only has type 'statement'. Then, make a box plot for each. Compare the box plots for word counts to those for word length, sentence length, or character count."
   ]
  },
  {
   "cell_type": "code",
   "execution_count": 12,
   "metadata": {},
   "outputs": [
    {
     "name": "stdout",
     "output_type": "stream",
     "text": [
      "         char_count    word_count  sentence_count  avg_word_length  \\\n",
      "count    430.000000    430.000000      430.000000       430.000000   \n",
      "mean   17210.469767   3495.234884      151.216279         4.973607   \n",
      "std    11611.828043   2433.410064      136.046774         0.331227   \n",
      "min       25.000000      6.000000        1.000000         4.166667   \n",
      "25%     9651.750000   1924.500000       59.000000         4.722641   \n",
      "50%    14269.500000   2808.000000      112.000000         4.882661   \n",
      "75%    22285.000000   4607.000000      205.750000         5.204049   \n",
      "max    81556.000000  15966.000000      877.000000         6.118762   \n",
      "\n",
      "       avg_sentence_length     nuclear       peace         war  north korea  \\\n",
      "count           430.000000  430.000000  430.000000  430.000000   430.000000   \n",
      "mean            163.079812    0.788372    0.667442    2.781395     0.113953   \n",
      "std             221.459005    2.607923    1.820272    4.139595     0.653868   \n",
      "min              25.000000    0.000000    0.000000    0.000000     0.000000   \n",
      "25%              96.240576    0.000000    0.000000    0.000000     0.000000   \n",
      "50%             113.453601    0.000000    0.000000    1.000000     0.000000   \n",
      "75%             160.533436    0.000000    1.000000    4.000000     0.000000   \n",
      "max            3940.333333   31.000000   21.000000   31.000000    10.000000   \n",
      "\n",
      "           russia     ...        nutrition  transportation    violence  \\\n",
      "count  430.000000     ...       430.000000      430.000000  430.000000   \n",
      "mean     0.625581     ...         0.030233        0.090698    0.504651   \n",
      "std      2.888252     ...         0.196751        0.446334    1.121407   \n",
      "min      0.000000     ...         0.000000        0.000000    0.000000   \n",
      "25%      0.000000     ...         0.000000        0.000000    0.000000   \n",
      "50%      0.000000     ...         0.000000        0.000000    0.000000   \n",
      "75%      0.000000     ...         0.000000        0.000000    1.000000   \n",
      "max     45.000000     ...         2.000000        7.000000   11.000000   \n",
      "\n",
      "       agriculture       crime       drugs     obesity       islam  \\\n",
      "count   430.000000  430.000000  430.000000  430.000000  430.000000   \n",
      "mean      0.034884    0.639535    0.444186    0.018605    0.590698   \n",
      "std       0.411027    1.521507    1.325877    0.166208    1.928780   \n",
      "min       0.000000    0.000000    0.000000    0.000000    0.000000   \n",
      "25%       0.000000    0.000000    0.000000    0.000000    0.000000   \n",
      "50%       0.000000    0.000000    0.000000    0.000000    0.000000   \n",
      "75%       0.000000    1.000000    0.000000    0.000000    0.000000   \n",
      "max       8.000000   13.000000   13.000000    2.000000   21.000000   \n",
      "\n",
      "          housing  sustainable  \n",
      "count  430.000000   430.000000  \n",
      "mean     0.500000     0.111628  \n",
      "std      2.002039     0.444185  \n",
      "min      0.000000     0.000000  \n",
      "25%      0.000000     0.000000  \n",
      "50%      0.000000     0.000000  \n",
      "75%      0.000000     0.000000  \n",
      "max     22.000000     5.000000  \n",
      "\n",
      "[8 rows x 50 columns]\n"
     ]
    },
    {
     "data": {
      "text/plain": [
       "Text(0.5,1,'Word Counts for Legit Speeches')"
      ]
     },
     "execution_count": 12,
     "metadata": {},
     "output_type": "execute_result"
    },
    {
     "data": {
      "image/png": "[encoded data removed]",
      "text/plain": [
       "<Figure size 432x288 with 1 Axes>"
      ]
     },
     "metadata": {},
     "output_type": "display_data"
    }
   ],
   "source": [
    "# filter out everything except speeches\n",
    "speeches = campaign[campaign['Type'] == 'speech']  \n",
    "# this seems super sloppy with group by index; shouldn't there be a method like .groupby or .filter or something?\n",
    "print(speeches.describe())\n",
    "# make a box plot\n",
    "plt.boxplot(speeches['word_count'].values)\n",
    "plt.ylabel('number words')\n",
    "plt.title('Word Counts for Legit Speeches')"
   ]
  },
  {
   "cell_type": "code",
   "execution_count": 13,
   "metadata": {},
   "outputs": [
    {
     "name": "stdout",
     "output_type": "stream",
     "text": [
      "type for statements[word_count].values <class 'numpy.ndarray'>\n"
     ]
    },
    {
     "data": {
      "image/png": "[encoded data removed]",
      "text/plain": [
       "<Figure size 432x288 with 1 Axes>"
      ]
     },
     "metadata": {},
     "output_type": "display_data"
    }
   ],
   "source": [
    "# filter out everything but statements\n",
    "statements = campaign[campaign['Type'] == 'statement'] \n",
    "# print(statements.describe())\n",
    "# print('datatype for statements[Type]', type(statements['Type']))\n",
    "# make a box plot\n",
    "plt.boxplot(statements['word_count'].values)\n",
    "# Ok, why do I need to cast these as numeric values?\n",
    "plt.ylabel('number words')\n",
    "plt.title('Word Counts for Mere Statements')\n",
    "print('type for statements[word_count].values', type(statements['word_count'].values))"
   ]
  },
  {
   "cell_type": "markdown",
   "metadata": {},
   "source": [
    "__QUESTION__: what can you conclude about the text data from these box plots?"
   ]
  },
  {
   "cell_type": "markdown",
   "metadata": {},
   "source": [
    "**ANSWER**: <b> That text data is usually tightly distributed, but that there is also a long right hand tail of stem-winder speeches and long press statements.</b> <p> <b><i>Someone needs to explain why the word_count variable for the statements dataframe has to be turned into a numpy array, but that was not necessary for word_count for speeches."
   ]
  },
  {
   "cell_type": "markdown",
   "metadata": {},
   "source": [
    "Box plots pack a lot of information, but the plots can get muddy if many data points overlap. A **Violin plot** is similar to a box plot, but it also shows the distribution of the data at different values (you can think of it like a smoothed histogram).\n",
    "\n",
    "Look at the word counts, word lengths, and other features using `plt.violinplot`."
   ]
  },
  {
   "cell_type": "code",
   "execution_count": 14,
   "metadata": {},
   "outputs": [
    {
     "data": {
      "text/plain": [
       "Text(0.5,1,'Word Counts for Legit Speeches')"
      ]
     },
     "execution_count": 14,
     "metadata": {},
     "output_type": "execute_result"
    },
    {
     "data": {
      "image/png": "[encoded data removed]",
      "text/plain": [
       "<Figure size 432x288 with 1 Axes>"
      ]
     },
     "metadata": {},
     "output_type": "display_data"
    }
   ],
   "source": [
    "# make a violin plot\n",
    "plt.violinplot(speeches['word_count'])\n",
    "plt.ylabel('number words')\n",
    "plt.title('Word Counts for Legit Speeches')"
   ]
  },
  {
   "cell_type": "code",
   "execution_count": 15,
   "metadata": {},
   "outputs": [
    {
     "data": {
      "text/plain": [
       "Text(0.5,1,'Sentence Counts for Campaign Speeches')"
      ]
     },
     "execution_count": 15,
     "metadata": {},
     "output_type": "execute_result"
    },
    {
     "data": {
      "image/png": "[encoded data removed]",
      "text/plain": [
       "<Figure size 432x288 with 1 Axes>"
      ]
     },
     "metadata": {},
     "output_type": "display_data"
    }
   ],
   "source": [
    "# make another violin plot\n",
    "plt.violinplot(speeches['sentence_count'].values)\n",
    "plt.ylabel('number of sentences')\n",
    "plt.title('Sentence Counts for Campaign Speeches')"
   ]
  },
  {
   "cell_type": "markdown",
   "metadata": {},
   "source": [
    "**QUESTION**: What can you see with the violin plot that you couldn't with the box plot?"
   ]
  },
  {
   "cell_type": "markdown",
   "metadata": {},
   "source": [
    "**SOLUTION**: <b>You can better see what the tails of the distribution look like, but if you are used to box-and-whisker plots, it does not tell you much more. Also, the x-axis is not easy to interpret; you are looking at the probability density on both sides of the \"1\" but the x-axis itself is a standardized number that has no meaning by itself. That may be a reason why we still like box-and-whisker plots."
   ]
  },
  {
   "cell_type": "markdown",
   "metadata": {},
   "source": [
    "Unexpected or interesting information may also be found by looking at multiple features together, or by looking at subgroups. \n",
    "\n",
    "If you need a refresher on grouping in pandas:\n",
    "\n",
    "1. select the features you need using `.loc[<rows>, <columns>]`. The rows and columns can be a single label, a list of labels, or a range (e.g. `'word_count':` would give you all columns to the right of and including `word_count`).\n",
    "2. call `.groupby` with the label of the feature you want to group by\n",
    "3. call the function you want to use to aggregate the values in each group (e.g. `sum()`, `min()`, `max()`, `mean()`...)\n",
    "\n",
    "For example, here's a bar plot of the average word count in each candidate's speeches using groupby:\n"
   ]
  },
  {
   "cell_type": "code",
   "execution_count": 16,
   "metadata": {},
   "outputs": [
    {
     "data": {
      "image/png": "[encoded data removed]",
      "text/plain": [
       "<Figure size 864x360 with 1 Axes>"
      ]
     },
     "metadata": {},
     "output_type": "display_data"
    }
   ],
   "source": [
    "by_candidate = (speeches.loc[:, ['Candidate', 'inequality', 'russia', 'nuclear']] # select all rows, only the columns needed\n",
    "            .groupby('Candidate') # make groups of word counts for each candidate\n",
    "            .mean()) # take the average of each group of candidate's word counts\n",
    "\n",
    "by_candidate.plot.bar(figsize=(12, 5)); # make a bar plot; figsize embiggens it\n"
   ]
  },
  {
   "cell_type": "markdown",
   "metadata": {},
   "source": [
    "In the cells below, try creating:\n",
    "- a line plot showing the average number of times the word 'email' was used on each date (use groupby on the `datetime` column, not `Date`)\n",
    "- histograms showing the distribution of `word_length` for Democrats and Republicans\n",
    "- a scatter plot plotting the length of words against the length of sentences for speeches and statements\n",
    "#### note different results when using just speeches vs speeches & statements; speeches for Republicans is bimodal\n",
    "Refer to the [pyplot](https://matplotlib.org/tutorials/introductory/pyplot.html#sphx-glr-tutorials-introductory-pyplot-py) and [pandas dataframe plot](https://pandas.pydata.org/pandas-docs/stable/api.html#api-dataframe-plotting) docs as needed. Feel free to experiment with other groups or features!"
   ]
  },
  {
   "cell_type": "code",
   "execution_count": 17,
   "metadata": {},
   "outputs": [
    {
     "data": {
      "image/png": "[encoded data removed]",
      "text/plain": [
       "<Figure size 864x360 with 1 Axes>"
      ]
     },
     "metadata": {},
     "output_type": "display_data"
    }
   ],
   "source": [
    "by_date = (speeches.loc[:, ['email', 'datetime']] # select all rows, only the columns needed\n",
    "            .groupby('datetime') # make groups of word counts for each date\n",
    "            .mean()) # take the average of date's mention of email\n",
    "\n",
    "by_date.plot.line(figsize=(12, 5)); # make a line plot; figsize embiggens it"
   ]
  },
  {
   "cell_type": "markdown",
   "metadata": {},
   "source": [
    "### note that there are some dates way back in time, which are in error; those need to be filtered out"
   ]
  },
  {
   "cell_type": "code",
   "execution_count": 34,
   "metadata": {},
   "outputs": [
    {
     "name": "stdout",
     "output_type": "stream",
     "text": [
      "Democrats Average Word Length 4.902150077163282 AxesSubplot(0.125,0.125;0.775x0.755)\n",
      "Republicans Average Word Length 5.095397246930121 AxesSubplot(0.125,0.125;0.775x0.755)\n"
     ]
    },
    {
     "data": {
      "image/png": "[encoded data removed]",
      "text/plain": [
       "<Figure size 432x288 with 1 Axes>"
      ]
     },
     "metadata": {},
     "output_type": "display_data"
    },
    {
     "data": {
      "image/png": "[encoded data removed]",
      "text/plain": [
       "<Figure size 432x288 with 1 Axes>"
      ]
     },
     "metadata": {},
     "output_type": "display_data"
    }
   ],
   "source": [
    "# histograms showing the distribution of word_length for Democrats and Republicans speeches\n",
    "by_party = (speeches.loc[:, ['Party','avg_word_length']]) # select all rows, only the columns needed\n",
    "#campaign[campaign['Type'] == 'speech'] note that the solutions use all communications not just speeches              \n",
    "by_Dems = by_party[by_party['Party']=='D']\n",
    "by_Reeps = by_party[by_party['Party']=='R']\n",
    "\n",
    "print('Democrats Average Word Length--Speeches', by_Dems['avg_word_length'].mean(), by_Dems.plot.hist()) # make a Dem histogram \n",
    "print('Republicans Average Word Length--Speeches', by_Reeps['avg_word_length'].mean(), by_Reeps.plot.hist()) # make a Rep histogram "
   ]
  },
  {
   "cell_type": "markdown",
   "metadata": {},
   "source": [
    "### Interestingly, the Republicans are bimodal, and the Dems have a single mode right between the Republican modes.  Wonder if that is the influence of Trump?"
   ]
  },
  {
   "cell_type": "code",
   "execution_count": 35,
   "metadata": {},
   "outputs": [
    {
     "name": "stdout",
     "output_type": "stream",
     "text": [
      "Democrats Average Word Length--Statements 5.444210018471429 AxesSubplot(0.125,0.125;0.775x0.755)\n",
      "Republicans Average Word Length--Statements 5.4225407883473355 AxesSubplot(0.125,0.125;0.775x0.755)\n"
     ]
    },
    {
     "data": {
      "image/png": "[encoded data removed]",
      "text/plain": [
       "<Figure size 432x288 with 1 Axes>"
      ]
     },
     "metadata": {},
     "output_type": "display_data"
    },
    {
     "data": {
      "image/png": "[encoded data removed]",
      "text/plain": [
       "<Figure size 432x288 with 1 Axes>"
      ]
     },
     "metadata": {},
     "output_type": "display_data"
    }
   ],
   "source": [
    "#histograms showing the distribution of word_length for Democrats and Republicans\n",
    "by_party = (statements.loc[:, ['Party','avg_word_length']]) # select all rows, only the columns needed\n",
    "#this time we've used statements              \n",
    "by_Dems = by_party[by_party['Party']=='D']\n",
    "by_Reeps = by_party[by_party['Party']=='R']\n",
    "\n",
    "print('Democrats Average Word Length--Statements', by_Dems['avg_word_length'].mean(), by_Dems.plot.hist()) # make a Dem histogram \n",
    "print('Republicans Average Word Length--Statements',by_Reeps['avg_word_length'].mean(),by_Reeps.plot.hist()) # make a Rep histogram "
   ]
  },
  {
   "cell_type": "code",
   "execution_count": 19,
   "metadata": {},
   "outputs": [
    {
     "data": {
      "text/plain": [
       "<matplotlib.collections.PathCollection at 0x1c21e6d048>"
      ]
     },
     "execution_count": 19,
     "metadata": {},
     "output_type": "execute_result"
    },
    {
     "data": {
      "image/png": "[encoded data removed]",
      "text/plain": [
       "<Figure size 432x288 with 1 Axes>"
      ]
     },
     "metadata": {},
     "output_type": "display_data"
    }
   ],
   "source": [
    "#a scatter plot plotting the average word length against avg. sentence length for speeches, then for statements\n",
    "plt.scatter(speeches['avg_word_length'].values, speeches['avg_sentence_length'].values, s=4, c='red')\n",
    "plt.scatter(statements['avg_word_length'].values, statements['avg_sentence_length'].values, s=4, c='blue')"
   ]
  },
  {
   "cell_type": "markdown",
   "metadata": {},
   "source": [
    "**QUESTION**: What kinds of interesting/suspicious patterns or outliers did you see?\n",
    "Given what you now know about the data set, what kinds of hypotheses could we test on the data?"
   ]
  },
  {
   "cell_type": "markdown",
   "metadata": {},
   "source": [
    "**ANSWER**:<b>I don't see that much that is interesting in the scatterplot, except that speeches tend to have longer sentences, and there is an outlier with very long average sentences. That may have happened because of the transcription. I am interested in the bimodal pattern of speeches on the Republican side, especially since the mean word length is similar between the two parties. I suspect Trump is responsible for the lower mode, especially since he was around after the primaries to give speeches. That would be easy to test by separating out Trump speeches or by splitting the speeches by date."
   ]
  },
  {
   "cell_type": "markdown",
   "metadata": {},
   "source": [
    "## 3. Principal Components Analysis <a id='section 3'></a>"
   ]
  },
  {
   "cell_type": "code",
   "execution_count": null,
   "metadata": {},
   "outputs": [],
   "source": []
  },
  {
   "cell_type": "markdown",
   "metadata": {},
   "source": [
    "We've seen that with text analysis, feature matrices get very large, very fast (remember the tf-idf matrix?). To help us visualize high-dimensional data, we can use **Principal Component Analysis (PCA)**.\n",
    "\n",
    "The goal of PCA is to look for patterns in the data (i.e. correlations between variables). If two variables are strongly correlated, including just one of them in the model might represent the data about as good as if we had them both. PCA looks for variables that account for as much of the variance in the data as possible. This makes it great for **dimensionality reduction**: getting rid of features (dimensions) that don't explain much of the variance in the data so we can more easily manipulate and understand the data.\n",
    "\n",
    "Note: the details of PCA are hard to follow without some knowledge of linear algebra. If you're interested, check out a more in-depth example [here](https://plot.ly/ipython-notebooks/principal-component-analysis/).\n",
    "\n",
    "Let's explore variation between *different kinds of texts*: press releases, speeches, and statements. We'll start by using the features we extracted. First, create a table `X` that only has the columns with the extracted numerical features (no string or datetime values) and an array `y` with the classes we want to divide the data into (types of texts). "
   ]
  },
  {
   "cell_type": "code",
   "execution_count": 23,
   "metadata": {},
   "outputs": [],
   "source": [
    "# select only the columns with int or float values\n",
    "X = campaign.iloc[:,9:].drop('datetime',axis=1)\n",
    "# isn't there a more elegant way to do this by actually selecting columns that have data type int or float?\n",
    "\n",
    "# select the column with the type classification\n",
    "y = campaign['Type']"
   ]
  },
  {
   "cell_type": "markdown",
   "metadata": {},
   "source": [
    "Next, we want to standardize X so that all the features have the same scale (i.e. have an average value of 0 and a standard deviation of 1). Do this by creating a `StandardScaler()`, then run its `fit_transform` method on `X`. You should recognize the syntax from other scikit-learn models."
   ]
  },
  {
   "cell_type": "code",
   "execution_count": 24,
   "metadata": {},
   "outputs": [
    {
     "data": {
      "text/plain": [
       "array([[ 1.00013587,  0.9954368 ,  0.89851767, ...,  0.18318625,\n",
       "         0.24198399,  0.23631245],\n",
       "       [ 0.9954368 ,  1.00013587,  0.92677657, ...,  0.17962126,\n",
       "         0.2308311 ,  0.22318638],\n",
       "       [ 0.89851767,  0.92677657,  1.00013587, ...,  0.15573658,\n",
       "         0.20774027,  0.14612541],\n",
       "       ...,\n",
       "       [ 0.18318625,  0.17962126,  0.15573658, ...,  1.00013587,\n",
       "        -0.01036264,  0.03492686],\n",
       "       [ 0.24198399,  0.2308311 ,  0.20774027, ..., -0.01036264,\n",
       "         1.00013587,  0.05314123],\n",
       "       [ 0.23631245,  0.22318638,  0.14612541, ...,  0.03492686,\n",
       "         0.05314123,  1.00013587]])"
      ]
     },
     "execution_count": 24,
     "metadata": {},
     "output_type": "execute_result"
    }
   ],
   "source": [
    "# scale the data\n",
    "X_std = StandardScaler().fit_transform(X)\n",
    "\n",
    "# look at the covariance matrix\n",
    "np.cov(X_std.T)"
   ]
  },
  {
   "cell_type": "markdown",
   "metadata": {},
   "source": [
    "Finally, construct a `PCA` object (set `n_components=2` so we can graph it in two dimensions) and use its `fit_transform` method on your standardized X to get `Y_pca`: the principal components."
   ]
  },
  {
   "cell_type": "code",
   "execution_count": 25,
   "metadata": {},
   "outputs": [],
   "source": [
    "# initialize PCA\n",
    "components = PCA(n_components=2)\n",
    "\n",
    "# fit the standardized data\n",
    "Y_pca = components.fit_transform(X_std)"
   ]
  },
  {
   "cell_type": "code",
   "execution_count": 26,
   "metadata": {},
   "outputs": [
    {
     "data": {
      "image/png": "[encoded data removed]",
      "text/plain": [
       "<Figure size 606.875x504 with 1 Axes>"
      ]
     },
     "metadata": {},
     "output_type": "display_data"
    }
   ],
   "source": [
    "# create a dataframe with the principal components and the classes\n",
    "components = pd.DataFrame({'component 1': Y_pca[:, 0],\n",
    "                          'component 2': Y_pca[:, 1],\n",
    "                          'Type': y})\n",
    "\n",
    "colors = sns.xkcd_palette([\"windows blue\", \"amber\",  \"dusty orange\"])\n",
    "# plot\n",
    "sns.lmplot(x = 'component 1', y = 'component 2', data = components, hue='Type', legend=True, fit_reg=False, \n",
    "            hue_order=['press release', 'speech', 'statement'],palette=colors, scatter_kws={'s':5}, size=7);"
   ]
  },
  {
   "cell_type": "markdown",
   "metadata": {},
   "source": [
    "# Ran out of memory right here and bombs if I go any further on datahub"
   ]
  },
  {
   "cell_type": "markdown",
   "metadata": {},
   "source": [
    "We can see some separation between different types. This makes sense: we saw in our earlier graphs that different text types tended to have different count and length data. But can we do better?\n",
    "\n",
    "Let's revisit the tf-idf. As we saw Tuesday, a tf-idf is very high-dimensional, giving information about the frequency of a term in a document and across all documents for every possible term in every document. We can do dimensionality reduction on a tf-idf matrix, too, using **Latent Semantic Analysis (LSA)**. \n",
    "\n",
    "The code is very similar, except in this case we don't have to standardize the feature data. First, create a `TfidfVectorizer()` and fit the data in the 'lower_text' column of `campaign` to it to create the sparse tf-idf matrix.\n"
   ]
  },
  {
   "cell_type": "code",
   "execution_count": null,
   "metadata": {},
   "outputs": [],
   "source": [
    "# initialize TfidfVectorizer\n",
    "vectorizer = TfidfVectorizer()\n",
    "\n",
    "# Fit vectorizer\n",
    "X = vectorizer.fit_transform(campaign['lower_text'])\n"
   ]
  },
  {
   "cell_type": "markdown",
   "metadata": {},
   "source": [
    "Next, do the LSA by created a `TruncatedSVD` object (set `n_components=2`) and fit the sparse tf-idf matrix to it using `fit_transform` (see [documentation](http://scikit-learn.org/stable/modules/generated/sklearn.decomposition.TruncatedSVD.html)). You should get a matrix with two values for every text document."
   ]
  },
  {
   "cell_type": "code",
   "execution_count": null,
   "metadata": {},
   "outputs": [],
   "source": [
    "# initialize TruncatedSVD\n",
    "...\n",
    "\n",
    "# fit model\n",
    "Y_lsa = ..."
   ]
  },
  {
   "cell_type": "markdown",
   "metadata": {},
   "source": [
    "Now, run the next cell to plot the transformed data."
   ]
  },
  {
   "cell_type": "code",
   "execution_count": null,
   "metadata": {},
   "outputs": [],
   "source": [
    "# put components in a data frame\n",
    "lsa_components = pd.DataFrame({'component1': Y_lsa[:, 0],\n",
    "                          'component2': Y_lsa[:, 1],\n",
    "                          'Type': y})\n",
    "# plot\n",
    "sns.lmplot(x = 'component1', y = 'component2', data = lsa_components, hue='Type', legend=True, fit_reg=False, \n",
    "           hue_order=['press release', 'speech', 'statement'], palette=colors, scatter_kws={'s':5}, size=7);"
   ]
  },
  {
   "cell_type": "markdown",
   "metadata": {},
   "source": [
    "**QUESTION**: How does this plot compare to the one using PCA and extracted numerical features? What do they both tell you about the variance of the data?"
   ]
  },
  {
   "cell_type": "markdown",
   "metadata": {},
   "source": [
    "**ANSWER**:"
   ]
  },
  {
   "cell_type": "markdown",
   "metadata": {},
   "source": [
    "Two important notes on PCA:\n",
    "1. PCA can also be used while training a model for prediction or classification tasks. In that case, like during any model training, you would set aside your test data before doing PCA to avoid overfitting your model.\n",
    "2. The components output from PCA can't really be described as any specific input features like 'character length'. They're a set of linearly uncorrelated vectors; we can't break it down much more than than, unfortunately."
   ]
  },
  {
   "cell_type": "markdown",
   "metadata": {},
   "source": [
    "### Just for fun\n",
    "Can we do any better if we ask for 3 principal components instead of 2? Run the following cells to see. Does adding an extra dimension capture anything new about the data?"
   ]
  },
  {
   "cell_type": "code",
   "execution_count": null,
   "metadata": {},
   "outputs": [],
   "source": [
    "# Initialize models\n",
    "vectorizer3 = TfidfVectorizer()\n",
    "lsa3 = TruncatedSVD(n_components=3)\n",
    "\n",
    "# Fit models\n",
    "X3 = vectorizer3.fit_transform(campaign['lower_text'])\n",
    "Y_lsa3 = lsa3.fit_transform(X3)\n",
    "\n",
    "lsa_3components = pd.DataFrame({'component1': Y_lsa3[:, 0],\n",
    "                          'component2': Y_lsa3[:, 1],\n",
    "                            'component3': Y_lsa3[:, 2],\n",
    "                          'Type': y,\n",
    "                          'Candidate': campaign.Candidate})\n"
   ]
  },
  {
   "cell_type": "code",
   "execution_count": null,
   "metadata": {},
   "outputs": [],
   "source": [
    "# separate data by type\n",
    "state = lsa_3components[lsa_components.Type=='statement']\n",
    "press = lsa_3components[(lsa_components.Type=='press release')]\n",
    "speech = lsa_3components[(lsa_components.Type=='speech')]\n",
    "\n",
    "# 3d scatter plot the data\n",
    "trace_comp0 = go.Scatter3d(\n",
    "    x=state.component1,\n",
    "    y=state.component2,\n",
    "    z=state.component3,\n",
    "    mode='markers',\n",
    "    marker=dict(size=3,\n",
    "                line=dict(width=1),\n",
    "                color=\"#f0833a\"\n",
    "               ),\n",
    "    name='statement',\n",
    "    text=state.Candidate,\n",
    "    )\n",
    "\n",
    "trace_comp1 = go.Scatter3d(\n",
    "    x=press.component1,\n",
    "    y=press.component2,\n",
    "    z=press.component3,\n",
    "    mode='markers',\n",
    "    marker=dict(size=3,\n",
    "                line=dict(width=1),\n",
    "                color=\"#3778bf\"\n",
    "               ),\n",
    "    name='press release',\n",
    "    text=press.Candidate,\n",
    "    )\n",
    "\n",
    "trace_comp2 = go.Scatter3d(\n",
    "    x=speech.component1,\n",
    "    y=speech.component2,\n",
    "    z=speech.component3,\n",
    "    mode='markers',\n",
    "    marker=dict(size=3,\n",
    "                line=dict(width=1),\n",
    "                color=\"#feb308\"\n",
    "               ),\n",
    "    name='speech',\n",
    "    text=speech.Candidate,\n",
    "    )\n",
    "\n",
    "data_comp = [trace_comp0, trace_comp1, trace_comp2]\n",
    "layout_comp = go.Layout(\n",
    "    title='LSA',\n",
    "    hovermode='closest',\n",
    "\n",
    ")\n",
    "fig_comp = go.Figure(data=data_comp, layout=layout_comp)\n",
    "py.iplot(fig_comp, filename='LSA')"
   ]
  },
  {
   "cell_type": "markdown",
   "metadata": {},
   "source": [
    "---\n",
    "\n",
    "## Bibliography"
   ]
  },
  {
   "cell_type": "markdown",
   "metadata": {},
   "source": [
    "- Tukey, J. W. (1977). Exploratory data analysis\n",
    "- Behrens, J. T. (1997). Principles and procedures of exploratory data analysis. Psychological Methods, 2(2), 131."
   ]
  },
  {
   "cell_type": "markdown",
   "metadata": {},
   "source": [
    "---\n",
    "Notebook developed by: Keeley Takimoto\n",
    "\n",
    "Data Science Modules: http://data.berkeley.edu/education/modules\n"
   ]
  }
 ],
 "metadata": {
  "anaconda-cloud": {},
  "kernelspec": {
   "display_name": "Python 3",
   "language": "python",
   "name": "python3"
  },
  "language_info": {
   "codemirror_mode": {
    "name": "ipython",
    "version": 3
   },
   "file_extension": ".py",
   "mimetype": "text/x-python",
   "name": "python",
   "nbconvert_exporter": "python",
   "pygments_lexer": "ipython3",
   "version": "3.6.8"
  }
 },
 "nbformat": 4,
 "nbformat_minor": 1
}
