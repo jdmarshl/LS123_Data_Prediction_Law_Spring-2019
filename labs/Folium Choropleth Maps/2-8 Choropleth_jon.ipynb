{
 "cells": [
  {
   "cell_type": "code",
   "execution_count": null,
   "metadata": {},
   "outputs": [],
   "source": [
    "!pip install folium --upgrade"
   ]
  },
  {
   "cell_type": "code",
   "execution_count": null,
   "metadata": {},
   "outputs": [],
   "source": [
    "!pip install --upgrade pip"
   ]
  },
  {
   "cell_type": "code",
   "execution_count": null,
   "metadata": {},
   "outputs": [],
   "source": [
    "# from datascience import *\n",
    "%matplotlib inline\n",
    "import matplotlib.pyplot as plt\n",
    "import numpy as np\n",
    "import pandas as pd\n",
    "import folium\n",
    "import json\n",
    "import os\n",
    "from branca.colormap import linear\n",
    "import branca.colormap"
   ]
  },
  {
   "cell_type": "markdown",
   "metadata": {},
   "source": [
    "## Data"
   ]
  },
  {
   "cell_type": "markdown",
   "metadata": {},
   "source": [
    "We'll use the same \"us-states\" data from last time. For the choropleth, we'll use the \"US_Unemployment_Oct2012.csv\" dataset that contains unemployment rates by State for October 2012."
   ]
  },
  {
   "cell_type": "code",
   "execution_count": null,
   "metadata": {},
   "outputs": [],
   "source": [
    "# US States GeoJSON file\n",
    "us_states = os.path.join('data', 'us-states.json')\n",
    "geo_json_data = json.load(open(us_states))\n",
    "\n",
    "# Unemployment Data\n",
    "US_Unemployment_Oct2012 = os.path.join('data', 'US_Unemployment_Oct2012.csv')\n",
    "unemployment = pd.read_csv(US_Unemployment_Oct2012)"
   ]
  },
  {
   "cell_type": "markdown",
   "metadata": {},
   "source": [
    "## Base Map Review"
   ]
  },
  {
   "cell_type": "markdown",
   "metadata": {},
   "source": [
    "Plot a basemap of the United States, overlay it with the \"us_states\" GeoJSON file, and customize the color scheme."
   ]
  },
  {
   "cell_type": "code",
   "execution_count": null,
   "metadata": {},
   "outputs": [],
   "source": [
    "usa = [39.8283, -98.5795]\n",
    "m = folium.Map(\n",
    "    location=usa,\n",
    "    tiles='OpenStreetMap',\n",
    "    zoom_start=5\n",
    ")\n",
    "\n",
    "folium.GeoJson(\n",
    "    us_states,\n",
    "    name='geojson',\n",
    "    style_function=lambda feature: {\n",
    "        'fillColor': 'white',\n",
    "        'color': '#000000',\n",
    "        'weight': 2,\n",
    "        'dashArray': '1,1'\n",
    "    }\n",
    ").add_to(m)\n",
    "\n",
    "m"
   ]
  },
  {
   "cell_type": "markdown",
   "metadata": {},
   "source": [
    "## Choropleth"
   ]
  },
  {
   "cell_type": "markdown",
   "metadata": {},
   "source": [
    "Choropleths are a mapping technique that are popular among data scientists because they use color to display statistical information. Generally, choropleths shade geographic regions by intensity of some measure (in our case, unemployment rates)."
   ]
  },
  {
   "cell_type": "markdown",
   "metadata": {},
   "source": [
    "**Step 1**:\n",
    "\n",
    "Before we start shading states by their unemployment rates, we need to decide on a color scale! \n",
    "\n",
    "Consult the branca documentation, and scroll down to \"_schemes\": https://pypkg.com/pypi/branca/f/branca/colormap.py\n",
    "\n",
    "Then, create an object called colormap that uses \"linear. .scale()\" to create a sliding color scale that ranges from the minimum unemployment to the maximum."
   ]
  },
  {
   "cell_type": "code",
   "execution_count": null,
   "metadata": {},
   "outputs": [],
   "source": [
    "colormap = branca.colormap.LinearColormap(['yellow','red'],\n",
    "    vmin=unemployment.Unemployment.min(),\n",
    "    vmax=unemployment.Unemployment.max())\n",
    "\n",
    "colormap"
   ]
  },
  {
   "cell_type": "markdown",
   "metadata": {},
   "source": [
    "**Step 2**:\n",
    "\n",
    "Next, we need to convert our unemployment into a dictionary, which will be passed into the folium.GeoJson argument. Take a peak at the dataframe (note that we loaded it as a pandas dataframe instead of a datascience Table) by using the \"head\" method. Then, create an object called \"unemployment_dict\" by using the \"set_index\" method."
   ]
  },
  {
   "cell_type": "code",
   "execution_count": null,
   "metadata": {},
   "outputs": [],
   "source": [
    "unemployment.head()"
   ]
  },
  {
   "cell_type": "code",
   "execution_count": null,
   "metadata": {},
   "outputs": [],
   "source": [
    "unemployment_dict = unemployment.set_index('State')['Unemployment']\n",
    "type(unemployment_dict) #this is a Pandas series; is that a problem?\n",
    "unemployment_dict.head()"
   ]
  },
  {
   "cell_type": "markdown",
   "metadata": {},
   "source": [
    "**Step 3**:\n",
    "\n",
    "We're ready to plot! Use folium.Map to create a base map of the U.S., then folium.GeoJson to overlay the geo_json_data and add color. Hint: For the 'fillColor' argument, try something like this: \n",
    "\n",
    "'fillColor': colormap(unemployment_dict[feature['id']]"
   ]
  },
  {
   "cell_type": "code",
   "execution_count": null,
   "metadata": {},
   "outputs": [],
   "source": [
    "# create a chloropleth map of unemployement\n",
    "chloro = folium.Map(\n",
    "    location=usa,\n",
    "    tiles='OpenStreetMap',\n",
    "    zoom_start=5\n",
    ")\n",
    "\n",
    "folium.GeoJson(\n",
    "    us_states,\n",
    "    name='geojson',\n",
    "    style_function=lambda feature: {\n",
    "        'fillColor': colormap(unemployment_dict[feature['id']]), # why does this work? feature is the index?\n",
    "        'color': '#000000',\n",
    "        'weight': 2,\n",
    "        'dashArray': '1,1'\n",
    "    }\n",
    ").add_to(chloro)\n",
    "folium.LayerControl().add_to(chloro) #add a layers menu to top right of map\n",
    "chloro"
   ]
  },
  {
   "cell_type": "markdown",
   "metadata": {},
   "source": [
    "To wrap up, let's add a color legend. Use \"colormap.caption\" and \"colormap.add_to()\" to add the legend to the map, and call it again."
   ]
  },
  {
   "cell_type": "code",
   "execution_count": null,
   "metadata": {},
   "outputs": [],
   "source": [
    "# revise the colormap to add caption and legend\n",
    "colormap = branca.colormap.LinearColormap(['yellow','red'],\n",
    "    vmin=unemployment.Unemployment.min(),\n",
    "    vmax=unemployment.Unemployment.max(),\n",
    "    caption='Unemployment Rate by Color')\n",
    "colormap.add_to(chloro)  \n",
    "\n",
    "chloro"
   ]
  },
  {
   "cell_type": "markdown",
   "metadata": {},
   "source": [
    "#### Question 1"
   ]
  },
  {
   "cell_type": "markdown",
   "metadata": {},
   "source": [
    "What patterns do you notice in the variation in state unemployment rates in 2012? What do you think might help explain some of these differences?"
   ]
  },
  {
   "cell_type": "markdown",
   "metadata": {},
   "source": [
    "**Looks like the upper midwest has the lowest rates, while the more industrialized states as well as the south have higher rates. There are probably multiple explanations, like the fracking boom, recovery from recession, and the collapse of the housing market four years earlier.**"
   ]
  },
  {
   "cell_type": "markdown",
   "metadata": {},
   "source": [
    "## Fun With Colors"
   ]
  },
  {
   "cell_type": "markdown",
   "metadata": {},
   "source": [
    "Let's experiment with a few different options in the \"colormap\" module. First, try filling in the code below to customize a color pallette. Fill in three colors, and indices for the color breaks:"
   ]
  },
  {
   "cell_type": "code",
   "execution_count": null,
   "metadata": {},
   "outputs": [],
   "source": [
    "# so we need to make a step colormap with three colors\n",
    "colors = ['green', 'yellow', 'red']\n",
    "colormap = branca.colormap.StepColormap(\n",
    "                           colors, \n",
    "                           index=None, \n",
    "                           vmin=unemployment.Unemployment.min(),\n",
    "                           vmax=unemployment.Unemployment.max(), \n",
    "                           caption='Unemployment by Category')\n",
    "colormap"
   ]
  },
  {
   "cell_type": "markdown",
   "metadata": {},
   "source": [
    "Now replot the map of U.S. unemployment with this new color scheme!"
   ]
  },
  {
   "cell_type": "code",
   "execution_count": null,
   "metadata": {},
   "outputs": [],
   "source": [
    "step = folium.Map(\n",
    "    location=usa,\n",
    "    tiles='Stamen Toner',\n",
    "    zoom_start=4\n",
    ")\n",
    "\n",
    "folium.GeoJson(\n",
    "    us_states,\n",
    "    name='geojson',\n",
    "    style_function=lambda feature: {\n",
    "        'fillColor': colormap(unemployment_dict[feature['id']]), # why does this work? feature is the index?\n",
    "        'color': '#000000',\n",
    "        'weight': 2,\n",
    "        'dashArray': '1,1'\n",
    "    }\n",
    ").add_to(step)\n",
    "folium.LayerControl().add_to(step) #add a layers menu to top right of map\n",
    "step"
   ]
  },
  {
   "cell_type": "markdown",
   "metadata": {},
   "source": [
    "Use \"branca.colormap.linear\" to explore different color scale gradients. Experiment with choropleths that use different color schemes!"
   ]
  },
  {
   "cell_type": "code",
   "execution_count": null,
   "metadata": {},
   "outputs": [],
   "source": [
    "colormap = branca.colormap.LinearColormap(['violet','red'],\n",
    "    vmin=unemployment.Unemployment.min(),\n",
    "    vmax=unemployment.Unemployment.max(),\n",
    "    caption='Unemployment Rate by Color')\n",
    "colormap"
   ]
  },
  {
   "cell_type": "code",
   "execution_count": null,
   "metadata": {},
   "outputs": [],
   "source": [
    "chloro = folium.Map(\n",
    "    location=usa,\n",
    "    tiles='OpenStreetMap',\n",
    "    zoom_start=4\n",
    ")\n",
    "\n",
    "folium.GeoJson(\n",
    "    us_states,\n",
    "    name='geojson',\n",
    "    style_function=lambda feature: {\n",
    "        'fillColor': colormap(unemployment_dict[feature['id']]), # why does this work? feature is the index?\n",
    "        'color': '#000000',\n",
    "        'weight': 2,\n",
    "        'dashArray': '1,1'\n",
    "    }\n",
    ").add_to(chloro)\n",
    "folium.LayerControl().add_to(chloro) #add a layers menu to top right of map\n",
    "chloro"
   ]
  },
  {
   "cell_type": "markdown",
   "metadata": {},
   "source": [
    "Finally, let's create a map that allows you to highlight states and zoom in on them. Use the \"highlight\" argument to add this feature."
   ]
  },
  {
   "cell_type": "code",
   "execution_count": null,
   "metadata": {},
   "outputs": [],
   "source": [
    "# this cell is self-contained and does not call any variables defined above except us_states\n",
    "# it reads csv file into new dataframe \n",
    "# it also uses the chloropleth method in folium, rather than add it as style function definition\n",
    "# but the chloropleth method soon to be deprecated\n",
    "\n",
    "state_data = pd.read_csv(US_Unemployment_Oct2012)\n",
    "\n",
    "m = folium.Map(location=usa, zoom_start=4)\n",
    "m.choropleth(\n",
    "    geo_data=us_states,\n",
    "    data=state_data,\n",
    "    columns=['State', 'Unemployment'],\n",
    "    key_on='feature.id',\n",
    "    fill_color='YlGn',\n",
    "    fill_opacity=0.8,\n",
    "    line_opacity=0.2,\n",
    "    legend_name='Unemployment Rate (%)',\n",
    "    highlight=True\n",
    ")\n",
    "\n",
    "m"
   ]
  },
  {
   "cell_type": "code",
   "execution_count": null,
   "metadata": {},
   "outputs": [],
   "source": [
    "# same as above with current definition of choropleth as a class rather than a method\n",
    "state_data = pd.read_csv(US_Unemployment_Oct2012)\n",
    "\n",
    "m = folium.Map(location=usa, zoom_start=4)\n",
    "folium.Choropleth(\n",
    "    geo_data=us_states,\n",
    "    data=state_data,\n",
    "    columns=['State', 'Unemployment'],\n",
    "    key_on='feature.id',\n",
    "    fill_color='YlGn',\n",
    "    fill_opacity=0.8,\n",
    "    line_opacity=0.2,\n",
    "    legend_name='Unemployment Rate (%)',\n",
    "    highlight=True\n",
    ").add_to(m)\n",
    "\n",
    "m"
   ]
  },
  {
   "cell_type": "code",
   "execution_count": null,
   "metadata": {},
   "outputs": [],
   "source": []
  }
 ],
 "metadata": {
  "kernelspec": {
   "display_name": "Python 3",
   "language": "python",
   "name": "python3"
  },
  "language_info": {
   "codemirror_mode": {
    "name": "ipython",
    "version": 3
   },
   "file_extension": ".py",
   "mimetype": "text/x-python",
   "name": "python",
   "nbconvert_exporter": "python",
   "pygments_lexer": "ipython3",
   "version": "3.6.5"
  }
 },
 "nbformat": 4,
 "nbformat_minor": 2
}
