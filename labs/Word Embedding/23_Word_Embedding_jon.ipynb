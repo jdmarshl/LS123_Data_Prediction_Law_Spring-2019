{
 "cells": [
  {
   "cell_type": "markdown",
   "metadata": {},
   "source": [
    "# [LEGALST-190] Lab 4/5: Word2Vec & PCA\n",
    "\n",
    "In this lab, we will implement a Word2Vec algorithm on a sample of the UN General Debates dataset and conduct Principle Component Analysis of the resulting word embeddings. \n",
    "\n",
    "*Estimated Time: 45 minutes*\n",
    "\n",
    "### Table of Contents\n",
    "\n",
    "[Overview](#section context)<br>\n",
    "\n",
    "[The Data](#section data)<br>\n",
    "\n",
    "0- [Pre-Processing](#section 0)<br>\n",
    "\n",
    "1 - [Word2Vec](#section 1)<br>\n",
    "\n",
    "&nbsp;&nbsp;&nbsp;&nbsp;&nbsp;&nbsp; 1 - [Training](#subsection 1)\n",
    "\n",
    "&nbsp;&nbsp;&nbsp;&nbsp;&nbsp;&nbsp; 2 - [Embeddings](#subsection 2)\n",
    "\n",
    "2- [PCA of Word Embeddings](#section 2)<br>\n",
    "\n",
    "&nbsp;&nbsp;&nbsp;&nbsp;&nbsp;&nbsp; 1 - [Plot Word Vectors Using PCA](#subsection 3)\n",
    "\n",
    "\n",
    "__Dependencies:__"
   ]
  },
  {
   "cell_type": "code",
   "execution_count": 1,
   "metadata": {
    "scrolled": true
   },
   "outputs": [
    {
     "name": "stdout",
     "output_type": "stream",
     "text": [
      "Requirement already satisfied: nltk in /Users/jmarshall/anaconda3/lib/python3.6/site-packages (3.3)\n",
      "Requirement already satisfied: six in /Users/jmarshall/anaconda3/lib/python3.6/site-packages (from nltk) (1.11.0)\n",
      "Requirement already satisfied: gensim in /Users/jmarshall/anaconda3/lib/python3.6/site-packages (3.7.2)\n",
      "Requirement already satisfied: smart-open>=1.7.0 in /Users/jmarshall/anaconda3/lib/python3.6/site-packages (from gensim) (1.8.2)\n",
      "Requirement already satisfied: scipy>=0.18.1 in /Users/jmarshall/anaconda3/lib/python3.6/site-packages (from gensim) (1.1.0)\n",
      "Requirement already satisfied: numpy>=1.11.3 in /Users/jmarshall/anaconda3/lib/python3.6/site-packages (from gensim) (1.14.3)\n",
      "Requirement already satisfied: six>=1.5.0 in /Users/jmarshall/anaconda3/lib/python3.6/site-packages (from gensim) (1.11.0)\n",
      "Requirement already satisfied: requests in /Users/jmarshall/anaconda3/lib/python3.6/site-packages (from smart-open>=1.7.0->gensim) (2.18.4)\n",
      "Requirement already satisfied: bz2file in /Users/jmarshall/anaconda3/lib/python3.6/site-packages (from smart-open>=1.7.0->gensim) (0.98)\n",
      "Requirement already satisfied: boto3 in /Users/jmarshall/anaconda3/lib/python3.6/site-packages (from smart-open>=1.7.0->gensim) (1.9.134)\n",
      "Requirement already satisfied: boto>=2.32 in /Users/jmarshall/anaconda3/lib/python3.6/site-packages (from smart-open>=1.7.0->gensim) (2.48.0)\n",
      "Requirement already satisfied: chardet<3.1.0,>=3.0.2 in /Users/jmarshall/anaconda3/lib/python3.6/site-packages (from requests->smart-open>=1.7.0->gensim) (3.0.4)\n",
      "Requirement already satisfied: idna<2.7,>=2.5 in /Users/jmarshall/anaconda3/lib/python3.6/site-packages (from requests->smart-open>=1.7.0->gensim) (2.6)\n",
      "Requirement already satisfied: urllib3<1.23,>=1.21.1 in /Users/jmarshall/anaconda3/lib/python3.6/site-packages (from requests->smart-open>=1.7.0->gensim) (1.22)\n",
      "Requirement already satisfied: certifi>=2017.4.17 in /Users/jmarshall/anaconda3/lib/python3.6/site-packages (from requests->smart-open>=1.7.0->gensim) (2019.3.9)\n",
      "Requirement already satisfied: botocore<1.13.0,>=1.12.134 in /Users/jmarshall/anaconda3/lib/python3.6/site-packages (from boto3->smart-open>=1.7.0->gensim) (1.12.134)\n",
      "Requirement already satisfied: s3transfer<0.3.0,>=0.2.0 in /Users/jmarshall/anaconda3/lib/python3.6/site-packages (from boto3->smart-open>=1.7.0->gensim) (0.2.0)\n",
      "Requirement already satisfied: jmespath<1.0.0,>=0.7.1 in /Users/jmarshall/anaconda3/lib/python3.6/site-packages (from boto3->smart-open>=1.7.0->gensim) (0.9.4)\n",
      "Requirement already satisfied: python-dateutil<3.0.0,>=2.1; python_version >= \"2.7\" in /Users/jmarshall/anaconda3/lib/python3.6/site-packages (from botocore<1.13.0,>=1.12.134->boto3->smart-open>=1.7.0->gensim) (2.7.3)\n",
      "Requirement already satisfied: docutils>=0.10 in /Users/jmarshall/anaconda3/lib/python3.6/site-packages (from botocore<1.13.0,>=1.12.134->boto3->smart-open>=1.7.0->gensim) (0.14)\n"
     ]
    },
    {
     "name": "stderr",
     "output_type": "stream",
     "text": [
      "/Users/jmarshall/anaconda3/lib/python3.6/site-packages/smart_open/ssh.py:34: UserWarning: paramiko missing, opening SSH/SCP/SFTP paths will be disabled.  `pip install paramiko` to suppress\n",
      "  warnings.warn('paramiko missing, opening SSH/SCP/SFTP paths will be disabled.  `pip install paramiko` to suppress')\n"
     ]
    }
   ],
   "source": [
    "import pandas as pd\n",
    "import numpy as np\n",
    "\n",
    "!pip install nltk\n",
    "import nltk\n",
    "!pip install gensim\n",
    "import gensim\n",
    "import string\n",
    "\n",
    "import matplotlib.pyplot as plt\n",
    "%matplotlib inline\n",
    "\n",
    "from sklearn.preprocessing import StandardScaler\n",
    "from sklearn.decomposition import PCA\n",
    "\n",
    "\n",
    "#nltk.download() #to get the stopwords corpus"
   ]
  },
  {
   "cell_type": "markdown",
   "metadata": {},
   "source": [
    "## Overview <a id='context'></a>\n",
    "\n",
    "In this lab, we will be turning individual words in the data set into vectors, called \"Word Embeddings\". Word embedding generally attempts to identify semantic relationships between words by observing them in the context that the word appears. Word2Vec is the most prominent word embedding algorithm - this is what we will have practice using in today's lab.\n",
    "\n",
    "Imagine that each word in a novel has its meaning determined by the ones that surround it in a limited window. For example, in Moby Dick's first sentence, “me” is paired on either side by “Call” and “Ishmael.” After observing the windows around every word in the novel (or many novels), the computer will notice a pattern in which “me” falls between similar pairs of words to “her,” “him,” or “them.” Of course, the computer had gone through a similar process over the words “Call” and “Ishmael,” for which “me” is reciprocally part of their contexts.  This chaining of signifiers to one another mirrors some of humanists' most sophisticated interpretative frameworks of language.\n",
    "\n",
    "The two main flavors of Word2Vec are CBOW (Continuous Bag of Words) and Skip-Gram, which can be distinguished partly by their input and output during training. Skip-Gram takes a word of interest as its input (e.g. \"me\") and tries to learn how to predict its context words (\"Call\",\"Ishmael\"). CBOW does the opposite, taking the context words (\"Call\",\"Ishmael\") as a single input and tries to predict the word of interest (\"me\").\n",
    "\n",
    "In general, CBOW is is faster and does well with frequent words, while Skip-Gram potentially represents rare words better.\n",
    "\n",
    "### Word2Vec Features\n",
    "<ul>\n",
    "<li>`size`: Number of dimensions for word embedding model</li>\n",
    "<li>`window`: Number of context words to observe in each direction</li>\n",
    "<li>`min_count`: Minimum frequency for words included in model</li>\n",
    "<li>`sg` (Skip-Gram): '0' indicates CBOW model; '1' indicates Skip-Gram</li>\n",
    "<li>`alpha`: Learning rate (initial); prevents model from over-correcting, enables finer tuning</li>\n",
    "<li>`iterations`: Number of passes through dataset</li>\n",
    "<li>`batch_words`: Number of words to sample from data during each pass</li>\n",
    "</ul>\n",
    "\n",
    "For more detailed background on Word2Vec's mechanics, I suggest this  <a href=\"https://www.tensorflow.org/versions/r0.8/tutorials/word2vec/index.html\">brief tutorial</a> by Google, especially the sections \"Motivation,\" \"Skip-Gram Model,\" and \"Visualizing.\"\n",
    "\n",
    "We will be using the default value for most of our parameters."
   ]
  },
  {
   "cell_type": "markdown",
   "metadata": {},
   "source": [
    "## The Data <a id='data'></a>\n",
    "\n",
    "We will be working with the UN General Debates data set that contains data from years __2013 and up__. Run the following code block to load the `un-general-debates-2013up` csv into the notebook as `un`:"
   ]
  },
  {
   "cell_type": "code",
   "execution_count": 2,
   "metadata": {},
   "outputs": [
    {
     "data": {
      "text/html": [
       "<div>\n",
       "<style scoped>\n",
       "    .dataframe tbody tr th:only-of-type {\n",
       "        vertical-align: middle;\n",
       "    }\n",
       "\n",
       "    .dataframe tbody tr th {\n",
       "        vertical-align: top;\n",
       "    }\n",
       "\n",
       "    .dataframe thead th {\n",
       "        text-align: right;\n",
       "    }\n",
       "</style>\n",
       "<table border=\"1\" class=\"dataframe\">\n",
       "  <thead>\n",
       "    <tr style=\"text-align: right;\">\n",
       "      <th></th>\n",
       "      <th>Unnamed: 0</th>\n",
       "      <th>session</th>\n",
       "      <th>year</th>\n",
       "      <th>country</th>\n",
       "      <th>text</th>\n",
       "    </tr>\n",
       "  </thead>\n",
       "  <tbody>\n",
       "    <tr>\n",
       "      <th>0</th>\n",
       "      <td>223</td>\n",
       "      <td>68</td>\n",
       "      <td>2013</td>\n",
       "      <td>SUR</td>\n",
       "      <td>Allow me at the outset, on \\nbehalf of the Pre...</td>\n",
       "    </tr>\n",
       "    <tr>\n",
       "      <th>1</th>\n",
       "      <td>224</td>\n",
       "      <td>68</td>\n",
       "      <td>2013</td>\n",
       "      <td>KOR</td>\n",
       "      <td>May I first \\ncongratulate you, Sir, on your e...</td>\n",
       "    </tr>\n",
       "    <tr>\n",
       "      <th>2</th>\n",
       "      <td>225</td>\n",
       "      <td>68</td>\n",
       "      <td>2013</td>\n",
       "      <td>GNB</td>\n",
       "      <td>I would like to begin \\nmy statement by congra...</td>\n",
       "    </tr>\n",
       "    <tr>\n",
       "      <th>3</th>\n",
       "      <td>226</td>\n",
       "      <td>68</td>\n",
       "      <td>2013</td>\n",
       "      <td>BGD</td>\n",
       "      <td>I congratulate \\nPresident Ashe very warmly on...</td>\n",
       "    </tr>\n",
       "    <tr>\n",
       "      <th>4</th>\n",
       "      <td>227</td>\n",
       "      <td>68</td>\n",
       "      <td>2013</td>\n",
       "      <td>BIH</td>\n",
       "      <td>First of all, I would like to \\ncongratulate y...</td>\n",
       "    </tr>\n",
       "  </tbody>\n",
       "</table>\n",
       "</div>"
      ],
      "text/plain": [
       "   Unnamed: 0  session  year country  \\\n",
       "0         223       68  2013     SUR   \n",
       "1         224       68  2013     KOR   \n",
       "2         225       68  2013     GNB   \n",
       "3         226       68  2013     BGD   \n",
       "4         227       68  2013     BIH   \n",
       "\n",
       "                                                text  \n",
       "0  Allow me at the outset, on \\nbehalf of the Pre...  \n",
       "1  May I first \\ncongratulate you, Sir, on your e...  \n",
       "2  I would like to begin \\nmy statement by congra...  \n",
       "3  I congratulate \\nPresident Ashe very warmly on...  \n",
       "4  First of all, I would like to \\ncongratulate y...  "
      ]
     },
     "execution_count": 2,
     "metadata": {},
     "output_type": "execute_result"
    }
   ],
   "source": [
    "un = pd.read_csv('data/un-general-debates-2013up.csv')\n",
    "un.head()"
   ]
  },
  {
   "cell_type": "markdown",
   "metadata": {},
   "source": [
    "---\n",
    "\n",
    "# Pre-Processing <a id='section 0'></a>\n",
    "\n",
    "Word2Vec learns about the relationships among words by observing them in context. We'll need to tokenize the words in a sample of texts from the dataframe while retaining sentence boundaries. \n",
    "\n",
    "Just as we did in the Pre-Processing lab about a month ago (3/1), we'll use the Natural Language Toolkit (NLTK) to tokenize a our sample text. Note that each text of each row in the `un` dataframe is in the form of a single string. Because we want to work with a larger sample than just one instance of a text, we will first __combine the first 300 strings of texts in the data frame__ to create one long string of text, which we will simply call `text`."
   ]
  },
  {
   "cell_type": "code",
   "execution_count": 3,
   "metadata": {},
   "outputs": [],
   "source": [
    "#Use a for loop to combine 300 strings of texts in the `un` dataframe into one string.\n",
    "text = ''\n",
    "for i in range(300):\n",
    "    text = text + un['text'][i] + ' '"
   ]
  },
  {
   "cell_type": "markdown",
   "metadata": {
    "collapsed": true
   },
   "source": [
    "#SOLUTION\n",
    "text = ''\n",
    "for i in range(300):\n",
    "    text += un['text'][i] + ' '"
   ]
  },
  {
   "cell_type": "markdown",
   "metadata": {},
   "source": [
    "Next, get the individual sentences from `text`. Show the first three sentences.\n",
    "\n",
    "*Hint*: the `sent_tokenize` method of nltk will be useful here. <b>is it a method or a function?</b>"
   ]
  },
  {
   "cell_type": "code",
   "execution_count": 4,
   "metadata": {},
   "outputs": [
    {
     "name": "stdout",
     "output_type": "stream",
     "text": [
      "['Allow me at the outset, on \\nbehalf of the President of the Republic of Suriname, His \\nExcellency Mr. Desiré Delano Bouterse, and the people \\nand the Government of Suriname, to congratulate \\nyou, Mr. President, on your well-deserved election.', 'With your election you bring honour to your country, \\nAntigua and Barbuda, and to the Caribbean.', 'With your \\nbackground in sustainable development, you are well \\nprepared to lead us in our deliberations on this year’s \\ntheme, “The post-2015 development agenda: setting the \\nstage”.']\n"
     ]
    }
   ],
   "source": [
    "# create sentence tokens\n",
    "sents = nltk.sent_tokenize(text)\n",
    "print(sents[:3])"
   ]
  },
  {
   "cell_type": "markdown",
   "metadata": {
    "collapsed": true
   },
   "source": [
    "#SOLUTION\n",
    "sents = nltk.sent_tokenize(text)\n",
    "sents[:3]"
   ]
  },
  {
   "cell_type": "markdown",
   "metadata": {},
   "source": [
    "Lowercase all words in each sentence, and make sure we only keep nonempty sentences:\n",
    "\n",
    "*Hint*: You need only one list comprehension to accomplish this."
   ]
  },
  {
   "cell_type": "code",
   "execution_count": 5,
   "metadata": {},
   "outputs": [
    {
     "data": {
      "text/plain": [
       "['allow me at the outset, on \\nbehalf of the president of the republic of suriname, his \\nexcellency mr. desiré delano bouterse, and the people \\nand the government of suriname, to congratulate \\nyou, mr. president, on your well-deserved election.',\n",
       " 'with your election you bring honour to your country, \\nantigua and barbuda, and to the caribbean.',\n",
       " 'with your \\nbackground in sustainable development, you are well \\nprepared to lead us in our deliberations on this year’s \\ntheme, “the post-2015 development agenda: setting the \\nstage”.']"
      ]
     },
     "execution_count": 5,
     "metadata": {},
     "output_type": "execute_result"
    }
   ],
   "source": [
    "#filter out empty sentences\n",
    "nonempty_sents = []\n",
    "for sentence in sents:\n",
    "    if sentence != []:\n",
    "        nonempty_sents.append(sentence.lower())\n",
    "nonempty_sents[:3]"
   ]
  },
  {
   "cell_type": "markdown",
   "metadata": {
    "collapsed": true
   },
   "source": [
    "#SOLUTION\n",
    "nonempty_sents = [sentence.lower() for sentence in sents if sentence != []]"
   ]
  },
  {
   "cell_type": "markdown",
   "metadata": {},
   "source": [
    "Now for each sentence in `nonempty_sents`, return a list of words without punctuation or stopwords. Set this to `tokens`. This should result in a list of lists, each list representing a sentence that has been tokenized. Show the first three tokenized sentences.\n",
    "\n",
    "*Hint*: In the Pre-Processing Lab, we defined the function `rem_punc_stop` that does exactly this. How might we apply this to every sentence of `text`? "
   ]
  },
  {
   "cell_type": "code",
   "execution_count": 6,
   "metadata": {},
   "outputs": [],
   "source": [
    "#redefine rem_punc_stop here:\n",
    "\n",
    "def rem_punc_stop(text):\n",
    "    \n",
    "    from string import punctuation\n",
    "    from nltk.corpus import stopwords\n",
    "    \n",
    "    stop_words = stopwords.words(\"english\") #a list of English stop words\n",
    "\n",
    "    for char in punctuation:\n",
    "        text = text.replace(char,'') #get rid of all punctuation marks by iterating with replace (easier)\n",
    "        \n",
    "    toks = nltk.word_tokenize(text) #create a list of tokens from resulting punctuation-less text\n",
    "    toks_reduced = [x for x in toks if x not in stop_words] #filter out stopwords from the list of tokens--already lowercased above\n",
    "\n",
    "    return toks_reduced\n"
   ]
  },
  {
   "cell_type": "markdown",
   "metadata": {
    "collapsed": true
   },
   "source": [
    "#SOLUTION\n",
    "\n",
    "def rem_punc_stop(text):\n",
    "    \n",
    "    from string import punctuation\n",
    "    from nltk.corpus import stopwords\n",
    "    \n",
    "    stop_words = stopwords.words(\"english\")\n",
    "    \n",
    "    for char in punctuation:\n",
    "        text = text.replace(char, \"\")\n",
    "        \n",
    "    toks = word_tokenize(text)\n",
    "    toks_reduced = [x for x in toks if x.lower() not in stopwords.words('english')]\n",
    "    \n",
    "    return toks_reduced "
   ]
  },
  {
   "cell_type": "markdown",
   "metadata": {
    "collapsed": true
   },
   "source": [
    "Now that you have re-defined rem_punc_stop, you are ready to use this function to tokenize every sentence cleanly using the following code. This would create a list `tokens` whose elements are lists of tokens, which each list representing a single sentence. However, due to the limitations of DataHub, running this code will very likley crash your Kernel. This will not become a problem once you begin working locally (i.e. working on notebooks on your own computer as opposed to DataHub) as you will have more memory and computing power to work with."
   ]
  },
  {
   "cell_type": "code",
   "execution_count": 7,
   "metadata": {
    "scrolled": true
   },
   "outputs": [
    {
     "data": {
      "text/plain": [
       "[['allow',\n",
       "  'outset',\n",
       "  'behalf',\n",
       "  'president',\n",
       "  'republic',\n",
       "  'suriname',\n",
       "  'excellency',\n",
       "  'mr',\n",
       "  'desiré',\n",
       "  'delano',\n",
       "  'bouterse',\n",
       "  'people',\n",
       "  'government',\n",
       "  'suriname',\n",
       "  'congratulate',\n",
       "  'mr',\n",
       "  'president',\n",
       "  'welldeserved',\n",
       "  'election'],\n",
       " ['election', 'bring', 'honour', 'country', 'antigua', 'barbuda', 'caribbean'],\n",
       " ['background',\n",
       "  'sustainable',\n",
       "  'development',\n",
       "  'well',\n",
       "  'prepared',\n",
       "  'lead',\n",
       "  'us',\n",
       "  'deliberations',\n",
       "  'year',\n",
       "  '’',\n",
       "  'theme',\n",
       "  '“',\n",
       "  'post2015',\n",
       "  'development',\n",
       "  'agenda',\n",
       "  'setting',\n",
       "  'stage',\n",
       "  '”']]"
      ]
     },
     "execution_count": 7,
     "metadata": {},
     "output_type": "execute_result"
    }
   ],
   "source": [
    "###**** DO NOT RUN THIS CODE BLOCK ***###\n",
    "tokens = [rem_punc_stop(sentence) for sentence in nonempty_sents] ###working locally\n",
    "tokens[:3]"
   ]
  },
  {
   "cell_type": "markdown",
   "metadata": {},
   "source": [
    "Luckily, we have created a `Tokens.csv` for you that contains a table with a `text` column containing cleanly tokenized sentences. Loadthis csv, and run the follwing code block to get the desired list format."
   ]
  },
  {
   "cell_type": "markdown",
   "metadata": {
    "collapsed": true
   },
   "source": [
    "#load Tokens.csv\n",
    "tokens_tbl = pd.read_csv('data/Tokens.csv')"
   ]
  },
  {
   "cell_type": "markdown",
   "metadata": {
    "collapsed": true
   },
   "source": [
    "#SOLUTION\n",
    "tokens_tbl = pd.read_csv(\"data/Tokens.csv\")"
   ]
  },
  {
   "cell_type": "markdown",
   "metadata": {
    "collapsed": true
   },
   "source": [
    "#RUN THIS CELL!\n",
    "tokens = [eval(tokens_tbl['texts'][i]) for i in range(len(tokens_tbl))]\n",
    "tokens[:3]"
   ]
  },
  {
   "cell_type": "markdown",
   "metadata": {},
   "source": [
    "---\n",
    "\n",
    "# Word2Vec<a id='section 1'></a>\n",
    "\n",
    "\n",
    "## Training <a id='subsection 1'></a>\n",
    "\n",
    "Phew! Now that we have pre-processed our text, we can use the `gensim` library to construct our word embeddings. We will use the Continous Bag of Words model (CBOW), which predicts target words from its neighboring context words to learn word embeddings from raw text.\n",
    "\n",
    "Read through the documentation of the Word2Vec method in gensim to understand how to implement the Word2Vec model. Then fill in the blanks so that: we use a __Continuout Bag of Words__ model to create word embeddings of __size 100__ for words that appear in `text` __5 or more times__. Set the learning rate to .025, number of iterations to 5, and sample 10000 words from the data during each pass."
   ]
  },
  {
   "cell_type": "code",
   "execution_count": 8,
   "metadata": {},
   "outputs": [],
   "source": [
    "#Run this code for documentation, or refer to the list above for parameter definitions\n",
    "gensim.models.Word2Vec?"
   ]
  },
  {
   "cell_type": "code",
   "execution_count": 9,
   "metadata": {},
   "outputs": [],
   "source": [
    "#Fill in the missing parameter values\n",
    "model = gensim.models.Word2Vec(tokens, size=100, window=5, \\\n",
    "                               min_count=5, sg=0, alpha=0.025, iter=5, batch_words=10000)"
   ]
  },
  {
   "cell_type": "markdown",
   "metadata": {
    "collapsed": true
   },
   "source": [
    "#SOLUTION\n",
    "model = gensim.models.Word2Vec(tokens, size=100, window=5, \\\n",
    "                               min_count=5, sg=0, alpha=0.025, iter=5, batch_words=10000)"
   ]
  },
  {
   "cell_type": "markdown",
   "metadata": {},
   "source": [
    "## Embeddings <a id='subsection 2'></a>\n",
    "\n",
    "We can return the actual high-dimensional vector by simply indexing the model with the word as the key:"
   ]
  },
  {
   "cell_type": "code",
   "execution_count": 10,
   "metadata": {},
   "outputs": [
    {
     "name": "stdout",
     "output_type": "stream",
     "text": [
      "[-1.2831148  -0.4368993   0.4881082  -2.1242957  -0.3664361   0.85692036\n",
      "  0.2500615  -0.8921831  -1.188466   -0.23988244  0.9632358   0.5853421\n",
      " -0.25807258 -0.47438297  0.12603611 -0.74534357 -0.17416723  1.3457274\n",
      " -0.87213224 -0.53661126  1.0361279   0.01447887  0.47601765  0.45728433\n",
      " -1.3383145  -0.23769099  1.6702049  -0.08520681 -1.1923573   0.45553705\n",
      " -1.4749382   0.42006359 -0.16474938 -0.5902463   0.48044235 -0.09295373\n",
      " -2.388967   -1.1898705   1.1747072  -0.29290578  0.36880302  0.74824566\n",
      "  0.68916756 -0.12955216  0.5681211   0.8415591   0.1564704   0.90363365\n",
      " -0.6891128   1.1252471  -1.8507551   0.12888893 -0.25583738  0.80555737\n",
      "  0.07476829  0.16065706 -0.23072033 -1.3500967  -0.74102646  0.27241924\n",
      "  0.07952351 -0.5411419  -0.07679234 -0.8680421  -0.85922724 -0.1649637\n",
      "  0.49146178  1.9076711   0.40930092 -0.39743033 -0.13991183 -1.3217225\n",
      " -0.20664397 -0.44225934  0.86686033  0.39415818  0.00423418  0.44638148\n",
      "  0.08396182 -0.90511775 -1.8022314   0.24542241  0.15714844 -0.59853876\n",
      "  1.6148392   0.985866   -1.9480108  -0.75458735  0.6585521   1.7981974\n",
      " -1.1639404  -0.82103866 -0.40022737  2.0470326  -0.7226752  -0.53778285\n",
      "  0.8097482   0.6966516  -1.3876445   1.4222035 ]\n"
     ]
    },
    {
     "name": "stderr",
     "output_type": "stream",
     "text": [
      "/Users/jmarshall/anaconda3/lib/python3.6/site-packages/ipykernel_launcher.py:2: DeprecationWarning: Call to deprecated `__getitem__` (Method will be removed in 4.0.0, use self.wv.__getitem__() instead).\n",
      "  \n"
     ]
    }
   ],
   "source": [
    "#Run this cell\n",
    "print(model['assembly'])"
   ]
  },
  {
   "cell_type": "markdown",
   "metadata": {},
   "source": [
    "Use the following empty cells to look at what the word embeddings look like for words you think may appear in the `text`! Keep in mind that even if a word shows up in `text` as seen above, a word vector will not be created unless it satisfies all conditions we inputted into the model above. Try words like `president` and `conference` to start! If you're curious, the cell directly below will return a list of words that have been turned into word vectors by the model above:"
   ]
  },
  {
   "cell_type": "code",
   "execution_count": 11,
   "metadata": {},
   "outputs": [
    {
     "name": "stdout",
     "output_type": "stream",
     "text": [
      "['allow', 'outset', 'behalf', 'president', 'republic', 'suriname', 'excellency', 'mr', 'people', 'government', 'congratulate', 'welldeserved', 'election', 'bring', 'honour', 'country', 'antigua', 'barbuda', 'caribbean', 'background', 'sustainable', 'development', 'well', 'prepared', 'lead', 'us', 'deliberations', 'year', '’', 'theme', '“', 'post2015', 'agenda', 'setting', 'stage', '”', 'assure', 'support', 'cooperation', 'presidency', 'also', 'like', 'take', 'opportunity', 'pay', 'tribute', 'predecessor', 'vuk', 'jeremi', 'leadership', 'sixtyseventh', 'session', 'general', 'assembly', 'furthermore', 'commend', 'secretary', 'ban', 'kimoon', 'management', 'united', 'nations', 'regard', 'peace', 'security', 'various', 'parts', 'globe', 'new', 'urgently', 'requires', 'much', 'effort', 'national', 'international', 'level', 'achieve', 'ultimate', 'goal', 'improving', 'standard', 'living', 'peoples', 'bringing', 'countries', 'millennium', 'goals', 'important', 'first', 'step', 'towards', 'addressing', 'worst', 'socioeconomic', 'conditions', 'facing', 'approximately', '40', 'per', 'cent', 'humankind', 'targeted', 'reducing', 'manifestations', 'underdevelopment', 'view', 'success', 'depends', 'two', 'sets', 'simultaneous', 'actions', 'responsibilities', 'second', 'equal', 'importance', 'community', 'enable', 'chart', 'meaningful', 'path', 'meeting', 'targets', 'moving', 'particularly', 'relevant', 'heed', '2013', 'report', 'reveals', 'rather', 'facts', 'developing', 'developed', 'committed', '8', 'making', 'aid', 'pledges', 'viable', 'effective', 'nevertheless', 'behind', 'performance', 'official', 'assistance', 'constant', 'decline', 'agreements', 'concluded', '2001', 'within', 'context', 'world', 'trade', 'organization', 'improve', 'access', 'markets', 'stalled', 'doha', 'round', 'proved', 'harmful', 'dealing', 'market', 'poorest', 'left', 'subsequent', 'agendas', 'know', 'ongoing', 'financial', 'economic', 'crisis', 'detrimental', 'impact', 'declining', 'clearly', 'number', 'large', 'mainly', 'asia', 'endowed', 'natural', 'resources', 'africa', 'south', 'america', 'made', 'substantial', 'progress', 'statistics', 'however', 'blind', 'fact', 'inequality', 'rampant', 'almost', '12', 'billion', 'still', 'extreme', 'poverty', 'affordable', 'adequate', 'health', 'services', 'millions', 'children', 'denied', 'right', 'primary', 'education', 'learned', 'lesson', 'undertake', 'measures', 'strengthen', 'interactions', 'among', 'addition', 'ties', 'traditional', 'trading', 'partners', 'north', 'must', 'give', 'substance', 'southsouth', 'consideration', 'global', 'foreign', 'direct', 'investment', 'considered', 'factor', 'vital', 'encouraging', 'note', 'including', 'upgraded', 'status', 'middleincome', 'institutions', 'agencies', 'efforts', 'develop', 'prudent', 'macroeconomic', 'appropriate', 'fiscal', 'policies', 'combined', 'initiatives', 'economy', 'sacrifices', 'borne', 'led', 'improved', 'applying', 'capita', 'income', 'major', 'indicator', 'determining', 'position', 'lost', 'necessary', 'concessional', 'loans', 'conclusion', 'drawn', 'punished', 'ability', 'overcome', 'obstacles', 'less', 'fortunate', 'past', 'interdependent', 'continue', 'build', 'strength', 'main', 'driving', 'force', 'achievement', 'believe', 'building', 'upon', 'strengths', 'participation', 'subregional', 'regional', 'frameworks', 'way', 'forward', 'finding', 'proper', 'solutions', 'basis', 'achieved', 'approach', 'might', 'become', 'feasible', 'shares', 'base', 'peoplecentred', 'specific', 'focus', 'vulnerable', 'society', 'particular', 'women', 'youth', 'elderly', 'disabilities', '—', 'emphasize', 'strike', 'balance', 'positive', 'situation', 'dire', 'need', 'improvement', 'course', 'programmes', 'fight', 'noncommunicable', 'diseases', 'decreased', 'productivity', 'leading', 'cause', 'death', 'region', 'special', 'emphasis', 'closer', 'reality', 'intend', 'work', 'closely', 'organizations', 'pan', 'american', 'unesco', 'unicef', 'others', 'attaches', 'great', 'issues', 'involving', 'young', 'largescale', 'programme', 'aim', 'enhancing', 'better', 'learning', 'deserves', 'mention', 'successful', 'experiences', 'mechanisms', 'one', 'caricom', 'union', 'unasur', 'clear', 'examples', 'contribute', 'connectivity', 'enhancement', 'unity', 'taking', 'account', 'processes', 'cognizant', 'opportunities', 'challenges', 'inclusive', 'intergovernmental', 'process', 'directed', 'continued', 'eradication', 'combining', 'activity', 'social', 'care', 'thereby', 'promoting', 'welfare', 'wellbeing', 'integration', 'action', 'strengthening', 'human', 'capital', 'warming', 'negative', 'small', 'island', 'states', 'lowlying', 'coastal', 'grave', 'concern', 'regarding', 'state', 'climate', 'framework', 'convention', 'change', 'strongly', 'face', 'part', 'beyond', '2015', 'ignore', 'threats', 'rights', 'indispensable', 'creating', 'enabling', 'environment', 'aware', 'sovereignty', 'seriously', 'affected', 'indiscriminate', 'use', 'violence', 'fighting', 'terrorism', 'forms', 'transnational', 'organized', 'crime', 'related', 'armed', 'conflicts', 'food', 'public', 'migration', 'energy', 'require', 'increased', 'collaboration', 'respect', 'partnership', 'governments', 'civil', 'applaud', 'stability', 'willingness', 'capacity', 'dialogue', 'maintain', 'military', 'intervention', 'proud', 'belong', 'declared', 'nuclearweaponfree', 'zone', 'express', 'hope', 'twostate', 'solution', 'conflict', 'gain', 'allowing', 'prospect', 'prosperity', 'maintains', 'multilateral', 'prevail', 'search', 'peaceful', 'syria', 'cuban', 'participate', 'full', 'members', 'urge', 'prevented', 'far', 'removed', 'outdated', 'inhuman', 'unilateral', 'commercial', 'embargo', 'haiti', 'lose', 'attention', 'followup', 'activities', 'get', 'back', 'feet', 'call', 'fulfil', 'commitments', 'closing', 'advantage', 'inform', 'exactly', '30', 'days', 'ago', 'took', 'vibrant', 'body', 'pledge', 'may', 'sir', 'sixtyeighth', 'confident', 'current', 'fruitful', 'able', 'korea', 'pleased', 'member', 'stewardship', 'secretarygeneral', 'multilateralism', 'successfully', 'responding', 'diverse', 'faces', 'fiveyear', 'plan', 'help', 'keep', 'contributions', 'period', 'transformation', 'years', 'present', 'watch', 'emotion', 'historic', 'moment', 'admitted', 'came', 'end', 'long', 'wait', 'cold', 'war', 'time', 'solemnly', 'pledged', 'actively', 'shaping', 'order', 'free', 'fair', 'prosperous', 'justice', 'rule', 'law', 'live', 'though', 'fully', 'embraced', 'passion', 'devotion', 'many', 'corners', 'taken', 'peacekeeping', 'reconstruction', 'currently', 'serving', 'council', 'since', 'inception', 'noble', 'endeavour', 'helping', 'larger', 'freedom', 'insecurity', 'injustice', 'intolerance', 'common', 'desperately', 'needed', 'rise', 'cybercrime', 'calls', 'transcends', 'existing', 'interstate', 'system', 'words', 'relevance', 'ever', 'increasing', 'key', 'vehicle', 'administration', 'put', 'vision', 'built', 'fundamental', 'objectives', 'happiness', 'core', 'values', 'seeks', 'make', 'korean', 'peninsula', 'want', 'share', 'fruits', 'strive', 'enhance', 'dignity', 'citizens', 'line', 'purposes', 'principles', 'pillar', 'attaining', 'proliferation', 'weapons', 'mass', 'destruction', 'means', 'delivery', 'serious', 'connection', 'chemical', 'confirmed', 'a67997', 'caused', 'humanitarian', 'disaster', 'twentyfirst', 'century', 'condemns', 'strongest', 'possible', 'terms', 'constitutes', 'humanity', 'tolerated', 'circumstances', 'welcome', 'recent', 'agreement', 'russia', 'elimination', 'syrian', 'expect', 'decision', 'prohibition', 'reinforcing', 'resolution', 'today', 'faithfully', 'implement', 'acceded', 'democratic', 'soon', 'draw', 'seriousness', 'despite', 'series', 'resolutions', 'launched', 'missiles', 'conducted', 'nuclear', 'tests', 'recently', 'early', 'blatant', 'violation', 'obligations', 'strictly', 'case', 'nuclearweapons', 'prevent', 'advent', 'another', 'nucleararmed', 'socalled', 'parallel', 'pursuit', 'turn', 'genuine', 'concrete', 'stands', 'ready', 'alongside', 'presents', 'threat', 'terrorist', 'attack', 'place', 'last', 'nairobi', 'kenya', 'sincere', 'condolences', 'go', 'victims', 'families', 'tragedy', 'combat', 'together', 'respond', 'imminent', 'pursuing', 'policy', 'establish', 'reconciliation', 'northeast', 'implemented', 'initiative', 'aspires', 'safeguard', 'based', 'strong', 'simultaneously', 'ensure', 'resumption', 'operations', 'industrial', 'park', 'remaining', 'project', 'proposes', 'create', 'heavily', 'transform', 'lasting', 'legacy', 'divided', 'space', 'harmony', 'koreas', 'proposal', 'fruition', 'contributing', 'greatly', 'trust', 'turning', 'broader', 'political', 'interdependence', 'proposed', 'open', 'interests', 'players', 'interested', 'valuable', 'european', 'europe', 'forum', 'association', 'southeast', 'asian', 'era', 'promotion', 'universal', 'went', 'colonial', 'occupation', 'tragic', 'experience', 'became', 'paramount', 'worldwide', 'alarming', 'increase', 'refugees', 'internally', 'displaced', 'persons', 'owing', 'wars', 'concerning', 'massive', 'refugee', 'problem', 'involved', 'assist', 'planning', 'working', 'group', 'next', 'month', 'wishes', 'uphold', 'internationally', 'established', 'legal', 'principle', '10', 'million', 'suffering', 'see', 'loved', 'ones', 'across', 'border', 'even', '60', 'separated', 'held', 'week', 'utmost', 'regret', 'unilaterally', 'would', 'event', 'reasons', 'inhumane', 'justified', 'sound', 'reason', 'thus', 'maintained', 'considerations', 'therefore', 'convene', 'family', 'ease', 'pain', 'whole', 'protect', 'civilians', 'around', 'mind', 'february', 'chaired', 'debate', 'protection', 'newly', 'sexual', 'types', 'destroys', 'life', 'victim', 'day', 'matters', 'repeatedly', 'emphasized', 'reports', 'responsible', 'called', 'restore', 'crimes', 'involve', 'issue', 'summit', '2000', 'collective', 'reach', 'mdgs', 'yielded', 'tangible', 'results', 'equally', 'enjoyed', 'regions', 'groups', 'backdrop', 'attach', 'discussions', 'future', 'direction', 'road', 'map', 'set', 'genuinely', 'goes', 'levels', 'greatest', 'priority', 'guaranteeing', 'seek', 'partnerships', 'emerging', 'actors', 'effectively', 'utilize', 'available', 'capacities', 'hopes', '2012', 'play', 'significant', 'role', 'cooperative', 'mechanism', 'implementation', 'objective', 'complete', 'unfinished', 'business', 'specifically', 'movement', 'response', 'critical', 'achieving', 'green', 'fund', 'supports', 'brings', 'deepening', 'requiring', 'expectations', 'played', 'higher', 'indeed', 'centre', 'expected', 'endeavours', 'former', 'dag', 'said', 'recognize', 'imperfect', 'instrument', 'evolution', 'secure', 'reminded', 'solemn', '22', 'stand', 'reaffirm', 'commitment', 'realizing', 'toward', 'advancing', 'truly', 'parliament', 'begin', 'statement', 'congratulating', 'ambassador', 'john', 'william', 'ashe', 'extend', 'congratulations', 'honoured', 'selection', 'sons', 'preside', 'representative', 'institution', 'carries', 'shoulders', 'responsibility', 'guiding', 'consider', 'politically', 'troubled', 'dangerous', 'geopolitical', 'tensions', 'deeper', 'wider', 'seen', 'intensity', 'thrown', 'onto', 'unemployment', 'created', 'poor', 'throughout', 'fears', 'dangers', 'arms', 'drug', 'trafficking', 'frightening', 'interfaith', 'often', 'result', 'bloodshed', 'include', 'return', 'brutal', 'piracy', 'modern', 'age', 'coast', 'somalia', 'gulf', 'guinea', 'threatening', 'routes', 'oil', 'fuel', 'marine', 'facilitating', 'illicit', 'fishing', 'manner', 'illegal', 'maritime', 'beings', 'persistent', 'ethnic', 'enormous', 'unimaginable', 'disasters', 'areas', 'come', 'african', 'entitled', 'celebrated', 'fortieth', 'anniversary', 'independence', 'good', 'following', 'entire', 'struggle', 'liberation', 'represent', 'believed', 'reiterates', 'belief', '1973', 'given', 'solidarity', 'ultimately', 'recognition', 'without', 'exception', 'wish', 'bissau', 'feeling', 'eternal', 'gratitude', 'declare', 'firm', 'desire', 'longstanding', 'friendship', 'affirm', 'rebuild', 'foundations', 'rostrum', 'ask', 'patience', 'understanding', 'expressions', 'generosity', 'inconsistent', 'relations', 'sovereign', 'interim', 'guineabissau', 'title', 'indicates', 'something', 'exceptional', 'events', 'april', 'coup', 'prime', 'minister', 'campaign', 'run', 'faced', 'fortunately', 'best', 'option', 'opinion', 'prevailed', 'avoid', 'problems', 'hold', 'could', 'consequences', 'unpredictable', 'certainly', 'nonetheless', 'ways', 'dynamics', 'control', 'effects', 'limit', 'institutional', 'enough', 'deal', 'opposing', 'positions', 'emerged', 'abroad', 'deeply', 'constitutional', 'realistic', 'promising', 'gradual', 'dramatic', 'degradation', 'justify', 'views', 'confirm', 'concepts', 'resolve', 'every', 'attempt', 'apply', 'formula', 'worse', 'serve', 'radical', 'touch', 'deepest', 'humble', 'refuses', 'humiliated', 'true', 'democracy', 'notwithstanding', 'violations', 'purpose', 'forget', 'born', 'centuries', 'hard', 'influence', 'determination', 'defended', 'table', 'rely', 'prompt', 'west', 'ecowas', 'solely', 'managing', 'agreed', 'transition', 'reduced', 'stabilization', 'mission', 'known', 'elected', 'remained', 'standing', 'provide', 'legitimate', 'constitution', 'never', 'origin', 'office', 'makes', 'difference', 'four', 'times', 'vicepresident', 'aside', 'mature', 'conviction', 'carried', 'état', 'ordered', 'inauguration', 'began', 'approved', 'pact', 'corresponding', 'later', 'budget', 'submitted', 'broad', 'appointed', 'presidential', 'steps', 'signed', '24', 'november', 'date', 'legislative', 'elections', 'remains', 'task', 'availability', 'funds', 'carry', 'transparent', 'unquestionable', 'electoral', 'reliable', 'accomplished', 'accurate', 'dramatically', 'interlinked', 'evils', 'instability', 'creates', 'rate', 'growth', 'increases', 'challenge', 'ahead', 'consists', 'precisely', 'overcoming', 'obviously', 'light', 'yet', 'resolved', 'frame', 'least', 'mean', 'bilateral', 'specialized', 'contrary', 'environmental', 'moderate', 'satisfactory', 'outcome', 'document', 'conference', '66288', 'annex', 'undertaken', 'scourges', 'afflicting', 'fragile', 'establishment', 'september', 'highlevel', 'replaces', 'commission', 'islands', 'welcomes', 'third', 'samoa', '2014', 'thank', 'dedication', 'timorleste', 'josé', 'head', 'integrated', 'peacebuilding', 'ramoshorta', 'excellent', 'normalization', 'oblivious', 'indifferent', 'brothers', 'mali', 'luck', 'demonstrated', 'immense', 'maturity', 'going', 'civic', 'pride', 'marking', 'sent', 'starting', 'signal', 'destroyed', 'acts', 'unacceptable', 'france', 'crucial', 'safeguarding', 'integrity', 'malian', 'territory', 'foundation', 'attacks', 'nigeria', 'name', 'religious', 'offer', 'sister', 'presidents', 'uhuru', 'kenyatta', 'neighbouring', 'paving', 'egypt', 'ravaged', 'diplomacy', 'lives', 'middle', 'east', 'defend', 'palestinian', 'arab', 'negotiations', 'authorities', 'israel', 'advance', 'creation', 'accordance', 'word', 'abandoned', 'continues', 'kingdom', 'spain', 'whose', 'instrumental', 'friend', 'portuguesespeaking', 'cplp', 'spirit', 'demonstrating', 'friends', 'difficult', 'timorese', 'understood', 'simple', 'supporting', 'quite', 'assessment', 'encouragement', 'serves', 'executive', 'perhaps', 'cuba', 'always', 'done', 'advancement', 'reforms', 'friendly', 'nation', 'deep', 'profound', 'china', 'extent', 'construction', 'buildings', 'enter', 'history', 'dates', 'côte', 'ivoire', 'federal', 'contact', 'heads', 'warmly', 'wisdom', 'bold', 'successes', 'rapid', 'technological', 'innovations', 'transforming', 'changes', 'deprived', 'disadvantaged', 'reminds', 'father', 'sheikh', 'visionary', 'arrangement', 'hunger', 'aggression', 'leaders', 'adopted', 'declaration', 'review', '2010', 'participating', 'design', 'pragmatic', 'strategy', 'useful', 'preparing', 'bangladesh', 'draft', 'covers', 'required', 'population', 'placed', 'individuals', 'incorporated', 'urbanization', 'identified', 'mainstreaming', 'accommodate', 'migrants', 'realize', 'already', 'met', 'track', 'meet', '1', '6', '1991', '26', 'half', 'average', 'gross', 'domestic', 'product', '50', 'joined', 'export', 'rose', '2006', 'remittances', '5', 'currency', 'reserves', '16', 'power', 'production', 'indicators', 'model', 'achievements', 'received', 'mdg', 'award', 'diversity', 'agriculture', 'largely', 'due', 'practice', 'found', 'empowerment', 'using', 'digital', 'technology', 'getting', '200', 'information', 'service', 'centres', 'rural', 'receiving', 'healthcare', 'interconnected', 'extended', 'advanced', 'phone', 'technologies', 'providing', '100', 'real', 'achievable', 'upholding', 'demands', 'men', 'educational', 'provides', 'girls', 'secondary', 'school', 'students', 'helped', 'roots', 'politics', 'local', 'bodies', '70', 'five', 'ministers', 'possibly', 'occupying', 'leader', 'opposition', 'deputy', 'reserved', 'succeed', 'reaching', 'high', 'judicial', 'administrative', 'branches', 'diplomatic', 'forces', 'enforcement', 'empowering', 'housing', 'livelihood', 'senior', 'fighters', 'total', 'nutrition', 'house', 'schemes', 'challenged', 'provided', 'self', 'employment', 'formal', 'sector', 'developmental', 'spectrum', 'introduced', 'unifying', 'quest', 'rightful', 'spheres', 'sadly', 'fraught', 'sea', 'estimated', 'temperature', 'fifth', 'forcing', 'move', 'elsewhere', 'huge', 'magnitude', 'borders', 'reiterate', 'regime', 'cultural', 'rehabilitation', 'funding', 'sustained', 'realization', 'adaptation', 'mitigation', 'plans', 'sacrifice', 'preserve', 'mother', '21', '1999', 'language', 'institute', 'asking', 'languages', 'introducing', 'perpetrated', 'genocide', 'rape', '3', 'sacrificed', 'quarter', 'ardent', 'aspiration', 'perpetrators', 'accordingly', 'tribunals', 'act', 'try', 'trials', 'highest', 'standards', 'practices', 'completion', 'heal', 'wounds', 'sake', 'destroy', 'secular', 'nature', 'party', 'alliance', 'form', 'bomb', 'killing', 'especially', 'august', '2004', '13', 'rally', 'protest', 'british', 'commissioner', 'killed', '500', 'injured', 'survived', 'earlier', '15', '1975', '18', 'younger', 'eliminate', 'adopt', 'tough', 'home', 'defeat', 'extremism', 'strengthened', 'tenure', 'city', 'corporations', 'proven', 'credible', 'affairs', 'cement', 'resolving', 'outstanding', 'neighbours', 'maintaining', 'according', 'none', 'top', 'reflected', 'disarmament', 'nonproliferation', 'term', 'ratify', 'comprehensive', 'treaty', 'antipersonnel', 'mine', 'happy', 'instruments', 'certain', 'conventional', 'ensuring', 'expression', 'intercultural', 'essential', 'personal', 'recognized', 'awarded', 'culture', 'integral', 'identity', 'thematic', 'request', 'resource', 'constraints', 'inadequate', 'external', '07', 'oda', 'ldcs', 'grant', 'voice', 'bretton', 'woods', 'labour', 'benefit', 'sending', 'elaboration', 'daunting', 'agreeing', 'person', 'representing', '160', 'progressive', 'resilient', 'front', 'globalized', 'unique', 'sometimes', 'threaten', 'imperative', 'eradicate', 'enables', 'posed', 'equitable', 'sharing', 'transboundary', 'water', 'consensus', 'message', 'mutual', 'promise', 'aspire', 'generations', 'team', 'plenary', 'meetings', 'gather', 'exchange', 'opinions', 'find', 'contemporary', 'strategic', 'establishing', 'relationship', 'membership', 'eu', 'ambition', 'big', 'bosnia', 'herzegovina', 'furthering', 'active', 'segments', 'ruling', 'court', 'fulfilment', 'requirements', 'application', 'accession', 'fulfilling', 'nato', 'integrating', 'structures', 'final', 'phase', 'stance', 'accused', 'either', 'courts', 'puts', 'cultures', 'traditions', 'balkans', 'different', 'stages', 'reform', 'turned', 'territorial', 'focused', 'several', 'euroatlantic', 'constructive', 'communications', 'infrastructure', 'scientific', 'overall', 'potential', 'industry', 'tourism', 'croatia', 'gained', 'dimension', 'dynamic', 'marked', 'eagerness', 'sides', 'point', 'crises', 'everything', 'tackle', 'although', 'latest', 'show', 'coming', 'recession', 'harsh', 'strategically', 'difficulties', 'stated', 'finalized', 'inclusion', 'designed', 'close', 'define', 'readily', 'considering', 'three', 'aspects', 'mentioned', 'believes', 'preparation', 'western', 'balkan', 'follows', 'consistently', 'obstacle', 'beginning', 'preservation', 'planet', 'earth', 'forgotten', 'consequently', 'shortterm', 'longterm', 'agree', 'needs', 'continuous', 'wide', 'efficient', 'coordinated', 'functioning', 'widely', 'efficiency', 'credibility', '1945', 'reformed', 'authority', 'mandate', 'entrusted', 'charter', 'compromise', 'moved', 'additional', 'seat', 'eastern', 'doubled', 'decades', 'engagement', 'area', 'preventive', 'solve', 'intensify', 'acting', 'kind', 'timely', 'prevention', 'reaction', 'definitely', 'eager', 'postconflict', 'carefully', 'careful', 'religion', 'customs', 'attended', 'spite', 'visible', 'decade', 'giving', 'momentum', 'parties', 'sign', 'gravely', 'concerned', 'continuing', 'worsened', 'comply', 'priorities', 'refrain', 'launching', 'participates', 'afghanistan', 'participated', 'missions', 'liberia', 'sudan', 'cyprus', 'innocent', 'continent', 'interest', 'capacitybuilding', 'aimed', 'putting', 'stable', 'applies', 'subsaharan', 'greater', 'transparency', 'becoming', 'produce', 'six', 'existence', 'guide', 'capable', 'stronger', 'reached', 'doubt', 'exist', 'basic', 'equality', 'let', 'credentials', 'career', 'diplomat', 'address', 'spoke', 'malawi', 'assumed', 'outlined', 'governance', 'inherited', 'sought', 'observance', 'painful', 'recovery', 'instance', 'stabilized', 'inflation', '75', 'enjoying', 'freedoms', 'enshrined', 'say', 'warm', 'heart', 'laid', 'gathered', 'reflect', 'understand', 'indicating', 'readiness', 'selected', 'consultations', 'eradicating', 'raised', 'awareness', 'mobilize', 'fairer', 'monitoring', 'yes', 'transformed', 'eight', 'child', 'mortality', 'combating', 'hiv', 'aids', 'malaria', 'sustainability', 'unlikely', 'gender', 'maternal', 'deadline', 'draws', 'stepping', 'accelerate', 'attainment', 'bottlenecks', 'lack', 'limiting', 'acceleration', 'places', 'significance', 'removing', 'barriers', 'architecture', 'lessons', 'lies', 'narrow', 'ownership', 'secondly', 'taught', 'linkages', 'economically', 'likely', 'host', 'vulnerability', 'abuses', 'limited', 'lifting', 'holistic', 'thirdly', 'accelerated', 'finally', 'continents', 'pressure', 'quality', 'compromised', 'easy', 'lot', 'works', 'inspire', 'motivate', 'ambitious', 'maximize', 'talents', 'smart', 'panel', 'eminent', 'ending', '2030', 'things', 'jobs', 'livelihoods', 'argued', 'idea', 'households', 'affect', 'malnutrition', 'rooted', 'promote', 'decent', 'incomes', 'private', 'communities', 'deliver', 'innovative', 'economies', 'breaking', 'vicious', 'cycle', 'decided', 'invest', 'urban', 'modernizing', 'package', 'interventions', 'sanitation', 'aims', 'agricultural', 'provision', 'electricity', 'implementing', 'saving', 'assets', 'wealth', 'majority', 'participants', 'risks', 'remain', 'dream', 'looking', 'drive', 'dreams', 'shared', 'restoring', 'attain', 'unrest', 'look', 'recommit', 'felt', 'compelled', 'appeal', 'engage', 'post', 'hopeful', 'marginalized', 'included', 'optimistic', 'ukraine', 'sincerely', 'undoubtedly', 'fast', 'approaching', 'urgent', 'glad', 'practical', 'follow', 'inaugural', 'convinced', 'planned', 'upcoming', 'applied', 'element', 'engaged', 'maximum', 'developments', 'extremely', 'topic', 'item', 'facilitate', 'regards', 'safety', 'joint', 'outcomes', 'kyiv', 'safe', '2011', 'experienced', 'ecological', 'conservation', 'encourage', 'interaction', 'field', 'observation', 'twentieth', 'diligently', 'alleviation', 'reduction', 'catalyst', 'largest', 'transformations', 'internal', 'supremacy', 'aspirations', 'contribution', 'unites', 'signing', 'tool', 'raising', 'ukrainian', 'duly', 'broadly', 'impossible', 'shown', 'embarked', 'trajectory', 'index', 'unfortunately', 'increasingly', 'source', 'scale', 'justification', 'civilian', 'tens', 'thousands', 'danger', 'contain', 'wound', 'settle', 'competence', 'hand', 'rendering', 'produced', 'stockpiles', 'brought', 'leave', 'settlement', 'platform', 'pressing', 'internet', 'cyberspace', 'criminal', 'primarily', 'ends', 'safer', 'ideals', 'coexistence', 'guideline', 'informed', 'independent', 'arena', 'holds', 'chairmanship', 'osce', 'example', 'consolidation', 'focuses', 'protracted', 'underline', 'practically', 'added', 'urgency', 'intensifying', 'mark', 'weapon', 'arsenal', 'unprecedented', 'russian', 'federation', 'britain', 'budapest', 'memorandum', 'assurances', 'historical', 'trends', 'initiate', 'holding', 'guarantor', 'followed', 'thorough', 'stress', 'gave', 'arsenals', 'legally', 'binding', 'hague', 'looks', 'qualitative', 'encourages', 'navigation', 'reinforce', 'prosecution', 'financing', 'hotspots', '20', 'auspices', 'contributed', 'includes', 'expansion', 'congo', 'along', 'blue', 'mobility', 'air', 'peacekeepers', 'investigation', 'nonpermanent', '2016', '2017', 'count', 'candidacy', 'upholds', 'decisive', 'advances', 'critically', 'modernization', 'discuss', 'longoverdue', 'allocated', 'preconditions', 'sixty', 'eighth', 'firmly', 'conducting', 'neutral', 'avoided', 'engaging', 'addressed', 'scene', 'deteriorated', 'exceed', 'looked', 'bear', 'witness', 'exacerbated', 'intensified', 'exacerbation', 'hegemony', 'thwart', 'capabilities', 'domination', 'norms', 'instead', 'settling', 'wellknown', 'pursue', 'aggressive', 'allows', 'intervene', 'pretext', 'prove', 'beneficial', 'subjected', 'reveal', 'beliefs', 'outside', 'mandates', 'impose', 'immoral', 'coercive', 'spreading', 'turmoil', 'pluralistic', 'harmonious', 'previously', 'lived', 'hundreds', 'destructive', 'moral', 'question', 'mere', 'rhetoric', 'written', 'effect', 'happening', 'everyone', 'alqaida', 'alnusra', 'islamic', 'iraq', 'levant', 'brigade', 'scenes', 'murder', 'hearts', 'television', 'conscience', 'chose', 'eye', 'violated', 'extremist', 'ideology', 'alive', 'defending', 'unified', 'daily', 'violate', 'citizen', 'doomed', 'female', 'relatives', 'nothing', 'islam', 'terror', 'laws', 'confronting', 'counterterrorism', 'immediate', 'compel', 'finance', 'arm', 'train', 'passage', 'terrorists', 'stop', 'york', 'witnessed', 'burned', 'fires', 'extremists', 'suffered', 'hit', 'suffer', 'claim', 'claims', 'militants', 'bad', 'senseless', 'classified', 'sell', 'organs', 'describe', 'recruit', 'kill', 'spread', 'poisonous', 'gases', 'asked', 'demanded', 'determine', 'used', 'deciding', 'whether', 'months', 'arrived', 'begun', 'beat', 'accepted', 'vladimir', 'putin', 'shoulder', 'provisions', 'cooperating', 'knowing', 'abide', 'gas', 'agents', 'alike', 'training', 'illusion', 'halt', 'hostile', 'geneva', 'exclusive', 'choose', 'representatives', 'wrong', 'determined', 'reject', 'interference', 'advocates', 'sectarianism', 'tied', 'ballot', 'pressures', 'resort', 'directly', 'ground', 'mosques', 'churches', 'happened', 'speak', 'affecting', 'heritage', 'army', 'demand', 'recognizes', 'geography', 'grow', 'sectors', 'sanctions', 'imposed', 'forced', 'homes', 'noted', 'flee', 'numbers', 'regrettably', 'syrians', 'camps', 'detention', 'towns', 'villages', 'guarantee', 'dignified', 'discrimination', 'wherever', 'compliance', 'respecting', 'sight', 'palestine', 'golan', 'affirms', 'occupied', '4', 'june', '1967', 'emphasizes', 'rejection', 'demographic', 'geographic', 'reaffirms', 'inalienable', 'selfdetermination', 'land', 'jerusalem', 'stockpiling', 'remind', '2003', 'stresses', 'treaties', 'facilities', 'supervision', 'atomic', 'agency', 'acquire', 'block', 'scheduled', 'rules', 'blockade', 'renew', 'venezuela', 'belarus', 'iran', 'tension', 'confrontation', 'duties', 'bridge', 'gap', 'constructively', 'positively', 'delegation', 'supportive', 'guidance', 'energetic', 'tonga', 'debates', 'joins', 'sids', 'affirming', 'outline', 'convened', 'applauds', 'vienna', 'periodic', 'triangular', 'communication', 'appreciated', 'adding', 'value', 'hosted', 'annual', 'pacific', 'chapter', 'celebrate', 'emergence', 'accessing', 'users', 'praise', 'aforementioned', 'focusing', 'overarching', 'durable', 'societies', 'chaos', 'experiencing', 'roles', 'golden', 'connects', 'equity', 'thrive', 'central', 'clean', 'shift', 'sources', 'tackling', 'climatechange', 'concept', 'data', 'repository', 'projects', 'reflecting', 'causes', 'whereby', 'technical', 'studies', 'cases', 'gift', 'documented', 'stakeholders', 'dimensions', 'renewable', 'solid', 'keeping', 'commends', 'laudable', 'urging', 'calling', 'crosscutting', 'oceans', 'prominently', 'chosen', 'prioritized', 'supply', 'hospital', 'risk', 'factors', 'legislation', 'physical', 'advocate', 'healthy', 'completed', 'moreover', 'aligned', 'highlighted', 'delegations', 'swift', 'pertinent', 'endorses', 'expressed', 'marshall', 'communiqué', 'god', 'bless', 'togo', 'occasion', 'invitation', '552', 'forth', 'usher', 'individual', 'eve', 'prospects', 'disease', 'maintenance', 'sustainably', 'abject', 'breeding', 'societal', 'ills', 'embark', 'discussion', 'happen', 'think', 'occur', 'recurrent', 'launch', 'approaches', 'impacts', 'previous', 'dependence', 'net', 'reduce', 'forums', 'desired', 'proportions', 'delayed', 'monterrey', 'declarations', 'reiterated', 'adjust', 'integrate', 'board', 'conducive', 'debt', 'transfer', 'innovation', 'entrepreneurship', 'significantly', 'introduction', '2008', 'encouraged', 'enrolment', 'hivaids', 'prevalence', 'infected', 'considerably', 'distribution', 'thanks', 'farreaching', 'rome', 'proactive', 'marginalization', 'decisionmaking', 'faith', 'gradually', 'prerequisites', 'nearly', 'class', 'definitively', 'becomes', 'recommendations', 'code', 'enabled', 'calm', '25', 'july', 'supported', 'satisfaction', 'conduct', 'stipulated', 'possess', 'gains', 'similarly', 'drinking', 'keeps', 'foremost', 'reference', 'medium', 'job', 'reflects', 'heading', 'fall', 'mobilizing', 'diaspora', 'industries', 'regulatory', 'restructuring', 'enterprises', 'revenue', 'collection', 'tax', 'bind', 'isolation', 'commit', 'collectively', 'accelerating', 'worsening', 'seeking', 'cooperate', 'neighbourliness', 'ideological', 'represented', 'jihadists', 'coupled', 'prompted', 'speedy', 'operation', 'adoption', 'sahel', 'multidimensional', '28', 'coordinate', 'chairing', 'monetary', 'pleasure', 'highly', 'differences', 'subregion', 'entities', 'contingent', 'invites', 'rebuilding', 'severely', 'situations', 'deserve', 'degree', 'undermine', 'libya', 'brotherly', 'extraordinary', 'slow', 'robbery', 'seas', 'type', 'scourge', 'worrying', 'involvement', 'presence', 'yaoundé', 'suppression', 'enhanced', 'granted', 'atrocities', 'tragedies', 'stood', 'powerless', 'toll', '2118', 'inside', 'ii', 'transitional', 'fail', 'israelipalestinian', 'welcoming', 'barack', 'obama', 'israeli', 'negotiate', 'side', 'numerous', 'vast', 'reestablish', 'essentially', 'stay', 'regardless', 'longer', 'simply', 'matter', 'proportion', 'endemic', 'actually', 'voices', 'deplore', 'claimed', '100000', 'december', 'march', '2', 'doubling', '35', 'spiral', 'sectarian', 'dreadful', 'unstable', 'paralysis', 'untenable', 'summer', 'weeks', 'damascus', 'threshold', 'stakes', 'opening', 'absolutely', 'precedent', 'abhorrent', 'underscored', 'decisions', 'stocks', 'poison', 'eliminating', 'potentially', 'fuels', 'picture', 'breakthrough', 'start', 'doors', 'black', 'wall', 'paradoxically', 'scope', 'quiet', 'upheld', 'promises', 'kept', 'lines', 'arise', 'seize', 'outlook', 'negotiating', 'seized', 'returning', 'renewed', 'parameters', 'iranian', 'translate', 'talks', 'negotiated', 'mutually', 'forge', 'starts', 'honest', 'sense', 'cost', 'radicalization', 'hatred', 'despair', 'win', 'harder', 'thing', 'peacefully', 'price', 'waging', 'courage', 'perseverance', 'feel', 'spring', 'yearning', 'tolerance', 'powerful', 'eventually', 'impunity', 'accountable', 'europeans', 'lebanon', 'jordan', 'shelter', 'medical', 'biggest', 'jointly', 'french', 'latin', 'mediterranean', 'faithful', 'partner', 'barbarism', 'pakistan', 'testing', 'size', 'lend', 'paris', 'fewer', 'reestablishing', 'operational', 'georgia', 'composed', 'doctors', 'police', 'personnel', 'stabilize', 'confidence', 'english', 'started', 'imbalances', 'worked', 'structural', 'pursued', 'shape', 'existential', 'projected', 'underestimated', 'signs', 'negotiation', 'happens', 'ideas', 'emerge', 'warsaw', 'bali', 'regulation', 'hands', 'heavy', 'ghana', 'attend', 'shocked', 'saddened', 'hear', 'cowardly', 'grief', 'parents', 'colleagues', 'got', 'kofi', 'awoonor', 'served', 'poet', 'professor', 'brazil', 'chairman', 'advisory', 'envoy', 'perform', 'travelled', 'son', 'ordinary', 'shopping', 'mall', 'westgate', 'anything', 'dozens', 'away', 'story', 'accomplishments', 'remembered', 'escape', 'scars', 'watched', 'distance', 'possibilities', 'endless', 'saw', 'shine', 'seemed', 'graves', 'dictators', 'corruption', 'greed', 'easily', 'news', 'stories', 'gives', 'heinous', 'brotherhood', 'massacres', 'rivers', 'red', 'stolen', 'soldiers', 'proudly', 'dead', 'broken', 'beacon', 'promised', 'whatsoever', 'destabilize', 'steadfast', 'bridging', 'divide', 'observers', 'strife', 'persist', 'sure', 'surprise', 'anyone', 'enthusiastically', 'ammunition', 'regulated', 'village', 'speaking', 'travel', 'exists', 'expand', 'networks', 'obtain', 'identities', 'align', 'ratified', 'democracies', 'tend', 'limits', 'tested', 'characteristics', 'defined', 'takes', 'passed', 'formally', 'heard', 'supreme', 'noteworthy', 'reliance', 'proceedings', 'single', 'reported', 'incident', 'victory', 'similar', 'growing', 'shifting', 'sole', 'properly', 'systems', 'tools', 'intention', 'skills', 'businesses', 'fastest', 'translated', '37', 'workers', 'trapped', 'realities', 'exclusion', 'benefits', 'unless', 'comes', 'raw', 'materials', 'add', 'exports', 'products', 'gold', 'petroleum', 'feed', 'forefront', 'investors', 'rest', 'worth', 'sympathy', 'parity', 'statistical', 'shifts', 'lagging', '7', 'infant', 'figures', 'deaths', 'births', 'talking', 'decrease', 'little', 'reproductive', 'faster', 'deemed', 'alone', 'backbone', 'imagine', 'owe', 'walk', 'desirable', 'settlements', 'door', 'lifted', 'relic', 'respects', 'turkey', 'india', 'attacked', 'majesty', 'brunei', 'darussalam', 'expressing', 'condemnation', 'sympathies', 'earthquake', 'thirteen', 'locally', 'regionally', 'record', 'appreciation', 'annan', 'learn', 'struggling', 'limitations', 'generation', 'fellow', 'bilaterally', 'offering', 'scholarships', 'study', 'outreach', 'exchanges', 'asean', 'offered', 'attained', 'opened', 'options', 'refer', 'homeland', 'unresolved', 'hence', '29', 'accorded', 'observer', 'exercise', 'join', 'condemning', 'loss', 'importantly', 'conclude', 'staff', 'volunteers', 'thoughts', 'deadly', 'prolonged', 'catastrophe', 'terrible', 'naturally', 'minds', 'tremendous', 'appalled', 'findings', 'conclusions', 'investigate', 'allegations', 'alleged', 'ghouta', '14', 'effectiveness', 'mistakes', 'highlight', 'january', 'fifteenth', 'paved', 'demanding', 'journey', 'contributor', 'marks', 'tribunal', 'yugoslavia', 'icty', 'advocated', 'wholeheartedly', 'accompanied', 'ad', 'hoc', 'changed', 'landscape', 'civilization', 'accountability', 'statute', 'entails', 'pbc', '2005', 'sustain', 'bitter', 'stimulating', 'chair', 'organize', 'compact', 'un', 'ministerial', 'plays', 'minority', 'intrinsic', 'abolition', 'penalty', 'spare', 'pivotal', 'presented', 'nonstate', 'combination', 'diligent', 'adherence', 'horrible', 'reminder', 'warning', 'universally', 'complied', 'excessive', 'accumulation', 'weak', 'milestone', 'signature', 'criteria', 'original', 'signatory', 'entry', 'nowadays', 'witnessing', 'paying', 'donors', 'donor', 'confronted', 'rio20', 'stone', 'scientists', 'pace', 'everincreasing', 'transformative', 'knowledge', 'link', 'represents', 'blocks', 'driver', 'forthcoming', 'enlargement', 'productive', 'neighbourhood', 'southeastern', 'concluding', 'connected', 'methods', 'veto', 'powers', 'permanent', 'raise', 'questions', 'categories', 'advocating', 'complex', 'proceed', 'old', 'chance', 'knows', 'literally', 'flood', 'shores', 'near', 'collapse', 'prices', 'severe', 'drought', 'hardship', 'flow', 'crafting', 'implications', 'fashion', 'usual', 'skilled', 'fear', 'short', 'ambitions', 'transformational', 'shy', 'conversation', 'fresh', 'stock', 'fixed', '2009', 'experts', 'indicated', 'promoted', 'master', 'havoc', 'familiar', 'property', 'investments', 'compete', 'reckless', 'inaction', 'bubble', 'carbon', 'thirds', 'fossil', 'temperatures', 'degrees', 'fallen', 'measure', 'trillions', 'dollars', 'exploration', 'consumption', 'trillion', 'unmet', 'complicated', 'mistake', 'choice', 'prioritize', 'profits', 'reforming', 'revitalizing', 'impetus', 'a68pv5', 'p', 'isolated', 'failed', 'relaunching', 'systemic', 'formidable', 'stopped', 'nauru', 'flexible', 'modalities', 'budgetary', 'institutionbuilding', 'collaborate', 'component', 'presiding', 'nineteenth', 'laying', 'guided', 'expertise', 'collaborative', 'rapidly', 'deployment', 'greenhouse', 'emissions', 'prepare', 'post2020', 'obligation', 'accomplish', 'damage', 'accept', 'delay', 'unavoidable', 'proposals', 'appointment', 'crossborder', 'equipped', 'evaluate', 'resilience', 'invaluable', 'asset', 'immediately', 'assess', 'countless', 'destabilizing', 'lie', 'science', 'atrocity', 'observed', 'invests', 'tiny', 'striving', 'australia', 'delivering', 'gratified', 'rapprochement', 'taiwan', 'strait', 'zealand', 'japan', 'described', 'correctly', 'choosing', 'older', 'disability', 'ecuador', 'measurable', 'fails', 'incorporate', 'verifiable', 'saying', 'visit', 'hall', 'walls', 'ended', 'comments', 'inhabitants', 'seem', 'celebrating', 'drawing', 'frequently', 'cross', 'shall', 'headquarters', 'respected', 'wants', 'spy', 'everywhere', 'vigilant', 'privacy', 'regrettable', 'man', 'woman', 'communicate', 'surveillance', 'enemies', 'criminals', 'abiding', 'existed', 'espionage', 'decency', 'bonds', 'underpin', 'requested', 'occasions', 'willing', 'cease', 'unjust', 'bolivarian', 'americas', 'malvinas', 'accede', 'sit', 'territories', 'shameful', 'argentina', 'briefly', 'balances', 'disrupted', 'cast', 'highhandedness', 'multinational', 'profit', 'damages', 'violates', 'company', '19', 'devastating', 'pollution', 'denounce', 'overwhelming', 'showing', 'arbitration', 'shed', 'associated', 'manipulation', 'fruit', 'flourish', 'constantly', 'confront', 'investigations', 'sufficiently', 'condemn', 'topics', 'believing', 'inspired', 'changing', 'inevitably', 'chapters', 'vi', 'viii', 'disputes', 'arrangements', 'lay', 'horrific', 'nobel', 'prize', 'oslo', 'au', 'dedicated', 'redoubled', 'norway', 'colombia', 'de', 'else', 'myanmar', 'testimony', 'responses', 'pertaining', 'strides', 'goods', 'arctic', 'organizing', 'likewise', 'singapore', 'founding', 'reflection', 'norm', 'observe', 'quarters', 'ice', 'ocean', 'strived', 'forwardlooking', 'strategies', 'crossroads', 'feature', 'acknowledge', 'trend', 'revisit', 'identify', 'causing', 'considerable', 'truth', 'accords', 'statehood', 'horizon', 'missing', 'running', 'returned', 'afternoon', 'presided', 'committee', 'coordination', 'palestinians', 'reaffirmed', 'afford', 'horrors', 'fleeing', 'utterly', 'referred', 'ensured', 'frustrated', 'inability', 'promotes', 'evolving', 'scarcity', 'flexibility', 'secretariat', 'autumn', 'cut', 'tasks', 'coherent', 'adapt', 'shaken', 'uneven', 'widening', 'gaps', 'unanimous', 'promptly', 'unite', 'ecosystem', 'expense', 'deforestation', 'desertification', 'rethink', 'meets', 'compromising', 'multistakeholder', 'harness', 'demonstrate', 'understands', 'securing', 'alleviate', 'necessity', '700', 'square', 'kilometres', 'slightly', 'bigger', 'smaller', 'transport', 'managed', 'preserving', 'populated', 'resulted', 'covered', 'founded', 'biodiversity', 'contains', 'plant', 'species', 'creative', 'imports', 'reclaim', 'waste', 'visited', 'impressed', 'suggest', 'allowed', 'converge', 'figure', 'intertwined', '2050', 'cities', '800', 'die', 'nexus', 'concerns', 'identifies', 'preparatory', 'deserved', 'perspectives', 'assisting', '1992', 'failures', 'officials', '2007', 'envisioned', 'socially', 'environmentally', '2020', 'intended', 'lowcarbon', 'convey', 'greetings', 'attending', 'relating', 'statements', 'liberty', 'bolivian', 'industrialized', 'bolivia', 'entered', 'illiteracy', 'coverage', 'potable', 'interamerican', 'bank', 'department', 'told', 'iii', 'blessing', 'minimizing', 'helps', 'subject', 'empire', 'embassy', 'companies', 'freed', 'hydrocarbons', 'acquired', 'underground', 'looting', 'really', '300', 'waged', 'movements', 'expert', 'issued', 'patriotic', '2025', 'plurinational', 'provincial', 'besides', 'pending', 'chile', 'invasion', '23', 'resistance', 'chilean', 'subsequently', 'unfair', 'tried', 'celac', 'piñera', 'echeñique', 'shows', '17', 'publicly', 'stake', 'la', 'autonomy', 'trying', 'fourth', 'contradiction', '11', 'valid', 'possibility', 'peru', 'defence', 'rulings', 'wanted', 'hostility', 'demonstration', 'geographically', 'grandparents', 'dispute', 'listen', 'exploited', 'empires', 'wonder', 'blocking', 'guarantees', 'allies', 'arrogance', 'coups', 'spending', 'spend', 'annually', 'money', 'leaving', 'talk', 'torture', 'bases', 'mistaken', 'excuse', 'capitalism', 'bombed', 'governing', 'campaigns', 'govern', 'possesses', 'perfectly', 'produces', 'wage', 'seeing', 'substitute', 'rich', 'fate', 'imperial', 'debated', 'colonization', 'masters', 'conventions', 'someone', 'indigenous', 'drugs', 'rid', 'grateful', 'improvements', 'acknowledged', 'somewhat', 'visiting', 'location', 'visas', 'maduro', 'imperialism', 'completely', 'attitude', 'vote', 'corrupt', 'arrive', 'located', 'blackmail', 'visa', 'threatened', 'surprised', 'struck', 'fraternal', 'exact', 'opposite', 'trial', 'bombing', 'benefited', 'recovered', 'democratically', 'bullets', 'votes', 'arming', 'expelled', 'unconditional', 'inflicted', 'anywhere', 'harm', 'contemplate', 'sort', 'whatever', 'abuse', 'extending', 'thinks', 'involves', 'controlled', 'favour', 'bit', 'untiring', 'exemplary', 'elaborate', 'send', 'redouble', 'late', 'hero', 'virtue', 'hungry', 'sick', 'medicine', 'tired', 'naked', 'fit', 'underpinned', '1000', 'reversing', 'incidence', 'tuberculosis', 'strikes', 'robust', 'grappling', 'depend', 'resulting', 'unemployed', '400', 'deprivation', 'cope', 'distributed', 'falling', 'overlooked', 'failing', 'target', 'fostering', 'inclusiveness', 'jamaica', 'craft', 'mindful', 'slavery', 'modernday', 'boys', 'torn', 'lands', 'unspeakable', 'memorial', 'transatlantic', 'slave', 'winning', 'signals', 'memory', 'untold', 'generous', 'reparations', 'proclaim', 'descent', 'requisite', 'paid', 'immune', 'landmark', 'embarking', 'ratification', 'neighbour', 'twenty', 'extraterritorial', 'revitalize', 'king', 'moments', 'comfort', 'falls', 'chinese', 'renewal', 'centennial', 'namely', 'finish', 'socialist', 'answer', 'pattern', 'theory', 'mentality', 'globalization', 'adhered', 'doctrine', 'points', 'staunch', 'winwin', 'procedures', 'consultation', 'consistent', 'resolutely', 'lawful', 'outbreak', 'speed', 'root', 'adjustment', 'unconventional', 'volatility', 'bright', 'generally', 'leads', 'addresses', 'steady', 'vigorously', 'beautiful', 'output', 'economics', 'dividends', 'industrialization', 'cornerstone', 'safeguards', 'deepen', 'fields', 'representation', 'brics', 'playing', 'opposed', 'balanced', 'respective', 'northsouth', 'accessible', 'secondlargest', 'propose', 'destiny', 'lasted', 'opposes', 'verification', 'hostilities', 'convening', 'emergency', 'amount', 'germany', 'substantive', 'concerted', 'easing', 'sixparty', 'tenth', 'resume', 'adhere', 'differentiated', 'liberalization', 'facilitation', 'scaling', 'forceful', 'notable', 'seventieth', 'ashes', 'embodies', 'relentless', 'privilege', 'organ', 'reiterating', 'wounded', 'nationbuilding', 'crafted', 'seems', 'game', 'investing', 'attempts', 'rio', 'janeiro', 'undemocratic', 'indefinitely', 'discussing', 'forever', 'beloved', 'nelson', 'mandela', 'gesture', 'treatment', 'welcomed', 'receive', 'sahara', 'enjoy', 'jeopardize', '1994', 'birth', 'soul', 'tuvalu', 'outgoing', 'committing', 'vulnerabilities', 'sdgs', 'aviation', 'postmdg', 'consolidate', 'myriad', 'manmade', 'advocacy', 'consciousness', 'redress', 'delivers', 'constitute', 'tyranny', 'sufficiency', 'setbacks', 'regression', 'dependent', 'derived', 'domain', 'bill', 'genderbased', 'facilitated', 'sphere', 'barbados', 'mauritius', 'apia', 'bureaucracy', 'abstract', 'survival', 'appreciates', 'graduation', 'ldc', 'category', 'istanbul', 'irresponsible', 'failure', 'weight', 'list', 'sealevel', 'stark', 'wake', 'waiting', 'duty', 'greenhousegas', 'majuro', 'surely', 'save', 'kyoto', 'protocol', 'curbing', 'hosting', 'linked', 'surrounded', 'obvious', 'surface', 'incidents', 'dealt', 'pays', 'mitigate', 'transportation', 'alternative', 'solar', 'wind', 'wave', 'appreciate', 'formulating', 'underdeveloped', 'embrace', 'smooth', 'discipline', 'tell', 'grandchildren', 'honduras', 'extends', 'warmest', 'lobo', 'sosa', 'secured', 'hundred', 'restored', 'credit', 'principal', 'healing', 'mediumsized', 'consolidating', 'discussed', 'referring', 'homicide', 'congress', 'entirely', 'lacking', 'protected', 'insufficient', 'assume', 'essence', 'prosecutor', 'cruel', 'degrading', 'enacted', 'fundamentally', 'targeting', 'multisectoral', 'announce', 'dry', 'corridor', 'entering', 'participatory', 'teachers', 'closed', '49', 'preventable', '90', 'vaccines', 'antiretroviral', 'el', 'salvador', 'nicaragua', 'opportune', 'recall', 'october', 'repeat', 'underscore', 'governmental', 'orderly', 'delays', 'traditionally', 'nine', 'function', 'independently', 'multiple', 'seven', 'letter', 'centrality', 'suited', 'twin', 'legitimacy', 'costs', 'flows', 'banks', 'anchor', 'shaped', 'enjoys', 'acceptance', 'merely', 'condition', 'prejudice', 'modest', '95', 'defining', 'lethal', 'threatens', 'deployed', 'condemned', 'chemicalweapons', 'material', 'equipment', 'earliest', 'resumed', 'menace', 'epicentre', 'yesterday', 'sentiments', 'tomorrow', 'jammu', 'kashmir', 'machinery', 'cohesive', 'timebound', 'guard', 'gaining', 'sensitive', 'completing', 'muchneeded', 'unwavering', 'universe', 'kenyan', 'demonstrates', 'battle', 'alshabaab', 'horn', 'fought', 'fronts', 'intelligence', 'elements', 'died', 'resolute', 'brave', 'somali', 'reinforced', 'expanded', 'compared', 'weakening', 'militarily', 'underestimate', 'propaganda', 'mercy', 'reassure', 'media', 'schools', 'universities', 'defeated', 'battlefield', 'vigorous', 'brussels', 'paradigm', 'respectful', 'connect', 'democratization', 'multiparty', 'provisional', 'quickly', 'boundaries', 'thinking', '27', 'accord', 'establishes', 'administrations', 'statebuilding', 'channel', 'offices', 'coercion', 'adhering', 'milestones', 'articulated', 'remarkable', 'gathering', 'announced', 'benchmarks', 'removal', 'indian', 'courageous', 'troop', 'showed', 'tragically', 'sadness', 'easier', 'endure', 'childhood', 'otherwise', 'selective', 'motivated', 'cohesion', 'seeds', 'tree', 'challenging', 'fiftieth', 'symbol', 'formed', 'commemorate', 'zambia', 'resonate', 'populations', 'race', 'albeit', 'amid', 'released', 'ratio', 'marriage', 'zero', 'infection', 'release', 'deliberately', '55', 'absence', 'undermined', 'recorded', 'overemphasized', 'anchored', 'mainstream', 'transcend', 'continuity', 'incomplete', 'overdue', 'ezulwini', 'allinclusive', 'adapting', 'prevailing', 'realized', 'conferences', 'cluster', 'munitions', 'preamble', 'characterized', 'requirement', 'eleventh', 'mitigating', 'droughts', 'commendable', 'namibia', 'predictable', 'urges', 'signatories', 'madagascar', 'parliamentary', 'logistical', 'southern', 'zimbabwe', 'ibrahim', 'boubacar', 'keita', 'endured', 'inspectors', 'league', 'envisaged', 'fitting', 'dominant', 'themes', 'pillars', 'mobilized', 'undertaking', 'attainable', 'modernize', 'vein', 'lofty', 'unfulfilled', 'weakest', 'primacy', 'revealed', 'protecting', 'guise', 'saddam', 'possessed', 'preference', 'unilateralism', 'expresses', 'principled', 'anachronistic', 'character', 'glaring', 'noninterference', 'eyes', 'shame', 'ample', 'remove', 'virtues', 'colonialism', 'persecution', '31', 'applauded', 'appears', 'relative', 'san', 'marino', 'precious', 'ensures', 'distinction', 'ceremony', 'combatting', 'inequalities', 'considers', 'violent', 'racism', 'racial', 'guaranteed', 'disabled', 'kidnapping', 'summary', 'executions', 'exploitation', 'chronic', 'optional', 'protocols', 'stressed', 'regulating', 'uncertainty', 'preventing', 'ranks', 'lastly', 'sponsor', 'solving', 'definition', 'perspective', 'impression', 'relief', 'unfortunate', 'boost', 'mobilization', 'persists', 'intends', 'phenomenon', 'blood', 'recruitment', 'ignorance', 'fanaticism', 'supposed', 'totally', 'curb', 'chad', 'candidature', 'expects', 'valiant', 'indication', 'unshakeable', 'sudanese', 'darfur', 'chadian', 'philosophy', 'regular', 'unanimously', 'daughters', 'energies', 'joining', '200000', 'foster', 'vain', 'definitive', 'religions', 'escalation', 'affront', 'tear', 'apart', 'page', 'divisions', 'devoted', 'exploiting', 'inter', 'alia', 'longawaited', 'shocking', 'shadow', 'weaknesses', 'systematically', 'cynical', 'generate', 'watershed', 'unabated', 'disregard', 'hopefully', 'ceasefire', 'agrees', 'unpunished', 'impartial', 'icc', 'referral', 'poses', 'mandated', 'prosecute', 'satisfied', 'evidence', 'investigating', 'amendments', 'kampala', 'troubling', 'complement', 'enforce', 'andorra', 'slovenia', 'uruguay', 'weakness', 'suggested', 'composition', 'empower', 'test', 'extension', 'universality', 'floor', 'gabon', 'seventh', 'hassan', 'rouhani', 'intolerable', 'offers', 'stimulate', 'tokyo', 'convert', 'prior', 'timber', 'combine', 'tirelessly', 'prisoners', 'initiated', 'sidelines', 'morocco', 'candidate', 'addis', 'ababa', 'lakes', 'lord', 'returns', 'responded', 'proof', 'elect', 'moroccan', 'atlantic', '2018', 'blocked', 'wished', 'convictions', 'smallest', 'diplomats', 'walked', 'unrelenting', 'bound', 'prosper', 'manufacturing', 'remember', 'neglect', 'survive', 'ill', 'gone', 'fulfilled', 'captured', 'corner', 'structure', 'escalating', 'deterioration', 'shortcomings', 'failings', 'correct', 'wrongs', 'regain', 'sisters', 'endorsed', 'tradition', 'repeating', 'disappointment', 'ecosystems', 'ethical', 'atmosphere', 'jeopardy', 'notably', 'wrought', 'possession', 'neither', 'att', 'ncds', 'cancer', 'basically', 'unable', 'wto', 'compensate', 'wanton', 'blow', 'exercised', 'collapsed', 'devastation', 'intentions', 'discriminatory', 'exercising', 'freely', 'hemisphere', 'lift', 'hinder', 'sponsors', 'published', 'allegedly', 'trinidad', 'tobago', 'native', 'vincent', 'grenadines', 'impaired', 'assert', 'colonies', 'injustices', 'salute', 'descendants', 'ancestors', 'heartbreaking', 'images', 'devise', 'deliberate', 'absolute', 'tears', 'illnesses', 'forests', 'founders', 'formulated', 'speeches', 'decisively', 'range', 'flagrant', 'incumbent', 'respectfully', 'chávez', 'frías', 'heartfelt', 'succeeding', 'hostage', 'bombings', 'deny', 'differently', 'christians', 'muslims', 'jews', 'press', 'lower', 'article', 'nobody', 'drones', 'worthy', 'arabisraeli', 'elite', 'love', 'names', 'commander', 'tireless', 'bombs', 'persecuted', 'streets', 'americans', 'sophisticated', 'discover', 'arbitrariness', 'answers', '68', 'employ', 'successor', 'emergencies', 'consist', 'slowly', 'meaning', 'petrocaribe', 'blockades', 'pointed', 'wisely', 'facilitates', 'macedonia', 'prohibited', 'biological', 'expanding', 'macedonian', 'greece', 'politicization', 'counter', 'disrespect', '1993', 'denial', '1995', 'mediation', 'flag', 'undertook', 'obstruct', 'judgment', 'apparent', 'anarchy', 'reign', 'detriment', 'predecessors', 'decide', 'acceptable', 'mothers', 'german', 'polish', 'dutch', 'portuguese', 'japanese', 'adverse', 'analysis', 'misunderstandings', 'drop', 'arguments', 'trigger', 'imposing', 'indicate', 'personally', 'greek', 'sufficient', 'serbia', 'kosovo', 'invite', 'openness', 'documents', 'quo', 'via', 'acted', 'assuming', 'silent', 'habits', 'conveying', 'civilized', 'dear', 'restoration', 'obtained', 'underlined', 'optimism', 'diversifying', 'pass', 'exclude', 'evolve', 'plus', 'g7', 'contributes', 'fragility', 'responsive', 'indonesia', 'intense', 'nonaligned', 'submit', 'commonwealth', 'appeals', 'horror', 'rejects', 'upheaval', 'losses', 'undergoing', 'referendum', 'contrast', 'patiently', 'rejecting', 'initial', 'solved', 'guinean', 'affects', 'desires', 'hub', 'subscribe', 'sixth', 'prerequisite', 'spanish', '1989', 'troops', 'turbulent', 'comprehensively', 'denying', 'evident', 'initially', 'africanled', 'regained', 'celebrates', 'summits', 'repeated', 'rests', 'lakhdar', 'brahimi', 'bolster', 'civilizations', 'austria', 'saudi', 'arabia', 'abdullah', 'bin', 'abdulaziz', 'interreligious', 'consolidated', 'decolonization', 'awaiting', 'ignored', 'surrounding', 'input', 'panama', 'contexts', 'conscious', 'algeria', 'neutrality', 'allocation', 'evaluation', 'integrates', 'philippines', 'roosevelt', 'unwomen', 'nationally', 'inseparable', 'consistency', 'speech', 'spoken', 'irreversible', 'adopting', 'sociopolitical', 'favourable', 'amounts', 'models', 'undermining', 'exclusively', 'occurred', 'brother', 'despicable', 'barbarous', 'compassion', 'embody', 'rightly', 'hide', 'announcement', 'speakers', 'patterns', 'unsustainable', 'driven', 'federated', 'micronesia', 'globally', 'strives', 'gravest', 'crops', 'minimize', 'hfcs', 'montreal', 'fisheries', 'wasted', 'burden', 'accounts', 'operate', 'nationwide', 'ancient', 'acidification', 'additionally', 'amendment', 'wise', 'says', 'separate', 'historically', 'transfers', 'mainstreamed', 'harnessing', 'telecommunications', 'telecommunication', 'misery', 'replaced', 'preparations', 'goodwill', 'fourthly', 'killings', 'enduring', 'kiribati', 'privileged', 'echo', 'conveyed', 'steering', 'plight', 'heartened', 'barbaric', 'appropriately', 'examine', 'peril', 'calamity', 'atoll', 'spared', 'acknowledging', 'copenhagen', 'remedy', 'emitters', 'uncertain', 'charge', 'rising', 'supplies', 'low', 'maldives', 'meaningfully', 'disproportionate', 'sword', 'waters', 'valued', 'sum', 'restructure', 'zones', 'excluded', 'brutally', 'accepting', 'bleak', 'inspiring', 'sisterly', 'longlasting', 'inherent', 'unequivocally', 'stem', 'revolution', 'unregulated', 'colleague', 'continental', 'room', 'endorsement', 'residual', 'dark', 'river', 'sierra', 'leone', 'consecutive', 'rebuilt', 'professional', 'professionalism', 'immigration', 'execute', 'sustaining', 'competent', 'shocks', 'criticism', 'attitudes', 'cochairs', 'builds', 'a68202', 'boldly', 'fuelled', 'expectation', 'feels', 'begins', 'ably', 'coincidence', 'revolutions', 'yemen', 'yoke', 'oppression', 'despotism', 'forging', 'chief', 'gcc', 'inspiration', 'logic', 'aspect', 'acute', 'embodied', 'custodian', 'holy', 'unfolding', 'adviser', 'drafting', 'yemeni', 'deter', 'punish', 'multitude', 'fertile', 'kinds', 'symptoms', 'phenomena', 'allocate', 'coasts', 'bloody', 'discharge', 'frustration', 'muslim', 'mosque', 'disagreement', 'opt', 'assumption', 'mansour', 'egyptians', 'dawn', 'countrymen', 'reasonable', 'embraces', 'invited', 'succeeded', 'enforcing', 'desperate', 'egyptian', 'tolerate', 'carrying', 'geographical', 'moderation', 'imbalance', 'warned', 'scenario', 'gaza', 'morally', 'eliminated', 'introduce', 'ratifying', 'relation', 'logical', 'monopoly', 'renounce', 'sirte', 'recovering', 'regimes', 'exert', 'delivered', 'assured', 'contained', 'jihadist', 'authorized', 'sites', 'mohammed', 'françois', 'hollande', 'halted', 'burkina', 'faso', 'benin', 'niger', 'savage', 'mauritania', 'mohamed', 'abdel', 'ran', 'mourning', 'wonderful', 'traffickers', 'barbarity', 'intimidation', 'thought', 'hostages', 'northern', 'periods', 'backed', 'preliminary', 'malians', 'finalize', 'except', 'openly', 'revive', 'decentralization', 'confidencebuilding', 'rebel', 'precarious', 'ministry', 'helm', 'backing', 'devastated', 'prevails', 'libyan', 'complexity', 'forcefully', 'uncertainties', 'flooding', 'lengthy', 'glance', 'pave', 'caught', 'landlocked', 'revitalization', 'occupies', 'seats', 'fullfledged', 'disturbing', 'renaissance', 'substantially', 'undernourishment', 'nongovernmental', 'exceeded', 'competitive', 'shortages', 'recurring', 'irrigation', 'judicious', 'techniques', 'channels', 'roads', 'bearing', 'extensive', 'controlling', 'displacement', 'coalition', 'disposal', 'opted', 'contingents', 'unjustified', 'necessarily', 'sahelosaharan', 'afflicted', 'murderous', 'fervent', 'impoverished', 'educated', 'incorporates', 'habit', 'percentage', 'noticeable', '85', 'adults', 'read', 'sections', 'nurses', 'pursuant', 'remote', 'hospitals', 'treated', 'houses', 'vitality', 'engine', 'grown', 'deprive', 'units', 'gangs', 'exposed', 'weather', 'billions', 'punishment', 'reporting', 'latter', 'murders', 'brunt', 'complemented', 'speculation', 'poorer', 'rates', 'dying', 'decreasing', 'infections', 'sweden', '100th', 'mobile', 'risen', 'abundant', 'believer', 'coordinating', 'selfevident', 'refused', 'childbirth', 'restrictions', 'entity', 'educating', 'schooling', 'authoritarian', 'barrier', 'thriving', 'recover', 'reverse', 'raging', 'systematic', 'competition', 'raises', 'illustrate', 'striking', 'fell', 'cover', 'double', 'everybody', 'girl', 'steer', 'bhutan', 'voted', 'ushered', 'box', 'continually', 'judiciary', 'relatively', 'footing', 'frequency', 'circle', 'synergies', 'sacred', 'floods', 'pose', 'ranging', 'revitalized', 'kuwait', 'bahrain', 'bridges', 'goodneighbourly', 'evolved', 'popular', 'iraqi', 'nationals', 'coordinator', 'closure', 'deteriorating', 'creativity', 'strip', 'doubts', 'inevitable', 'leap', 'ideal', 'reviewing', 'horizons', 'twentyfifth', 'cameroon', '77', 'remarks', 'disparities', 'pandemic', 'transmission', 'dropped', 'literacy', 'encountered', 'temporary', '‘', 'probably', 'garner', 'occupy', 'neglected', 'eccas', 'bangui', 'normal', 'commensurate', 'compounded', 'bureau', 'interregional', 'monitor', 'pool', 'morning', 'academia', 'stopping', 'actual', 'protests', 'austrian', 'excellence', 'thailand', '150', 'accomplishment', 'missile', 'shortly', 'instances', 'journalists', 'minorities', 'orientation', 'deploy', 'sri', 'evaluated', 'lanka', 'ruthless', 'ranked', 'declined', '65', 'dividend', 'sociocultural', 'designing', 'formulation', 'recommended', 'blessed', 'policing', 'await', 'permit', 'eradicated', 'province', 'unequal', 'suspicion', 'enlightened', 'unequivocal', 'humans', 'damaging', 'links', 'juncture', 'synergy', 'avoiding', 'optimal', '1982', 'conciliation', 'archipelago', 'breach', 'satisfy', 'blueprint', 'exploit', 'scholars', 'prescribed', 'affirmed', 'evil', 'turbulence', 'christian', 'citizenship', 'fire', '57', 'soil', 'grows', 'slovak', 'governed', 'casualties', 'afraid', 'slovakia', 'requests', 'afghan', 'concentration', 'intensive', 'quick', 'guns', 'emphasizing', 'identifying', 'deficiencies', 'prevalent', 'formulate', 'incentives', 'preparedness', 'prayers', 'vanuatu', 'peaceloving', 'resorting', 'illegitimate', 'spent', 'colour', 'recognizing', 'caledonia', 'kanak', 'melanesian', 'spearhead', '33', 'papua', 'admit', 'murdered', 'errors', 'jurisdiction', 'situated', 'explore', 'adequately', 'accompanying', 'ports', 'airports', 'amending', 'distinguished', 'guyana', 'execution', 'barely', 'needless', 'narrowing', 'badly', 'operating', 'withdraw', 'bears', 'hasten', 'expenditure', 'grapple', 'measured', 'gdp', 'concessionary', 'wiped', 'hurricane', 'incapable', 'discourse', 'humility', 'fostered', 'compass', 'navigate', 'conformity', 'prefer', 'persistence', 'saint', 'lucia', 'loud', 'therein', 'resist', 'arrest', 'backs', 'elusive', 'eligible', 'broaden', 'port', 'mankind', 'devote', 'mexico', 'storms', 'worship', 'struggles', 'spiritual', 'imagined', 'iron', 'jurisdictions', 'tackled', 'perfect', 'cleansing', 'prevents', 'undermines', 'sooner', 'notion', 'dismantle', 'headed', 'delighted', 'canada', 'approval', 'chileans', 'division', 'advice', 'consent', 'negatively', 'warfare', 'vacuum', 'strict', 'deeds', 'gestures', 'uniting', 'quarrels', 'paths', 'virtually', 'imagination', 'compatriots', 'republican', 'melting', 'widespread', 'burundi', 'dedicate', 'legality', 'reconcile', 'indivisible', 'abandon', 'avert', 'relaunch', 'arbitrary', 'quartet', 'undeniable', 'pushing', 'arising', 'complementarity', 'charged', 'alliances', 'adapted', 'consultative', 'destination', 'compassionate', 'dictatorship', 'replace', 'cochair', 'whenever', 'herald', 'broadbased', 'unfettered', 'nightmare', 'assault', 'volatile', 'push', 'fairness', 'endorse', 'midst', 'irrespective', 'extinction', 'singular', 'prominence', 'triumph', 'catastrophic', 'officers', 'solomon', 'transit', 'humane', 'paradox', 'ninth', 'trouble', 'incomprehensible', 'manage', 'window', 'wipe', 'disturbed', 'barrel', 'dismantling', 'eswatini', 'registered', 'voting', 'monarchy', 'homegrown', 'complies', '2022', 'vocational', 'invested', 'congolese', 'deplorable', 'forest', 'grand', 'minimum', 'sad', 'hidden', 'distress', 'municipal', 'breakthroughs', 'montenegro', 'assiduously', 'oriented', 'network', 'inspection', 'highlights', 'suppress', 'operationalization', '1325', 'supporter', 'enters', 'guidelines', 'neighbourly', 'romania', 'cabinet', 'meant', 'italy', 'poland', 'applicable', 'analyse', 'ripe', 'occurring', 'inquiry', 'refuge', 'resettlement', 'triggered', 'continuously', 'silence', 'functions', 'transnistrian', 'nagorno', 'karabakh', 'abkhazia', 'advantages', 'complementary', 'overriding', 'resultsoriented', '1990', 'luxembourg', 'imposition', 'repression', 'hours', 'tuesday', 'break', 'cessation', 'contiguous', 'kerry', 'israelis', 'destroying', 'monday', 'virtuous', '46', 'séléka', 'militias', 'recruited', 'disastrous', 'callous', 'vigilance', 'ms', 'refusal', 'subscribes', 'rendered', 'kitts', 'nevis', 'sharp', 'offshore', 'electronic', 'components', 'aircraft', 'perceived', 'commended', 'intrinsically', 'geared', 'diversification', 'relies', 'assisted', 'plague', 'margins', 'budgets', 'repercussions', 'criminality', 'forged', 'basin', 'zerotolerance', 'behaviour', 'qualified', 'proposing', 'functional', 'icao', 'speaks', 'elevated', 'frontiers', 'rwanda', 'luxury', 'africans', 'nowhere', 'dictatorial', 'unsmil', 'smuggling', 'tripoli', 'tunisia', 'maghreb', 'thereof', 'motion', 'runs', 'enforced', 'disappearance', 'interior', 'nationality', 'annexation', 'alquds', '1990s', 'liberal', 'proclaimed', 'horrendous', 'georgian', 'suicide', 'armenia', 'moldova', 'azerbaijan', 'soviet', 'eurasian', 'unlike', 'kremlin', 'moscow', 'baku', 'dividing', 'mercenaries', 'losing', 'react', 'misunderstanding', 'interpretation', 'virus', 'erosion', 'ugly', 'naive', 'appealed', 'erased', 'caucasus', 'fanatic', 'unification', 'premise', 'imposes', 'london', 'rejected', 'elites', 'viability', 'revenues', 'meanwhile', 'cultivating', 'marshal', 'oppressed', 'knew', 'wrote', 'secret', 'impressive', 'hoped', 'oppose', 'mostly', 'university', 'pages', 'swiftly', 'darkness', 'youngest', 'rush', 'cite', 'steadily', 'undergone', 'ages', 'visàvis', 'conjunction', 'choices', 'distorted', 'zerosum', 'games', 'futures', 'displayed', 'paraguay', 'validity', 'paraguayan', 'honesty', 'generated', 'plants', 'beneath', 'exceeds', 'perception', 'admiration', 'predictability', 'logistics', 'workforce', 'francisco', 'modernity', 'judge', 'mired', 'missed', 'perils', 'mountain', 'lesotho', 'mountains', 'discord', 'partial', 'inextricably', 'tide', 'jubilee', 'formation', 'apartheid', 'certainty', 'alassad', 'text', 'vii', 'renunciation', 'confirms', 'offensive', 'facility', 'pandemics', 'endanger', 'treating', 'halved', 'appear', 'ineffective', 'meaningless', 'dilemma', 'jeopardizing', 'recalling', 'difficulty', 'generating', 'longing', 'cycles', 'pause', 'granting', 'malta', 'searching', 'headlines', 'forcibly', 'stir', 'waves', 'unthinkable', 'reversed', 'holistically', 'outraged', 'appalling', 'polluted', 'brutality', 'carnage', 'malala', 'books', 'para', 'tajikistan', 'cosponsored', 'dushanbe', 'hydropower', '10year', 'almaty', 'stepped', 'deem', 'sixtyninth', 'switzerland', 'cry', 'distrust', 'disagreements', 'unleashed', 'richer', 'consume', 'bury', 'aspired', 'relationships', 'lifestyle', 'reserve', 'uses', 'nationalism', 'regulations', 'convergence', 'planetary', 'unleash', 'abolish', 'airlines', 'ought', 'grew', 'pushed', 'republics', 'arose', 'ignoring', 'cultivate', 'research', 'criticize', 'saved', 'station', 'buy', 'reproduce', 'galvanized', 'mozambique', 'method', 'tenets', 'mines', 'sadc', 'galvanizing', 'costa', 'rica', 'protects', 'henceforth', 'underscores', 'denmark', 'nicaraguan', 'commits', 'lowest', 'guatemala', 'ethiopia', 'celebration', 'halfcentury', 'settled', 'multifaceted', 'narrative', 'presenting', 'galvanize', 'exerting', 'verify', 'unflinching', 'deficit', 'nurture', 'bahamas', 'compelling', 'lament', 'responsibly', 'earned', 'empowered', 'destabilization', 'citizenry', 'infrastructural', 'impede', 'influx', 'miles', '80', 'rarely', 'hour', 'mixed', 'fish', 'mindset', 'vessel', 'scheme', 'clinton', 'harvesting', 'geothermal', 'fill', 'dioxide', 'provinces', 'privatesector', 'belongs', '20132017', 'connecting', 'malaysia', 'overwhelmingly', 'heights', 'fiji', 'notes', 'director', 'australian', 'distant', 'outer', 'cutting', 'slogans', 'hardly', 'minerals', 'nuclearweapon', 'rapporteur', 'equatorial', 'benefiting', 'disagree', 'argument', 'suitable', 'mediators', 'coexist', 'withdrawal', 'implies', 'jewish', '2500', 'exile', '1979', 'tehran', 'moderates', 'creed', 'permitted', 'berlin', 'pull', 'massacre', 'washington', 'agent', '2002', 'uranium', 'enrichment', 'enriched', 'tons', 'centrifuges', 'route', 'concessions', 'book', 'eat', 'comparison', 'matched', 'capability', 'enrich', 'revolutionary', 'enemy', 'prophet', 'drink', 'uprooted', 'swept', 'claiming', 'sunni', 'shia', 'deploying', 'false', 'tearing', 'reaffirming', 'oldest', 'hizbullah', '3000', 'blown', 'passengers', 'answered', 'executed', 'distinct', 'militant', 'koran', 'allah', 'ibid', 'justly', 'muhammad', 'faiths', 'nonuse', 'predicated', 'insist', 'twice', 'recurrence', 'continuation', 'cries', 'cypriots', 'frozen', 'turkish', 'belgrade', 'differ', 'wartorn', 'serbian', 'uganda', 'enjoyment', 'hinges', 'symbolic', 'helsinki', 'metohija', 'pristina', 'approve', 'unmik', 'forming', 'serbs', 'abused', 'prison', 'panamanians', 'panamanian', 'reviewed', 'investigated', 'sand', 'canal', 'discovered', 'expenditures', 'estimates', '125', '9', 'contract', 'colombian', 'puerto', 'rico', 'assessments', 'urged', 'haitian', 'pope', 'francis', 'catholic', 'church', 'voluntary', 'objectively', 'rockets', 'containing', 'fired', 'intractable', 'abbas', 'netanyahu', 'blame', 'suit', 'instil', 'corrections', 'estonia', 'drivers', 'domestically', 'online', 'sao', 'tome', 'principe', 'anticipate', 'mediate', 'tranquillity', 'consensual', 'fratricidal', 'lao', 'discharging', 'frequent', 'graduating', 'povertyreduction', 'unexploded', 'ordnance', 'lldcs', 'asiapacific', 'finland', 'pathway', 'predicted', 'precondition', 'actionoriented', 'flight', 'havens', 'shouldering', 'persuade', 'latvia', 'accumulated', 'complacency', 'spaces', 'regulate', 'suffers', 'francophonie', 'grounds', 'sow', 'wildlife', 'finances', 'demobilization', 'reintegration', 'designation', 'constituent', 'sworn', 'neighbourhoods', 'supporters', 'placing', 'destitution', 'abducted', 'relates', 'asylum', 'turkmenistan', 'goodneighbourliness', 'underlying', 'attract', 'successive', 'wideranging', 'yield', 'exercises', 'evaluating', 'payment', 'unambiguous', 'brighter', 'fundamentalism', 'acknowledges', 'reunification', '39', 'testament', 'coherence', 'dynamism', '45', 'enablers', 'richest', 'layer', 'unexpected', 'dating', 'entrench', 'consequence', 'jonglei', 'efficiently', 'austerity', 'monitored', 'pibor', 'county', 'impediments', '10000', 'combatants', 'counterpart', 'albashir', 'expeditiously', 'culminate', 'replete', 'relentlessly', 'nonmember', 'recourse', 'mining', 'indebted', 'tropical', 'eighteenth', 'sanctuary', 'tanzania', 'interfere', 'ireland', 'grim', 'servants', 'cubans', 'nonviolence', 'nepal', 'breathe', 'timetable', 'graduate', 'competitiveness', 'bottom', 'migrant', 'nam', 'ethnicity', 'aftermath', 'bipolar', 'taliban', 'catastrophes', 'sincerity', 'manifestation', 'warmongering', 'realm', 'dare', 'bestowed', 'listened', 'lebanese', 'attempting', 'pluralism', 'intellectual', 'emirates', 'fabric', 'selectivity', 'explosion', 'holocaust', '150000', 'g20', 'viet', 'npt', 'argentine', 'vulture', 'defaulted', 'talked', 'default', 'creditors', '66', 'politicians', 'preserved', 'pains', 'likeminded', 'sato', 'newborn', 'yeasmin', 'polyglu', 'kyrgyzstan', 'metres', 'aggravated', 'interrelated', 'shanghai', 'alternatives', 'hungary', 'knowhow', 'expo', 'synthesis', 'immigrants', 'indifference', 'italian', 'defenders', 'sultanate', 'oman', 'qatar', 'councils', 'ict', 'content', 'distort', 'paper', 'armenians', 'azerbaijani', '51', 'armenian', 'qualifies', 's2012522', 'albania', 'alnakba', '1948', 'exaggerated', 'relying', 'connections', 'site', 'slaughter', 'irish', 'kim', 'jong', 'designated', 'fuelling', 'command', 'enthusiasm', 'deadlock', 'representativeness', 'participant', 'communist', 'suggests', 'schedule', 'sights', 'cholera', '8000', 'experiment', 'explicitly', 'indirectly', 'compromises', 'disappointed', 'seemingly', 'cents', 'unchecked', 'matthew', 'reelection', 'angola', 'onset', 'hurricanes', 'deposited', 'czech', 'eritrea', 'eritrean', 'relieve', 'honourable', 'render', '20152017', 'keen', 'sect', 'martyrs', 'philippine', 'typhoons', 'covering', 'violating', 'sterling', 'gambia', 'disparity', 'epidemic', 'profoundly', 'transitions', 'polarization', 'nurturing', 'comorian', 'comoros', 'mayotte', 'treat', 'chairperson', 'constitutions', 'fijian', 'fijians', 'sees', 'acutely', 'utilization', 'standalone', 'alarmed', 'unbearable', 'minsk', 'dictatorships', 'dared', 'conquer', 'epidemics', 'uzbekistan', 'aral', 'guatemalans', 'seychelles', 'abu', 'impacting', 'tunb', 'dominica', 'excuses', 'lifetime', 'fault', 'impulse', 'argue', 'averted', 'botswana', 'leaves', 'cotonou', 'resurgence', 'dominican', 'compulsory', 'portugal', 'belgium', 'centenary', 'cruelty', 'genocides', 'netherlands', 'quantities', 'peruvians', 'lima', 'moon', 'flooded', '15°c', 'palau', 'habitat', 'senegal', 'visions', 'justifies', 'restraint', 'bulgaria', 'accommodation', 'ruins', 'sweeping', 'viewed', 'pray', 'mongolia', 'ulaanbaatar', 'monaco', 'worrisome', 'brazilian', 'brazilians', 'malagasy', 'kazakhstan', 'astana', 'iceland', 'beijing', 'hamas', 'rocket', 'grievances', 'grenada', 'graduated', 'dock', 'shield', 'filled', 'breakdown', 'partnering', 'embedded', 'cape', 'verde', 'belize', 'guatemalan', 'cambodia', 'landmines', 'canadian', 'assessing', 'maría', 'zabala', 'colombians', 'sam', 'kutesa', 'ebola', 'rulebook', 'beheadings', '2178', 'ideologies', 'democratize', 'crimea', 'sham', 'mh17', 'shields', 'isil', 'trained', 'daesh', 'islamists', 'isis', 'boko', 'haram', 'defense', 'libyans', 'ansar', 'brazzaville', 'damian', 'a69pv6', 'updating', 'assange', '36', 'announcements', 'kathy', 'eez', 'pipa', '69', 'debts', 'ozone', 'dmz']\n"
     ]
    }
   ],
   "source": [
    "#Run this cell\n",
    "words = list(model.wv.vocab)\n",
    "print(words)"
   ]
  },
  {
   "cell_type": "code",
   "execution_count": 12,
   "metadata": {},
   "outputs": [
    {
     "name": "stdout",
     "output_type": "stream",
     "text": [
      "[-1.7922736  -1.4914318   0.40175793 -1.9825306   0.56508255  0.494214\n",
      " -0.22620153 -0.79461133 -0.7377637  -0.6903858   1.410642    0.42335156\n",
      " -0.29166198 -0.2764613  -0.23085786 -1.0610423  -0.7845496   0.76426786\n",
      " -1.602137   -0.41025093  0.3356726   0.46081167 -0.78801006  1.1206064\n",
      " -0.5349856  -0.95942426  1.2407933   0.1772448  -0.5872613   0.06201933\n",
      " -1.0449775   0.24845803 -0.33447653 -0.57546675  0.69060254  0.3045563\n",
      " -1.6436218  -1.0742316   1.0706518  -2.0803232   0.06677542  1.3527551\n",
      "  1.1414076   0.7034332   1.2144145   1.1062516   0.0579065   0.19230846\n",
      " -0.2467741   1.4161507  -0.8797585   0.04682063 -0.5281679   0.8474958\n",
      "  0.39491725 -0.5796642   0.3327129  -0.7508228  -1.6773189   0.8484403\n",
      "  0.5109349  -0.39286056 -0.4629749  -0.666082   -0.0866579  -0.27451703\n",
      "  0.2585713   0.47210592 -1.0406368  -0.59299785  0.8485156  -0.55287236\n",
      "  0.08037648 -1.0443712   0.6704618   0.8911163  -0.7042228   0.6475172\n",
      "  0.1362724  -1.1528914  -2.4573843   0.07603174  0.83506995 -1.1574154\n",
      "  2.0186808   1.5662311  -1.5952414  -0.42515114  0.42075527  2.2550213\n",
      " -1.4209638  -0.30771008  0.83575624  1.2023712  -0.45506585 -0.56608224\n",
      "  1.01134    -0.28699806 -0.8664625   1.9270606 ]\n"
     ]
    },
    {
     "name": "stderr",
     "output_type": "stream",
     "text": [
      "/Users/jmarshall/anaconda3/lib/python3.6/site-packages/ipykernel_launcher.py:1: DeprecationWarning: Call to deprecated `__getitem__` (Method will be removed in 4.0.0, use self.wv.__getitem__() instead).\n",
      "  \"\"\"Entry point for launching an IPython kernel.\n"
     ]
    }
   ],
   "source": [
    "print(model['president'])"
   ]
  },
  {
   "cell_type": "code",
   "execution_count": 13,
   "metadata": {},
   "outputs": [
    {
     "name": "stdout",
     "output_type": "stream",
     "text": [
      "[-0.27108383 -0.32912728  0.1487319  -0.01986235  0.6541603  -0.01988557\n",
      "  1.5125179   0.72048503 -1.0069411  -1.2239647   0.52375406 -0.0044952\n",
      " -0.23711315 -0.32070863  0.56467265 -1.8150144  -0.5031404   0.989473\n",
      " -0.67551786  0.15084048  1.3576572   0.42861563  0.19942105  0.14464362\n",
      " -1.155714   -0.65177566  0.5303524  -0.50473166 -1.4054247   0.20079634\n",
      " -0.34927794  0.70452964  0.08765935  1.3322564  -0.5698936   0.0967798\n",
      " -0.74172527  0.14504646  0.85142493  0.17442846  1.1716021   0.07156516\n",
      "  0.22768319 -0.17480294 -0.9977688   0.45856145  0.08844352  0.39897722\n",
      " -1.0784532   0.36854887 -0.6425315   0.11837773 -0.34250185  0.13155551\n",
      " -0.12568575 -0.21792139  1.7623185  -0.07131821  0.26893476 -0.00366\n",
      "  0.9138439  -0.12557873  0.17960486 -0.15149246 -0.2299628   0.3730832\n",
      " -0.5034338   0.57149154  0.13811941 -0.16509093 -0.21709435 -1.4089391\n",
      "  0.02126622 -0.45416713  0.04599469 -0.77647084 -0.22922777 -0.40480974\n",
      "  1.0629873  -1.7058235  -0.9363797  -0.3171309   0.37238863  0.08829977\n",
      "  0.80152816 -0.04096379 -1.5412148  -1.0257785  -0.46483654  0.6563097\n",
      "  0.40443614 -1.0709019  -0.5344866   0.44326708 -1.819647   -0.31046706\n",
      " -0.1093196   1.2101548   0.1498215  -1.4683024 ]\n"
     ]
    },
    {
     "name": "stderr",
     "output_type": "stream",
     "text": [
      "/Users/jmarshall/anaconda3/lib/python3.6/site-packages/ipykernel_launcher.py:1: DeprecationWarning: Call to deprecated `__getitem__` (Method will be removed in 4.0.0, use self.wv.__getitem__() instead).\n",
      "  \"\"\"Entry point for launching an IPython kernel.\n"
     ]
    }
   ],
   "source": [
    "print(model['conference'])"
   ]
  },
  {
   "cell_type": "code",
   "execution_count": 14,
   "metadata": {},
   "outputs": [
    {
     "name": "stdout",
     "output_type": "stream",
     "text": [
      "[-0.07835942 -0.03818349  0.06441616 -0.12912382 -0.04701467 -0.02991011\n",
      "  0.1050557  -0.08700606 -0.14029466 -0.16351604  0.14464533  0.01030899\n",
      " -0.08229811 -0.18865055  0.05362152 -0.08268909 -0.04589847  0.0607686\n",
      " -0.17982338 -0.06235105  0.06889854  0.01373883 -0.08591919  0.14834201\n",
      " -0.03098354 -0.11964897  0.11879118 -0.10795475 -0.02091543 -0.0323012\n",
      "  0.01632236 -0.00076021 -0.07321766 -0.12655787  0.16510741  0.00663672\n",
      "  0.01566935  0.01712177 -0.02785783 -0.11219358  0.00223739  0.06025551\n",
      "  0.11293148 -0.01531471  0.04490379  0.06146961  0.07001892  0.05538078\n",
      " -0.07960628  0.12934905  0.05079751  0.13948478 -0.08690705  0.01647762\n",
      "  0.063879   -0.0144001   0.0481633   0.09586231 -0.13828821  0.04303801\n",
      "  0.14257592 -0.09205037  0.07006537  0.0193633   0.03968168  0.03105294\n",
      "  0.04720858 -0.04510613  0.14320843  0.0520553   0.11903101  0.01274846\n",
      "  0.08831522 -0.16052537  0.11591946 -0.1315653  -0.01893049 -0.04750603\n",
      "  0.00406813 -0.03881596 -0.07529458  0.05451383  0.05497254  0.05453254\n",
      "  0.05751478  0.03535802  0.01430099 -0.2455291   0.13558452  0.17231713\n",
      " -0.04356353 -0.10651061  0.01691274  0.05182842  0.00885385  0.00470488\n",
      " -0.07169146 -0.06002006 -0.03843169 -0.01203988]\n"
     ]
    },
    {
     "name": "stderr",
     "output_type": "stream",
     "text": [
      "/Users/jmarshall/anaconda3/lib/python3.6/site-packages/ipykernel_launcher.py:1: DeprecationWarning: Call to deprecated `__getitem__` (Method will be removed in 4.0.0, use self.wv.__getitem__() instead).\n",
      "  \"\"\"Entry point for launching an IPython kernel.\n"
     ]
    }
   ],
   "source": [
    "print(model['hiv'])"
   ]
  },
  {
   "cell_type": "markdown",
   "metadata": {},
   "source": [
    "`gensim` comes with some handy methods to analyze word relationships. `similarity` will give us a number from 0-1 based on how similar two words are. If this sounds like cosine similarity for words, you'd be right! It just takes the cosine similarity of the high dimensional vectors we input. \n",
    "\n",
    "In the following cell, find the similarity between the words `president` and `leadership`:"
   ]
  },
  {
   "cell_type": "code",
   "execution_count": 15,
   "metadata": {},
   "outputs": [
    {
     "name": "stderr",
     "output_type": "stream",
     "text": [
      "/Users/jmarshall/anaconda3/lib/python3.6/site-packages/ipykernel_launcher.py:1: DeprecationWarning: Call to deprecated `similarity` (Method will be removed in 4.0.0, use self.wv.similarity() instead).\n",
      "  \"\"\"Entry point for launching an IPython kernel.\n"
     ]
    },
    {
     "data": {
      "text/plain": [
       "0.8574853"
      ]
     },
     "execution_count": 15,
     "metadata": {},
     "output_type": "execute_result"
    }
   ],
   "source": [
    "model.similarity('president','leadership')"
   ]
  },
  {
   "cell_type": "markdown",
   "metadata": {
    "collapsed": true
   },
   "source": [
    "#SOLUTION\n",
    "model.similarity('president', 'leadership')"
   ]
  },
  {
   "cell_type": "code",
   "execution_count": 16,
   "metadata": {},
   "outputs": [
    {
     "data": {
      "text/plain": [
       "0.34412825"
      ]
     },
     "execution_count": 16,
     "metadata": {},
     "output_type": "execute_result"
    }
   ],
   "source": [
    "model.wv.similarity('korea','nuclear')\n",
    "# does tokenizing make 'north korea' a one gram? probably not"
   ]
  },
  {
   "cell_type": "code",
   "execution_count": 17,
   "metadata": {},
   "outputs": [
    {
     "data": {
      "text/plain": [
       "0.95167184"
      ]
     },
     "execution_count": 17,
     "metadata": {},
     "output_type": "execute_result"
    }
   ],
   "source": [
    "model.wv.similarity('greenhousegas','sealevel')"
   ]
  },
  {
   "cell_type": "markdown",
   "metadata": {},
   "source": [
    "Now find the similarity between the words `different` and `leadership`."
   ]
  },
  {
   "cell_type": "code",
   "execution_count": 18,
   "metadata": {},
   "outputs": [
    {
     "name": "stderr",
     "output_type": "stream",
     "text": [
      "/Users/jmarshall/anaconda3/lib/python3.6/site-packages/ipykernel_launcher.py:1: DeprecationWarning: Call to deprecated `similarity` (Method will be removed in 4.0.0, use self.wv.similarity() instead).\n",
      "  \"\"\"Entry point for launching an IPython kernel.\n"
     ]
    },
    {
     "data": {
      "text/plain": [
       "0.29215968"
      ]
     },
     "execution_count": 18,
     "metadata": {},
     "output_type": "execute_result"
    }
   ],
   "source": [
    "model.similarity('different', 'leadership')"
   ]
  },
  {
   "cell_type": "markdown",
   "metadata": {},
   "source": [
    "You should notice that the the second smilarity score is significantly lower than the first. Does this make sense?\n",
    "\n",
    "Find the similarity score between other words that may have very strong or very weak relationships:"
   ]
  },
  {
   "cell_type": "code",
   "execution_count": 31,
   "metadata": {},
   "outputs": [
    {
     "data": {
      "text/plain": [
       "0.4186983"
      ]
     },
     "execution_count": 31,
     "metadata": {},
     "output_type": "execute_result"
    }
   ],
   "source": [
    "#Similarity 1\n",
    "model.wv.similarity('nuclear','jong')"
   ]
  },
  {
   "cell_type": "code",
   "execution_count": 32,
   "metadata": {},
   "outputs": [
    {
     "data": {
      "text/plain": [
       "0.79430056"
      ]
     },
     "execution_count": 32,
     "metadata": {},
     "output_type": "execute_result"
    }
   ],
   "source": [
    "#Similarity 2\n",
    "model.wv.similarity('conflict','war')"
   ]
  },
  {
   "cell_type": "code",
   "execution_count": 37,
   "metadata": {},
   "outputs": [
    {
     "data": {
      "text/plain": [
       "0.8541725"
      ]
     },
     "execution_count": 37,
     "metadata": {},
     "output_type": "execute_result"
    }
   ],
   "source": [
    "#Similarity 3\n",
    "model.wv.similarity('kimoon','kenyatta')"
   ]
  },
  {
   "cell_type": "markdown",
   "metadata": {},
   "source": [
    "We can also find cosine distance between two clusters of word vectors. Each cluster is measured as the mean of its words:"
   ]
  },
  {
   "cell_type": "code",
   "execution_count": 22,
   "metadata": {},
   "outputs": [
    {
     "name": "stderr",
     "output_type": "stream",
     "text": [
      "/Users/jmarshall/anaconda3/lib/python3.6/site-packages/ipykernel_launcher.py:2: DeprecationWarning: Call to deprecated `n_similarity` (Method will be removed in 4.0.0, use self.wv.n_similarity() instead).\n",
      "  \n"
     ]
    },
    {
     "data": {
      "text/plain": [
       "0.793573"
      ]
     },
     "execution_count": 22,
     "metadata": {},
     "output_type": "execute_result"
    }
   ],
   "source": [
    "#Similarity between the president/leadership cluster and the confdient/experience cluster\n",
    "model.n_similarity(['president','leadership'],['confident','experience'])"
   ]
  },
  {
   "cell_type": "markdown",
   "metadata": {},
   "source": [
    "We can find words that don't belong with `doesnt_match`. It finds the mean vector of the words in the `list`, and identifies the furthest away. Out of the three words in the list `['president', 'violent', 'leadership']`, which is the furthest vector from the mean?"
   ]
  },
  {
   "cell_type": "code",
   "execution_count": 23,
   "metadata": {},
   "outputs": [
    {
     "name": "stderr",
     "output_type": "stream",
     "text": [
      "/Users/jmarshall/anaconda3/lib/python3.6/site-packages/ipykernel_launcher.py:2: DeprecationWarning: Call to deprecated `doesnt_match` (Method will be removed in 4.0.0, use self.wv.doesnt_match() instead).\n",
      "  \n"
     ]
    },
    {
     "data": {
      "text/plain": [
       "'violent'"
      ]
     },
     "execution_count": 23,
     "metadata": {},
     "output_type": "execute_result"
    }
   ],
   "source": [
    "#Fill in the blanks\n",
    "model.doesnt_match(['president', 'violent', 'leadership'])"
   ]
  },
  {
   "cell_type": "code",
   "execution_count": 39,
   "metadata": {},
   "outputs": [
    {
     "data": {
      "text/plain": [
       "'kimoon'"
      ]
     },
     "execution_count": 39,
     "metadata": {},
     "output_type": "execute_result"
    }
   ],
   "source": [
    "#Fill in the blanks\n",
    "model.wv.doesnt_match(['kenyatta', 'kimoon', 'kofi']) # really interesting that it separated out Korean name"
   ]
  },
  {
   "cell_type": "markdown",
   "metadata": {},
   "source": [
    "### 'violent' is the vector furthest from mean of the three"
   ]
  },
  {
   "cell_type": "markdown",
   "metadata": {
    "collapsed": true
   },
   "source": [
    "#SOLUTION\n",
    "model.doesnt_match(['president', 'violent', 'leadership'])\n",
    "# 'violent'"
   ]
  },
  {
   "cell_type": "markdown",
   "metadata": {},
   "source": [
    "The most famous implementation of this vector math is semantics. What happens if we take:\n",
    "\n",
    "$$leadership - president + assembly = $$"
   ]
  },
  {
   "cell_type": "code",
   "execution_count": 24,
   "metadata": {},
   "outputs": [
    {
     "name": "stderr",
     "output_type": "stream",
     "text": [
      "/Users/jmarshall/anaconda3/lib/python3.6/site-packages/ipykernel_launcher.py:1: DeprecationWarning: Call to deprecated `most_similar` (Method will be removed in 4.0.0, use self.wv.most_similar() instead).\n",
      "  \"\"\"Entry point for launching an IPython kernel.\n"
     ]
    },
    {
     "data": {
      "text/plain": [
       "[('eighteenth', 0.8547649383544922),\n",
       " ('debate', 0.8410451412200928),\n",
       " ('adopted', 0.8410391807556152),\n",
       " ('session', 0.8395276069641113),\n",
       " ('current', 0.8351714611053467),\n",
       " ('highlevel', 0.8292064666748047),\n",
       " ('important', 0.8268540501594543),\n",
       " ('declaration', 0.8201839327812195),\n",
       " ('outcome', 0.8199611902236938),\n",
       " ('initiative', 0.8150495290756226)]"
      ]
     },
     "execution_count": 24,
     "metadata": {},
     "output_type": "execute_result"
    }
   ],
   "source": [
    "model.most_similar(positive=['leadership', 'assembly'], negative=['president'])"
   ]
  },
  {
   "cell_type": "markdown",
   "metadata": {},
   "source": [
    "__Question__: What does this equation mean, and what do these output vectors mean?"
   ]
  },
  {
   "cell_type": "markdown",
   "metadata": {},
   "source": [
    "### The vector math means what if you took the attributes of leadership, removed those associated with president, and added those associated with assembly. The output represents assembly leadership words in the UN"
   ]
  },
  {
   "cell_type": "markdown",
   "metadata": {},
   "source": [
    "__Answer__:"
   ]
  },
  {
   "cell_type": "markdown",
   "metadata": {},
   "source": [
    "The way that this works is that, by adding and subtracting attributes of each word vector, the equation outputs a vector with a new value for each of the (in this case 100) attributes. The model then outputs words in the corpus that most closely matches the attributes of this outputted vector. The most famous exampls is:\n",
    "\n",
    "$$ King - Man + Woman = ...$$\n",
    "\n",
    "__Question__: What do you think this would output, and why?"
   ]
  },
  {
   "cell_type": "markdown",
   "metadata": {},
   "source": [
    "Your answer here:"
   ]
  },
  {
   "cell_type": "markdown",
   "metadata": {},
   "source": [
    "__ANSWER__: Queen. We take the 'manliness' from `KING` and replace it with 'woman', so the word vector King, while retaining its high royalty attribute, no longer has a strong manliness attribute and now has a strong feminine attribute. "
   ]
  },
  {
   "cell_type": "markdown",
   "metadata": {},
   "source": [
    "# Principle Component Analysis <a id='section 2'></a>\n",
    "\n",
    "Next we will explore the word embeddings of our `text` visually with PCA (remember the EDA lab from 3/22?). \n",
    "\n",
    "We can retrieve __all__ of the vectors from a trained model as follows:"
   ]
  },
  {
   "cell_type": "code",
   "execution_count": 25,
   "metadata": {},
   "outputs": [
    {
     "name": "stderr",
     "output_type": "stream",
     "text": [
      "/Users/jmarshall/anaconda3/lib/python3.6/site-packages/ipykernel_launcher.py:1: DeprecationWarning: Call to deprecated `__getitem__` (Method will be removed in 4.0.0, use self.wv.__getitem__() instead).\n",
      "  \"\"\"Entry point for launching an IPython kernel.\n"
     ]
    }
   ],
   "source": [
    "X = model[model.wv.vocab]"
   ]
  },
  {
   "cell_type": "markdown",
   "metadata": {},
   "source": [
    "As we did in the EDA lab, we want to standardize X so that all features have the same scale. Do this by creating a StandardScaler(), then run its fit_transform method on X. You should recognize the syntax the EDA lab."
   ]
  },
  {
   "cell_type": "code",
   "execution_count": 26,
   "metadata": {},
   "outputs": [
    {
     "data": {
      "text/plain": [
       "array([[ 1.00016422,  0.71198571, -0.58569919, ..., -0.10294079,\n",
       "         0.44553108, -0.32037942],\n",
       "       [ 0.71198571,  1.00016595, -0.3065981 , ..., -0.06801232,\n",
       "         0.4308003 , -0.35704177],\n",
       "       [-0.58569919, -0.3065981 ,  1.00016471, ..., -0.25294392,\n",
       "        -0.44184764, -0.00224021],\n",
       "       ...,\n",
       "       [-0.10294079, -0.06801232, -0.25294392, ...,  1.00016911,\n",
       "        -0.09951445, -0.35284778],\n",
       "       [ 0.44553108,  0.4308003 , -0.44184764, ..., -0.09951445,\n",
       "         1.00016277,  0.1107267 ],\n",
       "       [-0.32037942, -0.35704177, -0.00224021, ..., -0.35284778,\n",
       "         0.1107267 ,  1.00016482]])"
      ]
     },
     "execution_count": 26,
     "metadata": {},
     "output_type": "execute_result"
    }
   ],
   "source": [
    "#scale the data\n",
    "X_std = StandardScaler().fit_transform(X)\n",
    "\n",
    "#look at the covariance matrix\n",
    "np.cov(X_std.T)"
   ]
  },
  {
   "cell_type": "markdown",
   "metadata": {
    "collapsed": true
   },
   "source": [
    "#SOLUTION\n",
    "#scale the data\n",
    "X_std = StandardScaler().fit_transform(X)\n",
    "\n",
    "#look at the covariance matrix\n",
    "np.cov(X_std.T)"
   ]
  },
  {
   "cell_type": "markdown",
   "metadata": {},
   "source": [
    "We can then train a projection method on the vectors, such as those methods offered in scikit-learn, then use matplotlib to plot the projection as a scatter plot which we will do next.\n",
    "\n",
    "### Plot Word Vectors Using PCA <a id='subsection 3'></a>\n",
    "\n",
    "Recall that we can create a 2-dimensional PCA model of the word vectors using the scikit-learn PCA class. Construct a PCA objectusing the `PCA()` class of the scikit-learn library (setting n_components=2 so we can graph it in two dimensions) and use its fit_transform method on your standardized X to get Y_pca: the principal components."
   ]
  },
  {
   "cell_type": "code",
   "execution_count": 27,
   "metadata": {},
   "outputs": [],
   "source": [
    "# make a PCA\n",
    "pca = PCA(n_components=2) #set n_components to 2 to graph in 2-D\n",
    "\n",
    "# fit the standardized data\n",
    "Y_pca = pca.fit_transform(X_std)"
   ]
  },
  {
   "cell_type": "markdown",
   "metadata": {
    "collapsed": true
   },
   "source": [
    "#SOLUTION\n",
    "#make a PCA\n",
    "pca = PCA(n_components=2) #set n_components to 2 to graph in 2-D\n",
    "\n",
    "#fit the standardized data\n",
    "Y_pca = pca.fit_transform(X_std)"
   ]
  },
  {
   "cell_type": "markdown",
   "metadata": {},
   "source": [
    "The resulting projection can be plotted using matplotlib, pulling out the two dimensions as x and y coordinates. Create a scatter plot of the standardized word embeddings, setting the __size of each scatter point to 5__ to avoid overcrowding."
   ]
  },
  {
   "cell_type": "code",
   "execution_count": 28,
   "metadata": {},
   "outputs": [
    {
     "data": {
      "text/plain": [
       "<matplotlib.collections.PathCollection at 0x1a1d193278>"
      ]
     },
     "execution_count": 28,
     "metadata": {},
     "output_type": "execute_result"
    },
    {
     "data": {
      "image/png": "[encoded data removed]",
      "text/plain": [
       "<Figure size 432x288 with 1 Axes>"
      ]
     },
     "metadata": {},
     "output_type": "display_data"
    }
   ],
   "source": [
    "#Create a scatter plot here\n",
    "plt.scatter(Y_pca[:,0], Y_pca[:,1], s=5)"
   ]
  },
  {
   "cell_type": "markdown",
   "metadata": {
    "collapsed": true
   },
   "source": [
    "#SOLUTION\n",
    "plt.scatter(Y_pca[:, 0], Y_pca[:, 1], s= 5)\n",
    "### not sure I get this; you are plotting rows and columns of the PCA model?"
   ]
  },
  {
   "cell_type": "code",
   "execution_count": 29,
   "metadata": {},
   "outputs": [
    {
     "name": "stdout",
     "output_type": "stream",
     "text": [
      "<class 'numpy.ndarray'>\n",
      "(6122, 2)\n"
     ]
    }
   ],
   "source": [
    "print(type(Y_pca))\n",
    "print(Y_pca.shape)"
   ]
  },
  {
   "cell_type": "markdown",
   "metadata": {},
   "source": [
    "__Question__: What do each point represent? What do the x and y axes represent?"
   ]
  },
  {
   "cell_type": "markdown",
   "metadata": {},
   "source": [
    "__ANSWER__: Each point represents a word. Explanation for axes are below as a part of the lab: (aren't the axes the two principal components?)"
   ]
  },
  {
   "cell_type": "markdown",
   "metadata": {},
   "source": [
    "You might at this point still be confused on what the x- and y- axes represent. Because PCA selects and combines features according to what best describes and models the desired variable, the x and y axes actually don't have an intuitive meaning on a human level. PCA's job is to reduce the dimension of the features, and in this case it manipulated the 100 features each word vector had to just 2 that best described the words we modeled on. So, don't worry too much about what the coordinates of each word represents - we just want you to have a general visual understanding of word vectors and how they may be related to one another on a graph.\n",
    "\n",
    "On that note, run the following cell. This will label each vector with its respective word. Can you figure out, in general, what the code is doing?"
   ]
  },
  {
   "cell_type": "code",
   "execution_count": 30,
   "metadata": {},
   "outputs": [
    {
     "name": "stderr",
     "output_type": "stream",
     "text": [
      "/Users/jmarshall/anaconda3/lib/python3.6/site-packages/ipykernel_launcher.py:4: DeprecationWarning: Call to deprecated `__getitem__` (Method will be removed in 4.0.0, use self.wv.__getitem__() instead).\n",
      "  after removing the cwd from sys.path.\n"
     ]
    },
    {
     "data": {
      "image/png": "[encoded data removed]",
      "text/plain": [
       "<Figure size 432x288 with 1 Axes>"
      ]
     },
     "metadata": {},
     "output_type": "display_data"
    }
   ],
   "source": [
    "import random\n",
    "rando = random.sample(list(model.wv.vocab), 15)\n",
    "\n",
    "X1 = model[rando]\n",
    "pca1 = PCA(n_components=2)\n",
    "result = pca.fit_transform(X1)\n",
    "# create a scatter plot of the projection\n",
    "plt.scatter(result[:, 0], result[:, 1])\n",
    "\n",
    "for i, word in enumerate(rando):\n",
    "    plt.annotate(word, xy=(result[i, 0], result[i, 1]))\n",
    "plt.show()"
   ]
  },
  {
   "cell_type": "markdown",
   "metadata": {},
   "source": [
    "*YOUR ANSWER HER*"
   ]
  },
  {
   "cell_type": "markdown",
   "metadata": {},
   "source": [
    "__ANSWER:__\n",
    "\n",
    "We are randomly selecting 15 words from the vectors outputted by the model. Then we are using PCA to reduce the dimention to 2 features and standardize the values as we did before. Then we are using matplotlib to create a scatter plot and, for each coordinate of the word, assigning the word label to the coordinate!"
   ]
  },
  {
   "cell_type": "markdown",
   "metadata": {},
   "source": [
    "Great job! You've now completed the lab on word embeddings and visualizing embeddings with PCA!\n",
    "\n",
    "---\n",
    "\n",
    "## Bibliography\n",
    "\n",
    "- Brownlee, Jason. (2017, October 6). How to Develop Word Embeddings in Python with Gensim. https://machinelearningmastery.com/develop-word-embeddings-python-gensim/\n",
    "\n",
    "- TensorFlow. (2018, March 29). Vector Representations of Words. https://www.tensorflow.org/tutorials/word2vec\n",
    "- `rem_punc_stop` function borrowed from Tian Qin's notebook on pre-processig: https://github.com/ds-modules/LEGALST-190/blob/master/labs/3-1/3-1_preprocessing_text_student_version.ipynb\n",
    "- PCA section adapted from materials by Keeley Takimoto: https://github.com/ds-modules/LEGALST-190/blob/master/labs/3-22/3-22_EDA.ipynb\n",
    "- Word2Vec introduction & examples adapted from materials by Chris Hench: https://github.com/henchc/textxd-2017/blob/master/08-Word-Embeddings.ipynb\n",
    "\n",
    "\n",
    "\n",
    "Notebook developed by: Keiko Kamei\n",
    "\n",
    "Data Science Modules: http://data.berkeley.edu/education/modules"
   ]
  },
  {
   "cell_type": "code",
   "execution_count": null,
   "metadata": {},
   "outputs": [],
   "source": []
  }
 ],
 "metadata": {
  "anaconda-cloud": {},
  "kernelspec": {
   "display_name": "Python 3",
   "language": "python",
   "name": "python3"
  },
  "language_info": {
   "codemirror_mode": {
    "name": "ipython",
    "version": 3
   },
   "file_extension": ".py",
   "mimetype": "text/x-python",
   "name": "python",
   "nbconvert_exporter": "python",
   "pygments_lexer": "ipython3",
   "version": "3.6.8"
  }
 },
 "nbformat": 4,
 "nbformat_minor": 1
}
