{
 "cells": [
  {
   "cell_type": "markdown",
   "metadata": {},
   "source": [
    "# [LEGALST-190] Lab 4/5: Word2Vec & PCA\n",
    "\n",
    "In this lab, we will implement a Word2Vec algorithm on a sample of the UN General Debates dataset and conduct Principle Component Analysis of the resulting word embeddings. \n",
    "\n",
    "*Estimated Time: 45 minutes*\n",
    "\n",
    "### Table of Contents\n",
    "\n",
    "[Overview](#section context)<br>\n",
    "\n",
    "[The Data](#section data)<br>\n",
    "\n",
    "0- [Pre-Processing](#section 0)<br>\n",
    "\n",
    "1 - [Word2Vec](#section 1)<br>\n",
    "\n",
    "&nbsp;&nbsp;&nbsp;&nbsp;&nbsp;&nbsp; 1 - [Training](#subsection 1)\n",
    "\n",
    "&nbsp;&nbsp;&nbsp;&nbsp;&nbsp;&nbsp; 2 - [Embeddings](#subsection 2)\n",
    "\n",
    "2- [PCA of Word Embeddings](#section 2)<br>\n",
    "\n",
    "&nbsp;&nbsp;&nbsp;&nbsp;&nbsp;&nbsp; 1 - [Plot Word Vectors Using PCA](#subsection 3)\n",
    "\n",
    "\n",
    "__Dependencies:__"
   ]
  },
  {
   "cell_type": "code",
   "execution_count": 3,
   "metadata": {
    "scrolled": true
   },
   "outputs": [
    {
     "name": "stdout",
     "output_type": "stream",
     "text": [
      "Requirement already satisfied: nltk in /Users/student/anaconda3/lib/python3.6/site-packages\n",
      "Requirement already satisfied: six in /Users/student/anaconda3/lib/python3.6/site-packages (from nltk)\n",
      "Requirement already satisfied: gensim in /Users/student/anaconda3/lib/python3.6/site-packages\n",
      "Requirement already satisfied: numpy>=1.11.3 in /Users/student/anaconda3/lib/python3.6/site-packages (from gensim)\n",
      "Requirement already satisfied: smart-open>=1.2.1 in /Users/student/anaconda3/lib/python3.6/site-packages (from gensim)\n",
      "Requirement already satisfied: scipy>=0.18.1 in /Users/student/anaconda3/lib/python3.6/site-packages (from gensim)\n",
      "Requirement already satisfied: six>=1.5.0 in /Users/student/anaconda3/lib/python3.6/site-packages (from gensim)\n",
      "Requirement already satisfied: requests in /Users/student/anaconda3/lib/python3.6/site-packages (from smart-open>=1.2.1->gensim)\n",
      "Requirement already satisfied: boto3 in /Users/student/anaconda3/lib/python3.6/site-packages (from smart-open>=1.2.1->gensim)\n",
      "Requirement already satisfied: bz2file in /Users/student/anaconda3/lib/python3.6/site-packages (from smart-open>=1.2.1->gensim)\n",
      "Requirement already satisfied: boto>=2.32 in /Users/student/anaconda3/lib/python3.6/site-packages (from smart-open>=1.2.1->gensim)\n",
      "Requirement already satisfied: chardet<3.1.0,>=3.0.2 in /Users/student/anaconda3/lib/python3.6/site-packages (from requests->smart-open>=1.2.1->gensim)\n",
      "Requirement already satisfied: idna<2.7,>=2.5 in /Users/student/anaconda3/lib/python3.6/site-packages (from requests->smart-open>=1.2.1->gensim)\n",
      "Requirement already satisfied: urllib3<1.23,>=1.21.1 in /Users/student/anaconda3/lib/python3.6/site-packages (from requests->smart-open>=1.2.1->gensim)\n",
      "Requirement already satisfied: certifi>=2017.4.17 in /Users/student/anaconda3/lib/python3.6/site-packages (from requests->smart-open>=1.2.1->gensim)\n",
      "Requirement already satisfied: s3transfer<0.2.0,>=0.1.10 in /Users/student/anaconda3/lib/python3.6/site-packages (from boto3->smart-open>=1.2.1->gensim)\n",
      "Requirement already satisfied: jmespath<1.0.0,>=0.7.1 in /Users/student/anaconda3/lib/python3.6/site-packages (from boto3->smart-open>=1.2.1->gensim)\n",
      "Requirement already satisfied: botocore<1.11.0,>=1.10.0 in /Users/student/anaconda3/lib/python3.6/site-packages (from boto3->smart-open>=1.2.1->gensim)\n",
      "Requirement already satisfied: docutils>=0.10 in /Users/student/anaconda3/lib/python3.6/site-packages (from botocore<1.11.0,>=1.10.0->boto3->smart-open>=1.2.1->gensim)\n",
      "Requirement already satisfied: python-dateutil<2.7.0,>=2.1 in /Users/student/anaconda3/lib/python3.6/site-packages (from botocore<1.11.0,>=1.10.0->boto3->smart-open>=1.2.1->gensim)\n",
      "showing info https://raw.githubusercontent.com/nltk/nltk_data/gh-pages/index.xml\n"
     ]
    },
    {
     "data": {
      "text/plain": [
       "True"
      ]
     },
     "execution_count": 3,
     "metadata": {},
     "output_type": "execute_result"
    }
   ],
   "source": [
    "import pandas as pd\n",
    "import numpy as np\n",
    "\n",
    "!pip install nltk\n",
    "import nltk\n",
    "!pip install gensim\n",
    "import gensim\n",
    "import string\n",
    "\n",
    "import matplotlib.pyplot as plt\n",
    "%matplotlib inline\n",
    "\n",
    "from sklearn.preprocessing import StandardScaler\n",
    "from sklearn.decomposition import PCA\n",
    "\n",
    "\n",
    "#nltk.download() #to get the stopwords corpus"
   ]
  },
  {
   "cell_type": "markdown",
   "metadata": {},
   "source": [
    "## Overview <a id='context'></a>\n",
    "\n",
    "In this lab, we will be turning individual words in the data set into vectors, called \"Word Embeddings\". Word embedding generally attempts to identify semantic relationships between words by observing them in the context that the word appears. Word2Vec is the most prominent word embedding algorithm - this is what we will have practice using in today's lab.\n",
    "\n",
    "Imagine that each word in a novel has its meaning determined by the ones that surround it in a limited window. For example, in Moby Dick's first sentence, “me” is paired on either side by “Call” and “Ishmael.” After observing the windows around every word in the novel (or many novels), the computer will notice a pattern in which “me” falls between similar pairs of words to “her,” “him,” or “them.” Of course, the computer had gone through a similar process over the words “Call” and “Ishmael,” for which “me” is reciprocally part of their contexts.  This chaining of signifiers to one another mirrors some of humanists' most sophisticated interpretative frameworks of language.\n",
    "\n",
    "The two main flavors of Word2Vec are CBOW (Continuous Bag of Words) and Skip-Gram, which can be distinguished partly by their input and output during training. Skip-Gram takes a word of interest as its input (e.g. \"me\") and tries to learn how to predict its context words (\"Call\",\"Ishmael\"). CBOW does the opposite, taking the context words (\"Call\",\"Ishmael\") as a single input and tries to predict the word of interest (\"me\").\n",
    "\n",
    "In general, CBOW is is faster and does well with frequent words, while Skip-Gram potentially represents rare words better.\n",
    "\n",
    "### Word2Vec Features\n",
    "<ul>\n",
    "<li>`size`: Number of dimensions for word embedding model</li>\n",
    "<li>`window`: Number of context words to observe in each direction</li>\n",
    "<li>`min_count`: Minimum frequency for words included in model</li>\n",
    "<li>`sg` (Skip-Gram): '0' indicates CBOW model; '1' indicates Skip-Gram</li>\n",
    "<li>`alpha`: Learning rate (initial); prevents model from over-correcting, enables finer tuning</li>\n",
    "<li>`iterations`: Number of passes through dataset</li>\n",
    "<li>`batch_words`: Number of words to sample from data during each pass</li>\n",
    "</ul>\n",
    "\n",
    "For more detailed background on Word2Vec's mechanics, I suggest this  <a href=\"https://www.tensorflow.org/versions/r0.8/tutorials/word2vec/index.html\">brief tutorial</a> by Google, especially the sections \"Motivation,\" \"Skip-Gram Model,\" and \"Visualizing.\"\n",
    "\n",
    "We will be using the default value for most of our parameters."
   ]
  },
  {
   "cell_type": "markdown",
   "metadata": {},
   "source": [
    "## The Data <a id='data'></a>\n",
    "\n",
    "We will be working with the UN General Debates data set that contains data from years __2013 and up__. Run the following code block to load the `un-general-debates-2013up` csv into the notebook as `un`:"
   ]
  },
  {
   "cell_type": "code",
   "execution_count": 4,
   "metadata": {},
   "outputs": [
    {
     "data": {
      "text/html": [
       "<div>\n",
       "<style>\n",
       "    .dataframe thead tr:only-child th {\n",
       "        text-align: right;\n",
       "    }\n",
       "\n",
       "    .dataframe thead th {\n",
       "        text-align: left;\n",
       "    }\n",
       "\n",
       "    .dataframe tbody tr th {\n",
       "        vertical-align: top;\n",
       "    }\n",
       "</style>\n",
       "<table border=\"1\" class=\"dataframe\">\n",
       "  <thead>\n",
       "    <tr style=\"text-align: right;\">\n",
       "      <th></th>\n",
       "      <th>Unnamed: 0</th>\n",
       "      <th>session</th>\n",
       "      <th>year</th>\n",
       "      <th>country</th>\n",
       "      <th>text</th>\n",
       "    </tr>\n",
       "  </thead>\n",
       "  <tbody>\n",
       "    <tr>\n",
       "      <th>0</th>\n",
       "      <td>223</td>\n",
       "      <td>68</td>\n",
       "      <td>2013</td>\n",
       "      <td>SUR</td>\n",
       "      <td>Allow me at the outset, on \\r\\nbehalf of the P...</td>\n",
       "    </tr>\n",
       "    <tr>\n",
       "      <th>1</th>\n",
       "      <td>224</td>\n",
       "      <td>68</td>\n",
       "      <td>2013</td>\n",
       "      <td>KOR</td>\n",
       "      <td>May I first \\r\\ncongratulate you, Sir, on your...</td>\n",
       "    </tr>\n",
       "    <tr>\n",
       "      <th>2</th>\n",
       "      <td>225</td>\n",
       "      <td>68</td>\n",
       "      <td>2013</td>\n",
       "      <td>GNB</td>\n",
       "      <td>I would like to begin \\r\\nmy statement by cong...</td>\n",
       "    </tr>\n",
       "    <tr>\n",
       "      <th>3</th>\n",
       "      <td>226</td>\n",
       "      <td>68</td>\n",
       "      <td>2013</td>\n",
       "      <td>BGD</td>\n",
       "      <td>I congratulate \\r\\nPresident Ashe very warmly ...</td>\n",
       "    </tr>\n",
       "    <tr>\n",
       "      <th>4</th>\n",
       "      <td>227</td>\n",
       "      <td>68</td>\n",
       "      <td>2013</td>\n",
       "      <td>BIH</td>\n",
       "      <td>First of all, I would like to \\r\\ncongratulate...</td>\n",
       "    </tr>\n",
       "  </tbody>\n",
       "</table>\n",
       "</div>"
      ],
      "text/plain": [
       "   Unnamed: 0  session  year country  \\\n",
       "0         223       68  2013     SUR   \n",
       "1         224       68  2013     KOR   \n",
       "2         225       68  2013     GNB   \n",
       "3         226       68  2013     BGD   \n",
       "4         227       68  2013     BIH   \n",
       "\n",
       "                                                text  \n",
       "0  Allow me at the outset, on \\r\\nbehalf of the P...  \n",
       "1  May I first \\r\\ncongratulate you, Sir, on your...  \n",
       "2  I would like to begin \\r\\nmy statement by cong...  \n",
       "3  I congratulate \\r\\nPresident Ashe very warmly ...  \n",
       "4  First of all, I would like to \\r\\ncongratulate...  "
      ]
     },
     "execution_count": 4,
     "metadata": {},
     "output_type": "execute_result"
    }
   ],
   "source": [
    "un = pd.read_csv('data/un-general-debates-2013up.csv')\n",
    "un.head()"
   ]
  },
  {
   "cell_type": "markdown",
   "metadata": {},
   "source": [
    "---\n",
    "\n",
    "# Pre-Processing <a id='section 0'></a>\n",
    "\n",
    "Word2Vec learns about the relationships among words by observing them in context. We'll need to tokenize the words in a sample of texts from the dataframe while retaining sentence boundaries. \n",
    "\n",
    "Just as we did in the Pre-Processing lab about a month ago (3/1), we'll use the Natural Language Toolkit (NLTK) to tokenize a our sample text. Note that each text of each row in the `un` dataframe is in the form of a single string. Because we want to work with a larger sample than just one instance of a text, we will first __combine the first 300 strings of texts in the data frame__ to create one long string of text, which we will simply call `text`."
   ]
  },
  {
   "cell_type": "code",
   "execution_count": 5,
   "metadata": {
    "collapsed": true
   },
   "outputs": [],
   "source": [
    "#Use a for loop to combine 300 strings of texts in the `un` dataframe into one string.\n",
    "text = ''\n",
    "for i in range(300):\n",
    "    text = text + un['text'][i] + ' '"
   ]
  },
  {
   "cell_type": "markdown",
   "metadata": {
    "collapsed": true
   },
   "source": [
    "#SOLUTION\n",
    "text = ''\n",
    "for i in range(300):\n",
    "    text += un['text'][i] + ' '"
   ]
  },
  {
   "cell_type": "markdown",
   "metadata": {},
   "source": [
    "Next, get the individual sentences from `text`. Show the first three sentences.\n",
    "\n",
    "*Hint*: the `sent_tokenize` method of nltk will be useful here. <b>is it a method or a function?</b>"
   ]
  },
  {
   "cell_type": "code",
   "execution_count": 6,
   "metadata": {},
   "outputs": [
    {
     "name": "stdout",
     "output_type": "stream",
     "text": [
      "['Allow me at the outset, on \\r\\nbehalf of the President of the Republic of Suriname, His \\r\\nExcellency Mr. Desiré Delano Bouterse, and the people \\r\\nand the Government of Suriname, to congratulate \\r\\nyou, Mr. President, on your well-deserved election.', 'With your election you bring honour to your country, \\r\\nAntigua and Barbuda, and to the Caribbean.', 'With your \\r\\nbackground in sustainable development, you are well \\r\\nprepared to lead us in our deliberations on this year’s \\r\\ntheme, “The post-2015 development agenda: setting the \\r\\nstage”.']\n"
     ]
    }
   ],
   "source": [
    "# create sentence tokens\n",
    "sents = nltk.sent_tokenize(text)\n",
    "print(sents[:3])"
   ]
  },
  {
   "cell_type": "markdown",
   "metadata": {
    "collapsed": true
   },
   "source": [
    "#SOLUTION\n",
    "sents = nltk.sent_tokenize(text)\n",
    "sents[:3]"
   ]
  },
  {
   "cell_type": "markdown",
   "metadata": {},
   "source": [
    "Lowercase all words in each sentence, and make sure we only keep nonempty sentences:\n",
    "\n",
    "*Hint*: You need only one list comprehension to accomplish this."
   ]
  },
  {
   "cell_type": "code",
   "execution_count": 7,
   "metadata": {},
   "outputs": [
    {
     "data": {
      "text/plain": [
       "['allow me at the outset, on \\r\\nbehalf of the president of the republic of suriname, his \\r\\nexcellency mr. desiré delano bouterse, and the people \\r\\nand the government of suriname, to congratulate \\r\\nyou, mr. president, on your well-deserved election.',\n",
       " 'with your election you bring honour to your country, \\r\\nantigua and barbuda, and to the caribbean.',\n",
       " 'with your \\r\\nbackground in sustainable development, you are well \\r\\nprepared to lead us in our deliberations on this year’s \\r\\ntheme, “the post-2015 development agenda: setting the \\r\\nstage”.']"
      ]
     },
     "execution_count": 7,
     "metadata": {},
     "output_type": "execute_result"
    }
   ],
   "source": [
    "#filter out empty sentences\n",
    "nonempty_sents = []\n",
    "for sentence in sents:\n",
    "    if sentence != []:\n",
    "        nonempty_sents.append(sentence.lower())\n",
    "nonempty_sents[:3]"
   ]
  },
  {
   "cell_type": "markdown",
   "metadata": {
    "collapsed": true
   },
   "source": [
    "#SOLUTION\n",
    "nonempty_sents = [sentence.lower() for sentence in sents if sentence != []]"
   ]
  },
  {
   "cell_type": "markdown",
   "metadata": {},
   "source": [
    "Now for each sentence in `nonempty_sents`, return a list of words without punctuation or stopwords. Set this to `tokens`. This should result in a list of lists, each list representing a sentence that has been tokenized. Show the first three tokenized sentences.\n",
    "\n",
    "*Hint*: In the Pre-Processing Lab, we defined the function `rem_punc_stop` that does exactly this. How might we apply this to every sentence of `text`? "
   ]
  },
  {
   "cell_type": "code",
   "execution_count": 12,
   "metadata": {
    "collapsed": true
   },
   "outputs": [],
   "source": [
    "#redefine rem_punc_stop here:\n",
    "\n",
    "def rem_punc_stop(text):\n",
    "    \n",
    "    from string import punctuation\n",
    "    from nltk.corpus import stopwords\n",
    "    \n",
    "    stop_words = stopwords.words(\"english\") #a list of English stop words\n",
    "\n",
    "    for char in punctuation:\n",
    "        text = text.replace(char,'') #get rid of all punctuation marks by iterating with replace (easier)\n",
    "        \n",
    "    toks = nltk.word_tokenize(text) #create a list of tokens from resulting punctuation-less text\n",
    "    toks_reduced = [x for x in toks if x not in stop_words] #filter out stopwords from the list of tokens--already lowercased above\n",
    "\n",
    "    return toks_reduced\n"
   ]
  },
  {
   "cell_type": "markdown",
   "metadata": {
    "collapsed": true
   },
   "source": [
    "#SOLUTION\n",
    "\n",
    "def rem_punc_stop(text):\n",
    "    \n",
    "    from string import punctuation\n",
    "    from nltk.corpus import stopwords\n",
    "    \n",
    "    stop_words = stopwords.words(\"english\")\n",
    "    \n",
    "    for char in punctuation:\n",
    "        text = text.replace(char, \"\")\n",
    "        \n",
    "    toks = word_tokenize(text)\n",
    "    toks_reduced = [x for x in toks if x.lower() not in stopwords.words('english')]\n",
    "    \n",
    "    return toks_reduced "
   ]
  },
  {
   "cell_type": "markdown",
   "metadata": {
    "collapsed": true
   },
   "source": [
    "Now that you have re-defined rem_punc_stop, you are ready to use this function to tokenize every sentence cleanly using the following code. This would create a list `tokens` whose elements are lists of tokens, which each list representing a single sentence. However, due to the limitations of DataHub, running this code will very likley crash your Kernel. This will not become a problem once you begin working locally (i.e. working on notebooks on your own computer as opposed to DataHub) as you will have more memory and computing power to work with."
   ]
  },
  {
   "cell_type": "code",
   "execution_count": 13,
   "metadata": {
    "scrolled": true
   },
   "outputs": [
    {
     "data": {
      "text/plain": [
       "[['allow',\n",
       "  'outset',\n",
       "  'behalf',\n",
       "  'president',\n",
       "  'republic',\n",
       "  'suriname',\n",
       "  'excellency',\n",
       "  'mr',\n",
       "  'desiré',\n",
       "  'delano',\n",
       "  'bouterse',\n",
       "  'people',\n",
       "  'government',\n",
       "  'suriname',\n",
       "  'congratulate',\n",
       "  'mr',\n",
       "  'president',\n",
       "  'welldeserved',\n",
       "  'election'],\n",
       " ['election', 'bring', 'honour', 'country', 'antigua', 'barbuda', 'caribbean'],\n",
       " ['background',\n",
       "  'sustainable',\n",
       "  'development',\n",
       "  'well',\n",
       "  'prepared',\n",
       "  'lead',\n",
       "  'us',\n",
       "  'deliberations',\n",
       "  'year',\n",
       "  '’',\n",
       "  'theme',\n",
       "  '“',\n",
       "  'post2015',\n",
       "  'development',\n",
       "  'agenda',\n",
       "  'setting',\n",
       "  'stage',\n",
       "  '”']]"
      ]
     },
     "execution_count": 13,
     "metadata": {},
     "output_type": "execute_result"
    }
   ],
   "source": [
    "###**** DO NOT RUN THIS CODE BLOCK ***###\n",
    "tokens = [rem_punc_stop(sentence) for sentence in nonempty_sents] ###working locally\n",
    "tokens[:3]"
   ]
  },
  {
   "cell_type": "markdown",
   "metadata": {},
   "source": [
    "Luckily, we have created a `Tokens.csv` for you that contains a table with a `text` column containing cleanly tokenized sentences. Loadthis csv, and run the follwing code block to get the desired list format."
   ]
  },
  {
   "cell_type": "markdown",
   "metadata": {
    "collapsed": true
   },
   "source": [
    "#load Tokens.csv\n",
    "tokens_tbl = pd.read_csv('data/Tokens.csv')"
   ]
  },
  {
   "cell_type": "markdown",
   "metadata": {
    "collapsed": true
   },
   "source": [
    "#SOLUTION\n",
    "tokens_tbl = pd.read_csv(\"data/Tokens.csv\")"
   ]
  },
  {
   "cell_type": "markdown",
   "metadata": {
    "collapsed": true
   },
   "source": [
    "#RUN THIS CELL!\n",
    "tokens = [eval(tokens_tbl['texts'][i]) for i in range(len(tokens_tbl))]\n",
    "tokens[:3]"
   ]
  },
  {
   "cell_type": "markdown",
   "metadata": {},
   "source": [
    "---\n",
    "\n",
    "# Word2Vec<a id='section 1'></a>\n",
    "\n",
    "\n",
    "## Training <a id='subsection 1'></a>\n",
    "\n",
    "Phew! Now that we have pre-processed our text, we can use the `gensim` library to construct our word embeddings. We will use the Continous Bag of Words model (CBOW), which predicts target words from its neighboring context words to learn word embeddings from raw text.\n",
    "\n",
    "Read through the documentation of the Word2Vec method in gensim to understand how to implement the Word2Vec model. Then fill in the blanks so that: we use a __Continuout Bag of Words__ model to create word embeddings of __size 100__ for words that appear in `text` __5 or more times__. Set the learning rate to .025, number of iterations to 5, and sample 10000 words from the data during each pass."
   ]
  },
  {
   "cell_type": "code",
   "execution_count": 14,
   "metadata": {
    "collapsed": true
   },
   "outputs": [],
   "source": [
    "#Run this code for documentation, or refer to the list above for parameter definitions\n",
    "gensim.models.Word2Vec?"
   ]
  },
  {
   "cell_type": "code",
   "execution_count": 15,
   "metadata": {
    "collapsed": true
   },
   "outputs": [],
   "source": [
    "#Fill in the missing parameter values\n",
    "model = gensim.models.Word2Vec(tokens, size=100, window=5, \\\n",
    "                               min_count=5, sg=0, alpha=0.025, iter=5, batch_words=10000)"
   ]
  },
  {
   "cell_type": "markdown",
   "metadata": {
    "collapsed": true
   },
   "source": [
    "#SOLUTION\n",
    "model = gensim.models.Word2Vec(tokens, size=100, window=5, \\\n",
    "                               min_count=5, sg=0, alpha=0.025, iter=5, batch_words=10000)"
   ]
  },
  {
   "cell_type": "markdown",
   "metadata": {},
   "source": [
    "## Embeddings <a id='subsection 2'></a>\n",
    "\n",
    "We can return the actual high-dimensional vector by simply indexing the model with the word as the key:"
   ]
  },
  {
   "cell_type": "code",
   "execution_count": 16,
   "metadata": {},
   "outputs": [
    {
     "name": "stdout",
     "output_type": "stream",
     "text": [
      "[-0.66166395 -1.0823549   0.67962235  0.72177249 -1.07636833  1.11196864\n",
      " -0.21331069  0.42763799  1.21970284  0.48694733  0.24522126 -1.74721372\n",
      "  0.35367069 -0.23058796  0.40320361 -1.88553417 -0.20135199 -0.88648766\n",
      "  0.35049635  0.3423059   0.91219252 -1.47822273 -0.48930612  0.12523124\n",
      " -0.85248435 -1.44650042 -0.61065257 -0.36792949  0.11877176  0.26726532\n",
      "  0.16625132 -0.76893675 -1.27856565 -0.57788861  1.32823563 -0.03850051\n",
      " -0.30894831 -0.17040867 -0.99529076 -0.20707564 -0.01662631  0.65150857\n",
      "  0.70656478 -1.02147055 -0.05525345 -0.1507107  -0.86962271 -0.98417056\n",
      " -0.25052631 -2.0415349   0.44758588  0.53058761  1.63381505 -0.42812651\n",
      " -1.29794431 -1.27789485  0.0956792  -0.23491172 -0.20118263  0.86576015\n",
      "  0.97189933 -1.38831055 -1.9856075  -1.14646792 -1.13728845  0.97542512\n",
      "  0.22464576  1.03427577 -0.14644586 -1.25043058  0.91036034 -1.35574806\n",
      " -1.2288934  -1.63769126  0.74854356 -0.6276316   1.3191843  -0.0521921\n",
      "  0.36057135  0.44535631 -0.24707153  0.51244879  0.98248166 -0.29213595\n",
      " -0.48328832  0.96362811 -0.44590354 -0.22563118  0.81864512  2.16049647\n",
      "  0.73227555 -0.68877596 -0.20771377  0.67339194 -0.82874775  0.23621923\n",
      " -1.37787783  1.27435708  1.40115654  2.51946139]\n"
     ]
    },
    {
     "name": "stderr",
     "output_type": "stream",
     "text": [
      "/Users/student/anaconda3/lib/python3.6/site-packages/ipykernel_launcher.py:2: DeprecationWarning: Call to deprecated `__getitem__` (Method will be removed in 4.0.0, use self.wv.__getitem__() instead).\n",
      "  \n"
     ]
    }
   ],
   "source": [
    "#Run this cell\n",
    "print(model['assembly'])"
   ]
  },
  {
   "cell_type": "markdown",
   "metadata": {},
   "source": [
    "Use the following empty cells to look at what the word embeddings look like for words you think may appear in the `text`! Keep in mind that even if a word shows up in `text` as seen above, a word vector will not be created unless it satisfies all conditions we inputted into the model above. Try words like `president` and `conference` to start! If you're curious, the cell directly below will return a list of words that have been turned into word vectors by the model above:"
   ]
  },
  {
   "cell_type": "code",
   "execution_count": 17,
   "metadata": {},
   "outputs": [
    {
     "name": "stdout",
     "output_type": "stream",
     "text": [
      "['allow', 'outset', 'behalf', 'president', 'republic', 'suriname', 'excellency', 'mr', 'people', 'government', 'congratulate', 'welldeserved', 'election', 'bring', 'honour', 'country', 'antigua', 'barbuda', 'caribbean', 'background', 'sustainable', 'development', 'well', 'prepared', 'lead', 'us', 'deliberations', 'year', '’', 'theme', '“', 'post2015', 'agenda', 'setting', 'stage', '”', 'assure', 'support', 'cooperation', 'presidency', 'also', 'like', 'take', 'opportunity', 'pay', 'tribute', 'predecessor', 'vuk', 'jeremi', 'leadership', 'sixtyseventh', 'session', 'general', 'assembly', 'furthermore', 'commend', 'secretary', 'ban', 'kimoon', 'management', 'united', 'nations', 'regard', 'peace', 'security', 'various', 'parts', 'globe', 'new', 'urgently', 'requires', 'much', 'effort', 'national', 'international', 'level', 'achieve', 'ultimate', 'goal', 'improving', 'standard', 'living', 'peoples', 'bringing', 'countries', 'millennium', 'goals', 'important', 'first', 'step', 'towards', 'addressing', 'worst', 'socioeconomic', 'conditions', 'facing', 'approximately', '40', 'per', 'cent', 'humankind', 'targeted', 'reducing', 'manifestations', 'underdevelopment', 'view', 'success', 'depends', 'two', 'sets', 'simultaneous', 'actions', 'responsibilities', 'second', 'equal', 'importance', 'community', 'enable', 'chart', 'meaningful', 'path', 'meeting', 'targets', 'moving', 'particularly', 'relevant', 'heed', '2013', 'report', 'reveals', 'rather', 'facts', 'developing', 'developed', 'committed', '8', 'making', 'aid', 'pledges', 'viable', 'effective', 'nevertheless', 'behind', 'performance', 'official', 'assistance', 'constant', 'decline', 'agreements', 'concluded', '2001', 'within', 'context', 'world', 'trade', 'organization', 'improve', 'access', 'markets', 'stalled', 'doha', 'round', 'proved', 'harmful', 'dealing', 'market', 'poorest', 'left', 'subsequent', 'agendas', 'know', 'ongoing', 'financial', 'economic', 'crisis', 'detrimental', 'impact', 'declining', 'clearly', 'number', 'large', 'mainly', 'asia', 'endowed', 'natural', 'resources', 'africa', 'south', 'america', 'made', 'substantial', 'progress', 'statistics', 'however', 'blind', 'fact', 'inequality', 'rampant', 'almost', '12', 'billion', 'still', 'extreme', 'poverty', 'affordable', 'adequate', 'health', 'services', 'millions', 'children', 'denied', 'right', 'primary', 'education', 'learned', 'lesson', 'undertake', 'measures', 'strengthen', 'interactions', 'among', 'addition', 'ties', 'traditional', 'trading', 'partners', 'north', 'must', 'give', 'substance', 'southsouth', 'consideration', 'global', 'foreign', 'direct', 'investment', 'considered', 'factor', 'vital', 'encouraging', 'note', 'including', 'upgraded', 'status', 'middleincome', 'institutions', 'agencies', 'efforts', 'develop', 'prudent', 'macroeconomic', 'appropriate', 'fiscal', 'policies', 'combined', 'initiatives', 'economy', 'sacrifices', 'borne', 'led', 'improved', 'applying', 'capita', 'income', 'major', 'indicator', 'determining', 'position', 'lost', 'necessary', 'concessional', 'loans', 'conclusion', 'drawn', 'punished', 'ability', 'overcome', 'obstacles', 'less', 'fortunate', 'past', 'interdependent', 'continue', 'build', 'strength', 'main', 'driving', 'force', 'achievement', 'believe', 'building', 'upon', 'strengths', 'participation', 'subregional', 'regional', 'frameworks', 'way', 'forward', 'finding', 'proper', 'solutions', 'basis', 'achieved', 'approach', 'might', 'become', 'feasible', 'shares', 'base', 'peoplecentred', 'specific', 'focus', 'vulnerable', 'society', 'particular', 'women', 'youth', 'elderly', 'disabilities', '—', 'emphasize', 'strike', 'balance', 'positive', 'situation', 'dire', 'need', 'improvement', 'course', 'programmes', 'fight', 'noncommunicable', 'diseases', 'decreased', 'productivity', 'leading', 'cause', 'death', 'region', 'special', 'emphasis', 'closer', 'reality', 'intend', 'work', 'closely', 'organizations', 'pan', 'american', 'unesco', 'unicef', 'others', 'attaches', 'great', 'issues', 'involving', 'young', 'largescale', 'programme', 'aim', 'enhancing', 'better', 'learning', 'deserves', 'mention', 'successful', 'experiences', 'mechanisms', 'one', 'caricom', 'union', 'unasur', 'clear', 'examples', 'contribute', 'connectivity', 'enhancement', 'unity', 'taking', 'account', 'processes', 'cognizant', 'opportunities', 'challenges', 'inclusive', 'intergovernmental', 'process', 'directed', 'continued', 'eradication', 'combining', 'activity', 'social', 'care', 'thereby', 'promoting', 'welfare', 'wellbeing', 'integration', 'action', 'strengthening', 'human', 'capital', 'warming', 'negative', 'small', 'island', 'states', 'lowlying', 'coastal', 'grave', 'concern', 'regarding', 'state', 'climate', 'framework', 'convention', 'change', 'strongly', 'face', 'part', 'beyond', '2015', 'ignore', 'threats', 'rights', 'indispensable', 'creating', 'enabling', 'environment', 'aware', 'sovereignty', 'seriously', 'affected', 'indiscriminate', 'use', 'violence', 'fighting', 'terrorism', 'forms', 'transnational', 'organized', 'crime', 'related', 'armed', 'conflicts', 'food', 'public', 'migration', 'energy', 'require', 'increased', 'collaboration', 'respect', 'partnership', 'governments', 'civil', 'applaud', 'stability', 'willingness', 'capacity', 'dialogue', 'maintain', 'military', 'intervention', 'proud', 'belong', 'declared', 'nuclearweaponfree', 'zone', 'express', 'hope', 'twostate', 'solution', 'conflict', 'gain', 'allowing', 'prospect', 'prosperity', 'maintains', 'multilateral', 'prevail', 'search', 'peaceful', 'syria', 'cuban', 'participate', 'full', 'members', 'urge', 'prevented', 'far', 'removed', 'outdated', 'inhuman', 'unilateral', 'commercial', 'embargo', 'haiti', 'lose', 'attention', 'followup', 'activities', 'get', 'back', 'feet', 'call', 'fulfil', 'commitments', 'closing', 'advantage', 'inform', 'exactly', '30', 'days', 'ago', 'took', 'vibrant', 'body', 'pledge', 'may', 'sir', 'sixtyeighth', 'confident', 'current', 'fruitful', 'able', 'korea', 'pleased', 'member', 'stewardship', 'secretarygeneral', 'multilateralism', 'successfully', 'responding', 'diverse', 'faces', 'fiveyear', 'plan', 'help', 'keep', 'contributions', 'period', 'transformation', 'years', 'present', 'watch', 'emotion', 'historic', 'moment', 'admitted', 'came', 'end', 'long', 'wait', 'cold', 'war', 'time', 'solemnly', 'pledged', 'actively', 'shaping', 'order', 'free', 'fair', 'prosperous', 'justice', 'rule', 'law', 'live', 'though', 'fully', 'embraced', 'passion', 'devotion', 'many', 'corners', 'taken', 'peacekeeping', 'reconstruction', 'currently', 'serving', 'council', 'since', 'inception', 'noble', 'endeavour', 'helping', 'larger', 'freedom', 'insecurity', 'injustice', 'intolerance', 'common', 'desperately', 'needed', 'rise', 'cybercrime', 'calls', 'transcends', 'existing', 'interstate', 'system', 'words', 'relevance', 'ever', 'increasing', 'key', 'vehicle', 'administration', 'put', 'vision', 'built', 'fundamental', 'objectives', 'happiness', 'core', 'values', 'seeks', 'make', 'korean', 'peninsula', 'want', 'share', 'fruits', 'strive', 'enhance', 'dignity', 'citizens', 'line', 'purposes', 'principles', 'pillar', 'attaining', 'proliferation', 'weapons', 'mass', 'destruction', 'means', 'delivery', 'serious', 'connection', 'chemical', 'confirmed', 'a67997', 'caused', 'humanitarian', 'disaster', 'twentyfirst', 'century', 'condemns', 'strongest', 'possible', 'terms', 'constitutes', 'humanity', 'tolerated', 'circumstances', 'welcome', 'recent', 'agreement', 'russia', 'elimination', 'syrian', 'expect', 'decision', 'prohibition', 'reinforcing', 'resolution', 'today', 'faithfully', 'implement', 'acceded', 'democratic', 'soon', 'draw', 'seriousness', 'despite', 'series', 'resolutions', 'launched', 'missiles', 'conducted', 'nuclear', 'tests', 'recently', 'early', 'blatant', 'violation', 'obligations', 'strictly', 'case', 'nuclearweapons', 'prevent', 'advent', 'another', 'nucleararmed', 'socalled', 'parallel', 'pursuit', 'turn', 'genuine', 'concrete', 'stands', 'ready', 'alongside', 'presents', 'threat', 'terrorist', 'attack', 'place', 'last', 'nairobi', 'kenya', 'sincere', 'condolences', 'go', 'victims', 'families', 'tragedy', 'combat', 'together', 'respond', 'imminent', 'pursuing', 'policy', 'establish', 'reconciliation', 'northeast', 'implemented', 'initiative', 'aspires', 'safeguard', 'based', 'strong', 'simultaneously', 'ensure', 'resumption', 'operations', 'industrial', 'park', 'remaining', 'project', 'proposes', 'create', 'heavily', 'transform', 'lasting', 'legacy', 'divided', 'space', 'harmony', 'koreas', 'proposal', 'fruition', 'contributing', 'greatly', 'trust', 'turning', 'broader', 'political', 'interdependence', 'proposed', 'open', 'interests', 'players', 'interested', 'valuable', 'european', 'europe', 'forum', 'association', 'southeast', 'asian', 'era', 'promotion', 'universal', 'went', 'colonial', 'occupation', 'tragic', 'experience', 'became', 'paramount', 'worldwide', 'alarming', 'increase', 'refugees', 'internally', 'displaced', 'persons', 'owing', 'wars', 'concerning', 'massive', 'refugee', 'problem', 'involved', 'assist', 'planning', 'working', 'group', 'next', 'month', 'wishes', 'uphold', 'internationally', 'established', 'legal', 'principle', '10', 'million', 'suffering', 'see', 'loved', 'ones', 'across', 'border', 'even', '60', 'separated', 'held', 'week', 'utmost', 'regret', 'unilaterally', 'would', 'event', 'reasons', 'inhumane', 'justified', 'sound', 'reason', 'thus', 'maintained', 'considerations', 'therefore', 'convene', 'family', 'ease', 'pain', 'whole', 'protect', 'civilians', 'around', 'mind', 'february', 'chaired', 'debate', 'protection', 'newly', 'sexual', 'types', 'destroys', 'life', 'victim', 'day', 'matters', 'repeatedly', 'emphasized', 'reports', 'responsible', 'called', 'restore', 'crimes', 'involve', 'issue', 'summit', '2000', 'collective', 'reach', 'mdgs', 'yielded', 'tangible', 'results', 'equally', 'enjoyed', 'regions', 'groups', 'backdrop', 'attach', 'discussions', 'future', 'direction', 'road', 'map', 'set', 'genuinely', 'goes', 'levels', 'greatest', 'priority', 'guaranteeing', 'seek', 'partnerships', 'emerging', 'actors', 'effectively', 'utilize', 'available', 'capacities', 'hopes', '2012', 'play', 'significant', 'role', 'cooperative', 'mechanism', 'implementation', 'objective', 'complete', 'unfinished', 'business', 'specifically', 'movement', 'response', 'critical', 'achieving', 'green', 'fund', 'supports', 'brings', 'deepening', 'requiring', 'expectations', 'played', 'higher', 'indeed', 'centre', 'expected', 'endeavours', 'former', 'dag', 'said', 'recognize', 'imperfect', 'instrument', 'evolution', 'secure', 'reminded', 'solemn', '22', 'stand', 'reaffirm', 'commitment', 'realizing', 'toward', 'advancing', 'truly', 'parliament', 'begin', 'statement', 'congratulating', 'ambassador', 'john', 'william', 'ashe', 'extend', 'congratulations', 'honoured', 'selection', 'sons', 'preside', 'representative', 'institution', 'carries', 'shoulders', 'responsibility', 'guiding', 'consider', 'politically', 'troubled', 'dangerous', 'geopolitical', 'tensions', 'deeper', 'wider', 'seen', 'intensity', 'thrown', 'onto', 'unemployment', 'created', 'poor', 'throughout', 'fears', 'dangers', 'arms', 'drug', 'trafficking', 'frightening', 'interfaith', 'often', 'result', 'bloodshed', 'include', 'return', 'brutal', 'piracy', 'modern', 'age', 'coast', 'somalia', 'gulf', 'guinea', 'threatening', 'routes', 'oil', 'fuel', 'marine', 'facilitating', 'illicit', 'fishing', 'manner', 'illegal', 'maritime', 'beings', 'persistent', 'ethnic', 'enormous', 'unimaginable', 'disasters', 'areas', 'come', 'african', 'entitled', 'celebrated', 'fortieth', 'anniversary', 'independence', 'good', 'following', 'entire', 'struggle', 'liberation', 'represent', 'believed', 'reiterates', 'belief', '1973', 'given', 'solidarity', 'ultimately', 'recognition', 'without', 'exception', 'wish', 'bissau', 'feeling', 'eternal', 'gratitude', 'declare', 'firm', 'desire', 'longstanding', 'friendship', 'affirm', 'rebuild', 'foundations', 'rostrum', 'ask', 'patience', 'understanding', 'expressions', 'generosity', 'inconsistent', 'relations', 'sovereign', 'interim', 'guineabissau', 'title', 'indicates', 'something', 'exceptional', 'events', 'april', 'coup', 'prime', 'minister', 'campaign', 'run', 'faced', 'fortunately', 'best', 'option', 'opinion', 'prevailed', 'avoid', 'problems', 'hold', 'could', 'consequences', 'unpredictable', 'certainly', 'nonetheless', 'ways', 'dynamics', 'control', 'effects', 'limit', 'institutional', 'enough', 'deal', 'opposing', 'positions', 'emerged', 'abroad', 'deeply', 'constitutional', 'realistic', 'promising', 'gradual', 'dramatic', 'degradation', 'justify', 'views', 'confirm', 'concepts', 'resolve', 'every', 'attempt', 'apply', 'formula', 'worse', 'serve', 'radical', 'touch', 'deepest', 'humble', 'refuses', 'humiliated', 'true', 'democracy', 'notwithstanding', 'violations', 'purpose', 'forget', 'born', 'centuries', 'hard', 'influence', 'determination', 'defended', 'table', 'rely', 'prompt', 'west', 'ecowas', 'solely', 'managing', 'agreed', 'transition', 'reduced', 'stabilization', 'mission', 'known', 'elected', 'remained', 'standing', 'provide', 'legitimate', 'constitution', 'never', 'origin', 'office', 'makes', 'difference', 'four', 'times', 'vicepresident', 'aside', 'mature', 'conviction', 'carried', 'état', 'ordered', 'inauguration', 'began', 'approved', 'pact', 'corresponding', 'later', 'budget', 'submitted', 'broad', 'appointed', 'presidential', 'steps', 'signed', '24', 'november', 'date', 'legislative', 'elections', 'remains', 'task', 'availability', 'funds', 'carry', 'transparent', 'unquestionable', 'electoral', 'reliable', 'accomplished', 'accurate', 'dramatically', 'interlinked', 'evils', 'instability', 'creates', 'rate', 'growth', 'increases', 'challenge', 'ahead', 'consists', 'precisely', 'overcoming', 'obviously', 'light', 'yet', 'resolved', 'frame', 'least', 'mean', 'bilateral', 'specialized', 'contrary', 'environmental', 'moderate', 'satisfactory', 'outcome', 'document', 'conference', '66288', 'annex', 'undertaken', 'scourges', 'afflicting', 'fragile', 'establishment', 'september', 'highlevel', 'replaces', 'commission', 'islands', 'welcomes', 'third', 'samoa', '2014', 'thank', 'dedication', 'timorleste', 'josé', 'head', 'integrated', 'peacebuilding', 'ramoshorta', 'excellent', 'normalization', 'oblivious', 'indifferent', 'brothers', 'mali', 'luck', 'demonstrated', 'immense', 'maturity', 'going', 'civic', 'pride', 'marking', 'sent', 'starting', 'signal', 'destroyed', 'acts', 'unacceptable', 'france', 'crucial', 'safeguarding', 'integrity', 'malian', 'territory', 'foundation', 'attacks', 'nigeria', 'name', 'religious', 'offer', 'sister', 'presidents', 'uhuru', 'kenyatta', 'neighbouring', 'paving', 'egypt', 'ravaged', 'diplomacy', 'lives', 'middle', 'east', 'defend', 'palestinian', 'arab', 'negotiations', 'authorities', 'israel', 'advance', 'creation', 'accordance', 'word', 'abandoned', 'continues', 'kingdom', 'spain', 'whose', 'instrumental', 'friend', 'portuguesespeaking', 'cplp', 'spirit', 'demonstrating', 'friends', 'difficult', 'timorese', 'understood', 'simple', 'supporting', 'quite', 'assessment', 'encouragement', 'serves', 'executive', 'perhaps', 'cuba', 'always', 'done', 'advancement', 'reforms', 'friendly', 'nation', 'deep', 'profound', 'china', 'extent', 'construction', 'buildings', 'enter', 'history', 'dates', 'côte', 'ivoire', 'federal', 'contact', 'heads', 'warmly', 'wisdom', 'bold', 'successes', 'rapid', 'technological', 'innovations', 'transforming', 'changes', 'deprived', 'disadvantaged', 'reminds', 'father', 'sheikh', 'visionary', 'arrangement', 'hunger', 'aggression', 'leaders', 'adopted', 'declaration', 'review', '2010', 'participating', 'design', 'pragmatic', 'strategy', 'useful', 'preparing', 'bangladesh', 'draft', 'covers', 'required', 'population', 'placed', 'individuals', 'incorporated', 'urbanization', 'identified', 'mainstreaming', 'accommodate', 'migrants', 'realize', 'already', 'met', 'track', 'meet', '1', '6', '1991', '26', 'half', 'average', 'gross', 'domestic', 'product', '50', 'joined', 'export', 'rose', '2006', 'remittances', '5', 'currency', 'reserves', '16', 'power', 'production', 'indicators', 'model', 'achievements', 'received', 'mdg', 'award', 'diversity', 'agriculture', 'largely', 'due', 'practice', 'found', 'empowerment', 'using', 'digital', 'technology', 'getting', '200', 'information', 'service', 'centres', 'rural', 'receiving', 'healthcare', 'interconnected', 'extended', 'advanced', 'phone', 'technologies', 'providing', '100', 'real', 'achievable', 'upholding', 'demands', 'men', 'educational', 'provides', 'girls', 'secondary', 'school', 'students', 'helped', 'roots', 'politics', 'local', 'bodies', '70', 'five', 'ministers', 'possibly', 'occupying', 'leader', 'opposition', 'deputy', 'reserved', 'succeed', 'reaching', 'high', 'judicial', 'administrative', 'branches', 'diplomatic', 'forces', 'enforcement', 'empowering', 'housing', 'livelihood', 'senior', 'fighters', 'total', 'nutrition', 'house', 'schemes', 'challenged', 'provided', 'self', 'employment', 'formal', 'sector', 'developmental', 'spectrum', 'introduced', 'unifying', 'quest', 'rightful', 'spheres', 'sadly', 'fraught', 'sea', 'estimated', 'temperature', 'fifth', 'forcing', 'move', 'elsewhere', 'huge', 'magnitude', 'borders', 'reiterate', 'regime', 'cultural', 'rehabilitation', 'funding', 'sustained', 'realization', 'adaptation', 'mitigation', 'plans', 'sacrifice', 'preserve', 'mother', '21', '1999', 'language', 'institute', 'asking', 'languages', 'introducing', 'perpetrated', 'genocide', 'rape', '3', 'sacrificed', 'quarter', 'ardent', 'aspiration', 'perpetrators', 'accordingly', 'tribunals', 'act', 'try', 'trials', 'highest', 'standards', 'practices', 'completion', 'heal', 'wounds', 'sake', 'destroy', 'secular', 'nature', 'party', 'alliance', 'form', 'bomb', 'killing', 'especially', 'august', '2004', '13', 'rally', 'protest', 'british', 'commissioner', 'killed', '500', 'injured', 'survived', 'earlier', '15', '1975', '18', 'younger', 'eliminate', 'adopt', 'tough', 'home', 'defeat', 'extremism', 'strengthened', 'tenure', 'city', 'corporations', 'proven', 'credible', 'affairs', 'cement', 'resolving', 'outstanding', 'neighbours', 'maintaining', 'according', 'none', 'top', 'reflected', 'disarmament', 'nonproliferation', 'term', 'ratify', 'comprehensive', 'treaty', 'antipersonnel', 'mine', 'happy', 'instruments', 'certain', 'conventional', 'ensuring', 'expression', 'intercultural', 'essential', 'personal', 'recognized', 'awarded', 'culture', 'integral', 'identity', 'thematic', 'request', 'resource', 'constraints', 'inadequate', 'external', '07', 'oda', 'ldcs', 'grant', 'voice', 'bretton', 'woods', 'labour', 'benefit', 'sending', 'elaboration', 'daunting', 'agreeing', 'person', 'representing', '160', 'progressive', 'resilient', 'front', 'globalized', 'unique', 'sometimes', 'threaten', 'imperative', 'eradicate', 'enables', 'posed', 'equitable', 'sharing', 'transboundary', 'water', 'consensus', 'message', 'mutual', 'promise', 'aspire', 'generations', 'team', 'plenary', 'meetings', 'gather', 'exchange', 'opinions', 'find', 'contemporary', 'strategic', 'establishing', 'relationship', 'membership', 'eu', 'ambition', 'big', 'bosnia', 'herzegovina', 'furthering', 'active', 'segments', 'ruling', 'court', 'fulfilment', 'requirements', 'application', 'accession', 'fulfilling', 'nato', 'integrating', 'structures', 'final', 'phase', 'stance', 'accused', 'either', 'courts', 'puts', 'cultures', 'traditions', 'balkans', 'different', 'stages', 'reform', 'turned', 'territorial', 'focused', 'several', 'euroatlantic', 'constructive', 'communications', 'infrastructure', 'scientific', 'overall', 'potential', 'industry', 'tourism', 'croatia', 'gained', 'dimension', 'dynamic', 'marked', 'eagerness', 'sides', 'point', 'crises', 'everything', 'tackle', 'although', 'latest', 'show', 'coming', 'recession', 'harsh', 'strategically', 'difficulties', 'stated', 'finalized', 'inclusion', 'designed', 'close', 'define', 'readily', 'considering', 'three', 'aspects', 'mentioned', 'believes', 'preparation', 'western', 'balkan', 'follows', 'consistently', 'obstacle', 'beginning', 'preservation', 'planet', 'earth', 'forgotten', 'consequently', 'shortterm', 'longterm', 'agree', 'needs', 'continuous', 'wide', 'efficient', 'coordinated', 'functioning', 'widely', 'efficiency', 'credibility', '1945', 'reformed', 'authority', 'mandate', 'entrusted', 'charter', 'compromise', 'moved', 'additional', 'seat', 'eastern', 'doubled', 'decades', 'engagement', 'area', 'preventive', 'solve', 'intensify', 'acting', 'kind', 'timely', 'prevention', 'reaction', 'definitely', 'eager', 'postconflict', 'carefully', 'careful', 'religion', 'customs', 'attended', 'spite', 'visible', 'decade', 'giving', 'momentum', 'parties', 'sign', 'gravely', 'concerned', 'continuing', 'worsened', 'comply', 'priorities', 'refrain', 'launching', 'participates', 'afghanistan', 'participated', 'missions', 'liberia', 'sudan', 'cyprus', 'innocent', 'continent', 'interest', 'capacitybuilding', 'aimed', 'putting', 'stable', 'applies', 'subsaharan', 'greater', 'transparency', 'becoming', 'produce', 'six', 'existence', 'guide', 'capable', 'stronger', 'reached', 'doubt', 'exist', 'basic', 'equality', 'let', 'credentials', 'career', 'diplomat', 'address', 'spoke', 'malawi', 'assumed', 'outlined', 'governance', 'inherited', 'sought', 'observance', 'painful', 'recovery', 'instance', 'stabilized', 'inflation', '75', 'enjoying', 'freedoms', 'enshrined', 'say', 'warm', 'heart', 'laid', 'gathered', 'reflect', 'understand', 'indicating', 'readiness', 'selected', 'consultations', 'eradicating', 'raised', 'awareness', 'mobilize', 'fairer', 'monitoring', 'yes', 'transformed', 'eight', 'child', 'mortality', 'combating', 'hiv', 'aids', 'malaria', 'sustainability', 'unlikely', 'gender', 'maternal', 'deadline', 'draws', 'stepping', 'accelerate', 'attainment', 'bottlenecks', 'lack', 'limiting', 'acceleration', 'places', 'significance', 'removing', 'barriers', 'architecture', 'lessons', 'lies', 'narrow', 'ownership', 'secondly', 'taught', 'linkages', 'economically', 'likely', 'host', 'vulnerability', 'abuses', 'limited', 'lifting', 'holistic', 'thirdly', 'accelerated', 'finally', 'continents', 'pressure', 'quality', 'compromised', 'easy', 'lot', 'works', 'inspire', 'motivate', 'ambitious', 'maximize', 'talents', 'smart', 'panel', 'eminent', 'ending', '2030', 'things', 'jobs', 'livelihoods', 'argued', 'idea', 'households', 'affect', 'malnutrition', 'rooted', 'promote', 'decent', 'incomes', 'private', 'communities', 'deliver', 'innovative', 'economies', 'breaking', 'vicious', 'cycle', 'decided', 'invest', 'urban', 'modernizing', 'package', 'interventions', 'sanitation', 'aims', 'agricultural', 'provision', 'electricity', 'implementing', 'saving', 'assets', 'wealth', 'majority', 'participants', 'risks', 'remain', 'dream', 'looking', 'drive', 'dreams', 'shared', 'restoring', 'attain', 'unrest', 'look', 'recommit', 'felt', 'compelled', 'appeal', 'engage', 'post', 'hopeful', 'marginalized', 'included', 'optimistic', 'ukraine', 'sincerely', 'undoubtedly', 'fast', 'approaching', 'urgent', 'glad', 'practical', 'follow', 'inaugural', 'convinced', 'planned', 'upcoming', 'applied', 'element', 'engaged', 'maximum', 'developments', 'extremely', 'topic', 'item', 'facilitate', 'regards', 'safety', 'joint', 'outcomes', 'kyiv', 'safe', '2011', 'experienced', 'ecological', 'conservation', 'encourage', 'interaction', 'field', 'observation', 'twentieth', 'diligently', 'alleviation', 'reduction', 'catalyst', 'largest', 'transformations', 'internal', 'supremacy', 'aspirations', 'contribution', 'unites', 'signing', 'tool', 'raising', 'ukrainian', 'duly', 'broadly', 'impossible', 'shown', 'embarked', 'trajectory', 'index', 'unfortunately', 'increasingly', 'source', 'scale', 'justification', 'civilian', 'tens', 'thousands', 'danger', 'contain', 'wound', 'settle', 'competence', 'hand', 'rendering', 'produced', 'stockpiles', 'brought', 'leave', 'settlement', 'platform', 'pressing', 'internet', 'cyberspace', 'criminal', 'primarily', 'ends', 'safer', 'ideals', 'coexistence', 'guideline', 'informed', 'independent', 'arena', 'holds', 'chairmanship', 'osce', 'example', 'consolidation', 'focuses', 'protracted', 'underline', 'practically', 'added', 'urgency', 'intensifying', 'mark', 'weapon', 'arsenal', 'unprecedented', 'russian', 'federation', 'britain', 'budapest', 'memorandum', 'assurances', 'historical', 'trends', 'initiate', 'holding', 'guarantor', 'followed', 'thorough', 'stress', 'gave', 'arsenals', 'legally', 'binding', 'hague', 'looks', 'qualitative', 'encourages', 'navigation', 'reinforce', 'prosecution', 'financing', 'hotspots', '20', 'auspices', 'contributed', 'includes', 'expansion', 'congo', 'along', 'blue', 'mobility', 'air', 'peacekeepers', 'investigation', 'nonpermanent', '2016', '2017', 'count', 'candidacy', 'upholds', 'decisive', 'advances', 'critically', 'modernization', 'discuss', 'longoverdue', 'allocated', 'preconditions', 'sixty', 'eighth', 'firmly', 'conducting', 'neutral', 'avoided', 'engaging', 'addressed', 'scene', 'deteriorated', 'exceed', 'looked', 'bear', 'witness', 'exacerbated', 'intensified', 'exacerbation', 'hegemony', 'thwart', 'capabilities', 'domination', 'norms', 'instead', 'settling', 'wellknown', 'pursue', 'aggressive', 'allows', 'intervene', 'pretext', 'prove', 'beneficial', 'subjected', 'reveal', 'beliefs', 'outside', 'mandates', 'impose', 'immoral', 'coercive', 'spreading', 'turmoil', 'pluralistic', 'harmonious', 'previously', 'lived', 'hundreds', 'destructive', 'moral', 'question', 'mere', 'rhetoric', 'written', 'effect', 'happening', 'everyone', 'alqaida', 'alnusra', 'islamic', 'iraq', 'levant', 'brigade', 'scenes', 'murder', 'hearts', 'television', 'conscience', 'chose', 'eye', 'violated', 'extremist', 'ideology', 'alive', 'defending', 'unified', 'daily', 'violate', 'citizen', 'doomed', 'female', 'relatives', 'nothing', 'islam', 'terror', 'laws', 'confronting', 'counterterrorism', 'immediate', 'compel', 'finance', 'arm', 'train', 'passage', 'terrorists', 'stop', 'york', 'witnessed', 'burned', 'fires', 'extremists', 'suffered', 'hit', 'suffer', 'claim', 'claims', 'militants', 'bad', 'senseless', 'classified', 'sell', 'organs', 'describe', 'recruit', 'kill', 'spread', 'poisonous', 'gases', 'asked', 'demanded', 'determine', 'used', 'deciding', 'whether', 'months', 'arrived', 'begun', 'beat', 'accepted', 'vladimir', 'putin', 'shoulder', 'provisions', 'cooperating', 'knowing', 'abide', 'gas', 'agents', 'alike', 'training', 'illusion', 'halt', 'hostile', 'geneva', 'exclusive', 'choose', 'representatives', 'wrong', 'determined', 'reject', 'interference', 'advocates', 'sectarianism', 'tied', 'ballot', 'pressures', 'resort', 'directly', 'ground', 'mosques', 'churches', 'happened', 'speak', 'affecting', 'heritage', 'army', 'demand', 'recognizes', 'geography', 'grow', 'sectors', 'sanctions', 'imposed', 'forced', 'homes', 'noted', 'flee', 'numbers', 'regrettably', 'syrians', 'camps', 'detention', 'towns', 'villages', 'guarantee', 'dignified', 'discrimination', 'wherever', 'compliance', 'respecting', 'sight', 'palestine', 'golan', 'affirms', 'occupied', '4', 'june', '1967', 'emphasizes', 'rejection', 'demographic', 'geographic', 'reaffirms', 'inalienable', 'selfdetermination', 'land', 'jerusalem', 'stockpiling', 'remind', '2003', 'stresses', 'treaties', 'facilities', 'supervision', 'atomic', 'agency', 'acquire', 'block', 'scheduled', 'rules', 'blockade', 'renew', 'venezuela', 'belarus', 'iran', 'tension', 'confrontation', 'duties', 'bridge', 'gap', 'constructively', 'positively', 'delegation', 'supportive', 'guidance', 'energetic', 'tonga', 'debates', 'joins', 'sids', 'affirming', 'outline', 'convened', 'applauds', 'vienna', 'periodic', 'triangular', 'communication', 'appreciated', 'adding', 'value', 'hosted', 'annual', 'pacific', 'chapter', 'celebrate', 'emergence', 'accessing', 'users', 'praise', 'aforementioned', 'focusing', 'overarching', 'durable', 'societies', 'chaos', 'experiencing', 'roles', 'golden', 'connects', 'equity', 'thrive', 'central', 'clean', 'shift', 'sources', 'tackling', 'climatechange', 'concept', 'data', 'repository', 'projects', 'reflecting', 'causes', 'whereby', 'technical', 'studies', 'cases', 'gift', 'documented', 'stakeholders', 'dimensions', 'renewable', 'solid', 'keeping', 'commends', 'laudable', 'urging', 'calling', 'crosscutting', 'oceans', 'prominently', 'chosen', 'prioritized', 'supply', 'hospital', 'risk', 'factors', 'legislation', 'physical', 'advocate', 'healthy', 'completed', 'moreover', 'aligned', 'highlighted', 'delegations', 'swift', 'pertinent', 'endorses', 'expressed', 'marshall', 'communiqué', 'god', 'bless', 'togo', 'occasion', 'invitation', '552', 'forth', 'usher', 'individual', 'eve', 'prospects', 'disease', 'maintenance', 'sustainably', 'abject', 'breeding', 'societal', 'ills', 'embark', 'discussion', 'happen', 'think', 'occur', 'recurrent', 'launch', 'approaches', 'impacts', 'previous', 'dependence', 'net', 'reduce', 'forums', 'desired', 'proportions', 'delayed', 'monterrey', 'declarations', 'reiterated', 'adjust', 'integrate', 'board', 'conducive', 'debt', 'transfer', 'innovation', 'entrepreneurship', 'significantly', 'introduction', '2008', 'encouraged', 'enrolment', 'hivaids', 'prevalence', 'infected', 'considerably', 'distribution', 'thanks', 'farreaching', 'rome', 'proactive', 'marginalization', 'decisionmaking', 'faith', 'gradually', 'prerequisites', 'nearly', 'class', 'definitively', 'becomes', 'recommendations', 'code', 'enabled', 'calm', '25', 'july', 'supported', 'satisfaction', 'conduct', 'stipulated', 'possess', 'gains', 'similarly', 'drinking', 'keeps', 'foremost', 'reference', 'medium', 'job', 'reflects', 'heading', 'fall', 'mobilizing', 'diaspora', 'industries', 'regulatory', 'restructuring', 'enterprises', 'revenue', 'collection', 'tax', 'bind', 'isolation', 'commit', 'collectively', 'accelerating', 'worsening', 'seeking', 'cooperate', 'neighbourliness', 'ideological', 'represented', 'jihadists', 'coupled', 'prompted', 'speedy', 'operation', 'adoption', 'sahel', 'multidimensional', '28', 'coordinate', 'chairing', 'monetary', 'pleasure', 'highly', 'differences', 'subregion', 'entities', 'contingent', 'invites', 'rebuilding', 'severely', 'situations', 'deserve', 'degree', 'undermine', 'libya', 'brotherly', 'extraordinary', 'slow', 'robbery', 'seas', 'type', 'scourge', 'worrying', 'involvement', 'presence', 'yaoundé', 'suppression', 'enhanced', 'granted', 'atrocities', 'tragedies', 'stood', 'powerless', 'toll', '2118', 'inside', 'ii', 'transitional', 'fail', 'israelipalestinian', 'welcoming', 'barack', 'obama', 'israeli', 'negotiate', 'side', 'numerous', 'vast', 'reestablish', 'essentially', 'stay', 'regardless', 'longer', 'simply', 'matter', 'proportion', 'endemic', 'actually', 'voices', 'deplore', 'claimed', '100000', 'december', 'march', '2', 'doubling', '35', 'spiral', 'sectarian', 'dreadful', 'unstable', 'paralysis', 'untenable', 'summer', 'weeks', 'damascus', 'threshold', 'stakes', 'opening', 'absolutely', 'precedent', 'abhorrent', 'underscored', 'decisions', 'stocks', 'poison', 'eliminating', 'potentially', 'fuels', 'picture', 'breakthrough', 'start', 'doors', 'black', 'wall', 'paradoxically', 'scope', 'quiet', 'upheld', 'promises', 'kept', 'lines', 'arise', 'seize', 'outlook', 'negotiating', 'seized', 'returning', 'renewed', 'parameters', 'iranian', 'translate', 'talks', 'negotiated', 'mutually', 'forge', 'starts', 'honest', 'sense', 'cost', 'radicalization', 'hatred', 'despair', 'win', 'harder', 'thing', 'peacefully', 'price', 'waging', 'courage', 'perseverance', 'feel', 'spring', 'yearning', 'tolerance', 'powerful', 'eventually', 'impunity', 'accountable', 'europeans', 'lebanon', 'jordan', 'shelter', 'medical', 'biggest', 'jointly', 'french', 'latin', 'mediterranean', 'faithful', 'partner', 'barbarism', 'pakistan', 'testing', 'size', 'lend', 'paris', 'fewer', 'reestablishing', 'operational', 'georgia', 'composed', 'doctors', 'police', 'personnel', 'stabilize', 'confidence', 'english', 'started', 'imbalances', 'worked', 'structural', 'pursued', 'shape', 'existential', 'projected', 'underestimated', 'signs', 'negotiation', 'happens', 'ideas', 'emerge', 'warsaw', 'bali', 'regulation', 'hands', 'heavy', 'ghana', 'attend', 'shocked', 'saddened', 'hear', 'cowardly', 'grief', 'parents', 'colleagues', 'got', 'kofi', 'awoonor', 'served', 'poet', 'professor', 'brazil', 'chairman', 'advisory', 'envoy', 'perform', 'travelled', 'son', 'ordinary', 'shopping', 'mall', 'westgate', 'anything', 'dozens', 'away', 'story', 'accomplishments', 'remembered', 'escape', 'scars', 'watched', 'distance', 'possibilities', 'endless', 'saw', 'shine', 'seemed', 'graves', 'dictators', 'corruption', 'greed', 'easily', 'news', 'stories', 'gives', 'heinous', 'brotherhood', 'massacres', 'rivers', 'red', 'stolen', 'soldiers', 'proudly', 'dead', 'broken', 'beacon', 'promised', 'whatsoever', 'destabilize', 'steadfast', 'bridging', 'divide', 'observers', 'strife', 'persist', 'sure', 'surprise', 'anyone', 'enthusiastically', 'ammunition', 'regulated', 'village', 'speaking', 'travel', 'exists', 'expand', 'networks', 'obtain', 'identities', 'align', 'ratified', 'democracies', 'tend', 'limits', 'tested', 'characteristics', 'defined', 'takes', 'passed', 'formally', 'heard', 'supreme', 'noteworthy', 'reliance', 'proceedings', 'single', 'reported', 'incident', 'victory', 'similar', 'growing', 'shifting', 'sole', 'properly', 'systems', 'tools', 'intention', 'skills', 'businesses', 'fastest', 'translated', '37', 'workers', 'trapped', 'realities', 'exclusion', 'benefits', 'unless', 'comes', 'raw', 'materials', 'add', 'exports', 'products', 'gold', 'petroleum', 'feed', 'forefront', 'investors', 'rest', 'worth', 'sympathy', 'parity', 'statistical', 'shifts', 'lagging', '7', 'infant', 'figures', 'deaths', 'births', 'talking', 'decrease', 'little', 'reproductive', 'faster', 'deemed', 'alone', 'backbone', 'imagine', 'owe', 'walk', 'desirable', 'settlements', 'door', 'lifted', 'relic', 'respects', 'turkey', 'india', 'attacked', 'majesty', 'brunei', 'darussalam', 'expressing', 'condemnation', 'sympathies', 'earthquake', 'thirteen', 'locally', 'regionally', 'record', 'appreciation', 'annan', 'learn', 'struggling', 'limitations', 'generation', 'fellow', 'bilaterally', 'offering', 'scholarships', 'study', 'outreach', 'exchanges', 'asean', 'offered', 'attained', 'opened', 'options', 'refer', 'homeland', 'unresolved', 'hence', '29', 'accorded', 'observer', 'exercise', 'join', 'condemning', 'loss', 'importantly', 'conclude', 'staff', 'volunteers', 'thoughts', 'deadly', 'prolonged', 'catastrophe', 'terrible', 'naturally', 'minds', 'tremendous', 'appalled', 'findings', 'conclusions', 'investigate', 'allegations', 'alleged', 'ghouta', '14', 'effectiveness', 'mistakes', 'highlight', 'january', 'fifteenth', 'paved', 'demanding', 'journey', 'contributor', 'marks', 'tribunal', 'yugoslavia', 'icty', 'advocated', 'wholeheartedly', 'accompanied', 'ad', 'hoc', 'changed', 'landscape', 'civilization', 'accountability', 'statute', 'entails', 'pbc', '2005', 'sustain', 'bitter', 'stimulating', 'chair', 'organize', 'compact', 'un', 'ministerial', 'plays', 'minority', 'intrinsic', 'abolition', 'penalty', 'spare', 'pivotal', 'presented', 'nonstate', 'combination', 'diligent', 'adherence', 'horrible', 'reminder', 'warning', 'universally', 'complied', 'excessive', 'accumulation', 'weak', 'milestone', 'signature', 'criteria', 'original', 'signatory', 'entry', 'nowadays', 'witnessing', 'paying', 'donors', 'donor', 'confronted', 'rio20', 'stone', 'scientists', 'pace', 'everincreasing', 'transformative', 'knowledge', 'link', 'represents', 'blocks', 'driver', 'forthcoming', 'enlargement', 'productive', 'neighbourhood', 'southeastern', 'concluding', 'connected', 'methods', 'veto', 'powers', 'permanent', 'raise', 'questions', 'categories', 'advocating', 'complex', 'proceed', 'old', 'chance', 'knows', 'literally', 'flood', 'shores', 'near', 'collapse', 'prices', 'severe', 'drought', 'hardship', 'flow', 'crafting', 'implications', 'fashion', 'usual', 'skilled', 'fear', 'short', 'ambitions', 'transformational', 'shy', 'conversation', 'fresh', 'stock', 'fixed', '2009', 'experts', 'indicated', 'promoted', 'master', 'havoc', 'familiar', 'property', 'investments', 'compete', 'reckless', 'inaction', 'bubble', 'carbon', 'thirds', 'fossil', 'temperatures', 'degrees', 'fallen', 'measure', 'trillions', 'dollars', 'exploration', 'consumption', 'trillion', 'unmet', 'complicated', 'mistake', 'choice', 'prioritize', 'profits', 'reforming', 'revitalizing', 'impetus', 'a68pv5', 'p', 'isolated', 'failed', 'relaunching', 'systemic', 'formidable', 'stopped', 'nauru', 'flexible', 'modalities', 'budgetary', 'institutionbuilding', 'collaborate', 'component', 'presiding', 'nineteenth', 'laying', 'guided', 'expertise', 'collaborative', 'rapidly', 'deployment', 'greenhouse', 'emissions', 'prepare', 'post2020', 'obligation', 'accomplish', 'damage', 'accept', 'delay', 'unavoidable', 'proposals', 'appointment', 'crossborder', 'equipped', 'evaluate', 'resilience', 'invaluable', 'asset', 'immediately', 'assess', 'countless', 'destabilizing', 'lie', 'science', 'atrocity', 'observed', 'invests', 'tiny', 'striving', 'australia', 'delivering', 'gratified', 'rapprochement', 'taiwan', 'strait', 'zealand', 'japan', 'described', 'correctly', 'choosing', 'older', 'disability', 'ecuador', 'measurable', 'fails', 'incorporate', 'verifiable', 'saying', 'visit', 'hall', 'walls', 'ended', 'comments', 'inhabitants', 'seem', 'celebrating', 'drawing', 'frequently', 'cross', 'shall', 'headquarters', 'respected', 'wants', 'spy', 'everywhere', 'vigilant', 'privacy', 'regrettable', 'man', 'woman', 'communicate', 'surveillance', 'enemies', 'criminals', 'abiding', 'existed', 'espionage', 'decency', 'bonds', 'underpin', 'requested', 'occasions', 'willing', 'cease', 'unjust', 'bolivarian', 'americas', 'malvinas', 'accede', 'sit', 'territories', 'shameful', 'argentina', 'briefly', 'balances', 'disrupted', 'cast', 'highhandedness', 'multinational', 'profit', 'damages', 'violates', 'company', '19', 'devastating', 'pollution', 'denounce', 'overwhelming', 'showing', 'arbitration', 'shed', 'associated', 'manipulation', 'fruit', 'flourish', 'constantly', 'confront', 'investigations', 'sufficiently', 'condemn', 'topics', 'believing', 'inspired', 'changing', 'inevitably', 'chapters', 'vi', 'viii', 'disputes', 'arrangements', 'lay', 'horrific', 'nobel', 'prize', 'oslo', 'au', 'dedicated', 'redoubled', 'norway', 'colombia', 'de', 'else', 'myanmar', 'testimony', 'responses', 'pertaining', 'strides', 'goods', 'arctic', 'organizing', 'likewise', 'singapore', 'founding', 'reflection', 'norm', 'observe', 'quarters', 'ice', 'ocean', 'strived', 'forwardlooking', 'strategies', 'crossroads', 'feature', 'acknowledge', 'trend', 'revisit', 'identify', 'causing', 'considerable', 'truth', 'accords', 'statehood', 'horizon', 'missing', 'running', 'returned', 'afternoon', 'presided', 'committee', 'coordination', 'palestinians', 'reaffirmed', 'afford', 'horrors', 'fleeing', 'utterly', 'referred', 'ensured', 'frustrated', 'inability', 'promotes', 'evolving', 'scarcity', 'flexibility', 'secretariat', 'autumn', 'cut', 'tasks', 'coherent', 'adapt', 'shaken', 'uneven', 'widening', 'gaps', 'unanimous', 'promptly', 'unite', 'ecosystem', 'expense', 'deforestation', 'desertification', 'rethink', 'meets', 'compromising', 'multistakeholder', 'harness', 'demonstrate', 'understands', 'securing', 'alleviate', 'necessity', '700', 'square', 'kilometres', 'slightly', 'bigger', 'smaller', 'transport', 'managed', 'preserving', 'populated', 'resulted', 'covered', 'founded', 'biodiversity', 'contains', 'plant', 'species', 'creative', 'imports', 'reclaim', 'waste', 'visited', 'impressed', 'suggest', 'allowed', 'converge', 'figure', 'intertwined', '2050', 'cities', '800', 'die', 'nexus', 'concerns', 'identifies', 'preparatory', 'deserved', 'perspectives', 'assisting', '1992', 'failures', 'officials', '2007', 'envisioned', 'socially', 'environmentally', '2020', 'intended', 'lowcarbon', 'convey', 'greetings', 'attending', 'relating', 'statements', 'liberty', 'bolivian', 'industrialized', 'bolivia', 'entered', 'illiteracy', 'coverage', 'potable', 'interamerican', 'bank', 'department', 'told', 'iii', 'blessing', 'minimizing', 'helps', 'subject', 'empire', 'embassy', 'companies', 'freed', 'hydrocarbons', 'acquired', 'underground', 'looting', 'really', '300', 'waged', 'movements', 'expert', 'issued', 'patriotic', '2025', 'plurinational', 'provincial', 'besides', 'pending', 'chile', 'invasion', '23', 'resistance', 'chilean', 'subsequently', 'unfair', 'tried', 'celac', 'piñera', 'echeñique', 'shows', '17', 'publicly', 'stake', 'la', 'autonomy', 'trying', 'fourth', 'contradiction', '11', 'valid', 'possibility', 'peru', 'defence', 'rulings', 'wanted', 'hostility', 'demonstration', 'geographically', 'grandparents', 'dispute', 'listen', 'exploited', 'empires', 'wonder', 'blocking', 'guarantees', 'allies', 'arrogance', 'coups', 'spending', 'spend', 'annually', 'money', 'leaving', 'talk', 'torture', 'bases', 'mistaken', 'excuse', 'capitalism', 'bombed', 'governing', 'campaigns', 'govern', 'possesses', 'perfectly', 'produces', 'wage', 'seeing', 'substitute', 'rich', 'fate', 'imperial', 'debated', 'colonization', 'masters', 'conventions', 'someone', 'indigenous', 'drugs', 'rid', 'grateful', 'improvements', 'acknowledged', 'somewhat', 'visiting', 'location', 'visas', 'maduro', 'imperialism', 'completely', 'attitude', 'vote', 'corrupt', 'arrive', 'located', 'blackmail', 'visa', 'threatened', 'surprised', 'struck', 'fraternal', 'exact', 'opposite', 'trial', 'bombing', 'benefited', 'recovered', 'democratically', 'bullets', 'votes', 'arming', 'expelled', 'unconditional', 'inflicted', 'anywhere', 'harm', 'contemplate', 'sort', 'whatever', 'abuse', 'extending', 'thinks', 'involves', 'controlled', 'favour', 'bit', 'untiring', 'exemplary', 'elaborate', 'send', 'redouble', 'late', 'hero', 'virtue', 'hungry', 'sick', 'medicine', 'tired', 'naked', 'fit', 'underpinned', '1000', 'reversing', 'incidence', 'tuberculosis', 'strikes', 'robust', 'grappling', 'depend', 'resulting', 'unemployed', '400', 'deprivation', 'cope', 'distributed', 'falling', 'overlooked', 'failing', 'target', 'fostering', 'inclusiveness', 'jamaica', 'craft', 'mindful', 'slavery', 'modernday', 'boys', 'torn', 'lands', 'unspeakable', 'memorial', 'transatlantic', 'slave', 'winning', 'signals', 'memory', 'untold', 'generous', 'reparations', 'proclaim', 'descent', 'requisite', 'paid', 'immune', 'landmark', 'embarking', 'ratification', 'neighbour', 'twenty', 'extraterritorial', 'revitalize', 'king', 'moments', 'comfort', 'falls', 'chinese', 'renewal', 'centennial', 'namely', 'finish', 'socialist', 'answer', 'pattern', 'theory', 'mentality', 'globalization', 'adhered', 'doctrine', 'points', 'staunch', 'winwin', 'procedures', 'consultation', 'consistent', 'resolutely', 'lawful', 'outbreak', 'speed', 'root', 'adjustment', 'unconventional', 'volatility', 'bright', 'generally', 'leads', 'addresses', 'steady', 'vigorously', 'beautiful', 'output', 'economics', 'dividends', 'industrialization', 'cornerstone', 'safeguards', 'deepen', 'fields', 'representation', 'brics', 'playing', 'opposed', 'balanced', 'respective', 'northsouth', 'accessible', 'secondlargest', 'propose', 'destiny', 'lasted', 'opposes', 'verification', 'hostilities', 'convening', 'emergency', 'amount', 'germany', 'substantive', 'concerted', 'easing', 'sixparty', 'tenth', 'resume', 'adhere', 'differentiated', 'liberalization', 'facilitation', 'scaling', 'forceful', 'notable', 'seventieth', 'ashes', 'embodies', 'relentless', 'privilege', 'organ', 'reiterating', 'wounded', 'nationbuilding', 'crafted', 'seems', 'game', 'investing', 'attempts', 'rio', 'janeiro', 'undemocratic', 'indefinitely', 'discussing', 'forever', 'beloved', 'nelson', 'mandela', 'gesture', 'treatment', 'welcomed', 'receive', 'sahara', 'enjoy', 'jeopardize', '1994', 'birth', 'soul', 'tuvalu', 'outgoing', 'committing', 'vulnerabilities', 'sdgs', 'aviation', 'postmdg', 'consolidate', 'myriad', 'manmade', 'advocacy', 'consciousness', 'redress', 'delivers', 'constitute', 'tyranny', 'sufficiency', 'setbacks', 'regression', 'dependent', 'derived', 'domain', 'bill', 'genderbased', 'facilitated', 'sphere', 'barbados', 'mauritius', 'apia', 'bureaucracy', 'abstract', 'survival', 'appreciates', 'graduation', 'ldc', 'category', 'istanbul', 'irresponsible', 'failure', 'weight', 'list', 'sealevel', 'stark', 'wake', 'waiting', 'duty', 'greenhousegas', 'majuro', 'surely', 'save', 'kyoto', 'protocol', 'curbing', 'hosting', 'linked', 'surrounded', 'obvious', 'surface', 'incidents', 'dealt', 'pays', 'mitigate', 'transportation', 'alternative', 'solar', 'wind', 'wave', 'appreciate', 'formulating', 'underdeveloped', 'embrace', 'smooth', 'discipline', 'tell', 'grandchildren', 'honduras', 'extends', 'warmest', 'lobo', 'sosa', 'secured', 'hundred', 'restored', 'credit', 'principal', 'healing', 'mediumsized', 'consolidating', 'discussed', 'referring', 'homicide', 'congress', 'entirely', 'lacking', 'protected', 'insufficient', 'assume', 'essence', 'prosecutor', 'cruel', 'degrading', 'enacted', 'fundamentally', 'targeting', 'multisectoral', 'announce', 'dry', 'corridor', 'entering', 'participatory', 'teachers', 'closed', '49', 'preventable', '90', 'vaccines', 'antiretroviral', 'el', 'salvador', 'nicaragua', 'opportune', 'recall', 'october', 'repeat', 'underscore', 'governmental', 'orderly', 'delays', 'traditionally', 'nine', 'function', 'independently', 'multiple', 'seven', 'letter', 'centrality', 'suited', 'twin', 'legitimacy', 'costs', 'flows', 'banks', 'anchor', 'shaped', 'enjoys', 'acceptance', 'merely', 'condition', 'prejudice', 'modest', '95', 'defining', 'lethal', 'threatens', 'deployed', 'condemned', 'chemicalweapons', 'material', 'equipment', 'earliest', 'resumed', 'menace', 'epicentre', 'yesterday', 'sentiments', 'tomorrow', 'jammu', 'kashmir', 'machinery', 'cohesive', 'timebound', 'guard', 'gaining', 'sensitive', 'completing', 'muchneeded', 'unwavering', 'universe', 'kenyan', 'demonstrates', 'battle', 'alshabaab', 'horn', 'fought', 'fronts', 'intelligence', 'elements', 'died', 'resolute', 'brave', 'somali', 'reinforced', 'expanded', 'compared', 'weakening', 'militarily', 'underestimate', 'propaganda', 'mercy', 'reassure', 'media', 'schools', 'universities', 'defeated', 'battlefield', 'vigorous', 'brussels', 'paradigm', 'respectful', 'connect', 'democratization', 'multiparty', 'provisional', 'quickly', 'boundaries', 'thinking', '27', 'accord', 'establishes', 'administrations', 'statebuilding', 'channel', 'offices', 'coercion', 'adhering', 'milestones', 'articulated', 'remarkable', 'gathering', 'announced', 'benchmarks', 'removal', 'indian', 'courageous', 'troop', 'showed', 'tragically', 'sadness', 'easier', 'endure', 'childhood', 'otherwise', 'selective', 'motivated', 'cohesion', 'seeds', 'tree', 'challenging', 'fiftieth', 'symbol', 'formed', 'commemorate', 'zambia', 'resonate', 'populations', 'race', 'albeit', 'amid', 'released', 'ratio', 'marriage', 'zero', 'infection', 'release', 'deliberately', '55', 'absence', 'undermined', 'recorded', 'overemphasized', 'anchored', 'mainstream', 'transcend', 'continuity', 'incomplete', 'overdue', 'ezulwini', 'allinclusive', 'adapting', 'prevailing', 'realized', 'conferences', 'cluster', 'munitions', 'preamble', 'characterized', 'requirement', 'eleventh', 'mitigating', 'droughts', 'commendable', 'namibia', 'predictable', 'urges', 'signatories', 'madagascar', 'parliamentary', 'logistical', 'southern', 'zimbabwe', 'ibrahim', 'boubacar', 'keita', 'endured', 'inspectors', 'league', 'envisaged', 'fitting', 'dominant', 'themes', 'pillars', 'mobilized', 'undertaking', 'attainable', 'modernize', 'vein', 'lofty', 'unfulfilled', 'weakest', 'primacy', 'revealed', 'protecting', 'guise', 'saddam', 'possessed', 'preference', 'unilateralism', 'expresses', 'principled', 'anachronistic', 'character', 'glaring', 'noninterference', 'eyes', 'shame', 'ample', 'remove', 'virtues', 'colonialism', 'persecution', '31', 'applauded', 'appears', 'relative', 'san', 'marino', 'precious', 'ensures', 'distinction', 'ceremony', 'combatting', 'inequalities', 'considers', 'violent', 'racism', 'racial', 'guaranteed', 'disabled', 'kidnapping', 'summary', 'executions', 'exploitation', 'chronic', 'optional', 'protocols', 'stressed', 'regulating', 'uncertainty', 'preventing', 'ranks', 'lastly', 'sponsor', 'solving', 'definition', 'perspective', 'impression', 'relief', 'unfortunate', 'boost', 'mobilization', 'persists', 'intends', 'phenomenon', 'blood', 'recruitment', 'ignorance', 'fanaticism', 'supposed', 'totally', 'curb', 'chad', 'candidature', 'expects', 'valiant', 'indication', 'unshakeable', 'sudanese', 'darfur', 'chadian', 'philosophy', 'regular', 'unanimously', 'daughters', 'energies', 'joining', '200000', 'foster', 'vain', 'definitive', 'religions', 'escalation', 'affront', 'tear', 'apart', 'page', 'divisions', 'devoted', 'exploiting', 'inter', 'alia', 'longawaited', 'shocking', 'shadow', 'weaknesses', 'systematically', 'cynical', 'generate', 'watershed', 'unabated', 'disregard', 'hopefully', 'ceasefire', 'agrees', 'unpunished', 'impartial', 'icc', 'referral', 'poses', 'mandated', 'prosecute', 'satisfied', 'evidence', 'investigating', 'amendments', 'kampala', 'troubling', 'complement', 'enforce', 'andorra', 'slovenia', 'uruguay', 'weakness', 'suggested', 'composition', 'empower', 'test', 'extension', 'universality', 'floor', 'gabon', 'seventh', 'hassan', 'rouhani', 'intolerable', 'offers', 'stimulate', 'tokyo', 'convert', 'prior', 'timber', 'combine', 'tirelessly', 'prisoners', 'initiated', 'sidelines', 'morocco', 'candidate', 'addis', 'ababa', 'lakes', 'lord', 'returns', 'responded', 'proof', 'elect', 'moroccan', 'atlantic', '2018', 'blocked', 'wished', 'convictions', 'smallest', 'diplomats', 'walked', 'unrelenting', 'bound', 'prosper', 'manufacturing', 'remember', 'neglect', 'survive', 'ill', 'gone', 'fulfilled', 'captured', 'corner', 'structure', 'escalating', 'deterioration', 'shortcomings', 'failings', 'correct', 'wrongs', 'regain', 'sisters', 'endorsed', 'tradition', 'repeating', 'disappointment', 'ecosystems', 'ethical', 'atmosphere', 'jeopardy', 'notably', 'wrought', 'possession', 'neither', 'att', 'ncds', 'cancer', 'basically', 'unable', 'wto', 'compensate', 'wanton', 'blow', 'exercised', 'collapsed', 'devastation', 'intentions', 'discriminatory', 'exercising', 'freely', 'hemisphere', 'lift', 'hinder', 'sponsors', 'published', 'allegedly', 'trinidad', 'tobago', 'native', 'vincent', 'grenadines', 'impaired', 'assert', 'colonies', 'injustices', 'salute', 'descendants', 'ancestors', 'heartbreaking', 'images', 'devise', 'deliberate', 'absolute', 'tears', 'illnesses', 'forests', 'founders', 'formulated', 'speeches', 'decisively', 'range', 'flagrant', 'incumbent', 'respectfully', 'chávez', 'frías', 'heartfelt', 'succeeding', 'hostage', 'bombings', 'deny', 'differently', 'christians', 'muslims', 'jews', 'press', 'lower', 'article', 'nobody', 'drones', 'worthy', 'arabisraeli', 'elite', 'love', 'names', 'commander', 'tireless', 'bombs', 'persecuted', 'streets', 'americans', 'sophisticated', 'discover', 'arbitrariness', 'answers', '68', 'employ', 'successor', 'emergencies', 'consist', 'slowly', 'meaning', 'petrocaribe', 'blockades', 'pointed', 'wisely', 'facilitates', 'macedonia', 'prohibited', 'biological', 'expanding', 'macedonian', 'greece', 'politicization', 'counter', 'disrespect', '1993', 'denial', '1995', 'mediation', 'flag', 'undertook', 'obstruct', 'judgment', 'apparent', 'anarchy', 'reign', 'detriment', 'predecessors', 'decide', 'acceptable', 'mothers', 'german', 'polish', 'dutch', 'portuguese', 'japanese', 'adverse', 'analysis', 'misunderstandings', 'drop', 'arguments', 'trigger', 'imposing', 'indicate', 'personally', 'greek', 'sufficient', 'serbia', 'kosovo', 'invite', 'openness', 'documents', 'quo', 'via', 'acted', 'assuming', 'silent', 'habits', 'conveying', 'civilized', 'dear', 'restoration', 'obtained', 'underlined', 'optimism', 'diversifying', 'pass', 'exclude', 'evolve', 'plus', 'g7', 'contributes', 'fragility', 'responsive', 'indonesia', 'intense', 'nonaligned', 'submit', 'commonwealth', 'appeals', 'horror', 'rejects', 'upheaval', 'losses', 'undergoing', 'referendum', 'contrast', 'patiently', 'rejecting', 'initial', 'solved', 'guinean', 'affects', 'desires', 'hub', 'subscribe', 'sixth', 'prerequisite', 'spanish', '1989', 'troops', 'turbulent', 'comprehensively', 'denying', 'evident', 'initially', 'africanled', 'regained', 'celebrates', 'summits', 'repeated', 'rests', 'lakhdar', 'brahimi', 'bolster', 'civilizations', 'austria', 'saudi', 'arabia', 'abdullah', 'bin', 'abdulaziz', 'interreligious', 'consolidated', 'decolonization', 'awaiting', 'ignored', 'surrounding', 'input', 'panama', 'contexts', 'conscious', 'algeria', 'neutrality', 'allocation', 'evaluation', 'integrates', 'philippines', 'roosevelt', 'unwomen', 'nationally', 'inseparable', 'consistency', 'speech', 'spoken', 'irreversible', 'adopting', 'sociopolitical', 'favourable', 'amounts', 'models', 'undermining', 'exclusively', 'occurred', 'brother', 'despicable', 'barbarous', 'compassion', 'embody', 'rightly', 'hide', 'announcement', 'speakers', 'patterns', 'unsustainable', 'driven', 'federated', 'micronesia', 'globally', 'strives', 'gravest', 'crops', 'minimize', 'hfcs', 'montreal', 'fisheries', 'wasted', 'burden', 'accounts', 'operate', 'nationwide', 'ancient', 'acidification', 'additionally', 'amendment', 'wise', 'says', 'separate', 'historically', 'transfers', 'mainstreamed', 'harnessing', 'telecommunications', 'telecommunication', 'misery', 'replaced', 'preparations', 'goodwill', 'fourthly', 'killings', 'enduring', 'kiribati', 'privileged', 'echo', 'conveyed', 'steering', 'plight', 'heartened', 'barbaric', 'appropriately', 'examine', 'peril', 'calamity', 'atoll', 'spared', 'acknowledging', 'copenhagen', 'remedy', 'emitters', 'uncertain', 'charge', 'rising', 'supplies', 'low', 'maldives', 'meaningfully', 'disproportionate', 'sword', 'waters', 'valued', 'sum', 'restructure', 'zones', 'excluded', 'brutally', 'accepting', 'bleak', 'inspiring', 'sisterly', 'longlasting', 'inherent', 'unequivocally', 'stem', 'revolution', 'unregulated', 'colleague', 'continental', 'room', 'endorsement', 'residual', 'dark', 'river', 'sierra', 'leone', 'consecutive', 'rebuilt', 'professional', 'professionalism', 'immigration', 'execute', 'sustaining', 'competent', 'shocks', 'criticism', 'attitudes', 'cochairs', 'builds', 'a68202', 'boldly', 'fuelled', 'expectation', 'feels', 'begins', 'ably', 'coincidence', 'revolutions', 'yemen', 'yoke', 'oppression', 'despotism', 'forging', 'chief', 'gcc', 'inspiration', 'logic', 'aspect', 'acute', 'embodied', 'custodian', 'holy', 'unfolding', 'adviser', 'drafting', 'yemeni', 'deter', 'punish', 'multitude', 'fertile', 'kinds', 'symptoms', 'phenomena', 'allocate', 'coasts', 'bloody', 'discharge', 'frustration', 'muslim', 'mosque', 'disagreement', 'opt', 'assumption', 'mansour', 'egyptians', 'dawn', 'countrymen', 'reasonable', 'embraces', 'invited', 'succeeded', 'enforcing', 'desperate', 'egyptian', 'tolerate', 'carrying', 'geographical', 'moderation', 'imbalance', 'warned', 'scenario', 'gaza', 'morally', 'eliminated', 'introduce', 'ratifying', 'relation', 'logical', 'monopoly', 'renounce', 'sirte', 'recovering', 'regimes', 'exert', 'delivered', 'assured', 'contained', 'jihadist', 'authorized', 'sites', 'mohammed', 'françois', 'hollande', 'halted', 'burkina', 'faso', 'benin', 'niger', 'savage', 'mauritania', 'mohamed', 'abdel', 'ran', 'mourning', 'wonderful', 'traffickers', 'barbarity', 'intimidation', 'thought', 'hostages', 'northern', 'periods', 'backed', 'preliminary', 'malians', 'finalize', 'except', 'openly', 'revive', 'decentralization', 'confidencebuilding', 'rebel', 'precarious', 'ministry', 'helm', 'backing', 'devastated', 'prevails', 'libyan', 'complexity', 'forcefully', 'uncertainties', 'flooding', 'lengthy', 'glance', 'pave', 'caught', 'landlocked', 'revitalization', 'occupies', 'seats', 'fullfledged', 'disturbing', 'renaissance', 'substantially', 'undernourishment', 'nongovernmental', 'exceeded', 'competitive', 'shortages', 'recurring', 'irrigation', 'judicious', 'techniques', 'channels', 'roads', 'bearing', 'extensive', 'controlling', 'displacement', 'coalition', 'disposal', 'opted', 'contingents', 'unjustified', 'necessarily', 'sahelosaharan', 'afflicted', 'murderous', 'fervent', 'impoverished', 'educated', 'incorporates', 'habit', 'percentage', 'noticeable', '85', 'adults', 'read', 'sections', 'nurses', 'pursuant', 'remote', 'hospitals', 'treated', 'houses', 'vitality', 'engine', 'grown', 'deprive', 'units', 'gangs', 'exposed', 'weather', 'billions', 'punishment', 'reporting', 'latter', 'murders', 'brunt', 'complemented', 'speculation', 'poorer', 'rates', 'dying', 'decreasing', 'infections', 'sweden', '100th', 'mobile', 'risen', 'abundant', 'believer', 'coordinating', 'selfevident', 'refused', 'childbirth', 'restrictions', 'entity', 'educating', 'schooling', 'authoritarian', 'barrier', 'thriving', 'recover', 'reverse', 'raging', 'systematic', 'competition', 'raises', 'illustrate', 'striking', 'fell', 'cover', 'double', 'everybody', 'girl', 'steer', 'bhutan', 'voted', 'ushered', 'box', 'continually', 'judiciary', 'relatively', 'footing', 'frequency', 'circle', 'synergies', 'sacred', 'floods', 'pose', 'ranging', 'revitalized', 'kuwait', 'bahrain', 'bridges', 'goodneighbourly', 'evolved', 'popular', 'iraqi', 'nationals', 'coordinator', 'closure', 'deteriorating', 'creativity', 'strip', 'doubts', 'inevitable', 'leap', 'ideal', 'reviewing', 'horizons', 'twentyfifth', 'cameroon', '77', 'remarks', 'disparities', 'pandemic', 'transmission', 'dropped', 'literacy', 'encountered', 'temporary', '‘', 'probably', 'garner', 'occupy', 'neglected', 'eccas', 'bangui', 'normal', 'commensurate', 'compounded', 'bureau', 'interregional', 'monitor', 'pool', 'morning', 'academia', 'stopping', 'actual', 'protests', 'austrian', 'excellence', 'thailand', '150', 'accomplishment', 'missile', 'shortly', 'instances', 'journalists', 'minorities', 'orientation', 'deploy', 'sri', 'evaluated', 'lanka', 'ruthless', 'ranked', 'declined', '65', 'dividend', 'sociocultural', 'designing', 'formulation', 'recommended', 'blessed', 'policing', 'await', 'permit', 'eradicated', 'province', 'unequal', 'suspicion', 'enlightened', 'unequivocal', 'humans', 'damaging', 'links', 'juncture', 'synergy', 'avoiding', 'optimal', '1982', 'conciliation', 'archipelago', 'breach', 'satisfy', 'blueprint', 'exploit', 'scholars', 'prescribed', 'affirmed', 'evil', 'turbulence', 'christian', 'citizenship', 'fire', '57', 'soil', 'grows', 'slovak', 'governed', 'casualties', 'afraid', 'slovakia', 'requests', 'afghan', 'concentration', 'intensive', 'quick', 'guns', 'emphasizing', 'identifying', 'deficiencies', 'prevalent', 'formulate', 'incentives', 'preparedness', 'prayers', 'vanuatu', 'peaceloving', 'resorting', 'illegitimate', 'spent', 'colour', 'recognizing', 'caledonia', 'kanak', 'melanesian', 'spearhead', '33', 'papua', 'admit', 'murdered', 'errors', 'jurisdiction', 'situated', 'explore', 'adequately', 'accompanying', 'ports', 'airports', 'amending', 'distinguished', 'guyana', 'execution', 'barely', 'needless', 'narrowing', 'badly', 'operating', 'withdraw', 'bears', 'hasten', 'expenditure', 'grapple', 'measured', 'gdp', 'concessionary', 'wiped', 'hurricane', 'incapable', 'discourse', 'humility', 'fostered', 'compass', 'navigate', 'conformity', 'prefer', 'persistence', 'saint', 'lucia', 'loud', 'therein', 'resist', 'arrest', 'backs', 'elusive', 'eligible', 'broaden', 'port', 'mankind', 'devote', 'mexico', 'storms', 'worship', 'struggles', 'spiritual', 'imagined', 'iron', 'jurisdictions', 'tackled', 'perfect', 'cleansing', 'prevents', 'undermines', 'sooner', 'notion', 'dismantle', 'headed', 'delighted', 'canada', 'approval', 'chileans', 'division', 'advice', 'consent', 'negatively', 'warfare', 'vacuum', 'strict', 'deeds', 'gestures', 'uniting', 'quarrels', 'paths', 'virtually', 'imagination', 'compatriots', 'republican', 'melting', 'widespread', 'burundi', 'dedicate', 'legality', 'reconcile', 'indivisible', 'abandon', 'avert', 'relaunch', 'arbitrary', 'quartet', 'undeniable', 'pushing', 'arising', 'complementarity', 'charged', 'alliances', 'adapted', 'consultative', 'destination', 'compassionate', 'dictatorship', 'replace', 'cochair', 'whenever', 'herald', 'broadbased', 'unfettered', 'nightmare', 'assault', 'volatile', 'push', 'fairness', 'endorse', 'midst', 'irrespective', 'extinction', 'singular', 'prominence', 'triumph', 'catastrophic', 'officers', 'solomon', 'transit', 'humane', 'paradox', 'ninth', 'trouble', 'incomprehensible', 'manage', 'window', 'wipe', 'disturbed', 'barrel', 'dismantling', 'eswatini', 'registered', 'voting', 'monarchy', 'homegrown', 'complies', '2022', 'vocational', 'invested', 'congolese', 'deplorable', 'forest', 'grand', 'minimum', 'sad', 'hidden', 'distress', 'municipal', 'breakthroughs', 'montenegro', 'assiduously', 'oriented', 'network', 'inspection', 'highlights', 'suppress', 'operationalization', '1325', 'supporter', 'enters', 'guidelines', 'neighbourly', 'romania', 'cabinet', 'meant', 'italy', 'poland', 'applicable', 'analyse', 'ripe', 'occurring', 'inquiry', 'refuge', 'resettlement', 'triggered', 'continuously', 'silence', 'functions', 'transnistrian', 'nagorno', 'karabakh', 'abkhazia', 'advantages', 'complementary', 'overriding', 'resultsoriented', '1990', 'luxembourg', 'imposition', 'repression', 'hours', 'tuesday', 'break', 'cessation', 'contiguous', 'kerry', 'israelis', 'destroying', 'monday', 'virtuous', '46', 'séléka', 'militias', 'recruited', 'disastrous', 'callous', 'vigilance', 'ms', 'refusal', 'subscribes', 'rendered', 'kitts', 'nevis', 'sharp', 'offshore', 'electronic', 'components', 'aircraft', 'perceived', 'commended', 'intrinsically', 'geared', 'diversification', 'relies', 'assisted', 'plague', 'margins', 'budgets', 'repercussions', 'criminality', 'forged', 'basin', 'zerotolerance', 'behaviour', 'qualified', 'proposing', 'functional', 'icao', 'speaks', 'elevated', 'frontiers', 'rwanda', 'luxury', 'africans', 'nowhere', 'dictatorial', 'unsmil', 'smuggling', 'tripoli', 'tunisia', 'maghreb', 'thereof', 'motion', 'runs', 'enforced', 'disappearance', 'interior', 'nationality', 'annexation', 'alquds', '1990s', 'liberal', 'proclaimed', 'horrendous', 'georgian', 'suicide', 'armenia', 'moldova', 'azerbaijan', 'soviet', 'eurasian', 'unlike', 'kremlin', 'moscow', 'baku', 'dividing', 'mercenaries', 'losing', 'react', 'misunderstanding', 'interpretation', 'virus', 'erosion', 'ugly', 'naive', 'appealed', 'erased', 'caucasus', 'fanatic', 'unification', 'premise', 'imposes', 'london', 'rejected', 'elites', 'viability', 'revenues', 'meanwhile', 'cultivating', 'marshal', 'oppressed', 'knew', 'wrote', 'secret', 'impressive', 'hoped', 'oppose', 'mostly', 'university', 'pages', 'swiftly', 'darkness', 'youngest', 'rush', 'cite', 'steadily', 'undergone', 'ages', 'visàvis', 'conjunction', 'choices', 'distorted', 'zerosum', 'games', 'futures', 'displayed', 'paraguay', 'validity', 'paraguayan', 'honesty', 'generated', 'plants', 'beneath', 'exceeds', 'perception', 'admiration', 'predictability', 'logistics', 'workforce', 'francisco', 'modernity', 'judge', 'mired', 'missed', 'perils', 'mountain', 'lesotho', 'mountains', 'discord', 'partial', 'inextricably', 'tide', 'jubilee', 'formation', 'apartheid', 'certainty', 'alassad', 'text', 'vii', 'renunciation', 'confirms', 'offensive', 'facility', 'pandemics', 'endanger', 'treating', 'halved', 'appear', 'ineffective', 'meaningless', 'dilemma', 'jeopardizing', 'recalling', 'difficulty', 'generating', 'longing', 'cycles', 'pause', 'granting', 'malta', 'searching', 'headlines', 'forcibly', 'stir', 'waves', 'unthinkable', 'reversed', 'holistically', 'outraged', 'appalling', 'polluted', 'brutality', 'carnage', 'malala', 'books', 'para', 'tajikistan', 'cosponsored', 'dushanbe', 'hydropower', '10year', 'almaty', 'stepped', 'deem', 'sixtyninth', 'switzerland', 'cry', 'distrust', 'disagreements', 'unleashed', 'richer', 'consume', 'bury', 'aspired', 'relationships', 'lifestyle', 'reserve', 'uses', 'nationalism', 'regulations', 'convergence', 'planetary', 'unleash', 'abolish', 'airlines', 'ought', 'grew', 'pushed', 'republics', 'arose', 'ignoring', 'cultivate', 'research', 'criticize', 'saved', 'station', 'buy', 'reproduce', 'galvanized', 'mozambique', 'method', 'tenets', 'mines', 'sadc', 'galvanizing', 'costa', 'rica', 'protects', 'henceforth', 'underscores', 'denmark', 'nicaraguan', 'commits', 'lowest', 'guatemala', 'ethiopia', 'celebration', 'halfcentury', 'settled', 'multifaceted', 'narrative', 'presenting', 'galvanize', 'exerting', 'verify', 'unflinching', 'deficit', 'nurture', 'bahamas', 'compelling', 'lament', 'responsibly', 'earned', 'empowered', 'destabilization', 'citizenry', 'infrastructural', 'impede', 'influx', 'miles', '80', 'rarely', 'hour', 'mixed', 'fish', 'mindset', 'vessel', 'scheme', 'clinton', 'harvesting', 'geothermal', 'fill', 'dioxide', 'provinces', 'privatesector', 'belongs', '20132017', 'connecting', 'malaysia', 'overwhelmingly', 'heights', 'fiji', 'notes', 'director', 'australian', 'distant', 'outer', 'cutting', 'slogans', 'hardly', 'minerals', 'nuclearweapon', 'rapporteur', 'equatorial', 'benefiting', 'disagree', 'argument', 'suitable', 'mediators', 'coexist', 'withdrawal', 'implies', 'jewish', '2500', 'exile', '1979', 'tehran', 'moderates', 'creed', 'permitted', 'berlin', 'pull', 'massacre', 'washington', 'agent', '2002', 'uranium', 'enrichment', 'enriched', 'tons', 'centrifuges', 'route', 'concessions', 'book', 'eat', 'comparison', 'matched', 'capability', 'enrich', 'revolutionary', 'enemy', 'prophet', 'drink', 'uprooted', 'swept', 'claiming', 'sunni', 'shia', 'deploying', 'false', 'tearing', 'reaffirming', 'oldest', 'hizbullah', '3000', 'blown', 'passengers', 'answered', 'executed', 'distinct', 'militant', 'koran', 'allah', 'ibid', 'justly', 'muhammad', 'faiths', 'nonuse', 'predicated', 'insist', 'twice', 'recurrence', 'continuation', 'cries', 'cypriots', 'frozen', 'turkish', 'belgrade', 'differ', 'wartorn', 'serbian', 'uganda', 'enjoyment', 'hinges', 'symbolic', 'helsinki', 'metohija', 'pristina', 'approve', 'unmik', 'forming', 'serbs', 'abused', 'prison', 'panamanians', 'panamanian', 'reviewed', 'investigated', 'sand', 'canal', 'discovered', 'expenditures', 'estimates', '125', '9', 'contract', 'colombian', 'puerto', 'rico', 'assessments', 'urged', 'haitian', 'pope', 'francis', 'catholic', 'church', 'voluntary', 'objectively', 'rockets', 'containing', 'fired', 'intractable', 'abbas', 'netanyahu', 'blame', 'suit', 'instil', 'corrections', 'estonia', 'drivers', 'domestically', 'online', 'sao', 'tome', 'principe', 'anticipate', 'mediate', 'tranquillity', 'consensual', 'fratricidal', 'lao', 'discharging', 'frequent', 'graduating', 'povertyreduction', 'unexploded', 'ordnance', 'lldcs', 'asiapacific', 'finland', 'pathway', 'predicted', 'precondition', 'actionoriented', 'flight', 'havens', 'shouldering', 'persuade', 'latvia', 'accumulated', 'complacency', 'spaces', 'regulate', 'suffers', 'francophonie', 'grounds', 'sow', 'wildlife', 'finances', 'demobilization', 'reintegration', 'designation', 'constituent', 'sworn', 'neighbourhoods', 'supporters', 'placing', 'destitution', 'abducted', 'relates', 'asylum', 'turkmenistan', 'goodneighbourliness', 'underlying', 'attract', 'successive', 'wideranging', 'yield', 'exercises', 'evaluating', 'payment', 'unambiguous', 'brighter', 'fundamentalism', 'acknowledges', 'reunification', '39', 'testament', 'coherence', 'dynamism', '45', 'enablers', 'richest', 'layer', 'unexpected', 'dating', 'entrench', 'consequence', 'jonglei', 'efficiently', 'austerity', 'monitored', 'pibor', 'county', 'impediments', '10000', 'combatants', 'counterpart', 'albashir', 'expeditiously', 'culminate', 'replete', 'relentlessly', 'nonmember', 'recourse', 'mining', 'indebted', 'tropical', 'eighteenth', 'sanctuary', 'tanzania', 'interfere', 'ireland', 'grim', 'servants', 'cubans', 'nonviolence', 'nepal', 'breathe', 'timetable', 'graduate', 'competitiveness', 'bottom', 'migrant', 'nam', 'ethnicity', 'aftermath', 'bipolar', 'taliban', 'catastrophes', 'sincerity', 'manifestation', 'warmongering', 'realm', 'dare', 'bestowed', 'listened', 'lebanese', 'attempting', 'pluralism', 'intellectual', 'emirates', 'fabric', 'selectivity', 'explosion', 'holocaust', '150000', 'g20', 'viet', 'npt', 'argentine', 'vulture', 'defaulted', 'talked', 'default', 'creditors', '66', 'politicians', 'preserved', 'pains', 'likeminded', 'sato', 'newborn', 'yeasmin', 'polyglu', 'kyrgyzstan', 'metres', 'aggravated', 'interrelated', 'shanghai', 'alternatives', 'hungary', 'knowhow', 'expo', 'synthesis', 'immigrants', 'indifference', 'italian', 'defenders', 'sultanate', 'oman', 'qatar', 'councils', 'ict', 'content', 'distort', 'paper', 'armenians', 'azerbaijani', '51', 'armenian', 'qualifies', 's2012522', 'albania', 'alnakba', '1948', 'exaggerated', 'relying', 'connections', 'site', 'slaughter', 'irish', 'kim', 'jong', 'designated', 'fuelling', 'command', 'enthusiasm', 'deadlock', 'representativeness', 'participant', 'communist', 'suggests', 'schedule', 'sights', 'cholera', '8000', 'experiment', 'explicitly', 'indirectly', 'compromises', 'disappointed', 'seemingly', 'cents', 'unchecked', 'matthew', 'reelection', 'angola', 'onset', 'hurricanes', 'deposited', 'czech', 'eritrea', 'eritrean', 'relieve', 'honourable', 'render', '20152017', 'keen', 'sect', 'martyrs', 'philippine', 'typhoons', 'covering', 'violating', 'sterling', 'gambia', 'disparity', 'epidemic', 'profoundly', 'transitions', 'polarization', 'nurturing', 'comorian', 'comoros', 'mayotte', 'treat', 'chairperson', 'constitutions', 'fijian', 'fijians', 'sees', 'acutely', 'utilization', 'standalone', 'alarmed', 'unbearable', 'minsk', 'dictatorships', 'dared', 'conquer', 'epidemics', 'uzbekistan', 'aral', 'guatemalans', 'seychelles', 'abu', 'impacting', 'tunb', 'dominica', 'excuses', 'lifetime', 'fault', 'impulse', 'argue', 'averted', 'botswana', 'leaves', 'cotonou', 'resurgence', 'dominican', 'compulsory', 'portugal', 'belgium', 'centenary', 'cruelty', 'genocides', 'netherlands', 'quantities', 'peruvians', 'lima', 'moon', 'flooded', '15°c', 'palau', 'habitat', 'senegal', 'visions', 'justifies', 'restraint', 'bulgaria', 'accommodation', 'ruins', 'sweeping', 'viewed', 'pray', 'mongolia', 'ulaanbaatar', 'monaco', 'worrisome', 'brazilian', 'brazilians', 'malagasy', 'kazakhstan', 'astana', 'iceland', 'beijing', 'hamas', 'rocket', 'grievances', 'grenada', 'graduated', 'dock', 'shield', 'filled', 'breakdown', 'partnering', 'embedded', 'cape', 'verde', 'belize', 'guatemalan', 'cambodia', 'landmines', 'canadian', 'assessing', 'maría', 'zabala', 'colombians', 'sam', 'kutesa', 'ebola', 'rulebook', 'beheadings', '2178', 'ideologies', 'democratize', 'crimea', 'sham', 'mh17', 'shields', 'isil', 'trained', 'daesh', 'islamists', 'isis', 'boko', 'haram', 'defense', 'libyans', 'ansar', 'brazzaville', 'damian', 'a69pv6', 'updating', 'assange', '36', 'announcements', 'kathy', 'eez', 'pipa', '69', 'debts', 'ozone', 'dmz']\n"
     ]
    }
   ],
   "source": [
    "#Run this cell\n",
    "words = list(model.wv.vocab)\n",
    "print(words)"
   ]
  },
  {
   "cell_type": "code",
   "execution_count": 18,
   "metadata": {},
   "outputs": [
    {
     "name": "stdout",
     "output_type": "stream",
     "text": [
      "[ 0.10004293 -0.36782259  0.83516866 -0.1443626  -1.26342797  1.3150264\n",
      " -1.4514519  -0.0205888   1.28872871  0.0453973   0.24082133 -0.50696069\n",
      "  0.56629288  0.97558498  0.90518612 -1.70721722  0.74800909 -0.4614391\n",
      " -0.65230429 -0.00369177  1.64442623 -1.03651619 -0.88272798 -0.35979238\n",
      " -1.50137067 -1.74656689 -0.4354783  -0.6902616   0.04643453  0.38912427\n",
      " -1.29680359 -1.2104708  -0.77930802 -0.38269517  1.84726131 -0.29681239\n",
      " -0.73531991 -0.42250785 -0.80673993 -0.45872149  0.61739641  1.16693187\n",
      "  0.3853395  -0.25829127  0.40910542  1.42942286 -0.66697472 -1.79816484\n",
      "  0.11374386 -1.5433147  -0.13747533 -0.27004206  0.92823184 -0.03609511\n",
      " -0.47126278 -0.9987216   0.54925078  1.2125721  -0.83365852  0.51959401\n",
      "  0.74410886 -2.15058517 -1.3280437  -0.71187925 -0.42306837  1.33835077\n",
      "  0.28768069  0.36591935 -0.97497451 -1.03630221  1.40072024 -1.48713326\n",
      " -0.71895772 -0.56145048  1.30078113 -1.06346214  1.62278926  0.33513731\n",
      "  0.68754578  0.1430317  -0.84498847  0.22857033  0.37281686 -0.24339181\n",
      " -0.87768567  2.57703924  0.11152544  0.34156549 -0.26343486  1.58099914\n",
      "  0.21187361 -0.79150355  0.22756428  0.01141129 -0.61558563  0.00541381\n",
      "  0.12121678  0.97518986  1.34611154  2.94009805]\n"
     ]
    },
    {
     "name": "stderr",
     "output_type": "stream",
     "text": [
      "/Users/student/anaconda3/lib/python3.6/site-packages/ipykernel_launcher.py:1: DeprecationWarning: Call to deprecated `__getitem__` (Method will be removed in 4.0.0, use self.wv.__getitem__() instead).\n",
      "  \"\"\"Entry point for launching an IPython kernel.\n"
     ]
    }
   ],
   "source": [
    "print(model['president'])"
   ]
  },
  {
   "cell_type": "code",
   "execution_count": 19,
   "metadata": {},
   "outputs": [
    {
     "name": "stdout",
     "output_type": "stream",
     "text": [
      "[ 0.50571191 -1.14585042  0.88336146 -0.7181688   0.16635719  0.87346196\n",
      "  0.45333222 -0.89346951  0.30545184  0.59899104  1.30089056 -1.24483168\n",
      "  0.96436101  1.36720133 -0.62283427 -0.56251544 -0.90976316  0.99269098\n",
      "  0.92101133  0.76320416  0.66909206 -0.16946624 -1.16192031  0.17860369\n",
      "  0.2786437  -1.53136754  1.24101329 -0.32097313  0.54662639 -0.74510449\n",
      "  0.95049125 -0.1933731  -0.8763932   1.00633347  0.44419891 -0.19584402\n",
      "  0.57966924  0.0221666   0.52925283 -0.13105063  1.12144732  0.82639158\n",
      " -0.62819135 -0.84901345 -0.29259917 -0.09779613  0.59890091 -0.22077097\n",
      " -0.55863464 -1.06829417  1.09456146  0.07598283  0.40501332  0.11646266\n",
      " -0.67915761 -1.04601574  0.25673491 -0.80857098  0.59516615 -1.38652837\n",
      "  0.19507062 -0.05368011 -0.68871355 -0.13975966 -0.26191697  0.85701859\n",
      " -0.42036879  0.70038563 -0.26105291 -0.19615749  0.28419361  0.27295974\n",
      " -0.15253489 -0.06848901  0.13204311  0.87239802  0.35299045 -0.16349454\n",
      "  1.38974512 -0.15107383 -1.07190502  1.10820222  1.03988051 -0.19835649\n",
      "  0.51412326  0.27206752 -0.44055343 -0.24799086  0.19440573  1.4208957\n",
      "  0.30567101 -0.5026508  -0.04367273  0.68887109 -0.13831556  0.79051799\n",
      " -0.90351814  0.22886941  0.25715882  0.67868137]\n"
     ]
    },
    {
     "name": "stderr",
     "output_type": "stream",
     "text": [
      "/Users/student/anaconda3/lib/python3.6/site-packages/ipykernel_launcher.py:1: DeprecationWarning: Call to deprecated `__getitem__` (Method will be removed in 4.0.0, use self.wv.__getitem__() instead).\n",
      "  \"\"\"Entry point for launching an IPython kernel.\n"
     ]
    }
   ],
   "source": [
    "print(model['conference'])"
   ]
  },
  {
   "cell_type": "code",
   "execution_count": 20,
   "metadata": {},
   "outputs": [
    {
     "name": "stdout",
     "output_type": "stream",
     "text": [
      "[-0.05331021  0.02461317  0.16952732  0.11518123 -0.0298163   0.20589994\n",
      "  0.02408673 -0.00775847 -0.05535145 -0.05139768  0.04615434 -0.08199693\n",
      "  0.02306118  0.03343716 -0.06946868 -0.02160304 -0.0340296  -0.04799907\n",
      "  0.00469526  0.02795013  0.06806124 -0.13229074 -0.01401069 -0.06909037\n",
      " -0.09151568 -0.17865373 -0.04089556 -0.11366736 -0.02634837  0.07226557\n",
      "  0.00157439 -0.03560864  0.02933211  0.04445894  0.1832772   0.00206542\n",
      "  0.06170388 -0.06203214 -0.02573641  0.08837291  0.13375306  0.09623809\n",
      "  0.0397813   0.04836965  0.09101138  0.00182716  0.01421508 -0.12384552\n",
      " -0.11498273 -0.02040348  0.16188984 -0.15037075 -0.08341955 -0.14393482\n",
      " -0.0739752  -0.05170166 -0.06458275  0.01790753 -0.03556938 -0.05288174\n",
      "  0.05025294 -0.07554308 -0.03400298 -0.08434624  0.10545751  0.06479744\n",
      " -0.19216967 -0.02996666 -0.0317729   0.00900241  0.12945607 -0.05474727\n",
      "  0.01416839 -0.10094384  0.09219772  0.03095479 -0.13594998  0.11435203\n",
      " -0.07045974  0.04276152  0.04138393  0.12079264  0.08005761  0.12164948\n",
      " -0.10210252  0.07546543  0.01811265  0.12938195  0.08778223  0.05626057\n",
      "  0.03982517 -0.11591201  0.02174717  0.07723915  0.05287911  0.16494511\n",
      "  0.11298173  0.09334757 -0.0405286   0.16389973]\n"
     ]
    },
    {
     "name": "stderr",
     "output_type": "stream",
     "text": [
      "/Users/student/anaconda3/lib/python3.6/site-packages/ipykernel_launcher.py:1: DeprecationWarning: Call to deprecated `__getitem__` (Method will be removed in 4.0.0, use self.wv.__getitem__() instead).\n",
      "  \"\"\"Entry point for launching an IPython kernel.\n"
     ]
    }
   ],
   "source": [
    "print(model['hiv'])"
   ]
  },
  {
   "cell_type": "markdown",
   "metadata": {},
   "source": [
    "`gensim` comes with some handy methods to analyze word relationships. `similarity` will give us a number from 0-1 based on how similar two words are. If this sounds like cosine similarity for words, you'd be right! It just takes the cosine similarity of the high dimensional vectors we input. \n",
    "\n",
    "In the following cell, find the similarity between the words `president` and `leadership`:"
   ]
  },
  {
   "cell_type": "code",
   "execution_count": 21,
   "metadata": {},
   "outputs": [
    {
     "name": "stderr",
     "output_type": "stream",
     "text": [
      "/Users/student/anaconda3/lib/python3.6/site-packages/ipykernel_launcher.py:1: DeprecationWarning: Call to deprecated `similarity` (Method will be removed in 4.0.0, use self.wv.similarity() instead).\n",
      "  \"\"\"Entry point for launching an IPython kernel.\n"
     ]
    },
    {
     "data": {
      "text/plain": [
       "0.84135937518535153"
      ]
     },
     "execution_count": 21,
     "metadata": {},
     "output_type": "execute_result"
    }
   ],
   "source": [
    "model.similarity('president','leadership')"
   ]
  },
  {
   "cell_type": "markdown",
   "metadata": {
    "collapsed": true
   },
   "source": [
    "#SOLUTION\n",
    "model.similarity('president', 'leadership')"
   ]
  },
  {
   "cell_type": "markdown",
   "metadata": {},
   "source": [
    "Now find the similarity between the words `different` and `leadership`."
   ]
  },
  {
   "cell_type": "code",
   "execution_count": 22,
   "metadata": {},
   "outputs": [
    {
     "name": "stderr",
     "output_type": "stream",
     "text": [
      "/Users/student/anaconda3/lib/python3.6/site-packages/ipykernel_launcher.py:1: DeprecationWarning: Call to deprecated `similarity` (Method will be removed in 4.0.0, use self.wv.similarity() instead).\n",
      "  \"\"\"Entry point for launching an IPython kernel.\n"
     ]
    },
    {
     "data": {
      "text/plain": [
       "0.26633334849390067"
      ]
     },
     "execution_count": 22,
     "metadata": {},
     "output_type": "execute_result"
    }
   ],
   "source": [
    "model.similarity('different', 'leadership')"
   ]
  },
  {
   "cell_type": "markdown",
   "metadata": {},
   "source": [
    "You should notice that the the second smilarity score is significantly lower than the first. Does this make sense?\n",
    "\n",
    "Find the similarity score between other words that may have very strong or very weak relationships:"
   ]
  },
  {
   "cell_type": "code",
   "execution_count": 23,
   "metadata": {},
   "outputs": [
    {
     "data": {
      "text/plain": [
       "0.39013303325506499"
      ]
     },
     "execution_count": 23,
     "metadata": {},
     "output_type": "execute_result"
    }
   ],
   "source": [
    "#Similarity 1\n",
    "model.wv.similarity('nuclear','jong')"
   ]
  },
  {
   "cell_type": "code",
   "execution_count": 24,
   "metadata": {},
   "outputs": [
    {
     "data": {
      "text/plain": [
       "0.78852571031286678"
      ]
     },
     "execution_count": 24,
     "metadata": {},
     "output_type": "execute_result"
    }
   ],
   "source": [
    "#Similarity 2\n",
    "model.wv.similarity('conflict','war')"
   ]
  },
  {
   "cell_type": "markdown",
   "metadata": {},
   "source": [
    "We can also find cosine distance between two clusters of word vectors. Each cluster is measured as the mean of its words:"
   ]
  },
  {
   "cell_type": "code",
   "execution_count": 25,
   "metadata": {},
   "outputs": [
    {
     "name": "stderr",
     "output_type": "stream",
     "text": [
      "/Users/student/anaconda3/lib/python3.6/site-packages/ipykernel_launcher.py:2: DeprecationWarning: Call to deprecated `n_similarity` (Method will be removed in 4.0.0, use self.wv.n_similarity() instead).\n",
      "  \n"
     ]
    },
    {
     "data": {
      "text/plain": [
       "0.73168048327430646"
      ]
     },
     "execution_count": 25,
     "metadata": {},
     "output_type": "execute_result"
    }
   ],
   "source": [
    "#Similarity between the president/leadership cluster and the confdient/experience cluster\n",
    "model.n_similarity(['president','leadership'],['confident','experience'])"
   ]
  },
  {
   "cell_type": "markdown",
   "metadata": {},
   "source": [
    "We can find words that don't belong with `doesnt_match`. It finds the mean vector of the words in the `list`, and identifies the furthest away. Out of the three words in the list `['president', 'violent', 'leadership']`, which is the furthest vector from the mean?"
   ]
  },
  {
   "cell_type": "code",
   "execution_count": 26,
   "metadata": {},
   "outputs": [
    {
     "name": "stderr",
     "output_type": "stream",
     "text": [
      "/Users/student/anaconda3/lib/python3.6/site-packages/ipykernel_launcher.py:2: DeprecationWarning: Call to deprecated `doesnt_match` (Method will be removed in 4.0.0, use self.wv.doesnt_match() instead).\n",
      "  \n"
     ]
    },
    {
     "data": {
      "text/plain": [
       "'violent'"
      ]
     },
     "execution_count": 26,
     "metadata": {},
     "output_type": "execute_result"
    }
   ],
   "source": [
    "#Fill in the blanks\n",
    "model.doesnt_match(['president', 'violent', 'leadership'])"
   ]
  },
  {
   "cell_type": "markdown",
   "metadata": {},
   "source": [
    "### 'violent' is the vector furthest from mean of the three"
   ]
  },
  {
   "cell_type": "markdown",
   "metadata": {
    "collapsed": true
   },
   "source": [
    "#SOLUTION\n",
    "model.doesnt_match(['president', 'violent', 'leadership'])\n",
    "# 'violent'"
   ]
  },
  {
   "cell_type": "markdown",
   "metadata": {},
   "source": [
    "The most famous implementation of this vector math is semantics. What happens if we take:\n",
    "\n",
    "$$leadership - president + assembly = $$"
   ]
  },
  {
   "cell_type": "code",
   "execution_count": 27,
   "metadata": {},
   "outputs": [
    {
     "name": "stderr",
     "output_type": "stream",
     "text": [
      "/Users/student/anaconda3/lib/python3.6/site-packages/ipykernel_launcher.py:1: DeprecationWarning: Call to deprecated `most_similar` (Method will be removed in 4.0.0, use self.wv.most_similar() instead).\n",
      "  \"\"\"Entry point for launching an IPython kernel.\n"
     ]
    },
    {
     "data": {
      "text/plain": [
       "[('current', 0.8326966762542725),\n",
       " ('revitalization', 0.8317046761512756),\n",
       " ('highlevel', 0.8257910013198853),\n",
       " ('advisory', 0.8191213607788086),\n",
       " ('important', 0.8144451379776001),\n",
       " ('debate', 0.8055685758590698),\n",
       " ('session', 0.7984259128570557),\n",
       " ('deliberations', 0.7940750122070312),\n",
       " ('declaration', 0.7818765640258789),\n",
       " ('secretary', 0.7816333174705505)]"
      ]
     },
     "execution_count": 27,
     "metadata": {},
     "output_type": "execute_result"
    }
   ],
   "source": [
    "model.most_similar(positive=['leadership', 'assembly'], negative=['president'])"
   ]
  },
  {
   "cell_type": "markdown",
   "metadata": {},
   "source": [
    "__Question__: What does this equation mean, and what do these output vectors mean?"
   ]
  },
  {
   "cell_type": "markdown",
   "metadata": {},
   "source": [
    "### The vector math means what if you took the attributes of leadership, removed those associated with president, and added those associated with assembly. The output represents assembly leadership words in the UN"
   ]
  },
  {
   "cell_type": "markdown",
   "metadata": {},
   "source": [
    "__Answer__:"
   ]
  },
  {
   "cell_type": "markdown",
   "metadata": {},
   "source": [
    "The way that this works is that, by adding and subtracting attributes of each word vector, the equation outputs a vector with a new value for each of the (in this case 100) attributes. The model then outputs words in the corpus that most closely matches the attributes of this outputted vector. The most famous exampls is:\n",
    "\n",
    "$$ King - Man + Woman = ...$$\n",
    "\n",
    "__Question__: What do you think this would output, and why?"
   ]
  },
  {
   "cell_type": "markdown",
   "metadata": {},
   "source": [
    "Your answer here:"
   ]
  },
  {
   "cell_type": "markdown",
   "metadata": {},
   "source": [
    "__ANSWER__: Queen. We take the 'manliness' from `KING` and replace it with 'woman', so the word vector King, while retaining its high royalty attribute, no longer has a strong manliness attribute and now has a strong feminine attribute. "
   ]
  },
  {
   "cell_type": "markdown",
   "metadata": {},
   "source": [
    "# Principle Component Analysis <a id='section 2'></a>\n",
    "\n",
    "Next we will explore the word embeddings of our `text` visually with PCA (remember the EDA lab from 3/22?). \n",
    "\n",
    "We can retrieve __all__ of the vectors from a trained model as follows:"
   ]
  },
  {
   "cell_type": "code",
   "execution_count": 28,
   "metadata": {},
   "outputs": [
    {
     "name": "stderr",
     "output_type": "stream",
     "text": [
      "/Users/student/anaconda3/lib/python3.6/site-packages/ipykernel_launcher.py:1: DeprecationWarning: Call to deprecated `__getitem__` (Method will be removed in 4.0.0, use self.wv.__getitem__() instead).\n",
      "  \"\"\"Entry point for launching an IPython kernel.\n"
     ]
    }
   ],
   "source": [
    "X = model[model.wv.vocab]"
   ]
  },
  {
   "cell_type": "markdown",
   "metadata": {},
   "source": [
    "As we did in the EDA lab, we want to standardize X so that all features have the same scale. Do this by creating a StandardScaler(), then run its fit_transform method on X. You should recognize the syntax the EDA lab."
   ]
  },
  {
   "cell_type": "code",
   "execution_count": 29,
   "metadata": {},
   "outputs": [
    {
     "data": {
      "text/plain": [
       "array([[ 1.00016557,  0.02434524, -0.46572056, ..., -0.48001858,\n",
       "         0.25013746, -0.47715583],\n",
       "       [ 0.02434524,  1.00016718, -0.30482128, ..., -0.27213934,\n",
       "        -0.17808707, -0.32000969],\n",
       "       [-0.46572056, -0.30482128,  1.00016545, ...,  0.77507807,\n",
       "        -0.05604053,  0.78865927],\n",
       "       ..., \n",
       "       [-0.48001858, -0.27213934,  0.77507807, ...,  1.00016444,\n",
       "        -0.05984497,  0.8110644 ],\n",
       "       [ 0.25013746, -0.17808707, -0.05604053, ..., -0.05984497,\n",
       "         1.00016741,  0.25437779],\n",
       "       [-0.47715583, -0.32000969,  0.78865927, ...,  0.8110644 ,\n",
       "         0.25437779,  1.00016501]])"
      ]
     },
     "execution_count": 29,
     "metadata": {},
     "output_type": "execute_result"
    }
   ],
   "source": [
    "#scale the data\n",
    "X_std = StandardScaler().fit_transform(X)\n",
    "\n",
    "#look at the covariance matrix\n",
    "np.cov(X_std.T)"
   ]
  },
  {
   "cell_type": "markdown",
   "metadata": {
    "collapsed": true
   },
   "source": [
    "#SOLUTION\n",
    "#scale the data\n",
    "X_std = StandardScaler().fit_transform(X)\n",
    "\n",
    "#look at the covariance matrix\n",
    "np.cov(X_std.T)"
   ]
  },
  {
   "cell_type": "markdown",
   "metadata": {},
   "source": [
    "We can then train a projection method on the vectors, such as those methods offered in scikit-learn, then use matplotlib to plot the projection as a scatter plot which we will do next.\n",
    "\n",
    "### Plot Word Vectors Using PCA <a id='subsection 3'></a>\n",
    "\n",
    "Recall that we can create a 2-dimensional PCA model of the word vectors using the scikit-learn PCA class. Construct a PCA objectusing the `PCA()` class of the scikit-learn library (setting n_components=2 so we can graph it in two dimensions) and use its fit_transform method on your standardized X to get Y_pca: the principal components."
   ]
  },
  {
   "cell_type": "code",
   "execution_count": 30,
   "metadata": {
    "collapsed": true
   },
   "outputs": [],
   "source": [
    "# make a PCA\n",
    "pca = PCA(n_components=2) #set n_components to 2 to graph in 2-D\n",
    "\n",
    "# fit the standardized data\n",
    "Y_pca = pca.fit_transform(X_std)"
   ]
  },
  {
   "cell_type": "markdown",
   "metadata": {
    "collapsed": true
   },
   "source": [
    "#SOLUTION\n",
    "#make a PCA\n",
    "pca = PCA(n_components=2) #set n_components to 2 to graph in 2-D\n",
    "\n",
    "#fit the standardized data\n",
    "Y_pca = pca.fit_transform(X_std)"
   ]
  },
  {
   "cell_type": "markdown",
   "metadata": {},
   "source": [
    "The resulting projection can be plotted using matplotlib, pulling out the two dimensions as x and y coordinates. Create a scatter plot of the standardized word embeddings, setting the __size of each scatter point to 5__ to avoid overcrowding."
   ]
  },
  {
   "cell_type": "code",
   "execution_count": 32,
   "metadata": {},
   "outputs": [
    {
     "data": {
      "text/plain": [
       "<matplotlib.collections.PathCollection at 0x1a2e16c7b8>"
      ]
     },
     "execution_count": 32,
     "metadata": {},
     "output_type": "execute_result"
    },
    {
     "data": {
      "image/png": "[encoded data removed]",
      "text/plain": [
       "<matplotlib.figure.Figure at 0x1a2f7a6198>"
      ]
     },
     "metadata": {},
     "output_type": "display_data"
    }
   ],
   "source": [
    "#Create a scatter plot here\n",
    "plt.scatter(Y_pca[:,0], Y_pca[:,1], s=5)"
   ]
  },
  {
   "cell_type": "markdown",
   "metadata": {
    "collapsed": true
   },
   "source": [
    "#SOLUTION\n",
    "plt.scatter(Y_pca[:, 0], Y_pca[:, 1], s= 5)\n",
    "### not sure I get this; you are plotting rows and columns of the PCA model?"
   ]
  },
  {
   "cell_type": "code",
   "execution_count": 34,
   "metadata": {},
   "outputs": [
    {
     "name": "stdout",
     "output_type": "stream",
     "text": [
      "<class 'numpy.ndarray'>\n",
      "(6122, 2)\n"
     ]
    }
   ],
   "source": [
    "print(type(Y_pca))\n",
    "print(Y_pca.shape)"
   ]
  },
  {
   "cell_type": "markdown",
   "metadata": {},
   "source": [
    "__Question__: What do each point represent? What do the x and y axes represent?"
   ]
  },
  {
   "cell_type": "markdown",
   "metadata": {},
   "source": [
    "__ANSWER__: Each point represents a word. Explanation for axes are below as a part of the lab: (aren't the axes the two principal components?)"
   ]
  },
  {
   "cell_type": "markdown",
   "metadata": {},
   "source": [
    "You might at this point still be confused on what the x- and y- axes represent. Because PCA selects and combines features according to what best describes and models the desired variable, the x and y axes actually don't have an intuitive meaning on a human level. PCA's job is to reduce the dimension of the features, and in this case it manipulated the 100 features each word vector had to just 2 that best described the words we modeled on. So, don't worry too much about what the coordinates of each word represents - we just want you to have a general visual understanding of word vectors and how they may be related to one another on a graph.\n",
    "\n",
    "On that note, run the following cell. This will label each vector with its respective word. Can you figure out, in general, what the code is doing?"
   ]
  },
  {
   "cell_type": "code",
   "execution_count": 33,
   "metadata": {},
   "outputs": [
    {
     "name": "stderr",
     "output_type": "stream",
     "text": [
      "/Users/student/anaconda3/lib/python3.6/site-packages/ipykernel_launcher.py:4: DeprecationWarning: Call to deprecated `__getitem__` (Method will be removed in 4.0.0, use self.wv.__getitem__() instead).\n",
      "  after removing the cwd from sys.path.\n"
     ]
    },
    {
     "data": {
      "image/png": "[encoded data removed]",
      "text/plain": [
       "<matplotlib.figure.Figure at 0x1a2e0d33c8>"
      ]
     },
     "metadata": {},
     "output_type": "display_data"
    }
   ],
   "source": [
    "import random\n",
    "rando = random.sample(list(model.wv.vocab), 15)\n",
    "\n",
    "X1 = model[rando]\n",
    "pca1 = PCA(n_components=2)\n",
    "result = pca.fit_transform(X1)\n",
    "# create a scatter plot of the projection\n",
    "plt.scatter(result[:, 0], result[:, 1])\n",
    "\n",
    "for i, word in enumerate(rando):\n",
    "    plt.annotate(word, xy=(result[i, 0], result[i, 1]))\n",
    "plt.show()"
   ]
  },
  {
   "cell_type": "markdown",
   "metadata": {},
   "source": [
    "*YOUR ANSWER HER*"
   ]
  },
  {
   "cell_type": "markdown",
   "metadata": {},
   "source": [
    "__ANSWER:__\n",
    "\n",
    "We are randomly selecting 15 words from the vectors outputted by the model. Then we are using PCA to reduce the dimention to 2 features and standardize the values as we did before. Then we are using matplotlib to create a scatter plot and, for each coordinate of the word, assigning the word label to the coordinate!"
   ]
  },
  {
   "cell_type": "markdown",
   "metadata": {},
   "source": [
    "Great job! You've now completed the lab on word embeddings and visualizing embeddings with PCA!\n",
    "\n",
    "---\n",
    "\n",
    "## Bibliography\n",
    "\n",
    "- Brownlee, Jason. (2017, October 6). How to Develop Word Embeddings in Python with Gensim. https://machinelearningmastery.com/develop-word-embeddings-python-gensim/\n",
    "\n",
    "- TensorFlow. (2018, March 29). Vector Representations of Words. https://www.tensorflow.org/tutorials/word2vec\n",
    "- `rem_punc_stop` function borrowed from Tian Qin's notebook on pre-processig: https://github.com/ds-modules/LEGALST-190/blob/master/labs/3-1/3-1_preprocessing_text_student_version.ipynb\n",
    "- PCA section adapted from materials by Keeley Takimoto: https://github.com/ds-modules/LEGALST-190/blob/master/labs/3-22/3-22_EDA.ipynb\n",
    "- Word2Vec introduction & examples adapted from materials by Chris Hench: https://github.com/henchc/textxd-2017/blob/master/08-Word-Embeddings.ipynb\n",
    "\n",
    "\n",
    "\n",
    "Notebook developed by: Keiko Kamei\n",
    "\n",
    "Data Science Modules: http://data.berkeley.edu/education/modules"
   ]
  },
  {
   "cell_type": "code",
   "execution_count": null,
   "metadata": {
    "collapsed": true
   },
   "outputs": [],
   "source": []
  }
 ],
 "metadata": {
  "anaconda-cloud": {},
  "kernelspec": {
   "display_name": "Python 3",
   "language": "python",
   "name": "python3"
  },
  "language_info": {
   "codemirror_mode": {
    "name": "ipython",
    "version": 3
   },
   "file_extension": ".py",
   "mimetype": "text/x-python",
   "name": "python",
   "nbconvert_exporter": "python",
   "pygments_lexer": "ipython3",
   "version": "3.6.8"
  }
 },
 "nbformat": 4,
 "nbformat_minor": 1
}
