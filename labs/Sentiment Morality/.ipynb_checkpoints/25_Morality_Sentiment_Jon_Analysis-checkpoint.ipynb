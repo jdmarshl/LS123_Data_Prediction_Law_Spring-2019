{
 "cells": [
  {
   "cell_type": "markdown",
   "metadata": {},
   "source": [
    "# [LEGALST-190] Lab 4/12: Morality and Sentiment Analysis"
   ]
  },
  {
   "cell_type": "markdown",
   "metadata": {},
   "source": [
    "This lab will cover morality and sentiment analysis using the *Moral Foundations Theory* with dictionary-based analysis, connecting to topic modeling and classifications ideas from previous labs.\n",
    "\n",
    "### Table of Contents\n",
    "[The Data](#section data)<br>\n",
    "[Goal and Question](#section goal)<br>\n",
    "1 - [Text Pre-processing](#section 1)<br>\n",
    "2 - [Polarity](#section 2)<br>\n",
    "3 - [Moral Foundations Theory](#section 3)<br>\n",
    "4 - [Non-negative matrix factorization](#section 4)<br>\n",
    "\n",
    "**Dependencies:**"
   ]
  },
  {
   "cell_type": "code",
   "execution_count": 1,
   "metadata": {},
   "outputs": [
    {
     "name": "stdout",
     "output_type": "stream",
     "text": [
      "Collecting textblob\n",
      "  Downloading textblob-0.15.1-py2.py3-none-any.whl (631kB)\n",
      "\u001b[K    100% |████████████████████████████████| 634kB 1.2MB/s ta 0:00:01\n",
      "\u001b[?25hRequirement already satisfied: nltk>=3.1 in /Users/student/anaconda3/lib/python3.6/site-packages (from textblob)\n",
      "Requirement already satisfied: six in /Users/student/anaconda3/lib/python3.6/site-packages (from nltk>=3.1->textblob)\n",
      "Installing collected packages: textblob\n",
      "Successfully installed textblob-0.15.1\n",
      "\u001b[33mYou are using pip version 9.0.3, however version 10.0.0 is available.\n",
      "You should consider upgrading via the 'pip install --upgrade pip' command.\u001b[0m\n"
     ]
    }
   ],
   "source": [
    "import numpy as np\n",
    "import pandas as pd\n",
    "import matplotlib.pyplot as plt\n",
    "%matplotlib inline\n",
    "import json\n",
    "\n",
    "from sklearn.decomposition import NMF, LatentDirichletAllocation\n",
    "from sklearn.feature_extraction.text import TfidfVectorizer, CountVectorizer\n",
    "\n",
    "import nltk\n",
    "from nltk.stem.snowball import SnowballStemmer\n",
    "\n",
    "import seaborn as sns\n",
    "\n",
    "!pip install textblob\n",
    "from textblob import TextBlob"
   ]
  },
  {
   "cell_type": "markdown",
   "metadata": {},
   "source": [
    "----\n",
    "## The Data<a id='section data'></a>\n",
    "\n",
    "For this lab, we'll use the Old Bailey dataset, something you all should be familiar with now. The size of the dataset is also rather large so we will compare two year-long periods, one from before 1827 and one after. Read the question to better understand why we look at 1827."
   ]
  },
  {
   "cell_type": "markdown",
   "metadata": {},
   "source": [
    "## Goal and Question<a id='section goal'></a>\n",
    "\n",
    "The goal of today's lab is to explore sentiment analysis with three different approaches – [polarity scoring](#section 2), [topic-specific dictionary methods](#section 3), and [topic modeling](#section 4).\n",
    "\n",
    "We'll look at sentiment in the context of the following question: \n",
    "\n",
    "**Did the way judges, prosecutors, and witnesses talk about moral culpability change after the Bloody Code was mostly repealed in 1827 (at the leading edge of a wave of legal reform in England)?**\n",
    "\n",
    "*Note: this is a question that could encompass an entire research project. Today's lab uses a very small subset of data due to datahub memory limitations, and skips over many of the steps needed for truly robust conclusions. *\n",
    "\n",
    "Something to think about: What are some things you would need to consider before answering this question?\n",
    "\n",
    "----"
   ]
  },
  {
   "cell_type": "markdown",
   "metadata": {},
   "source": [
    "## Section 1: Text Pre-processing<a id='section 1'></a>\n",
    "\n",
    "### Before we start\n",
    "This dataset we are about to look at is incredibly large, so to avoid crashing our datahub kernel, we only consider two years: 1822 and 1832. These two years were chosen as periods that were equally far from 1827 (when the Bloody Code was mostly repealed), while not being so far from each other that we'd expect to see major language usage change due only to time.\n"
   ]
  },
  {
   "cell_type": "markdown",
   "metadata": {},
   "source": [
    "----\n",
    "\n",
    "### Getting started\n",
    "\n",
    "Let's get working with the data."
   ]
  },
  {
   "cell_type": "code",
   "execution_count": 2,
   "metadata": {},
   "outputs": [
    {
     "data": {
      "text/html": [
       "<div>\n",
       "<style>\n",
       "    .dataframe thead tr:only-child th {\n",
       "        text-align: right;\n",
       "    }\n",
       "\n",
       "    .dataframe thead th {\n",
       "        text-align: left;\n",
       "    }\n",
       "\n",
       "    .dataframe tbody tr th {\n",
       "        vertical-align: top;\n",
       "    }\n",
       "</style>\n",
       "<table border=\"1\" class=\"dataframe\">\n",
       "  <thead>\n",
       "    <tr style=\"text-align: right;\">\n",
       "      <th></th>\n",
       "      <th>year</th>\n",
       "      <th>transcript</th>\n",
       "    </tr>\n",
       "    <tr>\n",
       "      <th>trial_id</th>\n",
       "      <th></th>\n",
       "      <th></th>\n",
       "    </tr>\n",
       "  </thead>\n",
       "  <tbody>\n",
       "    <tr>\n",
       "      <th>t18170115-1</th>\n",
       "      <td>1822</td>\n",
       "      <td>PETER JOHNSON was indicted for being at large,...</td>\n",
       "    </tr>\n",
       "    <tr>\n",
       "      <th>t18170115-2</th>\n",
       "      <td>1822</td>\n",
       "      <td>BENJAMIN HEARNE was indicted for burglariously...</td>\n",
       "    </tr>\n",
       "    <tr>\n",
       "      <th>t18170115-3</th>\n",
       "      <td>1822</td>\n",
       "      <td>JOHN DAVIS and JAMES LEMON , were indicted for...</td>\n",
       "    </tr>\n",
       "    <tr>\n",
       "      <th>t18170115-4</th>\n",
       "      <td>1822</td>\n",
       "      <td>RICHARD WILTSHIRE and SUSAN PAR-SONS , were in...</td>\n",
       "    </tr>\n",
       "    <tr>\n",
       "      <th>t18170115-5</th>\n",
       "      <td>1822</td>\n",
       "      <td>MARY JOHNSTON was indicted for burglariously b...</td>\n",
       "    </tr>\n",
       "  </tbody>\n",
       "</table>\n",
       "</div>"
      ],
      "text/plain": [
       "             year                                         transcript\n",
       "trial_id                                                            \n",
       "t18170115-1  1822  PETER JOHNSON was indicted for being at large,...\n",
       "t18170115-2  1822  BENJAMIN HEARNE was indicted for burglariously...\n",
       "t18170115-3  1822  JOHN DAVIS and JAMES LEMON , were indicted for...\n",
       "t18170115-4  1822  RICHARD WILTSHIRE and SUSAN PAR-SONS , were in...\n",
       "t18170115-5  1822  MARY JOHNSTON was indicted for burglariously b..."
      ]
     },
     "execution_count": 2,
     "metadata": {},
     "output_type": "execute_result"
    }
   ],
   "source": [
    "# contains Old Bailey trial data from 1822 and 1832\n",
    "old_bailey = pd.read_csv('data/obc_1822_1832.csv', index_col='trial_id')\n",
    "# select only the columns we need for this lab \n",
    "old_bailey = old_bailey.loc[:, ['year', 'transcript']]\n",
    "old_bailey.head()"
   ]
  },
  {
   "cell_type": "markdown",
   "metadata": {},
   "source": [
    "Awesome! We now have data we can work with. Before we start anything, we must clean the text!\n",
    "\n",
    "Just to review, we want to process our text by:<br>\n",
    "1) Lowercasing the words<br>\n",
    "2) Cleaning up punctuation<br>\n",
    "3) Splitting into individual words<br>\n",
    "4) Stemming the word tokens<br>\n",
    "\n",
    "For the sake of time (and to get to the good stuff), we've provided the pre-processing code below. This a big data set, so the code will take up to a minute to run."
   ]
  },
  {
   "cell_type": "code",
   "execution_count": 3,
   "metadata": {},
   "outputs": [
    {
     "data": {
      "text/html": [
       "<div>\n",
       "<style>\n",
       "    .dataframe thead tr:only-child th {\n",
       "        text-align: right;\n",
       "    }\n",
       "\n",
       "    .dataframe thead th {\n",
       "        text-align: left;\n",
       "    }\n",
       "\n",
       "    .dataframe tbody tr th {\n",
       "        vertical-align: top;\n",
       "    }\n",
       "</style>\n",
       "<table border=\"1\" class=\"dataframe\">\n",
       "  <thead>\n",
       "    <tr style=\"text-align: right;\">\n",
       "      <th></th>\n",
       "      <th>year</th>\n",
       "      <th>transcript</th>\n",
       "      <th>tokens</th>\n",
       "      <th>stemmed_tokens</th>\n",
       "    </tr>\n",
       "    <tr>\n",
       "      <th>trial_id</th>\n",
       "      <th></th>\n",
       "      <th></th>\n",
       "      <th></th>\n",
       "      <th></th>\n",
       "    </tr>\n",
       "  </thead>\n",
       "  <tbody>\n",
       "    <tr>\n",
       "      <th>t18170115-1</th>\n",
       "      <td>1822</td>\n",
       "      <td>PETER JOHNSON was indicted for being at large,...</td>\n",
       "      <td>[peter, johnson, was, indicted, for, being, at...</td>\n",
       "      <td>[peter, johnson, was, indict, for, be, at, lar...</td>\n",
       "    </tr>\n",
       "    <tr>\n",
       "      <th>t18170115-2</th>\n",
       "      <td>1822</td>\n",
       "      <td>BENJAMIN HEARNE was indicted for burglariously...</td>\n",
       "      <td>[benjamin, hearne, was, indicted, for, burglar...</td>\n",
       "      <td>[benjamin, hearn, was, indict, for, burglari, ...</td>\n",
       "    </tr>\n",
       "    <tr>\n",
       "      <th>t18170115-3</th>\n",
       "      <td>1822</td>\n",
       "      <td>JOHN DAVIS and JAMES LEMON , were indicted for...</td>\n",
       "      <td>[john, davis, and, james, lemon, were, indicte...</td>\n",
       "      <td>[john, davi, and, jame, lemon, were, indict, f...</td>\n",
       "    </tr>\n",
       "    <tr>\n",
       "      <th>t18170115-4</th>\n",
       "      <td>1822</td>\n",
       "      <td>RICHARD WILTSHIRE and SUSAN PAR-SONS , were in...</td>\n",
       "      <td>[richard, wiltshire, and, susan, par, sons, we...</td>\n",
       "      <td>[richard, wiltshir, and, susan, par, son, were...</td>\n",
       "    </tr>\n",
       "    <tr>\n",
       "      <th>t18170115-5</th>\n",
       "      <td>1822</td>\n",
       "      <td>MARY JOHNSTON was indicted for burglariously b...</td>\n",
       "      <td>[mary, johnston, was, indicted, for, burglario...</td>\n",
       "      <td>[mari, johnston, was, indict, for, burglari, b...</td>\n",
       "    </tr>\n",
       "  </tbody>\n",
       "</table>\n",
       "</div>"
      ],
      "text/plain": [
       "             year                                         transcript  \\\n",
       "trial_id                                                               \n",
       "t18170115-1  1822  PETER JOHNSON was indicted for being at large,...   \n",
       "t18170115-2  1822  BENJAMIN HEARNE was indicted for burglariously...   \n",
       "t18170115-3  1822  JOHN DAVIS and JAMES LEMON , were indicted for...   \n",
       "t18170115-4  1822  RICHARD WILTSHIRE and SUSAN PAR-SONS , were in...   \n",
       "t18170115-5  1822  MARY JOHNSTON was indicted for burglariously b...   \n",
       "\n",
       "                                                        tokens  \\\n",
       "trial_id                                                         \n",
       "t18170115-1  [peter, johnson, was, indicted, for, being, at...   \n",
       "t18170115-2  [benjamin, hearne, was, indicted, for, burglar...   \n",
       "t18170115-3  [john, davis, and, james, lemon, were, indicte...   \n",
       "t18170115-4  [richard, wiltshire, and, susan, par, sons, we...   \n",
       "t18170115-5  [mary, johnston, was, indicted, for, burglario...   \n",
       "\n",
       "                                                stemmed_tokens  \n",
       "trial_id                                                        \n",
       "t18170115-1  [peter, johnson, was, indict, for, be, at, lar...  \n",
       "t18170115-2  [benjamin, hearn, was, indict, for, burglari, ...  \n",
       "t18170115-3  [john, davi, and, jame, lemon, were, indict, f...  \n",
       "t18170115-4  [richard, wiltshir, and, susan, par, son, were...  \n",
       "t18170115-5  [mari, johnston, was, indict, for, burglari, b...  "
      ]
     },
     "execution_count": 3,
     "metadata": {},
     "output_type": "execute_result"
    }
   ],
   "source": [
    "# pre-process the data\n",
    "lower_cased = old_bailey['transcript'].str.lower()\n",
    "punct_re = r'[^\\w\\s]'\n",
    "lower_no_punc = lower_cased.str.replace(punct_re, ' ')\n",
    "tokens = lower_no_punc.str.split()\n",
    "old_bailey['tokens'] = tokens\n",
    "stemmer = SnowballStemmer('english')\n",
    "stem_lists = []\n",
    "\n",
    "for token_list in old_bailey['tokens']:\n",
    "    stem_lists.append([stemmer.stem(wd) for wd in token_list])\n",
    "\n",
    "old_bailey['stemmed_tokens'] = stem_lists\n",
    "\n",
    "\n",
    "old_bailey.head()"
   ]
  },
  {
   "cell_type": "markdown",
   "metadata": {},
   "source": [
    "----\n",
    "\n",
    "## Section 2: Polarity <a id='section 2'></a>\n",
    "\n",
    "One way to measure the tone of a text is to look at the text **polarity**: a measure of how positive or negative it is perceived to be. For example, a sentence like \"I love Berkeley!\" would be considered positive, while a sentence like \"Stanford is terrible!\" would be negative. And, because polarity is represented as a scale, some words have stronger positive or negative sentiment than others- \"I like data science\" is positive, but not as positive as \"I love data science.\"\n",
    "\n",
    "We will use the [TextBlob](https://textblob.readthedocs.io/en/dev/quickstart.html#sentiment-analysis) tools to analyze the sentiment of Old Bailey. TextBlob provides access to many common text-processing operations, and includes a  lexicon and rule-based sentiment analysis tool.\n",
    "\n",
    "A TextBlob is created around string of text:"
   ]
  },
  {
   "cell_type": "code",
   "execution_count": 4,
   "metadata": {},
   "outputs": [
    {
     "data": {
      "text/plain": [
       "TextBlob(\"This is a super exciting, totally awesome test sentence.\")"
      ]
     },
     "execution_count": 4,
     "metadata": {},
     "output_type": "execute_result"
    }
   ],
   "source": [
    "# creates a sentiment analyzer\n",
    "blob = TextBlob(\"This is a super exciting, totally awesome test sentence.\")\n",
    "blob"
   ]
  },
  {
   "cell_type": "markdown",
   "metadata": {},
   "source": [
    "We can access the sentiment by using `.sentiment`."
   ]
  },
  {
   "cell_type": "code",
   "execution_count": 5,
   "metadata": {},
   "outputs": [
    {
     "data": {
      "text/plain": [
       "Sentiment(polarity=0.5444444444444444, subjectivity=0.8222222222222223)"
      ]
     },
     "execution_count": 5,
     "metadata": {},
     "output_type": "execute_result"
    }
   ],
   "source": [
    "blob.sentiment"
   ]
  },
  {
   "cell_type": "markdown",
   "metadata": {},
   "source": [
    "`sentiment` returns two values: the **polarity** and the **subjectivity**. The polarity ranges between -1 and 1 where -1 is a very negative text and 1 is a very positive text. Subjectivity ranges between 0 and 1 where 0 is a very objective text and 1 is a very subjective text (i.e. one that can be interpreted many different ways). You can get the polarity by using `.polarity`."
   ]
  },
  {
   "cell_type": "code",
   "execution_count": 6,
   "metadata": {},
   "outputs": [
    {
     "data": {
      "text/plain": [
       "0.5444444444444444"
      ]
     },
     "execution_count": 6,
     "metadata": {},
     "output_type": "execute_result"
    }
   ],
   "source": [
    "blob.sentiment.polarity"
   ]
  },
  {
   "cell_type": "markdown",
   "metadata": {},
   "source": [
    "Polarity is calculated fairly simply: TextBlob accesses a dictionary of words that have been assigned polarity and subjectivity scores, looks up each word in the given text, and averages over the sentence. It also employs a few rules, such as changing the polarity of a word that comes after a negation."
   ]
  },
  {
   "cell_type": "code",
   "execution_count": 7,
   "metadata": {},
   "outputs": [
    {
     "name": "stdout",
     "output_type": "stream",
     "text": [
      "0.8\n",
      "0.0\n",
      "-0.4\n"
     ]
    }
   ],
   "source": [
    "happy = TextBlob('Happy')\n",
    "print(happy.sentiment.polarity)\n",
    "\n",
    "negation = TextBlob('Not')\n",
    "print(negation.sentiment.polarity)\n",
    "\n",
    "negated_happy = TextBlob('Not happy')\n",
    "print(negated_happy.sentiment.polarity)"
   ]
  },
  {
   "cell_type": "markdown",
   "metadata": {},
   "source": [
    "**QUESTION:** Try calculating the polarity scores of a few of your own sentences in the cell below."
   ]
  },
  {
   "cell_type": "code",
   "execution_count": 9,
   "metadata": {},
   "outputs": [
    {
     "name": "stdout",
     "output_type": "stream",
     "text": [
      "WaPo lede polarity score:  0.10178571428571428\n",
      "WaPo wine review polarity score:  0.36912878787878783\n"
     ]
    }
   ],
   "source": [
    "# test the polarity scoring for different sentences\n",
    "my_blob = TextBlob(\"Hundreds of former Justice Department employees are now urging Congress to “swiftly and forcefully respond” should President Trump fire Robert S. Mueller III, the special counsel investigating Russian interference in the 2016 presidential election, or Deputy Attorney General Rod J. Rosenstein, who is overseeing the federal probe.\")\n",
    "print(\"WaPo lede polarity score: \", my_blob.sentiment.polarity)\n",
    "more_blob = TextBlob(\"Argentina is best known for its malbec, but cabernet does exceptionally well in Mendoza, too — both cabernet sauvignon and in this example, cabernet franc. The wine is a bit rough-and-tumble at first, but decant for an hour, or just let it open in your glass, and it smooths out to a stylish, fruit-forward New World-style red. Enjoy this with steak or hearty roasts. Alcohol by volume: 14.5 percent.\")\n",
    "print(\"WaPo wine review polarity score: \", more_blob.sentiment.polarity)"
   ]
  },
  {
   "cell_type": "markdown",
   "metadata": {},
   "source": [
    "Next, we want to get the average polarity for each transcript. \n",
    "\n",
    "**EXERCISE:** define a function that will take in a string of text and return the polarity of that text."
   ]
  },
  {
   "cell_type": "code",
   "execution_count": 10,
   "metadata": {
    "collapsed": true
   },
   "outputs": [],
   "source": [
    "def get_polarity(text):\n",
    "    \"\"\"Return the polarity of TEXT\"\"\"\n",
    "    blob = TextBlob(text)\n",
    "    return blob.sentiment.polarity"
   ]
  },
  {
   "cell_type": "code",
   "execution_count": 12,
   "metadata": {},
   "outputs": [
    {
     "data": {
      "text/plain": [
       "0.36912878787878783"
      ]
     },
     "execution_count": 12,
     "metadata": {},
     "output_type": "execute_result"
    }
   ],
   "source": [
    "get_polarity(\"Argentina is best known for its malbec, but cabernet does exceptionally well in Mendoza, too — both cabernet sauvignon and in this example, cabernet franc. The wine is a bit rough-and-tumble at first, but decant for an hour, or just let it open in your glass, and it smooths out to a stylish, fruit-forward New World-style red. Enjoy this with steak or hearty roasts. Alcohol by volume: 14.5 percent.\")"
   ]
  },
  {
   "cell_type": "markdown",
   "metadata": {},
   "source": [
    "**EXERCISE**: Using `.apply` and your `get_polarity` function, get the polarity of every transcript in the Old Bailey data."
   ]
  },
  {
   "cell_type": "code",
   "execution_count": 13,
   "metadata": {},
   "outputs": [
    {
     "data": {
      "text/plain": [
       "trial_id\n",
       "t18170115-1   -0.128571\n",
       "t18170115-2    0.075000\n",
       "t18170115-3   -0.027721\n",
       "t18170115-4    0.074495\n",
       "t18170115-5   -0.033333\n",
       "Name: transcript, dtype: float64"
      ]
     },
     "execution_count": 13,
     "metadata": {},
     "output_type": "execute_result"
    }
   ],
   "source": [
    "polarities = old_bailey['transcript'].apply(get_polarity)\n",
    "polarities[:5]"
   ]
  },
  {
   "cell_type": "code",
   "execution_count": 14,
   "metadata": {
    "scrolled": true
   },
   "outputs": [
    {
     "data": {
      "text/html": [
       "<div>\n",
       "<style>\n",
       "    .dataframe thead tr:only-child th {\n",
       "        text-align: right;\n",
       "    }\n",
       "\n",
       "    .dataframe thead th {\n",
       "        text-align: left;\n",
       "    }\n",
       "\n",
       "    .dataframe tbody tr th {\n",
       "        vertical-align: top;\n",
       "    }\n",
       "</style>\n",
       "<table border=\"1\" class=\"dataframe\">\n",
       "  <thead>\n",
       "    <tr style=\"text-align: right;\">\n",
       "      <th></th>\n",
       "      <th>year</th>\n",
       "      <th>transcript</th>\n",
       "      <th>tokens</th>\n",
       "      <th>stemmed_tokens</th>\n",
       "      <th>polarity</th>\n",
       "    </tr>\n",
       "    <tr>\n",
       "      <th>trial_id</th>\n",
       "      <th></th>\n",
       "      <th></th>\n",
       "      <th></th>\n",
       "      <th></th>\n",
       "      <th></th>\n",
       "    </tr>\n",
       "  </thead>\n",
       "  <tbody>\n",
       "    <tr>\n",
       "      <th>t18170115-1</th>\n",
       "      <td>1822</td>\n",
       "      <td>PETER JOHNSON was indicted for being at large,...</td>\n",
       "      <td>[peter, johnson, was, indicted, for, being, at...</td>\n",
       "      <td>[peter, johnson, was, indict, for, be, at, lar...</td>\n",
       "      <td>-0.128571</td>\n",
       "    </tr>\n",
       "    <tr>\n",
       "      <th>t18170115-2</th>\n",
       "      <td>1822</td>\n",
       "      <td>BENJAMIN HEARNE was indicted for burglariously...</td>\n",
       "      <td>[benjamin, hearne, was, indicted, for, burglar...</td>\n",
       "      <td>[benjamin, hearn, was, indict, for, burglari, ...</td>\n",
       "      <td>0.075000</td>\n",
       "    </tr>\n",
       "    <tr>\n",
       "      <th>t18170115-3</th>\n",
       "      <td>1822</td>\n",
       "      <td>JOHN DAVIS and JAMES LEMON , were indicted for...</td>\n",
       "      <td>[john, davis, and, james, lemon, were, indicte...</td>\n",
       "      <td>[john, davi, and, jame, lemon, were, indict, f...</td>\n",
       "      <td>-0.027721</td>\n",
       "    </tr>\n",
       "    <tr>\n",
       "      <th>t18170115-4</th>\n",
       "      <td>1822</td>\n",
       "      <td>RICHARD WILTSHIRE and SUSAN PAR-SONS , were in...</td>\n",
       "      <td>[richard, wiltshire, and, susan, par, sons, we...</td>\n",
       "      <td>[richard, wiltshir, and, susan, par, son, were...</td>\n",
       "      <td>0.074495</td>\n",
       "    </tr>\n",
       "    <tr>\n",
       "      <th>t18170115-5</th>\n",
       "      <td>1822</td>\n",
       "      <td>MARY JOHNSTON was indicted for burglariously b...</td>\n",
       "      <td>[mary, johnston, was, indicted, for, burglario...</td>\n",
       "      <td>[mari, johnston, was, indict, for, burglari, b...</td>\n",
       "      <td>-0.033333</td>\n",
       "    </tr>\n",
       "  </tbody>\n",
       "</table>\n",
       "</div>"
      ],
      "text/plain": [
       "             year                                         transcript  \\\n",
       "trial_id                                                               \n",
       "t18170115-1  1822  PETER JOHNSON was indicted for being at large,...   \n",
       "t18170115-2  1822  BENJAMIN HEARNE was indicted for burglariously...   \n",
       "t18170115-3  1822  JOHN DAVIS and JAMES LEMON , were indicted for...   \n",
       "t18170115-4  1822  RICHARD WILTSHIRE and SUSAN PAR-SONS , were in...   \n",
       "t18170115-5  1822  MARY JOHNSTON was indicted for burglariously b...   \n",
       "\n",
       "                                                        tokens  \\\n",
       "trial_id                                                         \n",
       "t18170115-1  [peter, johnson, was, indicted, for, being, at...   \n",
       "t18170115-2  [benjamin, hearne, was, indicted, for, burglar...   \n",
       "t18170115-3  [john, davis, and, james, lemon, were, indicte...   \n",
       "t18170115-4  [richard, wiltshire, and, susan, par, sons, we...   \n",
       "t18170115-5  [mary, johnston, was, indicted, for, burglario...   \n",
       "\n",
       "                                                stemmed_tokens  polarity  \n",
       "trial_id                                                                  \n",
       "t18170115-1  [peter, johnson, was, indict, for, be, at, lar... -0.128571  \n",
       "t18170115-2  [benjamin, hearn, was, indict, for, burglari, ...  0.075000  \n",
       "t18170115-3  [john, davi, and, jame, lemon, were, indict, f... -0.027721  \n",
       "t18170115-4  [richard, wiltshir, and, susan, par, son, were...  0.074495  \n",
       "t18170115-5  [mari, johnston, was, indict, for, burglari, b... -0.033333  "
      ]
     },
     "execution_count": 14,
     "metadata": {},
     "output_type": "execute_result"
    }
   ],
   "source": [
    "# add the polarities as a column\n",
    "old_bailey['polarity'] = polarities\n",
    "old_bailey.head()"
   ]
  },
  {
   "cell_type": "markdown",
   "metadata": {},
   "source": [
    "**QUESTION:** \n",
    "- What was the most negative transcript/transcripts?\n",
    "- What was the most positive transcript/transcripts?\n"
   ]
  },
  {
   "cell_type": "code",
   "execution_count": 27,
   "metadata": {},
   "outputs": [
    {
     "data": {
      "text/plain": [
       "'t18170917-281'"
      ]
     },
     "execution_count": 27,
     "metadata": {},
     "output_type": "execute_result"
    }
   ],
   "source": [
    "# find the transcript with the highest polarity\n",
    "most_pos = old_bailey['polarity'].idxmax(axis=1)\n",
    "most_pos"
   ]
  },
  {
   "cell_type": "code",
   "execution_count": 28,
   "metadata": {},
   "outputs": [
    {
     "data": {
      "text/plain": [
       "'t18170219-9'"
      ]
     },
     "execution_count": 28,
     "metadata": {},
     "output_type": "execute_result"
    }
   ],
   "source": [
    "# find the transcript with the lowest polarity\n",
    "most_neg = old_bailey['polarity'].idxmin(axis=1)\n",
    "most_neg"
   ]
  },
  {
   "cell_type": "code",
   "execution_count": 30,
   "metadata": {},
   "outputs": [
    {
     "name": "stdout",
     "output_type": "stream",
     "text": [
      "most positive transcript:  WILLIAM ROBINSON was indicted for stealing, on the 1st of September, one 1l. bank note, the property of Christoper Cassin , from his person .There being no evidence against the prisoner, except his own confession, which was extorted from him; he was ACQUITTED .Third Middlesex Jury, before J. Vaillant, Esq.\n"
     ]
    }
   ],
   "source": [
    "print(\"most positive transcript: \", old_bailey.loc[most_pos]['transcript'])"
   ]
  },
  {
   "cell_type": "code",
   "execution_count": 31,
   "metadata": {},
   "outputs": [
    {
     "name": "stdout",
     "output_type": "stream",
     "text": [
      "most negative transcript:  JOSEPH FOLLIT and THOMAS WILLIAM PENTON , were indicted for having in their possession, a forged Bank of England note, knowing it to be forged To which indictment both the prisoners pleaded GUILTY . Transported for Fourteen. Years .Second Middlesex Jury, before Mr. Recorder.\n"
     ]
    }
   ],
   "source": [
    "print(\"most negative transcript: \", old_bailey.loc[most_neg]['transcript'])"
   ]
  },
  {
   "cell_type": "code",
   "execution_count": 36,
   "metadata": {},
   "outputs": [
    {
     "name": "stdout",
     "output_type": "stream",
     "text": [
      "trial_id\n",
      "t18170219-9      JOSEPH FOLLIT and THOMAS WILLIAM PENTON , were...\n",
      "t18170416-45     SARAH HOWELL was indicted for feloniously and ...\n",
      "t18170416-46     MARTHA THATCHER was indicted for the like offe...\n",
      "t18170416-47     SUSAN COURTNEY was indicted for the like offen...\n",
      "t18170416-48     MICHAEL FORD was indicted for the like offence...\n",
      "t18170416-49     JAMES BUTLER was indicted for feloniously and ...\n",
      "t18170416-50     ALEXANDER MARCUS was indicted for the like off...\n",
      "t18170416-51     NESSEN JACOBSON was indicted for the like offe...\n",
      "t18170416-182    JAMES JOHNSON was indicted for stealing, on th...\n",
      "t18170702-39     BENJAMIN BROWN and THOMAS NEWMAN , were indict...\n",
      "t18170702-40     THOMAS EDWARDS was indicted for feloniously di...\n",
      "t18320517-245    FRANCIS HENRY PEMELLER was indicted for steali...\n",
      "t18320705-243    ANN BRYANT was indicted for stealing, on the 6...\n",
      "t18320906-165    GARRETT REDMOND COTTER was indicted for embezz...\n",
      "t18320906-268    SARAH LANE was indicted for a misdemeanor . - ...\n",
      "t18321129-228    JOHN SMITH was indicted for stealing, on the 3...\n",
      "Name: transcript, dtype: object\n"
     ]
    }
   ],
   "source": [
    "# Keeley Takimoto's SOLUTION\n",
    "# note how it finds all the cases with the minimum polarity score\n",
    "# also note that you can access columns as attributes ('old_bailey.polarity') without using an index method\n",
    "# that is totally confusing but easy\n",
    "\n",
    "# find the transcript with the lowest polarity\n",
    "most_neg = old_bailey[old_bailey.polarity == old_bailey.polarity.min()]\n",
    "\n",
    "print(most_neg.transcript)"
   ]
  },
  {
   "cell_type": "markdown",
   "metadata": {},
   "source": [
    "**EXERCISE:** Let's take a look at violin plots of these two datasets to better compare how the average compound polarity is distributed for each of the two years, before and after 1827.\n",
    "\n",
    "To show both years at once, it's easiest to use the Seaborn (abbreviated as `sns`) visualization library function. `y` is set to the name of the variable (a string) whose distributions we want to see. `x` is set to the name of the variable (also a string)that we want to compare distributions for . `data` is set to the dataframe (not a string) with all the values. "
   ]
  },
  {
   "cell_type": "code",
   "execution_count": 32,
   "metadata": {},
   "outputs": [
    {
     "data": {
      "text/plain": [
       "<matplotlib.axes._subplots.AxesSubplot at 0x1a1e229438>"
      ]
     },
     "execution_count": 32,
     "metadata": {},
     "output_type": "execute_result"
    },
    {
     "data": {
      "image/png": "[encoded data removed]",
      "text/plain": [
       "<matplotlib.figure.Figure at 0x10c0c2be0>"
      ]
     },
     "metadata": {},
     "output_type": "display_data"
    }
   ],
   "source": [
    "# uncomment the next line and fill in the code to create the violin plots\n",
    "sns.violinplot(x='year', y='polarity', data=old_bailey)"
   ]
  },
  {
   "cell_type": "markdown",
   "metadata": {},
   "source": [
    "**QUESTION:** What does this plot show us? \n",
    "\n",
    "What are some advantages to using polarity as a way to measure moral tone? What are some issues with this approach? Consider also how these answers might change for a different data set."
   ]
  },
  {
   "cell_type": "markdown",
   "metadata": {},
   "source": [
    "### The plot shows that the distribution of polarity is pretty much the same five years before and five years after the repeal of most of the Bloody Code. It looks like the trial proceedings may have gotten a bit more positive after 1827, based on the slightly higher mean and the way the tails look. Polarity is at least a clear way of measuring moral tone, if you want to understand moral tone as approbation (positive) or disapprobation (negative).  But that may be too superficial--it might just return higher scores for acquittals, which may not tell us how the crime at issue is viewed by the participants. For a different data set I would expect different distributions, and in fact over time there may be a trend toward neutral language."
   ]
  },
  {
   "cell_type": "markdown",
   "metadata": {},
   "source": [
    "----\n",
    "## Section 3: Moral Foundations Theory<a id='section 3'></a>\n",
    "\n",
    "Another approach is to create specialized dictionaries containing specific words of interest to try to analyze sentiment from a particular angle (i.e. use a **dictionary method**). One set of researchers did just that from the perspective of [Moral Foundations Theory](http://moralfoundations.org/). We will now use it to see if we can understand more about the moral tone of Old Bailey transcripts than by using general polarity. You should be doing something like this for your homework. We will be using a provided moral foundations dictionary."
   ]
  },
  {
   "cell_type": "code",
   "execution_count": 33,
   "metadata": {
    "collapsed": true
   },
   "outputs": [],
   "source": [
    "with open('data/haidt_dict.json') as json_data:\n",
    "    mft_dict = json.load(json_data)"
   ]
  },
  {
   "cell_type": "markdown",
   "metadata": {},
   "source": [
    "Moral Foundations Theory posits that there are five (with an occasional sixth) innane, universal psychological foundations of morality, and that those foundations shape human cultures and institutions (including legal). The keys of the dictionary correspond to the five foundations."
   ]
  },
  {
   "cell_type": "code",
   "execution_count": 34,
   "metadata": {},
   "outputs": [
    {
     "data": {
      "text/plain": [
       "['authority/subversion',\n",
       " 'care/harm',\n",
       " 'fairness/cheating',\n",
       " 'loyalty/betrayal',\n",
       " 'sanctity/degradation']"
      ]
     },
     "execution_count": 34,
     "metadata": {},
     "output_type": "execute_result"
    }
   ],
   "source": [
    "#look at the keys of the dictionary provided\n",
    "keys = mft_dict.keys()\n",
    "list(keys)"
   ]
  },
  {
   "cell_type": "markdown",
   "metadata": {},
   "source": [
    "And the values of the dictionary are lists of words associated with each foundation."
   ]
  },
  {
   "cell_type": "code",
   "execution_count": 35,
   "metadata": {
    "collapsed": true
   },
   "outputs": [
    {
     "data": {
      "text/plain": [
       "['preserve',\n",
       " 'loyal',\n",
       " 'betray',\n",
       " 'treason',\n",
       " 'traitor',\n",
       " 'treacher',\n",
       " 'disloyal',\n",
       " 'apostasy',\n",
       " 'apostate',\n",
       " 'deserted',\n",
       " 'deserter',\n",
       " 'deserting',\n",
       " 'obey',\n",
       " 'obedien',\n",
       " 'duty',\n",
       " 'law',\n",
       " 'lawful',\n",
       " 'legal',\n",
       " 'duti',\n",
       " 'honor',\n",
       " 'respect',\n",
       " 'respectful',\n",
       " 'respected',\n",
       " 'respects',\n",
       " 'order',\n",
       " 'father',\n",
       " 'mother',\n",
       " 'motherl',\n",
       " 'mothering',\n",
       " 'mothers',\n",
       " 'tradition',\n",
       " 'hierarch',\n",
       " 'authorit',\n",
       " 'permit',\n",
       " 'permission',\n",
       " 'status',\n",
       " 'rank',\n",
       " 'leader',\n",
       " 'class',\n",
       " 'bourgeoisie',\n",
       " 'caste',\n",
       " 'position',\n",
       " 'complian',\n",
       " 'command',\n",
       " 'supremacy',\n",
       " 'control',\n",
       " 'submi',\n",
       " 'allegian',\n",
       " 'serve',\n",
       " 'abide',\n",
       " 'defere',\n",
       " 'defer',\n",
       " 'revere',\n",
       " 'venerat',\n",
       " 'comply',\n",
       " 'defian',\n",
       " 'rebel',\n",
       " 'dissent',\n",
       " 'subver',\n",
       " 'disrespect',\n",
       " 'disobe',\n",
       " 'sediti',\n",
       " 'agitat',\n",
       " 'insubordinat',\n",
       " 'illegal',\n",
       " 'lawless',\n",
       " 'insurgent',\n",
       " 'mutinous',\n",
       " 'defy',\n",
       " 'dissident',\n",
       " 'unfaithful',\n",
       " 'alienate',\n",
       " 'defector',\n",
       " 'heretic',\n",
       " 'nonconformist',\n",
       " 'oppose',\n",
       " 'protest',\n",
       " 'refuse',\n",
       " 'denounce',\n",
       " 'remonstrate',\n",
       " 'riot',\n",
       " 'obstruct']"
      ]
     },
     "execution_count": 35,
     "metadata": {},
     "output_type": "execute_result"
    }
   ],
   "source": [
    "mft_dict[list(keys)[0]] #one example of the values provided for the first key"
   ]
  },
  {
   "cell_type": "markdown",
   "metadata": {},
   "source": [
    "### Calculating Percentages \n",
    "\n",
    "In this approach, we'll use the frequency of Moral Foundations-related words as a measure of how the transcripts talk about morality and see if there's a difference between pre- and post-1827 trends. \n",
    "\n",
    "As a first step, we need to know the total number of words in each transcript. \n",
    "\n",
    "**EXERCISE:** Add a column to `old_bailey` with the number of words corresponding to each transcript."
   ]
  },
  {
   "cell_type": "code",
   "execution_count": 53,
   "metadata": {},
   "outputs": [
    {
     "data": {
      "text/html": [
       "<div>\n",
       "<style>\n",
       "    .dataframe thead tr:only-child th {\n",
       "        text-align: right;\n",
       "    }\n",
       "\n",
       "    .dataframe thead th {\n",
       "        text-align: left;\n",
       "    }\n",
       "\n",
       "    .dataframe tbody tr th {\n",
       "        vertical-align: top;\n",
       "    }\n",
       "</style>\n",
       "<table border=\"1\" class=\"dataframe\">\n",
       "  <thead>\n",
       "    <tr style=\"text-align: right;\">\n",
       "      <th></th>\n",
       "      <th>year</th>\n",
       "      <th>transcript</th>\n",
       "      <th>tokens</th>\n",
       "      <th>stemmed_tokens</th>\n",
       "      <th>polarity</th>\n",
       "      <th>total_words</th>\n",
       "    </tr>\n",
       "    <tr>\n",
       "      <th>trial_id</th>\n",
       "      <th></th>\n",
       "      <th></th>\n",
       "      <th></th>\n",
       "      <th></th>\n",
       "      <th></th>\n",
       "      <th></th>\n",
       "    </tr>\n",
       "  </thead>\n",
       "  <tbody>\n",
       "    <tr>\n",
       "      <th>t18170115-1</th>\n",
       "      <td>1822</td>\n",
       "      <td>PETER JOHNSON was indicted for being at large,...</td>\n",
       "      <td>[peter, johnson, was, indicted, for, being, at...</td>\n",
       "      <td>[peter, johnson, was, indict, for, be, at, lar...</td>\n",
       "      <td>-0.128571</td>\n",
       "      <td>45</td>\n",
       "    </tr>\n",
       "    <tr>\n",
       "      <th>t18170115-2</th>\n",
       "      <td>1822</td>\n",
       "      <td>BENJAMIN HEARNE was indicted for burglariously...</td>\n",
       "      <td>[benjamin, hearne, was, indicted, for, burglar...</td>\n",
       "      <td>[benjamin, hearn, was, indict, for, burglari, ...</td>\n",
       "      <td>0.075000</td>\n",
       "      <td>382</td>\n",
       "    </tr>\n",
       "    <tr>\n",
       "      <th>t18170115-3</th>\n",
       "      <td>1822</td>\n",
       "      <td>JOHN DAVIS and JAMES LEMON , were indicted for...</td>\n",
       "      <td>[john, davis, and, james, lemon, were, indicte...</td>\n",
       "      <td>[john, davi, and, jame, lemon, were, indict, f...</td>\n",
       "      <td>-0.027721</td>\n",
       "      <td>981</td>\n",
       "    </tr>\n",
       "    <tr>\n",
       "      <th>t18170115-4</th>\n",
       "      <td>1822</td>\n",
       "      <td>RICHARD WILTSHIRE and SUSAN PAR-SONS , were in...</td>\n",
       "      <td>[richard, wiltshire, and, susan, par, sons, we...</td>\n",
       "      <td>[richard, wiltshir, and, susan, par, son, were...</td>\n",
       "      <td>0.074495</td>\n",
       "      <td>372</td>\n",
       "    </tr>\n",
       "    <tr>\n",
       "      <th>t18170115-5</th>\n",
       "      <td>1822</td>\n",
       "      <td>MARY JOHNSTON was indicted for burglariously b...</td>\n",
       "      <td>[mary, johnston, was, indicted, for, burglario...</td>\n",
       "      <td>[mari, johnston, was, indict, for, burglari, b...</td>\n",
       "      <td>-0.033333</td>\n",
       "      <td>963</td>\n",
       "    </tr>\n",
       "  </tbody>\n",
       "</table>\n",
       "</div>"
      ],
      "text/plain": [
       "             year                                         transcript  \\\n",
       "trial_id                                                               \n",
       "t18170115-1  1822  PETER JOHNSON was indicted for being at large,...   \n",
       "t18170115-2  1822  BENJAMIN HEARNE was indicted for burglariously...   \n",
       "t18170115-3  1822  JOHN DAVIS and JAMES LEMON , were indicted for...   \n",
       "t18170115-4  1822  RICHARD WILTSHIRE and SUSAN PAR-SONS , were in...   \n",
       "t18170115-5  1822  MARY JOHNSTON was indicted for burglariously b...   \n",
       "\n",
       "                                                        tokens  \\\n",
       "trial_id                                                         \n",
       "t18170115-1  [peter, johnson, was, indicted, for, being, at...   \n",
       "t18170115-2  [benjamin, hearne, was, indicted, for, burglar...   \n",
       "t18170115-3  [john, davis, and, james, lemon, were, indicte...   \n",
       "t18170115-4  [richard, wiltshire, and, susan, par, sons, we...   \n",
       "t18170115-5  [mary, johnston, was, indicted, for, burglario...   \n",
       "\n",
       "                                                stemmed_tokens  polarity  \\\n",
       "trial_id                                                                   \n",
       "t18170115-1  [peter, johnson, was, indict, for, be, at, lar... -0.128571   \n",
       "t18170115-2  [benjamin, hearn, was, indict, for, burglari, ...  0.075000   \n",
       "t18170115-3  [john, davi, and, jame, lemon, were, indict, f... -0.027721   \n",
       "t18170115-4  [richard, wiltshir, and, susan, par, son, were...  0.074495   \n",
       "t18170115-5  [mari, johnston, was, indict, for, burglari, b... -0.033333   \n",
       "\n",
       "             total_words  \n",
       "trial_id                  \n",
       "t18170115-1           45  \n",
       "t18170115-2          382  \n",
       "t18170115-3          981  \n",
       "t18170115-4          372  \n",
       "t18170115-5          963  "
      ]
     },
     "execution_count": 53,
     "metadata": {},
     "output_type": "execute_result"
    }
   ],
   "source": [
    "# create a new column called 'total_words'\n",
    "#old_bailey.iloc[0]['tokens']\n",
    "old_bailey['total_words'] = old_bailey['tokens'].apply(len) #note you have to apply the function len to iterate\n",
    "old_bailey.head() "
   ]
  },
  {
   "cell_type": "markdown",
   "metadata": {},
   "source": [
    "Next, we need to calculate the number of matches to entries in our dictionary for each foundation for each speech.\n",
    "\n",
    "Run the next cell to add six new columns to `old_bailey`, one per foundation, that show the number of word matches. This cell will also likely take some time to run (no more than a minute). Note that by now, you have the skills to write all the code in the next cell- we're just giving it to you because it's long, fiddly, and writing nested for-loops is not the focus of this lab. Make sure you know what it does before you move on, though."
   ]
  },
  {
   "cell_type": "code",
   "execution_count": 54,
   "metadata": {},
   "outputs": [
    {
     "data": {
      "text/html": [
       "<div>\n",
       "<style>\n",
       "    .dataframe thead tr:only-child th {\n",
       "        text-align: right;\n",
       "    }\n",
       "\n",
       "    .dataframe thead th {\n",
       "        text-align: left;\n",
       "    }\n",
       "\n",
       "    .dataframe tbody tr th {\n",
       "        vertical-align: top;\n",
       "    }\n",
       "</style>\n",
       "<table border=\"1\" class=\"dataframe\">\n",
       "  <thead>\n",
       "    <tr style=\"text-align: right;\">\n",
       "      <th></th>\n",
       "      <th>year</th>\n",
       "      <th>transcript</th>\n",
       "      <th>tokens</th>\n",
       "      <th>stemmed_tokens</th>\n",
       "      <th>polarity</th>\n",
       "      <th>total_words</th>\n",
       "      <th>authority/subversion</th>\n",
       "      <th>care/harm</th>\n",
       "      <th>fairness/cheating</th>\n",
       "      <th>loyalty/betrayal</th>\n",
       "      <th>sanctity/degradation</th>\n",
       "    </tr>\n",
       "    <tr>\n",
       "      <th>trial_id</th>\n",
       "      <th></th>\n",
       "      <th></th>\n",
       "      <th></th>\n",
       "      <th></th>\n",
       "      <th></th>\n",
       "      <th></th>\n",
       "      <th></th>\n",
       "      <th></th>\n",
       "      <th></th>\n",
       "      <th></th>\n",
       "      <th></th>\n",
       "    </tr>\n",
       "  </thead>\n",
       "  <tbody>\n",
       "    <tr>\n",
       "      <th>t18170115-1</th>\n",
       "      <td>1822</td>\n",
       "      <td>PETER JOHNSON was indicted for being at large,...</td>\n",
       "      <td>[peter, johnson, was, indicted, for, being, at...</td>\n",
       "      <td>[peter, johnson, was, indict, for, be, at, lar...</td>\n",
       "      <td>-0.128571</td>\n",
       "      <td>45</td>\n",
       "      <td>1.0</td>\n",
       "      <td>0.0</td>\n",
       "      <td>0.0</td>\n",
       "      <td>0.0</td>\n",
       "      <td>0.0</td>\n",
       "    </tr>\n",
       "    <tr>\n",
       "      <th>t18170115-2</th>\n",
       "      <td>1822</td>\n",
       "      <td>BENJAMIN HEARNE was indicted for burglariously...</td>\n",
       "      <td>[benjamin, hearne, was, indicted, for, burglar...</td>\n",
       "      <td>[benjamin, hearn, was, indict, for, burglari, ...</td>\n",
       "      <td>0.075000</td>\n",
       "      <td>382</td>\n",
       "      <td>0.0</td>\n",
       "      <td>1.0</td>\n",
       "      <td>0.0</td>\n",
       "      <td>0.0</td>\n",
       "      <td>0.0</td>\n",
       "    </tr>\n",
       "    <tr>\n",
       "      <th>t18170115-3</th>\n",
       "      <td>1822</td>\n",
       "      <td>JOHN DAVIS and JAMES LEMON , were indicted for...</td>\n",
       "      <td>[john, davis, and, james, lemon, were, indicte...</td>\n",
       "      <td>[john, davi, and, jame, lemon, were, indict, f...</td>\n",
       "      <td>-0.027721</td>\n",
       "      <td>981</td>\n",
       "      <td>0.0</td>\n",
       "      <td>0.0</td>\n",
       "      <td>0.0</td>\n",
       "      <td>0.0</td>\n",
       "      <td>0.0</td>\n",
       "    </tr>\n",
       "    <tr>\n",
       "      <th>t18170115-4</th>\n",
       "      <td>1822</td>\n",
       "      <td>RICHARD WILTSHIRE and SUSAN PAR-SONS , were in...</td>\n",
       "      <td>[richard, wiltshire, and, susan, par, sons, we...</td>\n",
       "      <td>[richard, wiltshir, and, susan, par, son, were...</td>\n",
       "      <td>0.074495</td>\n",
       "      <td>372</td>\n",
       "      <td>0.0</td>\n",
       "      <td>0.0</td>\n",
       "      <td>0.0</td>\n",
       "      <td>0.0</td>\n",
       "      <td>0.0</td>\n",
       "    </tr>\n",
       "    <tr>\n",
       "      <th>t18170115-5</th>\n",
       "      <td>1822</td>\n",
       "      <td>MARY JOHNSTON was indicted for burglariously b...</td>\n",
       "      <td>[mary, johnston, was, indicted, for, burglario...</td>\n",
       "      <td>[mari, johnston, was, indict, for, burglari, b...</td>\n",
       "      <td>-0.033333</td>\n",
       "      <td>963</td>\n",
       "      <td>1.0</td>\n",
       "      <td>0.0</td>\n",
       "      <td>0.0</td>\n",
       "      <td>0.0</td>\n",
       "      <td>0.0</td>\n",
       "    </tr>\n",
       "  </tbody>\n",
       "</table>\n",
       "</div>"
      ],
      "text/plain": [
       "             year                                         transcript  \\\n",
       "trial_id                                                               \n",
       "t18170115-1  1822  PETER JOHNSON was indicted for being at large,...   \n",
       "t18170115-2  1822  BENJAMIN HEARNE was indicted for burglariously...   \n",
       "t18170115-3  1822  JOHN DAVIS and JAMES LEMON , were indicted for...   \n",
       "t18170115-4  1822  RICHARD WILTSHIRE and SUSAN PAR-SONS , were in...   \n",
       "t18170115-5  1822  MARY JOHNSTON was indicted for burglariously b...   \n",
       "\n",
       "                                                        tokens  \\\n",
       "trial_id                                                         \n",
       "t18170115-1  [peter, johnson, was, indicted, for, being, at...   \n",
       "t18170115-2  [benjamin, hearne, was, indicted, for, burglar...   \n",
       "t18170115-3  [john, davis, and, james, lemon, were, indicte...   \n",
       "t18170115-4  [richard, wiltshire, and, susan, par, sons, we...   \n",
       "t18170115-5  [mary, johnston, was, indicted, for, burglario...   \n",
       "\n",
       "                                                stemmed_tokens  polarity  \\\n",
       "trial_id                                                                   \n",
       "t18170115-1  [peter, johnson, was, indict, for, be, at, lar... -0.128571   \n",
       "t18170115-2  [benjamin, hearn, was, indict, for, burglari, ...  0.075000   \n",
       "t18170115-3  [john, davi, and, jame, lemon, were, indict, f... -0.027721   \n",
       "t18170115-4  [richard, wiltshir, and, susan, par, son, were...  0.074495   \n",
       "t18170115-5  [mari, johnston, was, indict, for, burglari, b... -0.033333   \n",
       "\n",
       "             total_words  authority/subversion  care/harm  fairness/cheating  \\\n",
       "trial_id                                                                       \n",
       "t18170115-1           45                   1.0        0.0                0.0   \n",
       "t18170115-2          382                   0.0        1.0                0.0   \n",
       "t18170115-3          981                   0.0        0.0                0.0   \n",
       "t18170115-4          372                   0.0        0.0                0.0   \n",
       "t18170115-5          963                   1.0        0.0                0.0   \n",
       "\n",
       "             loyalty/betrayal  sanctity/degradation  \n",
       "trial_id                                             \n",
       "t18170115-1               0.0                   0.0  \n",
       "t18170115-2               0.0                   0.0  \n",
       "t18170115-3               0.0                   0.0  \n",
       "t18170115-4               0.0                   0.0  \n",
       "t18170115-5               0.0                   0.0  "
      ]
     },
     "execution_count": 54,
     "metadata": {},
     "output_type": "execute_result"
    }
   ],
   "source": [
    "# Will take a bit of time to run due to the large size.\n",
    "\n",
    "# do the following code for each foundation\n",
    "for foundation in mft_dict.keys():\n",
    "    # create a new, empty column\n",
    "    num_match_words = np.zeros(len(old_bailey))\n",
    "    stems = mft_dict[foundation]\n",
    "    \n",
    "    # do the following code for each foundation word\n",
    "    for stem in stems:\n",
    "        # find related word matches\n",
    "        wd_count = np.array([sum([wd == stem for wd in transcript])for transcript in old_bailey['stemmed_tokens']])\n",
    "        # add the number of matches to the total\n",
    "        num_match_words += wd_count\n",
    "        \n",
    "    # create a new column for each foundation with the number of related words per transcript\n",
    "    old_bailey[foundation] = num_match_words\n",
    "\n",
    "old_bailey.head()"
   ]
  },
  {
   "cell_type": "markdown",
   "metadata": {},
   "source": [
    "**EXERCISE:** The columns for each foundation currently contain the number of words related to that foundation for each of the trials. Calculate the *percentage* of foundation words per trial by dividing the number of matched words by the number of total words and multiplying by 100."
   ]
  },
  {
   "cell_type": "code",
   "execution_count": 56,
   "metadata": {},
   "outputs": [
    {
     "data": {
      "text/html": [
       "<div>\n",
       "<style>\n",
       "    .dataframe thead tr:only-child th {\n",
       "        text-align: right;\n",
       "    }\n",
       "\n",
       "    .dataframe thead th {\n",
       "        text-align: left;\n",
       "    }\n",
       "\n",
       "    .dataframe tbody tr th {\n",
       "        vertical-align: top;\n",
       "    }\n",
       "</style>\n",
       "<table border=\"1\" class=\"dataframe\">\n",
       "  <thead>\n",
       "    <tr style=\"text-align: right;\">\n",
       "      <th></th>\n",
       "      <th>year</th>\n",
       "      <th>transcript</th>\n",
       "      <th>tokens</th>\n",
       "      <th>stemmed_tokens</th>\n",
       "      <th>polarity</th>\n",
       "      <th>total_words</th>\n",
       "      <th>authority/subversion</th>\n",
       "      <th>care/harm</th>\n",
       "      <th>fairness/cheating</th>\n",
       "      <th>loyalty/betrayal</th>\n",
       "      <th>sanctity/degradation</th>\n",
       "    </tr>\n",
       "    <tr>\n",
       "      <th>trial_id</th>\n",
       "      <th></th>\n",
       "      <th></th>\n",
       "      <th></th>\n",
       "      <th></th>\n",
       "      <th></th>\n",
       "      <th></th>\n",
       "      <th></th>\n",
       "      <th></th>\n",
       "      <th></th>\n",
       "      <th></th>\n",
       "      <th></th>\n",
       "    </tr>\n",
       "  </thead>\n",
       "  <tbody>\n",
       "    <tr>\n",
       "      <th>t18170115-1</th>\n",
       "      <td>1822</td>\n",
       "      <td>PETER JOHNSON was indicted for being at large,...</td>\n",
       "      <td>[peter, johnson, was, indicted, for, being, at...</td>\n",
       "      <td>[peter, johnson, was, indict, for, be, at, lar...</td>\n",
       "      <td>-0.128571</td>\n",
       "      <td>45</td>\n",
       "      <td>2.222222</td>\n",
       "      <td>0.00000</td>\n",
       "      <td>0.0</td>\n",
       "      <td>0.0</td>\n",
       "      <td>0.0</td>\n",
       "    </tr>\n",
       "    <tr>\n",
       "      <th>t18170115-2</th>\n",
       "      <td>1822</td>\n",
       "      <td>BENJAMIN HEARNE was indicted for burglariously...</td>\n",
       "      <td>[benjamin, hearne, was, indicted, for, burglar...</td>\n",
       "      <td>[benjamin, hearn, was, indict, for, burglari, ...</td>\n",
       "      <td>0.075000</td>\n",
       "      <td>382</td>\n",
       "      <td>0.000000</td>\n",
       "      <td>0.26178</td>\n",
       "      <td>0.0</td>\n",
       "      <td>0.0</td>\n",
       "      <td>0.0</td>\n",
       "    </tr>\n",
       "    <tr>\n",
       "      <th>t18170115-3</th>\n",
       "      <td>1822</td>\n",
       "      <td>JOHN DAVIS and JAMES LEMON , were indicted for...</td>\n",
       "      <td>[john, davis, and, james, lemon, were, indicte...</td>\n",
       "      <td>[john, davi, and, jame, lemon, were, indict, f...</td>\n",
       "      <td>-0.027721</td>\n",
       "      <td>981</td>\n",
       "      <td>0.000000</td>\n",
       "      <td>0.00000</td>\n",
       "      <td>0.0</td>\n",
       "      <td>0.0</td>\n",
       "      <td>0.0</td>\n",
       "    </tr>\n",
       "    <tr>\n",
       "      <th>t18170115-4</th>\n",
       "      <td>1822</td>\n",
       "      <td>RICHARD WILTSHIRE and SUSAN PAR-SONS , were in...</td>\n",
       "      <td>[richard, wiltshire, and, susan, par, sons, we...</td>\n",
       "      <td>[richard, wiltshir, and, susan, par, son, were...</td>\n",
       "      <td>0.074495</td>\n",
       "      <td>372</td>\n",
       "      <td>0.000000</td>\n",
       "      <td>0.00000</td>\n",
       "      <td>0.0</td>\n",
       "      <td>0.0</td>\n",
       "      <td>0.0</td>\n",
       "    </tr>\n",
       "    <tr>\n",
       "      <th>t18170115-5</th>\n",
       "      <td>1822</td>\n",
       "      <td>MARY JOHNSTON was indicted for burglariously b...</td>\n",
       "      <td>[mary, johnston, was, indicted, for, burglario...</td>\n",
       "      <td>[mari, johnston, was, indict, for, burglari, b...</td>\n",
       "      <td>-0.033333</td>\n",
       "      <td>963</td>\n",
       "      <td>0.103842</td>\n",
       "      <td>0.00000</td>\n",
       "      <td>0.0</td>\n",
       "      <td>0.0</td>\n",
       "      <td>0.0</td>\n",
       "    </tr>\n",
       "  </tbody>\n",
       "</table>\n",
       "</div>"
      ],
      "text/plain": [
       "             year                                         transcript  \\\n",
       "trial_id                                                               \n",
       "t18170115-1  1822  PETER JOHNSON was indicted for being at large,...   \n",
       "t18170115-2  1822  BENJAMIN HEARNE was indicted for burglariously...   \n",
       "t18170115-3  1822  JOHN DAVIS and JAMES LEMON , were indicted for...   \n",
       "t18170115-4  1822  RICHARD WILTSHIRE and SUSAN PAR-SONS , were in...   \n",
       "t18170115-5  1822  MARY JOHNSTON was indicted for burglariously b...   \n",
       "\n",
       "                                                        tokens  \\\n",
       "trial_id                                                         \n",
       "t18170115-1  [peter, johnson, was, indicted, for, being, at...   \n",
       "t18170115-2  [benjamin, hearne, was, indicted, for, burglar...   \n",
       "t18170115-3  [john, davis, and, james, lemon, were, indicte...   \n",
       "t18170115-4  [richard, wiltshire, and, susan, par, sons, we...   \n",
       "t18170115-5  [mary, johnston, was, indicted, for, burglario...   \n",
       "\n",
       "                                                stemmed_tokens  polarity  \\\n",
       "trial_id                                                                   \n",
       "t18170115-1  [peter, johnson, was, indict, for, be, at, lar... -0.128571   \n",
       "t18170115-2  [benjamin, hearn, was, indict, for, burglari, ...  0.075000   \n",
       "t18170115-3  [john, davi, and, jame, lemon, were, indict, f... -0.027721   \n",
       "t18170115-4  [richard, wiltshir, and, susan, par, son, were...  0.074495   \n",
       "t18170115-5  [mari, johnston, was, indict, for, burglari, b... -0.033333   \n",
       "\n",
       "             total_words  authority/subversion  care/harm  fairness/cheating  \\\n",
       "trial_id                                                                       \n",
       "t18170115-1           45              2.222222    0.00000                0.0   \n",
       "t18170115-2          382              0.000000    0.26178                0.0   \n",
       "t18170115-3          981              0.000000    0.00000                0.0   \n",
       "t18170115-4          372              0.000000    0.00000                0.0   \n",
       "t18170115-5          963              0.103842    0.00000                0.0   \n",
       "\n",
       "             loyalty/betrayal  sanctity/degradation  \n",
       "trial_id                                             \n",
       "t18170115-1               0.0                   0.0  \n",
       "t18170115-2               0.0                   0.0  \n",
       "t18170115-3               0.0                   0.0  \n",
       "t18170115-4               0.0                   0.0  \n",
       "t18170115-5               0.0                   0.0  "
      ]
     },
     "execution_count": 56,
     "metadata": {},
     "output_type": "execute_result"
    }
   ],
   "source": [
    "# do this for each foundation column\n",
    "for foundation in mft_dict.keys():\n",
    "    old_bailey[foundation] = 100*(old_bailey[foundation]/old_bailey['total_words'])\n",
    "    #this is it, right? just overwriting the numbers with a percentage?\n",
    "old_bailey.head()"
   ]
  },
  {
   "cell_type": "markdown",
   "metadata": {},
   "source": [
    "Let's compare the average percentage of foundation words per transcript for the two dates, 1822, and 1832.\n",
    "\n",
    "**EXERCISE**: Create a dataframe that only has columns for the five foundations plus the year. Then, use the pandas dataframe function `groupby` to group rows by the year, and call the `mean` function on the `groupby` output to get the averages for each foundation."
   ]
  },
  {
   "cell_type": "code",
   "execution_count": 60,
   "metadata": {},
   "outputs": [
    {
     "data": {
      "text/html": [
       "<div>\n",
       "<style>\n",
       "    .dataframe thead tr:only-child th {\n",
       "        text-align: right;\n",
       "    }\n",
       "\n",
       "    .dataframe thead th {\n",
       "        text-align: left;\n",
       "    }\n",
       "\n",
       "    .dataframe tbody tr th {\n",
       "        vertical-align: top;\n",
       "    }\n",
       "</style>\n",
       "<table border=\"1\" class=\"dataframe\">\n",
       "  <thead>\n",
       "    <tr style=\"text-align: right;\">\n",
       "      <th></th>\n",
       "      <th>authority/subversion</th>\n",
       "      <th>care/harm</th>\n",
       "      <th>fairness/cheating</th>\n",
       "      <th>loyalty/betrayal</th>\n",
       "      <th>sanctity/degradation</th>\n",
       "    </tr>\n",
       "    <tr>\n",
       "      <th>year</th>\n",
       "      <th></th>\n",
       "      <th></th>\n",
       "      <th></th>\n",
       "      <th></th>\n",
       "      <th></th>\n",
       "    </tr>\n",
       "  </thead>\n",
       "  <tbody>\n",
       "    <tr>\n",
       "      <th>1822</th>\n",
       "      <td>0.078470</td>\n",
       "      <td>0.205310</td>\n",
       "      <td>0.014769</td>\n",
       "      <td>0.013650</td>\n",
       "      <td>0.027381</td>\n",
       "    </tr>\n",
       "    <tr>\n",
       "      <th>1832</th>\n",
       "      <td>0.146665</td>\n",
       "      <td>0.099239</td>\n",
       "      <td>0.013073</td>\n",
       "      <td>0.012185</td>\n",
       "      <td>0.042233</td>\n",
       "    </tr>\n",
       "  </tbody>\n",
       "</table>\n",
       "</div>"
      ],
      "text/plain": [
       "      authority/subversion  care/harm  fairness/cheating  loyalty/betrayal  \\\n",
       "year                                                                         \n",
       "1822              0.078470   0.205310           0.014769          0.013650   \n",
       "1832              0.146665   0.099239           0.013073          0.012185   \n",
       "\n",
       "      sanctity/degradation  \n",
       "year                        \n",
       "1822              0.027381  \n",
       "1832              0.042233  "
      ]
     },
     "execution_count": 60,
     "metadata": {},
     "output_type": "execute_result"
    }
   ],
   "source": [
    "# the names of the columns we want to keep\n",
    "mft_columns = ['authority/subversion', 'care/harm', 'fairness/cheating', 'loyalty/betrayal',\n",
    " 'sanctity/degradation', 'year']\n",
    "\n",
    "# create a data frame with only the above columns included\n",
    "mft_df = old_bailey.loc[:, mft_columns] \n",
    "# groups the rows of mft_df by year, then take the mean\n",
    "foundation_avgs = mft_df.groupby('year').mean()\n",
    "\n",
    "foundation_avgs"
   ]
  },
  {
   "cell_type": "markdown",
   "metadata": {},
   "source": [
    "Next, create a bar graph. The simplest way is to call `.plot.barh()` on your dataframe of the averages. \n",
    "\n",
    "Also try calling `.transpose()` on your averages dataframe, then making a bar graph of that. The transpose function flips the rows and columns and can make it easier to compare the percentages."
   ]
  },
  {
   "cell_type": "code",
   "execution_count": 61,
   "metadata": {},
   "outputs": [
    {
     "data": {
      "text/plain": [
       "<matplotlib.axes._subplots.AxesSubplot at 0x1a1e236320>"
      ]
     },
     "execution_count": 61,
     "metadata": {},
     "output_type": "execute_result"
    },
    {
     "data": {
      "image/png": "[encoded data removed]",
      "text/plain": [
       "<matplotlib.figure.Figure at 0x1a1e24b048>"
      ]
     },
     "metadata": {},
     "output_type": "display_data"
    }
   ],
   "source": [
    "# create a bar graph\n",
    "foundation_avgs.plot.barh()"
   ]
  },
  {
   "cell_type": "code",
   "execution_count": 62,
   "metadata": {},
   "outputs": [
    {
     "data": {
      "text/plain": [
       "<matplotlib.axes._subplots.AxesSubplot at 0x1a1dff59b0>"
      ]
     },
     "execution_count": 62,
     "metadata": {},
     "output_type": "execute_result"
    },
    {
     "data": {
      "image/png": "[encoded data removed]",
      "text/plain": [
       "<matplotlib.figure.Figure at 0x1a1e025f98>"
      ]
     },
     "metadata": {},
     "output_type": "display_data"
    }
   ],
   "source": [
    "#transpose and then make another bar graph\n",
    "foundation_avgs.transpose().plot.barh()"
   ]
  },
  {
   "cell_type": "markdown",
   "metadata": {},
   "source": [
    "**QUESTION:** What do you see from the bar graphs you created? \n",
    "\n",
    "Why would this be a good approach to answering the question of how talk about morality changed between these two periods? What are some limitations of this approach (Hint: look at the values on the graphs you calculated, and remember: these are *percentages*, not proportions)?"
   ]
  },
  {
   "cell_type": "markdown",
   "metadata": {},
   "source": [
    "### It may not be the best way to talk about how shared norms of right and wrong changed, since the interests of the English legal system are an intervening variable, and as the prompt notes, the proportion of cases that have words in the MFT categories is vanishingly small (0.2%). What is interesting is the change over time in a couple of the categories--the care/harm category and the authority/subversion category. It looks like public order became much more of a focus over the ten years from 1822 to 1832."
   ]
  },
  {
   "cell_type": "markdown",
   "metadata": {},
   "source": [
    "----\n",
    "## Section 4: Non-negative matrix factorization<a id='section 4'></a>\n",
    "\n",
    "In this section, you can get an idea of sentiment using topic modeling algorithms, something you touched on in the 4/10 lab earlier this week, to help look for patterns.\n",
    "\n",
    "On Tuesday, you explored Latent Dirichlet Allocation (LDA) in gensim to look for topics in a corpus. Non-negative matrix factorization (NMF), not included in gensim, is another such way to look for topics in unstructured text data. The two methods differ in what kinds of math they use 'under the hood': LDA relies on probabilistic graphical modeling, while NMF uses linear algebra. \n",
    "\n",
    "We want to generate the topics found for 1822 and 1832 trials, look for topics related to tone or morality, and see if there's a difference between the two.\n",
    "\n",
    "Run the cell below to make two lists: one list of the trial transcripts for each year."
   ]
  },
  {
   "cell_type": "code",
   "execution_count": 63,
   "metadata": {
    "collapsed": true
   },
   "outputs": [],
   "source": [
    "# this is the totally easy way to do it but it somehow seems non-pythonesque\n",
    "# trial transcripts for 1822\n",
    "transcripts_1822 = old_bailey[old_bailey['year'] == 1822]['transcript']\n",
    "\n",
    "# trial transcripts for 1832\n",
    "transcripts_1832 = old_bailey[old_bailey['year'] == 1832]['transcript']"
   ]
  },
  {
   "cell_type": "markdown",
   "metadata": {},
   "source": [
    "We'll start by looking at 1822. The following cell creates the tfidf vectorizer, fits the text data, and assigns the list of feature name (i.e. the words in the document) to `tfidf_feature_names_1822`.\n",
    "\n",
    "Check out the [documentation for TfidfVectorizer](http://scikit-learn.org/stable/modules/generated/sklearn.feature_extraction.text.TfidfVectorizer.html) if you need a refresher on what it does."
   ]
  },
  {
   "cell_type": "code",
   "execution_count": 64,
   "metadata": {
    "collapsed": true
   },
   "outputs": [],
   "source": [
    "# create the vectorizer\n",
    "tfidf_vectorizer_1822 = TfidfVectorizer(max_df=0.95, min_df=2, max_features=1000, stop_words='english')\n",
    "# fit the data\n",
    "tfidf_1822 = tfidf_vectorizer_1822.fit_transform(transcripts_1822)\n",
    "# get the feature names\n",
    "tfidf_feature_names_1822 = tfidf_vectorizer_1822.get_feature_names()"
   ]
  },
  {
   "cell_type": "markdown",
   "metadata": {},
   "source": [
    "**EXERCISE:** Create the TfidfVectorizer, fit_transform the data, and get the feature names for 1832."
   ]
  },
  {
   "cell_type": "code",
   "execution_count": 65,
   "metadata": {
    "collapsed": true
   },
   "outputs": [],
   "source": [
    "# create the vectorizer\n",
    "tfidf_vectorizer_1832 = TfidfVectorizer(max_df=0.95, min_df=2, max_features=1000, stop_words='english')\n",
    "# fit the data\n",
    "tfidf_1832 = tfidf_vectorizer_1832.fit_transform(transcripts_1832)\n",
    "# get the feature names\n",
    "tfidf_feature_names_1832 = tfidf_vectorizer_1832.get_feature_names()"
   ]
  },
  {
   "cell_type": "markdown",
   "metadata": {},
   "source": [
    "As mentioned previously the algorithms are not able to automatically determine the number of topics and this value must be set when running the algorithm. Initialising NMF with ‘nndsvd’ rather than random initialisation improves the time it takes for NMF to converge.`random_state` gives the seed for the random number generator to use: this lets us reproduce our results in the future.\n"
   ]
  },
  {
   "cell_type": "code",
   "execution_count": 66,
   "metadata": {
    "collapsed": true
   },
   "outputs": [],
   "source": [
    "num_topics = 20\n",
    "# Run NMF for 1822\n",
    "nmf_1822 = NMF(n_components=num_topics, random_state=1, init='nndsvd').fit(tfidf_1822)"
   ]
  },
  {
   "cell_type": "markdown",
   "metadata": {},
   "source": [
    "**EXERCISE:** Run NMF using `num_topics` for the number of components on the data from 1832."
   ]
  },
  {
   "cell_type": "code",
   "execution_count": 67,
   "metadata": {
    "collapsed": true
   },
   "outputs": [],
   "source": [
    "# Run NMF for 1832\n",
    "nmf_1832 = NMF(n_components=num_topics, random_state=1, init='nndsvd').fit(tfidf_1832)"
   ]
  },
  {
   "cell_type": "markdown",
   "metadata": {},
   "source": [
    "We've provided you the function to display the topics shown by the NMF."
   ]
  },
  {
   "cell_type": "code",
   "execution_count": 68,
   "metadata": {},
   "outputs": [
    {
     "name": "stdout",
     "output_type": "stream",
     "text": [
      "Topic 0:\n",
      "said asked did told went came prisoner man examined cross\n",
      "Topic 1:\n",
      "value 1s things 2s pair 6d indictment articles box stated\n",
      "Topic 2:\n",
      "notes note bank 1l money book pocket 5l paid 10l\n",
      "Topic 3:\n",
      "forged note england pleaded possession bank having fourteen knowing feloniously\n",
      "Topic 4:\n",
      "watch chain prisoner key value seals person prosecutor ran watchman\n",
      "Topic 5:\n",
      "offence pleaded like fourteen transported years recorder prisoner middlesex second\n",
      "Topic 6:\n",
      "common sergeant london henry january september discharged david fined james\n",
      "Topic 7:\n",
      "handkerchief pocket person hand turned saw round felt life gentleman\n",
      "Topic 8:\n",
      "shoes pair boots shoemaker shop stockings wilson bought william breeches\n",
      "Topic 9:\n",
      "shop saw door prisoner privately man yards ran cotton coat\n",
      "Topic 10:\n",
      "acquitted appearing prosecutor middlesex value second recorder stealing goods prosecutrix\n",
      "Topic 11:\n",
      "august prisoner pledged goods pledge months confined pawnbroker 4th produced\n",
      "Topic 12:\n",
      "lead fixed house roof building belonging cut certain prisoners saw\n",
      "Topic 13:\n",
      "evidence second middlesex reynolds john joseph recorder justice offence burrough\n",
      "Topic 14:\n",
      "july prisoner william goods smith john james live fourth saw\n",
      "Topic 15:\n",
      "march february april prisoner john property thomas confined recorder sworn\n",
      "Topic 16:\n",
      "october goods prisoner john recorder thomas 20th stealing william value\n",
      "Topic 17:\n",
      "june secured goods prisoner wright 6th clock 11th william recorder\n",
      "Topic 18:\n",
      "house door went room bed clock open stairs night burglariously\n",
      "Topic 19:\n",
      "november garrow pledged goods second pawnbroker baron prisoner william produced\n"
     ]
    }
   ],
   "source": [
    "def display_topics(model, feature_names, num_top_words):\n",
    "    \"\"\"Displays NUM_TOP_WORDS topics for MODEL \"\"\"\n",
    "    for topic_idx, topic in enumerate(model.components_):\n",
    "        print(\"Topic %d:\" % (topic_idx))\n",
    "        print(\" \".join([feature_names[i]\n",
    "                        for i in topic.argsort()[:-num_top_words - 1:-1]]))\n",
    "\n",
    "# the number of words to display per topic\n",
    "num_top_words = 10\n",
    "\n",
    "# display the topics for 1822\n",
    "display_topics(nmf_1822, tfidf_feature_names_1822, num_top_words)\n"
   ]
  },
  {
   "cell_type": "code",
   "execution_count": 69,
   "metadata": {},
   "outputs": [
    {
     "name": "stdout",
     "output_type": "stream",
     "text": [
      "Topic 0:\n",
      "house went door room bed clock night stairs open came\n",
      "Topic 1:\n",
      "handkerchief pocket prisoner saw person felt turned gentleman took hand\n",
      "Topic 2:\n",
      "value 1s 6d 2s pair 5s articles goods 4s things\n",
      "Topic 3:\n",
      "shop prisoner saw took ran street door william yards aged\n",
      "Topic 4:\n",
      "watch prisoner chain seal prosecutor key value person june hand\n",
      "Topic 5:\n",
      "shoes pair pairs shoemaker william shoe george prisoner 21st joseph\n",
      "Topic 6:\n",
      "money half shillings sovereign crowns monies crown prisoner shilling pocket\n",
      "Topic 7:\n",
      "pleaded sergeant jury middlesex common new mr court arabin confined\n",
      "Topic 8:\n",
      "mr did prisoner examined cross paid know time received money\n",
      "Topic 9:\n",
      "coat prisoner waistcoat cab april street william george september charles\n",
      "Topic 10:\n",
      "said asked went came did told man got going wanted\n",
      "Topic 11:\n",
      "box prisoner key things handkerchiefs room articles stockings said searched\n",
      "Topic 12:\n",
      "boots pair trousers shop prisoners shoemaker thomas took 24th 12th\n",
      "Topic 13:\n",
      "purse sovereigns pocket hand bag note person 5l saw felt\n",
      "Topic 14:\n",
      "pawned prisoner pawnbroker duplicates spoon sheet duplicate missed room spoons\n",
      "Topic 15:\n",
      "august prisoner necklace hat john 11th shawl transported jacket 30th\n",
      "Topic 16:\n",
      "cart horse saw stable hay yard mare morning clock bag\n",
      "Topic 17:\n",
      "july 7th prisoner 21st james cap live property john goods\n",
      "Topic 18:\n",
      "books printed book jones 9th october yards 7th house john\n",
      "Topic 19:\n",
      "february john cheese 8th goods stealing henry appear 21st prisoner\n"
     ]
    }
   ],
   "source": [
    "# display the topics for 1832\n",
    "display_topics(nmf_1832, tfidf_feature_names_1832, num_top_words)"
   ]
  },
  {
   "cell_type": "markdown",
   "metadata": {},
   "source": [
    "As in LDA, it often takes some hyperparameter tuning before you get a coherent set of topics. Go back and tune the parameters for tfidf and NMF to see if you can get topics that show something about the moral sentiment of the transcripts. `num_topics` usually makes the most dramatic difference.\n",
    "\n",
    "Once you've compared several sets of topics, answer the next question:"
   ]
  },
  {
   "cell_type": "code",
   "execution_count": 70,
   "metadata": {
    "collapsed": true
   },
   "outputs": [],
   "source": [
    "num_topics = 5\n",
    "# Run NMF for 1822\n",
    "nmf_1822 = NMF(n_components=num_topics, random_state=1, init='nndsvd').fit(tfidf_1822)"
   ]
  },
  {
   "cell_type": "code",
   "execution_count": 71,
   "metadata": {
    "collapsed": true
   },
   "outputs": [],
   "source": [
    "# Run NMF for 1832\n",
    "nmf_1832 = NMF(n_components=num_topics, random_state=1, init='nndsvd').fit(tfidf_1832)"
   ]
  },
  {
   "cell_type": "code",
   "execution_count": 72,
   "metadata": {},
   "outputs": [
    {
     "name": "stdout",
     "output_type": "stream",
     "text": [
      "Topic 0:\n",
      "house said went came door asked did clock prisoner room\n",
      "Topic 1:\n",
      "value prisoner property pair stealing goods john produced sworn shop\n",
      "Topic 2:\n",
      "notes note bank money 1l pocket book prisoner 5l said\n",
      "Topic 3:\n",
      "offence pleaded evidence fourteen like recorder transported years middlesex forged\n",
      "Topic 4:\n",
      "watch prisoner saw handkerchief man person ran street pocket took\n"
     ]
    }
   ],
   "source": [
    "# display the topics for 1822\n",
    "display_topics(nmf_1822, tfidf_feature_names_1822, num_top_words)"
   ]
  },
  {
   "cell_type": "code",
   "execution_count": 73,
   "metadata": {},
   "outputs": [
    {
     "name": "stdout",
     "output_type": "stream",
     "text": [
      "Topic 0:\n",
      "said did went house prisoner money mr came asked half\n",
      "Topic 1:\n",
      "handkerchief pocket prisoner saw person felt took turned hand gentleman\n",
      "Topic 2:\n",
      "value pawned prisoner 1s pair 2s 6d pawnbroker goods pleaded\n",
      "Topic 3:\n",
      "prisoner shop saw took street ran william door john coat\n",
      "Topic 4:\n",
      "watch prisoner chain went house seal prosecutor key clock room\n"
     ]
    }
   ],
   "source": [
    "# display the topics for 1832\n",
    "display_topics(nmf_1832, tfidf_feature_names_1832, num_top_words)"
   ]
  },
  {
   "cell_type": "markdown",
   "metadata": {},
   "source": [
    "**QUESTION:** What did the best set of topics you found tell you about the tone of the documents for the two periods? Why might this approach be a good way to study sentiment? What are some issues with this approach?"
   ]
  },
  {
   "cell_type": "markdown",
   "metadata": {},
   "source": [
    "### Setting the number of topics to 5 gave more meaningful categories, although between the two periods I am not sure I see much in the way of difference in terms of what was considered crime; property crimes is represented for both years. The 1822 topics specifically engage with forgery and long transportation sentences, which is not true of the 1832 topics.  The dictionary method seemed a bit more satisfying in showing change over time to an increasing state role in prosecuting crime (authority/subversion)."
   ]
  },
  {
   "cell_type": "markdown",
   "metadata": {},
   "source": [
    "----\n",
    "Fantastic! Now you know how to approach sentiment analysis several ways using general sentiment analysis with `VADER`, Moral Foundations Theory, and Non-negative matrix factorization.\n",
    "\n",
    "Ultimately, there were limitations to all of these methods. In your homework, you'll explore how to generate your own dictionary to try to overcome some of these limitations.\n",
    "\n",
    "----"
   ]
  },
  {
   "cell_type": "markdown",
   "metadata": {},
   "source": [
    "## Bibliography\n",
    "\n",
    "\n",
    " - Moral Foundations Theory background and dictionary: *Jesse Graham and Jonathan Haidt http://moralfoundations.org/*\n",
    " - Moral Foundations analysis code adapted from *https://github.com/ds-modules/XRHETOR-R1A/blob/master/02-Moral-Foundations-Analysis/02-Moral-Foundations-Analysis.ipynb*\n",
    " - NMF code and explanation adapted from *Aneesha Bakharia. 'Topic Modeling With Scikit-Learn.' https://medium.com/mlreview/topic-modeling-with-scikit-learn-e80d33668730*\n",
    "\n",
    "----\n",
    "Notebook developed by: Gibson Chu, Keeley Takimoto\n",
    "\n",
    "Data Science Modules: http://data.berkeley.edu/education/modules"
   ]
  }
 ],
 "metadata": {
  "kernelspec": {
   "display_name": "Python 3",
   "language": "python",
   "name": "python3"
  },
  "language_info": {
   "codemirror_mode": {
    "name": "ipython",
    "version": 3
   },
   "file_extension": ".py",
   "mimetype": "text/x-python",
   "name": "python",
   "nbconvert_exporter": "python",
   "pygments_lexer": "ipython3",
   "version": "3.6.8"
  }
 },
 "nbformat": 4,
 "nbformat_minor": 2
}
