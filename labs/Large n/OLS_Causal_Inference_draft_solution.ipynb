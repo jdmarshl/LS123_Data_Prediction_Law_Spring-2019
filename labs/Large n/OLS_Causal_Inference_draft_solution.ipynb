{
 "cells": [
  {
   "cell_type": "markdown",
   "metadata": {},
   "source": [
    "# LS123: Regression and Causal Inference"
   ]
  },
  {
   "cell_type": "markdown",
   "metadata": {},
   "source": [
    "This lab will review Ordinary Least Squares regression, the use of regression for causal inference, and interpreting regression models (including the idea of hypothesis testing). The idea here is to review how causal inference models are used in the social sciences (here, with the ANES data) and how to interpret those models."
   ]
  },
  {
   "cell_type": "code",
   "execution_count": 63,
   "metadata": {},
   "outputs": [],
   "source": [
    "# dependencies\n",
    "from collections import Counter\n",
    "import numpy as np\n",
    "import pandas as pd\n",
    "from scipy import stats\n",
    "import statsmodels.api as sm\n",
    "from sklearn import datasets, linear_model\n",
    "from sklearn.linear_model import LinearRegression\n",
    "%matplotlib inline\n",
    "import matplotlib.pyplot as plot\n",
    "plot.style.use('fivethirtyeight')"
   ]
  },
  {
   "cell_type": "markdown",
   "metadata": {},
   "source": [
    "## Data"
   ]
  },
  {
   "cell_type": "markdown",
   "metadata": {},
   "source": [
    "We'll continue using the ANES data for this lab!"
   ]
  },
  {
   "cell_type": "code",
   "execution_count": 64,
   "metadata": {},
   "outputs": [
    {
     "data": {
      "text/html": [
       "<div>\n",
       "<style scoped>\n",
       "    .dataframe tbody tr th:only-of-type {\n",
       "        vertical-align: middle;\n",
       "    }\n",
       "\n",
       "    .dataframe tbody tr th {\n",
       "        vertical-align: top;\n",
       "    }\n",
       "\n",
       "    .dataframe thead th {\n",
       "        text-align: right;\n",
       "    }\n",
       "</style>\n",
       "<table border=\"1\" class=\"dataframe\">\n",
       "  <thead>\n",
       "    <tr style=\"text-align: right;\">\n",
       "      <th></th>\n",
       "      <th>Unnamed: 0</th>\n",
       "      <th>pre_election_weight_ftf</th>\n",
       "      <th>post_election_weight_ftf</th>\n",
       "      <th>pre_voting_status</th>\n",
       "      <th>pre_economy_last_year</th>\n",
       "      <th>pre_party_id</th>\n",
       "      <th>pre_gun_access_importance</th>\n",
       "      <th>pre_unauthorized_immigrants</th>\n",
       "      <th>pre_birthright_citizenship</th>\n",
       "      <th>pre_govt_assist_to_blacks</th>\n",
       "      <th>...</th>\n",
       "      <th>post_discrim_christian</th>\n",
       "      <th>post_discrim_transgender</th>\n",
       "      <th>post_discrim_personal</th>\n",
       "      <th>post_skintone</th>\n",
       "      <th>post_discrim_skintone</th>\n",
       "      <th>post_support_trump</th>\n",
       "      <th>post_gender</th>\n",
       "      <th>post_age_est</th>\n",
       "      <th>post_inform_level</th>\n",
       "      <th>post_intelligence</th>\n",
       "    </tr>\n",
       "  </thead>\n",
       "  <tbody>\n",
       "    <tr>\n",
       "      <th>0</th>\n",
       "      <td>0</td>\n",
       "      <td>0.887</td>\n",
       "      <td>0.927</td>\n",
       "      <td>3</td>\n",
       "      <td>5.0</td>\n",
       "      <td>7.0</td>\n",
       "      <td>2.0</td>\n",
       "      <td>3.0</td>\n",
       "      <td>4.0</td>\n",
       "      <td>7.0</td>\n",
       "      <td>...</td>\n",
       "      <td>4.0</td>\n",
       "      <td>4.0</td>\n",
       "      <td>NaN</td>\n",
       "      <td>3.0</td>\n",
       "      <td>4.0</td>\n",
       "      <td>NaN</td>\n",
       "      <td>NaN</td>\n",
       "      <td>NaN</td>\n",
       "      <td>4.0</td>\n",
       "      <td>4.0</td>\n",
       "    </tr>\n",
       "    <tr>\n",
       "      <th>1</th>\n",
       "      <td>1</td>\n",
       "      <td>1.160</td>\n",
       "      <td>1.084</td>\n",
       "      <td>3</td>\n",
       "      <td>3.0</td>\n",
       "      <td>6.0</td>\n",
       "      <td>1.0</td>\n",
       "      <td>1.0</td>\n",
       "      <td>1.0</td>\n",
       "      <td>7.0</td>\n",
       "      <td>...</td>\n",
       "      <td>4.0</td>\n",
       "      <td>1.0</td>\n",
       "      <td>NaN</td>\n",
       "      <td>3.0</td>\n",
       "      <td>4.0</td>\n",
       "      <td>NaN</td>\n",
       "      <td>NaN</td>\n",
       "      <td>NaN</td>\n",
       "      <td>1.0</td>\n",
       "      <td>2.0</td>\n",
       "    </tr>\n",
       "    <tr>\n",
       "      <th>2</th>\n",
       "      <td>2</td>\n",
       "      <td>0.416</td>\n",
       "      <td>0.398</td>\n",
       "      <td>1</td>\n",
       "      <td>3.0</td>\n",
       "      <td>3.0</td>\n",
       "      <td>2.0</td>\n",
       "      <td>1.0</td>\n",
       "      <td>7.0</td>\n",
       "      <td>7.0</td>\n",
       "      <td>...</td>\n",
       "      <td>2.0</td>\n",
       "      <td>1.0</td>\n",
       "      <td>NaN</td>\n",
       "      <td>2.0</td>\n",
       "      <td>4.0</td>\n",
       "      <td>NaN</td>\n",
       "      <td>NaN</td>\n",
       "      <td>NaN</td>\n",
       "      <td>4.0</td>\n",
       "      <td>3.0</td>\n",
       "    </tr>\n",
       "    <tr>\n",
       "      <th>3</th>\n",
       "      <td>3</td>\n",
       "      <td>0.385</td>\n",
       "      <td>0.418</td>\n",
       "      <td>4</td>\n",
       "      <td>3.0</td>\n",
       "      <td>5.0</td>\n",
       "      <td>1.0</td>\n",
       "      <td>3.0</td>\n",
       "      <td>4.0</td>\n",
       "      <td>5.0</td>\n",
       "      <td>...</td>\n",
       "      <td>3.0</td>\n",
       "      <td>2.0</td>\n",
       "      <td>NaN</td>\n",
       "      <td>4.0</td>\n",
       "      <td>4.0</td>\n",
       "      <td>NaN</td>\n",
       "      <td>NaN</td>\n",
       "      <td>NaN</td>\n",
       "      <td>2.0</td>\n",
       "      <td>2.0</td>\n",
       "    </tr>\n",
       "    <tr>\n",
       "      <th>4</th>\n",
       "      <td>4</td>\n",
       "      <td>0.693</td>\n",
       "      <td>0.726</td>\n",
       "      <td>3</td>\n",
       "      <td>3.0</td>\n",
       "      <td>3.0</td>\n",
       "      <td>1.0</td>\n",
       "      <td>3.0</td>\n",
       "      <td>6.0</td>\n",
       "      <td>7.0</td>\n",
       "      <td>...</td>\n",
       "      <td>2.0</td>\n",
       "      <td>3.0</td>\n",
       "      <td>NaN</td>\n",
       "      <td>2.0</td>\n",
       "      <td>5.0</td>\n",
       "      <td>NaN</td>\n",
       "      <td>NaN</td>\n",
       "      <td>NaN</td>\n",
       "      <td>4.0</td>\n",
       "      <td>3.0</td>\n",
       "    </tr>\n",
       "  </tbody>\n",
       "</table>\n",
       "<p>5 rows × 206 columns</p>\n",
       "</div>"
      ],
      "text/plain": [
       "   Unnamed: 0  pre_election_weight_ftf  post_election_weight_ftf  \\\n",
       "0           0                    0.887                     0.927   \n",
       "1           1                    1.160                     1.084   \n",
       "2           2                    0.416                     0.398   \n",
       "3           3                    0.385                     0.418   \n",
       "4           4                    0.693                     0.726   \n",
       "\n",
       "   pre_voting_status  pre_economy_last_year  pre_party_id  \\\n",
       "0                  3                    5.0           7.0   \n",
       "1                  3                    3.0           6.0   \n",
       "2                  1                    3.0           3.0   \n",
       "3                  4                    3.0           5.0   \n",
       "4                  3                    3.0           3.0   \n",
       "\n",
       "   pre_gun_access_importance  pre_unauthorized_immigrants  \\\n",
       "0                        2.0                          3.0   \n",
       "1                        1.0                          1.0   \n",
       "2                        2.0                          1.0   \n",
       "3                        1.0                          3.0   \n",
       "4                        1.0                          3.0   \n",
       "\n",
       "   pre_birthright_citizenship  pre_govt_assist_to_blacks        ...          \\\n",
       "0                         4.0                        7.0        ...           \n",
       "1                         1.0                        7.0        ...           \n",
       "2                         7.0                        7.0        ...           \n",
       "3                         4.0                        5.0        ...           \n",
       "4                         6.0                        7.0        ...           \n",
       "\n",
       "   post_discrim_christian  post_discrim_transgender  post_discrim_personal  \\\n",
       "0                     4.0                       4.0                    NaN   \n",
       "1                     4.0                       1.0                    NaN   \n",
       "2                     2.0                       1.0                    NaN   \n",
       "3                     3.0                       2.0                    NaN   \n",
       "4                     2.0                       3.0                    NaN   \n",
       "\n",
       "   post_skintone  post_discrim_skintone  post_support_trump  post_gender  \\\n",
       "0            3.0                    4.0                 NaN          NaN   \n",
       "1            3.0                    4.0                 NaN          NaN   \n",
       "2            2.0                    4.0                 NaN          NaN   \n",
       "3            4.0                    4.0                 NaN          NaN   \n",
       "4            2.0                    5.0                 NaN          NaN   \n",
       "\n",
       "   post_age_est  post_inform_level  post_intelligence  \n",
       "0           NaN                4.0                4.0  \n",
       "1           NaN                1.0                2.0  \n",
       "2           NaN                4.0                3.0  \n",
       "3           NaN                2.0                2.0  \n",
       "4           NaN                4.0                3.0  \n",
       "\n",
       "[5 rows x 206 columns]"
      ]
     },
     "execution_count": 64,
     "metadata": {},
     "output_type": "execute_result"
    }
   ],
   "source": [
    "anes = pd.read_csv('../data/anes/ANES_legalst123_cleaned.csv')\n",
    "anes.head()"
   ]
  },
  {
   "cell_type": "code",
   "execution_count": 65,
   "metadata": {},
   "outputs": [],
   "source": [
    "# see those variable names from the csv file again; you may need to go back to the dataframes lab\n",
    "# to see what the variable number is in order to look that variable up in the codebook\n",
    "\n",
    "# anes.columns.values"
   ]
  },
  {
   "cell_type": "markdown",
   "metadata": {},
   "source": [
    "## Ordinary Least Squares (OLS) regression models"
   ]
  },
  {
   "cell_type": "markdown",
   "metadata": {},
   "source": [
    "In the social sciences, regression is often used to support a causal argument based in some kind of theory of human action. In effect, what it represents mathematically is \"what is the effect of a unit change in $x$ (the cause of interest) on $y$ (the outcome of interest), holding everything else equal.\" Another way of thinking about it is as the partial correlation between a single variable $x$ and an outcome $y$. Correlation and regression are introduced quite well in the Adhikari and DeNero text, so here we are trying to show how social scientists use regression to make causal arguments. We are going to use some simple examples with the ANES data we have already used."
   ]
  },
  {
   "cell_type": "markdown",
   "metadata": {},
   "source": [
    "### A really simple model\n",
    "So let's try a simple model that tries to understand people's receptiveness to scientific information as an outcome of individual-level attributes. Some of these attributes are categorical and some are on scales. For this exercise those individual attributes will be (and go ahead and look at the details in the [ANES 2016 Codebook](https://electionstudies.org/wp-content/uploads/2018/12/anes_timeseries_2016_userguidecodebook.pdf))\n",
    "\n",
    "party ID: **pre_party_id** (V161158x in the ANES 2016 Codebook)<br>\n",
    "level of education: **pre_education_level** (V161270)<br>\n",
    "gender self-ID: **pre_gender** (V161342)<br>\n",
    "age level: **pre_age_group** (V161267x)<br>\n",
    "race: **pre_race**(V161310x) and <br>\n",
    "income: **pre_income** (V161361x) \n",
    "\n",
    "Since we don't have an item in the survey that directly measures receptiveness to information, we will use the item on favoring or opposing vaccination as a proxy for how receptive someone is to scientific information because of the debunked link between vaccinations and autism and the ongoing campaign of the antivaxxers.\n",
    "\n",
    "**post_vaccines** (V162147x)\n",
    "\n",
    "The theory linking these individual-level variables comes from the voting behavior literature, which leads us to think that people will form attitudes toward scientific knowledge based on partisan cues and education, but we also know that race is an important political cleavage and that age can be a substitute for some kinds of formal education. Income may or may improve access to high quality information but it is usually important in conditioning a person's knowledge about the world, so we will include it, and we will include gender since it is also an important facet of identity that can affect views toward the political world."
   ]
  },
  {
   "cell_type": "markdown",
   "metadata": {},
   "source": [
    "### OLS regression: assumptions about data"
   ]
  },
  {
   "cell_type": "markdown",
   "metadata": {},
   "source": [
    "There are a number of assumptions that regression techniques require that we will keep returning to in class. Here's a little list.\n",
    "\n",
    "1. independent variables are quantitative or dichotomous; dependent variable is quantitative, continuous, and unbounded\n",
    "2. all IVs have variance not equal to 0 (ie. there is some variation in their value) (duh, otherwise they’d be constants)<br>\n",
    "3. no perfect multicollinearity between any two IVs<br>\n",
    "4. for each set of values for the independent variables, the mean value of the error term is zero<br>\n",
    "5. each IV is uncorrelated with the error term<br>\n",
    "6. the variance of the error term for each set of values for the IVs is constant (homoskedasticity assumption)<br>\n",
    "7. error terms for any two observations of the values of IVs are uncorrelated<br>\n",
    "8. error terms for each set of values for the IVs are normally distributed<br>\n",
    "\n",
    "This means we have some work to do first with the variables in our model."
   ]
  },
  {
   "cell_type": "markdown",
   "metadata": {},
   "source": [
    "#### Cleaning and preparing the data "
   ]
  },
  {
   "cell_type": "markdown",
   "metadata": {},
   "source": [
    "There are several things we need to in order to end up with an interpretable model (and there are other things that we can do but won't, like rescale all the independent variables on a 0 to 1 scale, which again is for interpretability).\n",
    "1. deal with missing data to exclude those cases from our analysis\n",
    "2. recode variables that are categorical into new variables that are dichotomous (i.e., that take value either 0 or 1)\n",
    "3. recode scales in a consistent direction for interpretability\n",
    "\n",
    "We will also be making the \"interval assumption\" with the dependent variable **post_vaccines** which is a constructed scale with 7 response categories. You may want to include a markdown cell that says all of this (and why the interval assumption is or isn't OK)."
   ]
  },
  {
   "cell_type": "code",
   "execution_count": 66,
   "metadata": {},
   "outputs": [
    {
     "name": "stdout",
     "output_type": "stream",
     "text": [
      "shape of new df  (4271, 7)\n"
     ]
    }
   ],
   "source": [
    "# replace missing data with NaN (we are not losing it since we are not overwriting the data file)\n",
    "#   to do this without losing unnecessary cases (since we will drop cases with NaN values)\n",
    "#   we should first make a new dataframe\n",
    "\n",
    "regression_df = anes[['pre_party_id', 'pre_education_level', 'pre_gender', 'pre_age_group',\\\n",
    "                         'pre_race', 'pre_income', 'post_vaccines']].copy()\n",
    "print('shape of new df ', regression_df.shape)\n",
    "regression_df.where(regression_df>0, inplace=True) # because negative integers were used for missing data"
   ]
  },
  {
   "cell_type": "code",
   "execution_count": 67,
   "metadata": {},
   "outputs": [
    {
     "name": "stdout",
     "output_type": "stream",
     "text": [
      "shape of new df after dropping rows with missing values  (3408, 7)\n"
     ]
    },
    {
     "data": {
      "text/plain": [
       "array([[<matplotlib.axes._subplots.AxesSubplot object at 0x1a1f2d1048>,\n",
       "        <matplotlib.axes._subplots.AxesSubplot object at 0x116919a58>],\n",
       "       [<matplotlib.axes._subplots.AxesSubplot object at 0x115ab10f0>,\n",
       "        <matplotlib.axes._subplots.AxesSubplot object at 0x116956320>],\n",
       "       [<matplotlib.axes._subplots.AxesSubplot object at 0x11694a8d0>,\n",
       "        <matplotlib.axes._subplots.AxesSubplot object at 0x11694a5c0>],\n",
       "       [<matplotlib.axes._subplots.AxesSubplot object at 0x1a1f2dff98>,\n",
       "        <matplotlib.axes._subplots.AxesSubplot object at 0x1a1f3a6a58>]],\n",
       "      dtype=object)"
      ]
     },
     "execution_count": 67,
     "metadata": {},
     "output_type": "execute_result"
    },
    {
     "data": {
      "image/png": "[encoded data removed]",
      "text/plain": [
       "<Figure size 432x288 with 8 Axes>"
      ]
     },
     "metadata": {},
     "output_type": "display_data"
    }
   ],
   "source": [
    "# drop the cases with missing data\n",
    "regression_df.dropna(axis=0, inplace=True)\n",
    "print('shape of new df after dropping rows with missing values ', regression_df.shape)\n",
    "regression_df.hist(layout=(4,2)) # to see that the data all check out"
   ]
  },
  {
   "cell_type": "markdown",
   "metadata": {},
   "source": [
    "#### Recoding all of those variables to fit regression assumptions"
   ]
  },
  {
   "cell_type": "code",
   "execution_count": 68,
   "metadata": {},
   "outputs": [],
   "source": [
    "\"\"\"\n",
    "you will need to refer to the codebook here\n",
    "recode categorical variables into dichotomous variables\n",
    "    the usual practice for dichotomous (or \"dummy\") variables is to code the category you are interested in\n",
    "    as 1 and all the other categories as 0; you can also recode categorical variables into a bunch of different\n",
    "    dummy variables as long as you exclude one category (otherwise you would have a perfect collinearity problem)\n",
    "    the excluded category then becomes your baseline\n",
    "this is also the place to recode scales into an order consistent with your question (e.g., if you think that people \n",
    "who score high on a causal variable should also score high on the outcome variable, you should make sure they are \n",
    "bothcoded in the same direction)\n",
    "\"\"\"\n",
    "regression_df['post_vaccines'].replace(to_replace=[1,2,3,4,5,6,7], value=[7,6,5,4,3,2,1], inplace=True)\n",
    "regression_df['pre_party_id'].replace(to_replace=[1,2,3,4,5,6,7], value=[0,0,0,0,1,1,1], inplace=True)\n",
    "# just made party ID into either Republican (1) or not Republican (0)\n",
    "regression_df['pre_education_level'].replace(to_replace=[95], value=[9], inplace=True)\n",
    "# note that pre_education_level is really ordinal, and we are just setting the value for 'other' to the\n",
    "#     median (HS finisher) while also making the implicit assumption that it is an interval measure that ranges 4:16\n",
    "regression_df['pre_gender'].replace(to_replace=[1,2,3], value=[1,0,0], inplace=True)\n",
    "# making gender dichotomous and assuming that male gender will be different\n",
    "# while 'pre_age_group' is ordered it is not exactly an interval measure but we can say it is sort of close\n",
    "regression_df['pre_race'].replace(to_replace=[1,2,3,4,5,6], value=[1,0,0,0,0,0], inplace=True)\n",
    "# made race of respondent into a dichotomous variable where \"white\" is 1, since that political identity\n",
    "#    has historically been salient across many dimensions\n",
    "# pre_income is again really and ordered list of income responses but we will treat it like it is an interval measure"
   ]
  },
  {
   "cell_type": "code",
   "execution_count": 69,
   "metadata": {},
   "outputs": [
    {
     "name": "stdout",
     "output_type": "stream",
     "text": [
      "AxesSubplot(0.08,0.07;0.87x0.81)\n"
     ]
    },
    {
     "data": {
      "image/png": "[encoded data removed]",
      "text/plain": [
       "<Figure size 432x288 with 1 Axes>"
      ]
     },
     "metadata": {},
     "output_type": "display_data"
    }
   ],
   "source": [
    "print(regression_df['post_vaccines'].hist())"
   ]
  },
  {
   "cell_type": "code",
   "execution_count": 70,
   "metadata": {},
   "outputs": [
    {
     "name": "stdout",
     "output_type": "stream",
     "text": [
      "AxesSubplot(0.08,0.07;0.87x0.81)\n"
     ]
    },
    {
     "data": {
      "image/png": "[encoded data removed]",
      "text/plain": [
       "<Figure size 432x288 with 1 Axes>"
      ]
     },
     "metadata": {},
     "output_type": "display_data"
    }
   ],
   "source": [
    "print(regression_df['pre_income'].hist())"
   ]
  },
  {
   "cell_type": "markdown",
   "metadata": {},
   "source": [
    "### OLS regression: making an inference from data"
   ]
  },
  {
   "cell_type": "markdown",
   "metadata": {},
   "source": [
    "#### Making an OLS model\n",
    "Now that the data are in a form that we can use, implement the regression model below. [Here](https://scikit-learn.org/stable/modules/generated/sklearn.linear_model.LinearRegression.html#sklearn.linear_model.LinearRegression.score) is documentation for linear regression in SciKit Learn. Later in the course, when we talk about prediction, we will talk about training linear models on a set of training data and testing them on data reserved for that purpose. Right now we are interested in fitting the model and seeing if our hypothesized relationships hold up."
   ]
  },
  {
   "cell_type": "code",
   "execution_count": 71,
   "metadata": {},
   "outputs": [],
   "source": [
    "# first we need to specify the causal variables \n",
    "X = regression_df.drop(['post_vaccines'], axis=1)\n",
    "\n",
    "# and the outcome variable\n",
    "y = regression_df['post_vaccines']"
   ]
  },
  {
   "cell_type": "code",
   "execution_count": 72,
   "metadata": {},
   "outputs": [
    {
     "name": "stdout",
     "output_type": "stream",
     "text": [
      "                            OLS Regression Results                            \n",
      "==============================================================================\n",
      "Dep. Variable:          post_vaccines   R-squared:                       0.041\n",
      "Model:                            OLS   Adj. R-squared:                  0.040\n",
      "Method:                 Least Squares   F-statistic:                     24.43\n",
      "Date:                Sat, 09 Feb 2019   Prob (F-statistic):           1.72e-28\n",
      "Time:                        16:01:02   Log-Likelihood:                -6461.9\n",
      "No. Observations:                3408   AIC:                         1.294e+04\n",
      "Df Residuals:                    3401   BIC:                         1.298e+04\n",
      "Df Model:                           6                                         \n",
      "Covariance Type:            nonrobust                                         \n",
      "=======================================================================================\n",
      "                          coef    std err          t      P>|t|      [0.025      0.975]\n",
      "---------------------------------------------------------------------------------------\n",
      "const                   5.0546      0.115     44.135      0.000       4.830       5.279\n",
      "pre_party_id           -0.2448      0.059     -4.159      0.000      -0.360      -0.129\n",
      "pre_education_level  9.218e-05      0.007      0.012      0.990      -0.015       0.015\n",
      "pre_gender             -0.1253      0.056     -2.234      0.026      -0.235      -0.015\n",
      "pre_age_group           0.0644      0.008      7.877      0.000       0.048       0.080\n",
      "pre_race                0.2334      0.066      3.546      0.000       0.104       0.362\n",
      "pre_income              0.0236      0.004      6.519      0.000       0.017       0.031\n",
      "==============================================================================\n",
      "Omnibus:                      802.799   Durbin-Watson:                   2.005\n",
      "Prob(Omnibus):                  0.000   Jarque-Bera (JB):             1517.556\n",
      "Skew:                          -1.467   Prob(JB):                         0.00\n",
      "Kurtosis:                       4.443   Cond. No.                         91.6\n",
      "==============================================================================\n",
      "\n",
      "Warnings:\n",
      "[1] Standard Errors assume that the covariance matrix of the errors is correctly specified.\n"
     ]
    }
   ],
   "source": [
    "# OLS regression model\n",
    "#    because Scikit-learn does not give confidence intervals for the regression coefficients\n",
    "#    we need to use Statsmodels.org package \n",
    "#    https://www.statsmodels.org/dev/generated/statsmodels.regression.linear_model.OLS.html\n",
    "# disclaimer: Prof. Marshall learned about this on Stackexchange\n",
    "\n",
    "X2 = sm.add_constant(X)\n",
    "est = sm.OLS(y, X2)\n",
    "est2 = est.fit()\n",
    "print(est2.summary())\n",
    "\n"
   ]
  },
  {
   "cell_type": "markdown",
   "metadata": {},
   "source": [
    "### Interpreting OLS models: coefficients and understanding them"
   ]
  },
  {
   "cell_type": "markdown",
   "metadata": {},
   "source": [
    "#### Hypothesis Testing"
   ]
  },
  {
   "cell_type": "markdown",
   "metadata": {},
   "source": [
    "Here's a little review of what we already talked about, applied to the interpretation of regression models.\n",
    "\n",
    "The goal in conducting a hypothesis test is to answer the question, \"Was it likely to observe my test statistic due to chance?\" We say something is statistically significant if it is sufficiently far enough away from the center of an empirical distribution, and therefore unlikely to have occurred just by chance.\n",
    "\n",
    "The basic way to frame a hypothesis test is as follows:\n",
    "\n",
    "1. Define a null $(H_O)$ and alternative $(H_A)$ hypothesis. The null hypothesis is usually framed as \"no statistical relationship between the observed data and the background distribution\" and the alternative hypothesis is the opposite. More concretely, the null is our default position, and assumes that the observed statistic likely came from the background distribution.\n",
    "\n",
    "2. Calculate a test statistic (for example, t-test, $\\chi^2$, etc.)\n",
    "\n",
    "3. Check if the test statistic is far enough away from the center of the distribution. Traditionally, this was done by checking against a reference table, but in Python, we'll use p-values. Typically, a p value of less than .05 (meaning that only 5% of observations should fall where the test statistic does) is used as the threshold for statistical significance in the social sciences.\n",
    "\n",
    "4. Either reject or fail to reject the null hypothesis.\n",
    "\n",
    "When we are talking about interpreting regression models, we are mainly interested in the coefficients for each of the important causal variables we have identified (using induction or perhaps theory as it has developed in the social sciences) and whether or not we can reject the null hypothesis that the coefficient is zero at some confidence level. Usually the social sciences settles on the 95% confidence interval; in other words, assuming that our estimate is correct, in repeated sampling from the underlying population we would get an estimate within the confidence interval 95 times out of 100. If zero is not in the interval, then we can say we have found an effect. Sort of arbitrary but at least it provides a standard of confidence."
   ]
  },
  {
   "cell_type": "markdown",
   "metadata": {},
   "source": [
    "_explain what the model shows here_<br>\n",
    "**The model, first of all, does not account for much of variance in the dependent variable 'post_vaccine'--the measure of fit (R-squared or coefficient of determination) is not very good even by political science standards. But some of our causal measures have an effect: being a Republican tends to reduce how much voters support vaccination in schools by 0.2 points on the seven-point scale; being male also reduces support but by half that amount. The interesting thing is that level of education does not seem to have an effect. Being white, being older, and earning more all seem to be positively associated with supporting vaccination. Aside from the effect of education that's sort of what we would expect.**"
   ]
  },
  {
   "cell_type": "markdown",
   "metadata": {},
   "source": [
    "## Try Your Own Model on Voters!"
   ]
  },
  {
   "cell_type": "markdown",
   "metadata": {},
   "source": [
    "Now that we've run through a causal model that aims at explanation of receptiveness to scientific information, try one of your own. Since we all know something about U.S. politics, come up with a explanatory model for a political orientation as measured by the variables in the piece of the ANES dataset we have been using. In a markdown cell, outline the model, and in another markdown cell, describe what you have found."
   ]
  },
  {
   "cell_type": "markdown",
   "metadata": {},
   "source": [
    "_your model in words_<br>"
   ]
  },
  {
   "cell_type": "code",
   "execution_count": 4,
   "metadata": {},
   "outputs": [],
   "source": [
    "# implement your model here, commenting on the steps you take to clean the data and make the variables\n",
    "# ready for use in an OLS regression model"
   ]
  },
  {
   "cell_type": "markdown",
   "metadata": {},
   "source": [
    "_description of what you found (and a negative finding is still a finding)_<br>"
   ]
  },
  {
   "cell_type": "code",
   "execution_count": null,
   "metadata": {},
   "outputs": [],
   "source": []
  }
 ],
 "metadata": {
  "kernelspec": {
   "display_name": "Python 3",
   "language": "python",
   "name": "python3"
  },
  "language_info": {
   "codemirror_mode": {
    "name": "ipython",
    "version": 3
   },
   "file_extension": ".py",
   "mimetype": "text/x-python",
   "name": "python",
   "nbconvert_exporter": "python",
   "pygments_lexer": "ipython3",
   "version": "3.6.5"
  }
 },
 "nbformat": 4,
 "nbformat_minor": 2
}
