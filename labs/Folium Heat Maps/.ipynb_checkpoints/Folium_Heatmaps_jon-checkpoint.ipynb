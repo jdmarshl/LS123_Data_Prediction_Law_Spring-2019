{
 "cells": [
  {
   "cell_type": "markdown",
   "metadata": {},
   "source": [
    "# LEGALST-123 Folium Heatmaps Lab\n",
    "\n",
    "---\n",
    "\n",
    "In this lab, students will learn how to construct a heatmap, as well as an interactive heat map. This will also be a component of the take-home problem set. This builds ontop of the folium labs from last week.\n"
   ]
  },
  {
   "cell_type": "code",
   "execution_count": 1,
   "metadata": {},
   "outputs": [],
   "source": [
    "# dependencies\n",
    "# from datascience import *\n",
    "%matplotlib inline\n",
    "import matplotlib.pyplot as plt\n",
    "import numpy as np\n",
    "import pandas as pd\n",
    "import folium\n",
    "import json\n",
    "import os"
   ]
  },
  {
   "cell_type": "code",
   "execution_count": 2,
   "metadata": {},
   "outputs": [
    {
     "name": "stdout",
     "output_type": "stream",
     "text": [
      "Collecting folium\n",
      "\u001b[?25l  Downloading https://files.pythonhosted.org/packages/72/ac/59de211624b5c89337a79e118f886072d47f195745df15a39c6c9933beba/folium-0.8.0-py2.py3-none-any.whl (87kB)\n",
      "\u001b[K    100% |████████████████████████████████| 92kB 3.4MB/s ta 0:00:01\n",
      "\u001b[?25hRequirement already satisfied, skipping upgrade: numpy in /Users/jmarshall/anaconda3/lib/python3.6/site-packages (from folium) (1.14.3)\n",
      "Requirement already satisfied, skipping upgrade: six in /Users/jmarshall/anaconda3/lib/python3.6/site-packages (from folium) (1.11.0)\n",
      "Requirement already satisfied, skipping upgrade: requests in /Users/jmarshall/anaconda3/lib/python3.6/site-packages (from folium) (2.18.4)\n",
      "Requirement already satisfied, skipping upgrade: branca>=0.3.0 in /Users/jmarshall/anaconda3/lib/python3.6/site-packages (from folium) (0.3.1)\n",
      "Requirement already satisfied, skipping upgrade: jinja2 in /Users/jmarshall/anaconda3/lib/python3.6/site-packages (from folium) (2.10)\n",
      "Requirement already satisfied, skipping upgrade: chardet<3.1.0,>=3.0.2 in /Users/jmarshall/anaconda3/lib/python3.6/site-packages (from requests->folium) (3.0.4)\n",
      "Requirement already satisfied, skipping upgrade: idna<2.7,>=2.5 in /Users/jmarshall/anaconda3/lib/python3.6/site-packages (from requests->folium) (2.6)\n",
      "Requirement already satisfied, skipping upgrade: urllib3<1.23,>=1.21.1 in /Users/jmarshall/anaconda3/lib/python3.6/site-packages (from requests->folium) (1.22)\n",
      "Requirement already satisfied, skipping upgrade: certifi>=2017.4.17 in /Users/jmarshall/anaconda3/lib/python3.6/site-packages (from requests->folium) (2018.4.16)\n",
      "Requirement already satisfied, skipping upgrade: MarkupSafe>=0.23 in /Users/jmarshall/anaconda3/lib/python3.6/site-packages (from jinja2->folium) (1.0)\n",
      "Installing collected packages: folium\n",
      "  Found existing installation: folium 0.7.0\n",
      "    Uninstalling folium-0.7.0:\n",
      "      Successfully uninstalled folium-0.7.0\n",
      "Successfully installed folium-0.8.0\n"
     ]
    },
    {
     "ename": "ImportError",
     "evalue": "cannot import name 'deep_copy'",
     "output_type": "error",
     "traceback": [
      "\u001b[0;31m---------------------------------------------------------------------------\u001b[0m",
      "\u001b[0;31mImportError\u001b[0m                               Traceback (most recent call last)",
      "\u001b[0;32m<ipython-input-2-a5a3a4ccd89f>\u001b[0m in \u001b[0;36m<module>\u001b[0;34m()\u001b[0m\n\u001b[1;32m      1\u001b[0m \u001b[0mget_ipython\u001b[0m\u001b[0;34m(\u001b[0m\u001b[0;34m)\u001b[0m\u001b[0;34m.\u001b[0m\u001b[0msystem\u001b[0m\u001b[0;34m(\u001b[0m\u001b[0;34m'pip install folium --upgrade'\u001b[0m\u001b[0;34m)\u001b[0m\u001b[0;34m\u001b[0m\u001b[0m\n\u001b[0;32m----> 2\u001b[0;31m \u001b[0;32mimport\u001b[0m \u001b[0mfolium\u001b[0m\u001b[0;34m.\u001b[0m\u001b[0mplugins\u001b[0m \u001b[0;31m# The Folium Javascript Map Library\u001b[0m\u001b[0;34m\u001b[0m\u001b[0m\n\u001b[0m\u001b[1;32m      3\u001b[0m \u001b[0;32mfrom\u001b[0m \u001b[0mfolium\u001b[0m\u001b[0;34m.\u001b[0m\u001b[0mplugins\u001b[0m \u001b[0;32mimport\u001b[0m \u001b[0mHeatMap\u001b[0m\u001b[0;34m\u001b[0m\u001b[0m\n\u001b[1;32m      4\u001b[0m \u001b[0;32mfrom\u001b[0m \u001b[0mfolium\u001b[0m\u001b[0;34m.\u001b[0m\u001b[0mplugins\u001b[0m \u001b[0;32mimport\u001b[0m \u001b[0mHeatMapWithTime\u001b[0m\u001b[0;34m\u001b[0m\u001b[0m\n",
      "\u001b[0;32m~/anaconda3/lib/python3.6/site-packages/folium/plugins/__init__.py\u001b[0m in \u001b[0;36m<module>\u001b[0;34m()\u001b[0m\n\u001b[1;32m     15\u001b[0m \u001b[0;32mfrom\u001b[0m \u001b[0mfolium\u001b[0m\u001b[0;34m.\u001b[0m\u001b[0mplugins\u001b[0m\u001b[0;34m.\u001b[0m\u001b[0mboat_marker\u001b[0m \u001b[0;32mimport\u001b[0m \u001b[0mBoatMarker\u001b[0m\u001b[0;34m\u001b[0m\u001b[0m\n\u001b[1;32m     16\u001b[0m \u001b[0;32mfrom\u001b[0m \u001b[0mfolium\u001b[0m\u001b[0;34m.\u001b[0m\u001b[0mplugins\u001b[0m\u001b[0;34m.\u001b[0m\u001b[0mdraw\u001b[0m \u001b[0;32mimport\u001b[0m \u001b[0mDraw\u001b[0m\u001b[0;34m\u001b[0m\u001b[0m\n\u001b[0;32m---> 17\u001b[0;31m \u001b[0;32mfrom\u001b[0m \u001b[0mfolium\u001b[0m\u001b[0;34m.\u001b[0m\u001b[0mplugins\u001b[0m\u001b[0;34m.\u001b[0m\u001b[0mdual_map\u001b[0m \u001b[0;32mimport\u001b[0m \u001b[0mDualMap\u001b[0m\u001b[0;34m\u001b[0m\u001b[0m\n\u001b[0m\u001b[1;32m     18\u001b[0m \u001b[0;32mfrom\u001b[0m \u001b[0mfolium\u001b[0m\u001b[0;34m.\u001b[0m\u001b[0mplugins\u001b[0m\u001b[0;34m.\u001b[0m\u001b[0mfast_marker_cluster\u001b[0m \u001b[0;32mimport\u001b[0m \u001b[0mFastMarkerCluster\u001b[0m\u001b[0;34m\u001b[0m\u001b[0m\n\u001b[1;32m     19\u001b[0m \u001b[0;32mfrom\u001b[0m \u001b[0mfolium\u001b[0m\u001b[0;34m.\u001b[0m\u001b[0mplugins\u001b[0m\u001b[0;34m.\u001b[0m\u001b[0mfeature_group_sub_group\u001b[0m \u001b[0;32mimport\u001b[0m \u001b[0mFeatureGroupSubGroup\u001b[0m\u001b[0;34m\u001b[0m\u001b[0m\n",
      "\u001b[0;32m~/anaconda3/lib/python3.6/site-packages/folium/plugins/dual_map.py\u001b[0m in \u001b[0;36m<module>\u001b[0;34m()\u001b[0m\n\u001b[1;32m      4\u001b[0m \u001b[0;34m\u001b[0m\u001b[0m\n\u001b[1;32m      5\u001b[0m \u001b[0;32mfrom\u001b[0m \u001b[0mfolium\u001b[0m\u001b[0;34m.\u001b[0m\u001b[0mfolium\u001b[0m \u001b[0;32mimport\u001b[0m \u001b[0mMap\u001b[0m\u001b[0;34m\u001b[0m\u001b[0m\n\u001b[0;32m----> 6\u001b[0;31m \u001b[0;32mfrom\u001b[0m \u001b[0mfolium\u001b[0m\u001b[0;34m.\u001b[0m\u001b[0mutilities\u001b[0m \u001b[0;32mimport\u001b[0m \u001b[0mdeep_copy\u001b[0m\u001b[0;34m\u001b[0m\u001b[0m\n\u001b[0m\u001b[1;32m      7\u001b[0m \u001b[0;34m\u001b[0m\u001b[0m\n\u001b[1;32m      8\u001b[0m \u001b[0;34m\u001b[0m\u001b[0m\n",
      "\u001b[0;31mImportError\u001b[0m: cannot import name 'deep_copy'"
     ]
    }
   ],
   "source": [
    "!pip install folium --upgrade\n",
    "import folium.plugins # The Folium Javascript Map Library\n",
    "from folium.plugins import HeatMap\n",
    "from folium.plugins import HeatMapWithTime"
   ]
  },
  {
   "cell_type": "markdown",
   "metadata": {},
   "source": [
    "---\n",
    "\n",
    "## The Data <a id='data'></a>\n",
    "---\n",
    "\n",
    "Today we'll be working with data on Berkeley crime calls, courtesy of the Berkeley Police department. Take a look at the metadata [here.](https://data.cityofberkeley.info/Public-Safety/Berkeley-PD-Calls-for-Service/k2nh-s5h5)\n",
    "\n",
    "Note: this data set has already undergone a fair amount of cleaning to format it for our purposes (e.g. extracting the longitude and latitude, removing null values, and dropping irrelevant columns). You can see the original data at the source website.\n",
    "\n",
    "Then, run the cell below to load the data into a Table.  "
   ]
  },
  {
   "cell_type": "markdown",
   "metadata": {},
   "source": [
    "### need to get out of Tables and into Pandas syntax"
   ]
  },
  {
   "cell_type": "code",
   "execution_count": null,
   "metadata": {},
   "outputs": [],
   "source": [
    "calls = pd.read_csv('data/berkeley_crime_0218.csv', index_col=0)\n",
    "calls.head(5)"
   ]
  },
  {
   "cell_type": "markdown",
   "metadata": {},
   "source": [
    "When working with any new data set, it's a good idea to get to know it first. Use the following cell and the information on cityofberkeley.org to answer some basic questions:\n",
    "- What information does this table contain? What are the different columns?\n",
    "- How large is the data set? \n",
    "- What kinds of questions could we answer using this data set?"
   ]
  },
  {
   "cell_type": "code",
   "execution_count": null,
   "metadata": {},
   "outputs": [],
   "source": [
    "# what are dimensions of dataframe\n",
    "print('shape of dataframe as rows, columns is ',calls.shape)\n",
    "# what are the columns\n",
    "print('variables: ', calls.columns)"
   ]
  },
  {
   "cell_type": "markdown",
   "metadata": {},
   "source": [
    "## Heatmap <a id='data'></a>"
   ]
  },
  {
   "cell_type": "markdown",
   "metadata": {},
   "source": [
    "Let's see if we can figure out what heatmap does and why it is useful.But first, we're going to quickly review how to use folium.Map. Again, you should consult the [python visualizer](https://python-visualization.github.io/folium/quickstart.html) for a refresher in case you forget how folium works!"
   ]
  },
  {
   "cell_type": "markdown",
   "metadata": {},
   "source": [
    "Plot a map of the United States again using folium.Map.\n",
    "\n",
    "<b>Reminder</b>: It is in the order of lat, log and the larger the zoom_start is the closer the map is."
   ]
  },
  {
   "cell_type": "code",
   "execution_count": null,
   "metadata": {},
   "outputs": [],
   "source": [
    "# First, we create a folium Map\n",
    "example_map1 = folium.Map([39.83, -98.59], zoom_start=6, tiles='Stamen Toner')\n",
    "example_map1"
   ]
  },
  {
   "cell_type": "markdown",
   "metadata": {},
   "source": [
    "### Key Note <br> _(we need to de- Table this part as well)_"
   ]
  },
  {
   "cell_type": "markdown",
   "metadata": {
    "collapsed": true
   },
   "source": [
    "Heatmaps do not take Tables so you will need to provide a list of lat, lons, i.e. a list of lists. \n",
    "\n",
    "Imagine that it looks something like this: `[[lat, lon],[lat, lon],[lat, lon],[lat, lon],[lat, lon]]`. This means if you were given a Table, there are a few steps you'd have to take.\n",
    "\n",
    "1. Make sure the lat and lon are floats.\n",
    "2. Filter the Table for the correct rows and columns.\n",
    "\n",
    "What is something else you believe you'll need to check for to make sure that Heatmap will work?"
   ]
  },
  {
   "cell_type": "markdown",
   "metadata": {},
   "source": [
    "**check for missing data!**"
   ]
  },
  {
   "cell_type": "markdown",
   "metadata": {},
   "source": [
    "Our data set today has already had the NaNs filtered out, but that might not be true for data you work with in the future...\n",
    "\n",
    "Run the next cell to generate a set of dummy `[[lat, lon]]` pairs for the HeatMap. Don't worry about the information itself. Instead, note how the array is formatted."
   ]
  },
  {
   "cell_type": "code",
   "execution_count": null,
   "metadata": {},
   "outputs": [],
   "source": [
    "# The first two lines generate an array of small random numbers.\n",
    "# The third line adds the random numbers to the pair [48, 5] to get 100 latitude, longitude pairs near [48, 5]\n",
    "data = (np.random.normal(size=(100, 2)) *\n",
    "        np.array([[1, 1]]) +\n",
    "        np.array([[39.83, -98.59]])).tolist()\n",
    "data"
   ]
  },
  {
   "cell_type": "markdown",
   "metadata": {},
   "source": [
    "Then we can plot it on the map! The function is pretty simple: \n",
    "1. Create a Heatmap using the function `Heatmap(your_lat_lon_data)`\n",
    "2. Add that Heatmap to your existing map with `add_to(your_map)`"
   ]
  },
  {
   "cell_type": "code",
   "execution_count": null,
   "metadata": {},
   "outputs": [],
   "source": [
    "# Add the HeatMap to the map\n",
    "HeatMap(data).add_to(example_map1)\n",
    "\n",
    "example_map1"
   ]
  },
  {
   "cell_type": "markdown",
   "metadata": {},
   "source": [
    "Play around with your new Heatmap. What is it plotting? What kinds of things would a Heatmap be useful for?"
   ]
  },
  {
   "cell_type": "markdown",
   "metadata": {},
   "source": [
    "**This heatmap is plotting a set of points normally distributed around the geographic center of the "
   ]
  },
  {
   "cell_type": "markdown",
   "metadata": {},
   "source": [
    "### Try It Out"
   ]
  },
  {
   "cell_type": "markdown",
   "metadata": {},
   "source": [
    "Now, try making your own Heatmap using the Berkeley PD call data. First, plot a Folium Map of the Bay Area, just like you did last week."
   ]
  },
  {
   "cell_type": "code",
   "execution_count": null,
   "metadata": {},
   "outputs": [],
   "source": [
    "#Plot the map of Berkeley\n",
    "berk_coords = [37.8716, -122.2727]\n",
    "berk_map = folium.Map(berk_coords, zoom_start=13, tiles='Stamen Toner')\n",
    "berk_map"
   ]
  },
  {
   "cell_type": "markdown",
   "metadata": {},
   "source": [
    "Next, extract your latitude and longitude data from the `calls` Table and save each to the variables `lat` and `lon`. We want the data as a numpy array, so don't use the `select` function; instead, index the Table by the correct column (e.g. `calls[\"Column_I_Want\"]`)."
   ]
  },
  {
   "cell_type": "code",
   "execution_count": null,
   "metadata": {},
   "outputs": [],
   "source": [
    "lat = calls['Lat']\n",
    "lon = calls['Lon']\n",
    "lat"
   ]
  },
  {
   "cell_type": "markdown",
   "metadata": {},
   "source": [
    "We have the right data, but it isn't in the right shape: we want an array of arrays, where the first column is latitudes, the second column is longitudes, and each row is a `[lat, lon]` pair (see the example above). We can do this by:\n",
    "1. **Stacking** the `lat` array on top of the `lon` array into one larger array with `np.vstack`\n",
    "2. **Transposing** our stacked array so the latitude and longitude are vertical columns, not horizontal rows.\n",
    "\n",
    "Hint 1: the stacking function call looks something like `np.vstack((top_array, bottom_array))`\n",
    "Hint 2: you can transpose an array by calling `.transpose()` on the array"
   ]
  },
  {
   "cell_type": "code",
   "execution_count": null,
   "metadata": {},
   "outputs": [],
   "source": [
    "# it seems like since we are using Pandas we could just do this from the original dataframe\n",
    "call_locs = np.vstack((lat, lon)).transpose()\n",
    "call_locs[:4]"
   ]
  },
  {
   "cell_type": "markdown",
   "metadata": {},
   "source": [
    "Now, you have everything you need to make your HeatMap! Do so in the cell below."
   ]
  },
  {
   "cell_type": "code",
   "execution_count": null,
   "metadata": {},
   "outputs": [],
   "source": [
    "#Create a Heatmap with the call data.\n",
    "heatmap = HeatMap(call_locs).add_to(berk_map)\n",
    "\n",
    "# Add it to your Berkeley map.\n",
    "berk_map"
   ]
  },
  {
   "cell_type": "markdown",
   "metadata": {},
   "source": [
    "What conclusions can you draw from this Heatmap?"
   ]
  },
  {
   "cell_type": "markdown",
   "metadata": {},
   "source": [
    "**The heatmap shows a bunch of things. First, the calls seem to be recorded by intersection location, more or less. Second, the calls are concentrated along the main streets, especially south of campus, and at major intersections along University and San Pablo. The more residential parts of Berkeley both north and south are pretty quiet, except for a few hot spots (like California at Derby-Ward or thereabouts). Third, there are very few calls in North Berkeley and the Hills, except at Solano and Colusa and Marin and Euclid--traffic calls?**"
   ]
  },
  {
   "cell_type": "markdown",
   "metadata": {},
   "source": [
    "## HeatMapwithTime <a id='data'></a>"
   ]
  },
  {
   "cell_type": "markdown",
   "metadata": {},
   "source": [
    "Now what do you think is different with HeatMapwithTime?"
   ]
  },
  {
   "cell_type": "markdown",
   "metadata": {},
   "source": [
    "**I suppose it shows some kind of animation that shows frequency with color changes. Fancy!**"
   ]
  },
  {
   "cell_type": "markdown",
   "metadata": {},
   "source": [
    "In this example, we'll again use dummy data to show how it works. It follows a similar process to HeatMap. First, create another Folium Map centered at the geographical center of the USA.<br><br>\n",
    "## We don't really need this second USA example map since the example heatmap with time is of Western Europe"
   ]
  },
  {
   "cell_type": "code",
   "execution_count": null,
   "metadata": {},
   "outputs": [],
   "source": [
    "# Create a folium Map at the USA's center\n",
    "example_map2 = folium.Map([39.83, -98.59], zoom_start=6, tiles='Stamen Toner')\n",
    "example_map2"
   ]
  },
  {
   "cell_type": "markdown",
   "metadata": {},
   "source": [
    "Next, we will create more dummy location data to simulate locations associated with different dates. Don't worry too much about the code here, but you do need to understand how the output is shaped and why it needs to be shaped like that."
   ]
  },
  {
   "cell_type": "code",
   "execution_count": null,
   "metadata": {},
   "outputs": [],
   "source": [
    "# This cell builds together an array of initial data to display on our HeatMapwithTime. Just as before, these are dummy \n",
    "# variables that are 100 copies of the center of the USA meant to simulate different locations in the area.\n",
    "# Again, we have to use lon and lat in addition to time.\n",
    "np.random.seed(3141592)\n",
    "initial_data = (\n",
    "    np.random.normal(size=(100, 2)) * np.array([[1, 1]]) +\n",
    "    np.array([[48, 5]])\n",
    ")\n",
    "\n",
    "# Create even more random lat/lon pairs and group into 100 lists\n",
    "# You don't need to know how to write this code\n",
    "move_data = np.random.normal(size=(100, 2)) * 0.01\n",
    "\n",
    "data = [(initial_data + move_data * i).tolist() for i in range(100)]\n",
    "data[1]"
   ]
  },
  {
   "cell_type": "markdown",
   "metadata": {},
   "source": [
    "Since we're using HeatMapWithTime, we need an extra parameter: the dates for each list of lat/lon pairs. Run the next cell to create one."
   ]
  },
  {
   "cell_type": "code",
   "execution_count": null,
   "metadata": {},
   "outputs": [],
   "source": [
    "# Generate a set of dates for this dummy data.\n",
    "# Luckily for us, when you test this out for yourself, dates came with your data set.\n",
    "# You don't need to write out this code, but do look it over and see if you can understand it.\n",
    "from datetime import datetime, timedelta\n",
    "\n",
    "time_index = [\n",
    "    (datetime.now() + k * timedelta(1)).strftime('%Y-%m-%d') for\n",
    "    k in range(len(data))\n",
    "]\n",
    "print('first 5 elements of time_index: ', time_index[:4])\n",
    "type(time_index[1])"
   ]
  },
  {
   "cell_type": "markdown",
   "metadata": {},
   "source": [
    "Finally, create the HeatMapWithTime by calling the constructor function on the data and settng the index to the set of dates you generated. Then, add it to your Map."
   ]
  },
  {
   "cell_type": "code",
   "execution_count": null,
   "metadata": {},
   "outputs": [],
   "source": [
    "# This is the code on how to run HeatMapwithTime. Looks similar to code we saw above right?\n",
    "m = folium.Map([48., 5.], zoom_start=6)\n",
    "\n",
    "hm = HeatMapWithTime(\n",
    "    data,\n",
    "    index=time_index,\n",
    "    auto_play=True,\n",
    ")\n",
    "\n",
    "hm.add_to(m)\n",
    "\n",
    "m"
   ]
  },
  {
   "cell_type": "markdown",
   "metadata": {},
   "source": [
    "Now try for yourself using the Berkeley `calls` data set."
   ]
  },
  {
   "cell_type": "markdown",
   "metadata": {},
   "source": [
    "## _The following needs to be taken out of Tables and put into Pandas_"
   ]
  },
  {
   "cell_type": "markdown",
   "metadata": {},
   "source": [
    "_The first step is to get the data into the correct format. Create a new Table with two columns: Date, containing the data in the calls \"timestamp\" column, and Location, containing the call location data you used to make your HeatMap (the stacked and transposed latitudes and longitudes)._"
   ]
  },
  {
   "cell_type": "markdown",
   "metadata": {},
   "source": [
    "*Hint: check your 1-18 lab, or the Datascience Table documentation for [creating](http://data8.org/datascience/_autosummary/datascience.tables.Table.with_columns.html#datascience.tables.Table.with_columns) and [grouping](http://data8.org/datascience/_autosummary/datascience.tables.Table.group.html) Tables. You're going to want to call `group` with the `list` function as the aggregator.*\n"
   ]
  },
  {
   "cell_type": "code",
   "execution_count": null,
   "metadata": {},
   "outputs": [],
   "source": [
    "# Create a new dataframe with the locations and timestamps of calls, grouped by date\n",
    "\n",
    "locs_and_dates = calls.loc[:,['Lat', 'Lon', 'timestamp']]\n",
    "dti = pd.to_datetime(locs_and_dates['timestamp'])\n",
    "locs_and_dates['dti'] = dti\n",
    "\n",
    "locs_and_dates.head()"
   ]
  },
  {
   "cell_type": "code",
   "execution_count": null,
   "metadata": {},
   "outputs": [],
   "source": [
    "# what data type is the timestamp?\n",
    "print(type(locs_and_dates.loc[17076632,'dti']))"
   ]
  },
  {
   "cell_type": "code",
   "execution_count": null,
   "metadata": {},
   "outputs": [],
   "source": [
    "# now group the locations and timestamps by timestamp\n",
    "# in pandas, what we really want to do is sort the values by datetime inplace=True\n",
    "locs_and_dates.sort_values('dti', inplace=True)\n",
    "locs_and_dates.head()"
   ]
  },
  {
   "cell_type": "markdown",
   "metadata": {},
   "source": [
    "## This needs to be Pandas-ized <br>\n",
    "Next, extract the dates and the grouped locations into two variables to put in your HeatMapWithTime. Note:\n",
    "\n",
    "* HeatMapWithTime needs lists, so you'll need to convert your dates to a list using `.tolist()`\n",
    "* The Table Group function converts everthing to arrays, and each array needs to be converted to a list. This is super annoying, so we've given you the code to do it. Just extract the grouped locations from the correct column and put the extracted data in the ellipses on the second line."
   ]
  },
  {
   "cell_type": "code",
   "execution_count": null,
   "metadata": {},
   "outputs": [],
   "source": [
    "# I think we can skip this step by using what is in the dataframe with the .tolist() method on Series data\n",
    "# berk_dates = ...\n",
    "# berk_loc_by_date = [[x.tolist() for x in y] for y in ...]"
   ]
  },
  {
   "cell_type": "markdown",
   "metadata": {},
   "source": [
    "Finally, create a Folium map of Berkeley, then create a [HeatMapwithTime](https://python-visualization.github.io/folium/docs-v0.5.0/plugins.html) and add it to your Berkeley map. The call looks like `HeatMapWithTime(<grouped locations>, index=<dates>`). Click the link for more documentation. And, try adding the argument `autoplay=True`."
   ]
  },
  {
   "cell_type": "code",
   "execution_count": null,
   "metadata": {},
   "outputs": [],
   "source": [
    "#Plot the heatmap of Berkeley crime\n",
    "berk_coords = [37.8716, -122.2727]\n",
    "berk_map2 = folium.Map(berk_coords, zoom_start=13, tiles='OpenStreetmap')\n",
    "\n",
    "# create a bunch of lists from the df Series data to pass to Heat Map With Time\n",
    "lat_list = locs_and_dates['Lat'].tolist()\n",
    "lon_list = locs_and_dates['Lon'].tolist()\n",
    "time_index = locs_and_dates['dti'].tolist()\n",
    "print('first five lines of time_index: ', time_index[:4])\n",
    "time_index2 = [time_index[k].strftime('%Y-%m-%d') for       # get rid of  %H:%M:%S for now\n",
    "    k in range(len(lat_list))\n",
    "]\n",
    "\n",
    "# take latitude and longitude and make it into a list of [lat, lon] pairs\n",
    "data = np.vstack((lat_list, lon_list)).transpose().tolist()\n",
    "print('data is of type ', type(data))\n",
    "print('first five lines of coordinate data: ', data[:4])\n",
    "print('first five lines of time_index2: ', time_index2[:4])\n",
    "print('time_index2 type: ', type(time_index2[1]))\n",
    "print('length of data list: ', len(data), ' length of time_index2 list: ', len(time_index2))\n",
    "\n",
    "\n",
    "#finally, pass all the lists to HeatMapWithTime and then add that to basemap\n",
    "hmwt_berk = HeatMapWithTime(\n",
    "    data,\n",
    "    index=time_index2,\n",
    "    auto_play=True,\n",
    "    max_speed=100\n",
    ")\n",
    "hmwt_berk.add_to(berk_map2)\n",
    "\n",
    "berk_map2"
   ]
  },
  {
   "cell_type": "markdown",
   "metadata": {},
   "source": [
    "What conclusions can you draw from this Heatmap?"
   ]
  },
  {
   "cell_type": "markdown",
   "metadata": {},
   "source": []
  }
 ],
 "metadata": {
  "anaconda-cloud": {},
  "kernelspec": {
   "display_name": "Python 3",
   "language": "python",
   "name": "python3"
  },
  "language_info": {
   "codemirror_mode": {
    "name": "ipython",
    "version": 3
   },
   "file_extension": ".py",
   "mimetype": "text/x-python",
   "name": "python",
   "nbconvert_exporter": "python",
   "pygments_lexer": "ipython3",
   "version": "3.6.5"
  }
 },
 "nbformat": 4,
 "nbformat_minor": 1
}
